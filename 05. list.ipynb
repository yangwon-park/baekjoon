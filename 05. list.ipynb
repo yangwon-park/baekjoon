{
 "cells": [
  {
   "cell_type": "code",
   "execution_count": 5,
   "id": "26e1ec60",
   "metadata": {},
   "outputs": [
    {
     "name": "stdout",
     "output_type": "stream",
     "text": [
      "5\n",
      "20 10 35 30 7\n",
      "35 7\n"
     ]
    }
   ],
   "source": [
    "n = int(input())\n",
    "\n",
    "list_ = list(map(int, input().split()))\n",
    "\n",
    "max_ = max(list_)\n",
    "min_ = min(list_)\n",
    "\n",
    "print(min_, max_)"
   ]
  },
  {
   "cell_type": "code",
   "execution_count": 4,
   "id": "c5568367",
   "metadata": {},
   "outputs": [
    {
     "data": {
      "text/plain": [
       "35"
      ]
     },
     "execution_count": 4,
     "metadata": {},
     "output_type": "execute_result"
    }
   ],
   "source": [
    "max_"
   ]
  },
  {
   "cell_type": "code",
   "execution_count": 11,
   "id": "7ee4f8da",
   "metadata": {},
   "outputs": [
    {
     "name": "stdout",
     "output_type": "stream",
     "text": [
      "3\n",
      "29\n",
      "38\n",
      "12\n",
      "57\n",
      "74\n",
      "40\n",
      "85\n",
      "61\n",
      "\n",
      "85\n",
      "7\n"
     ]
    }
   ],
   "source": [
    "list_ = []\n",
    "for i in range(9):\n",
    "    list_.append(int(input()))\n",
    "print()\n",
    "max_ = max(list_)\n",
    "print(max_)\n",
    "print(list_.index(max_) + 1)"
   ]
  },
  {
   "cell_type": "code",
   "execution_count": 53,
   "id": "fc164ae8",
   "metadata": {},
   "outputs": [
    {
     "name": "stdout",
     "output_type": "stream",
     "text": [
      "150\n",
      "266\n",
      "427\n",
      "3\n",
      "1\n",
      "0\n",
      "2\n",
      "0\n",
      "0\n",
      "0\n",
      "2\n",
      "0\n",
      "0\n"
     ]
    }
   ],
   "source": [
    "a = int(input())\n",
    "b = int(input())\n",
    "c = int(input())\n",
    "\n",
    "nums = [0 for i in range(10)]\n",
    "\n",
    "mul = a * b * c\n",
    "\n",
    "while True:\n",
    "    mo = mul % 10\n",
    "    \n",
    "    mul //= 10\n",
    "    \n",
    "    nums[mo] += 1\n",
    "    \n",
    "    if (mul==0):\n",
    "        break\n",
    "\n",
    "for i in nums:\n",
    "    print(i)\n"
   ]
  },
  {
   "cell_type": "code",
   "execution_count": 83,
   "id": "3f3e7bb6",
   "metadata": {},
   "outputs": [
    {
     "name": "stdout",
     "output_type": "stream",
     "text": [
      "39\n",
      "40\n",
      "41\n",
      "42\n",
      "43\n",
      "44\n",
      "82\n",
      "83\n",
      "84\n",
      "85\n",
      "83\n"
     ]
    }
   ],
   "source": [
    "arr = []\n",
    "\n",
    "for i in range(10):\n",
    "    arr.append(int(input()))\n",
    "\n",
    "cnt = 1\n",
    "\n",
    "for i in range(len(arr)):\n",
    "    arr[i] = arr[i] % 42\n",
    "\n",
    "result = len(set(arr))    \n",
    "    \n",
    "print(result)"
   ]
  },
  {
   "cell_type": "code",
   "execution_count": 109,
   "id": "02182db5",
   "metadata": {},
   "outputs": [
    {
     "name": "stdout",
     "output_type": "stream",
     "text": [
      "4\n",
      "1 100 100 100\n",
      "75.25\n"
     ]
    }
   ],
   "source": [
    "n = int(input())\n",
    "\n",
    "score = list(map(int, input().split()))\n",
    "\n",
    "max_ = max(score)\n",
    "\n",
    "for i in range(len(score)):\n",
    "    score[i] = score[i] / max_ * 100\n",
    "    \n",
    "mean_ = 0\n",
    "sum_ = 0\n",
    "\n",
    "for i in range(len(score)):\n",
    "    sum_ += score[i]\n",
    "    \n",
    "mean_ = sum_ / len(score)\n",
    "print(mean_)\n",
    "\n"
   ]
  },
  {
   "cell_type": "code",
   "execution_count": 132,
   "id": "2dd600fb",
   "metadata": {},
   "outputs": [
    {
     "name": "stdout",
     "output_type": "stream",
     "text": [
      "1\n",
      "OOXXOXXOOO\n",
      "10\n"
     ]
    }
   ],
   "source": [
    "n = int(input())\n",
    "\n",
    "for i in range(n):\n",
    "    score = 0\n",
    "    tmp = 0\n",
    "    arr = list(input())\n",
    "    \n",
    "    for j in range(len(arr)):\n",
    "        if arr[j] == 'O':\n",
    "            tmp += 1\n",
    "            score += tmp\n",
    "        else:\n",
    "            tmp = 0\n",
    "    print(score)"
   ]
  },
  {
   "cell_type": "code",
   "execution_count": 150,
   "id": "d3089e2c",
   "metadata": {},
   "outputs": [
    {
     "name": "stdout",
     "output_type": "stream",
     "text": [
      "5\n",
      "5 50 50 70 80 100\n",
      "40.000%\n",
      "7 100 95 90 80 70 60 50\n",
      "57.143%\n",
      "3 70 90 80\n",
      "33.333%\n",
      "3 70 90 81\n",
      "66.667%\n",
      "9 100 99 98 97 96 95 94 93 91\n",
      "55.556%\n"
     ]
    }
   ],
   "source": [
    "c = int(input())\n",
    "\n",
    "for i in range(c):\n",
    "    arr = list(map(int, input().split()))\n",
    "\n",
    "    mean_ = sum(arr[1:]) / arr[0]\n",
    "    cnt = 0\n",
    "    for a in arr[1:]:\n",
    "        if a > mean_:\n",
    "            cnt += 1\n",
    "\n",
    "    result = cnt / arr[0] * 100\n",
    "\n",
    "    print(f'{result:.3f}%')"
   ]
  },
  {
   "cell_type": "code",
   "execution_count": 292,
   "id": "ecca0e24",
   "metadata": {
    "scrolled": true
   },
   "outputs": [
    {
     "name": "stdout",
     "output_type": "stream",
     "text": [
      "5\n",
      "5 1\n",
      "4 2\n",
      "2 3\n",
      "2/2\n"
     ]
    }
   ],
   "source": [
    "x = int(input())\n",
    "line = 0\n",
    "\n",
    "while x > line:\n",
    "    x -= line  # 해당 라인의 몇번째 수\n",
    "    line += 1  # 입력받은 수가 있는 라인\n",
    "    print(x, line)\n",
    "    \n",
    "if line % 2 == 0:\n",
    "    a = x\n",
    "    b = line - x + 1\n",
    "else:\n",
    "    a = line - x + 1\n",
    "    b = x\n",
    "    \n",
    "print('%d/%d' %(a, b))\n",
    "    "
   ]
  },
  {
   "cell_type": "code",
   "execution_count": 275,
   "id": "bcc58cd4",
   "metadata": {},
   "outputs": [
    {
     "name": "stdout",
     "output_type": "stream",
     "text": [
      "11\n",
      "1 1\n",
      "2 3\n",
      "3 6\n",
      "4 10\n",
      "5 15\n",
      "5/1\n"
     ]
    }
   ],
   "source": [
    "input_num = int(input())\n",
    "\n",
    "line = 0     # 사선 라인\n",
    "max_num = 0  # 입력된 숫자(input_num 변수)가 포함된 라인까지의 분수 개수\n",
    "\n",
    "while input_num > max_num:\n",
    "    line += 1  \n",
    "    max_num += line \n",
    "    print(line, max_num)\n",
    "\n",
    "gap = max_num - input_num \n",
    "\n",
    "if line % 2 == 0:  # 사선 라인이 짝수번째 일 때\n",
    "    top = line - gap  #분자\n",
    "    under = gap + 1  #분모\n",
    "else :  # 사선 라인이 홀수번째 일 때\n",
    "    top = gap + 1  #분자\n",
    "    under = line - gap  #분모\n",
    "print(f'{top}/{under}')"
   ]
  },
  {
   "cell_type": "code",
   "execution_count": 300,
   "id": "d30ba2b5",
   "metadata": {},
   "outputs": [
    {
     "name": "stdout",
     "output_type": "stream",
     "text": [
      "7\n",
      "3\n",
      "1/4\n"
     ]
    }
   ],
   "source": [
    "num = int(input())\n",
    "count = 0\n",
    "\n",
    "while True:\n",
    "    # 1 ~ n 까지의 합이 num보다 커지는 n이 num을 포함한 line number\n",
    "    if num > int(count * (count + 1) / 2):\n",
    "        count = count + 1\n",
    "    else:\n",
    "        break\n",
    "\n",
    "gap = int(count * (count + 1) / 2) - num\n",
    "\n",
    "print(gap)\n",
    "\n",
    "if count % 2 == 0:\n",
    "    top = count - gap\n",
    "    under = gap + 1\n",
    "else:\n",
    "    top = gap + 1\n",
    "    under = count - gap\n",
    "print(f'{top}/{under}')"
   ]
  },
  {
   "cell_type": "code",
   "execution_count": 297,
   "id": "3840496a",
   "metadata": {},
   "outputs": [
    {
     "name": "stdout",
     "output_type": "stream",
     "text": [
      "5\n",
      "2/5\n"
     ]
    }
   ],
   "source": [
    "num = int(input())\n",
    "li = 0\n",
    "\n",
    "while True:\n",
    "    if num > li * (li + 1) / 2:\n",
    "        li += 1\n",
    "    else:\n",
    "        break\n",
    "        \n",
    "idx = num - (li-1) * li / 2ddd\n",
    "\n",
    "if (li % 2 == 0):\n",
    "    print('%d/%d'%(num, li - idx + 1))\n",
    "else:\n",
    "    print('%d/%d'%(li - idx + 1, num))"
   ]
  },
  {
   "cell_type": "code",
   "execution_count": 307,
   "id": "28d2032d",
   "metadata": {},
   "outputs": [
    {
     "name": "stdout",
     "output_type": "stream",
     "text": [
      "5\n",
      "5 3\n",
      "3 2.0\n",
      "2/2\n"
     ]
    }
   ],
   "source": [
    "n = int(input())\n",
    "\n",
    "index = 0\n",
    "sum = 0\n",
    "\n",
    "while True:\n",
    "    index += 1\n",
    "    sum = index * (index + 1) / 2\n",
    "    if(n <= sum):\n",
    "        break\n",
    "print(n, index)\n",
    "        \n",
    "num = n - (index - 1) * index / 2 #이전까지 개수의 합\n",
    "print(index, num)\n",
    "\n",
    "if(index % 2 == 0):\n",
    "    print('%d/%d'%(num, index - num + 1))\n",
    "else:\n",
    "    print('%d/%d'%(index-num+1, num))"
   ]
  },
  {
   "cell_type": "code",
   "execution_count": null,
   "id": "7098c1f7",
   "metadata": {},
   "outputs": [],
   "source": []
  },
  {
   "cell_type": "code",
   "execution_count": null,
   "id": "fcc1b253",
   "metadata": {},
   "outputs": [],
   "source": []
  },
  {
   "cell_type": "code",
   "execution_count": null,
   "id": "74d1d7cb",
   "metadata": {},
   "outputs": [],
   "source": []
  },
  {
   "cell_type": "code",
   "execution_count": 103,
   "id": "539ebf50",
   "metadata": {},
   "outputs": [],
   "source": []
  },
  {
   "cell_type": "code",
   "execution_count": 104,
   "id": "865431d4",
   "metadata": {},
   "outputs": [
    {
     "data": {
      "text/plain": [
       "75.0"
      ]
     },
     "execution_count": 104,
     "metadata": {},
     "output_type": "execute_result"
    }
   ],
   "source": []
  },
  {
   "cell_type": "code",
   "execution_count": null,
   "id": "777d0e02",
   "metadata": {},
   "outputs": [],
   "source": []
  }
 ],
 "metadata": {
  "kernelspec": {
   "display_name": "Python 3 (ipykernel)",
   "language": "python",
   "name": "python3"
  },
  "language_info": {
   "codemirror_mode": {
    "name": "ipython",
    "version": 3
   },
   "file_extension": ".py",
   "mimetype": "text/x-python",
   "name": "python",
   "nbconvert_exporter": "python",
   "pygments_lexer": "ipython3",
   "version": "3.9.7"
  }
 },
 "nbformat": 4,
 "nbformat_minor": 5
}
