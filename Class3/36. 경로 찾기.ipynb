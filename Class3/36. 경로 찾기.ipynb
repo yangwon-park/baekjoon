{
 "cells": [
  {
   "cell_type": "markdown",
   "id": "e26a9d87",
   "metadata": {},
   "source": [
    "### 11403 경로 찾기"
   ]
  },
  {
   "cell_type": "code",
   "execution_count": 4,
   "id": "82b3089c",
   "metadata": {},
   "outputs": [
    {
     "name": "stdout",
     "output_type": "stream",
     "text": [
      "3\n",
      "0 1 0\n",
      "0 0 1\n",
      "1 0 0\n",
      "1 1 1 \n",
      "1 1 1 \n",
      "1 1 1 \n"
     ]
    }
   ],
   "source": [
    "n = int(input())\n",
    "\n",
    "graph = []\n",
    "\n",
    "for _ in range(n):\n",
    "    graph.append(list(map(int, input().split())))\n",
    "    \n",
    "def floyid(n):\n",
    "    \n",
    "    # k => 거쳐가는 경로\n",
    "    for k in range(n):\n",
    "        for i in range(n):\n",
    "            for j in range(n):\n",
    "                # i => k => j의 경로가 존재\n",
    "                # 1 and 1 => 1이 경로가 존재한다는 의미\n",
    "                if graph[i][k] and graph[k][j]:\n",
    "                    \n",
    "                    # 경로가 있다면 1로 바꿔줌\n",
    "                    graph[i][j] = 1\n",
    "                    \n",
    "floyid(n)\n",
    "\n",
    "for i in graph:\n",
    "    for j in i:\n",
    "        print(j, end = ' ')\n",
    "    print()              "
   ]
  }
 ],
 "metadata": {
  "kernelspec": {
   "display_name": "Python3_7",
   "language": "python",
   "name": "3_7"
  },
  "language_info": {
   "codemirror_mode": {
    "name": "ipython",
    "version": 3
   },
   "file_extension": ".py",
   "mimetype": "text/x-python",
   "name": "python",
   "nbconvert_exporter": "python",
   "pygments_lexer": "ipython3",
   "version": "3.7.11"
  }
 },
 "nbformat": 4,
 "nbformat_minor": 5
}
