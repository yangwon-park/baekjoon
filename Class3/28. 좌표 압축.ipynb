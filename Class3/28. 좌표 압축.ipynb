{
 "cells": [
  {
   "cell_type": "markdown",
   "id": "59174286",
   "metadata": {},
   "source": [
    "### 18870 좌표 압축"
   ]
  },
  {
   "cell_type": "markdown",
   "id": "43d8a003",
   "metadata": {},
   "source": [
    "#### 시간 초과"
   ]
  },
  {
   "cell_type": "code",
   "execution_count": 24,
   "id": "d9cb5f63",
   "metadata": {},
   "outputs": [
    {
     "name": "stdout",
     "output_type": "stream",
     "text": [
      "5\n",
      "2 4 -10 4 -9\n",
      "2 3 0 3 1 "
     ]
    }
   ],
   "source": [
    "n = int(input())\n",
    "\n",
    "coor = list(map(int, input().split()))\n",
    "\n",
    "# 자기 자신보다 값이 작은 애들의 개수를 세라\n",
    "\n",
    "set_coor = set(coor)\n",
    "\n",
    "result = []\n",
    "\n",
    "for c in coor:\n",
    "    cnt = 0\n",
    "    for i in set_coor:\n",
    "        if c > i:\n",
    "            cnt += 1\n",
    "    result.append(cnt)\n",
    "    \n",
    "for x in result:    \n",
    "    print(x, end = ' ')    "
   ]
  },
  {
   "cell_type": "markdown",
   "id": "c86fa9c9",
   "metadata": {},
   "source": [
    "#### dict로 시간 복잡도 성능 개선"
   ]
  },
  {
   "cell_type": "code",
   "execution_count": 29,
   "id": "21b122df",
   "metadata": {},
   "outputs": [
    {
     "name": "stdout",
     "output_type": "stream",
     "text": [
      "5\n",
      "2 4 -10 4 -9\n",
      "2 3 0 3 1\n"
     ]
    }
   ],
   "source": [
    "n = int(input())\n",
    "\n",
    "coor = list(map(int, input().split()))\n",
    "\n",
    "# 자기 자신보다 값이 작은 애들의 개수를 세라\n",
    "\n",
    "set_coor = list(sorted(set(coor)))\n",
    "\n",
    "set_coor = {set_coor[x] : x for x in range(len(set_coor))}\n",
    "\n",
    "print(*[set_coor[i] for i in coor])            "
   ]
  }
 ],
 "metadata": {
  "kernelspec": {
   "display_name": "Python3_7",
   "language": "python",
   "name": "3_7"
  },
  "language_info": {
   "codemirror_mode": {
    "name": "ipython",
    "version": 3
   },
   "file_extension": ".py",
   "mimetype": "text/x-python",
   "name": "python",
   "nbconvert_exporter": "python",
   "pygments_lexer": "ipython3",
   "version": "3.7.11"
  }
 },
 "nbformat": 4,
 "nbformat_minor": 5
}
