{
 "cells": [
  {
   "cell_type": "markdown",
   "id": "cbb05797",
   "metadata": {},
   "source": [
    "### 17219 비밀번호 찾기"
   ]
  },
  {
   "cell_type": "code",
   "execution_count": 20,
   "id": "61d07b62",
   "metadata": {},
   "outputs": [
    {
     "name": "stdout",
     "output_type": "stream",
     "text": [
      "3 3\n",
      "a c\n",
      "b c\n",
      "c c\n",
      "a\n",
      "c\n",
      "b\n",
      "c\n",
      "c\n",
      "c\n"
     ]
    }
   ],
   "source": [
    "n, m = map(int, input().split())\n",
    "\n",
    "domain = {}\n",
    "\n",
    "for _ in range(n):\n",
    "    email, password = input().split()\n",
    "    domain[email] = password\n",
    "    \n",
    "for _ in range(m):\n",
    "    print(domain[input()])"
   ]
  }
 ],
 "metadata": {
  "kernelspec": {
   "display_name": "Python 3 (ipykernel)",
   "language": "python",
   "name": "python3"
  },
  "language_info": {
   "codemirror_mode": {
    "name": "ipython",
    "version": 3
   },
   "file_extension": ".py",
   "mimetype": "text/x-python",
   "name": "python",
   "nbconvert_exporter": "python",
   "pygments_lexer": "ipython3",
   "version": "3.9.7"
  }
 },
 "nbformat": 4,
 "nbformat_minor": 5
}
