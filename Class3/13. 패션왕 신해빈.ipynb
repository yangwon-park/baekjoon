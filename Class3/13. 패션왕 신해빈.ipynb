{
 "cells": [
  {
   "cell_type": "markdown",
   "id": "9e3ab778",
   "metadata": {},
   "source": [
    "### 패션왕 신해빈"
   ]
  },
  {
   "cell_type": "code",
   "execution_count": 8,
   "id": "a86ec9a2",
   "metadata": {},
   "outputs": [
    {
     "name": "stdout",
     "output_type": "stream",
     "text": [
      "1\n",
      "4\n",
      "a h\n",
      "b h\n",
      "c w\n",
      "d k\n",
      "11\n"
     ]
    }
   ],
   "source": [
    "from collections import Counter\n",
    "T = int(input())\n",
    "\n",
    "for _ in range(T):\n",
    "    n = int(input())\n",
    "    \n",
    "    # clothes = [input().split() for i in range(n)]\n",
    "    # 의상의 종류를 담을 리스트\n",
    "    clothes_kind = []\n",
    "    \n",
    "    for _ in range(n):\n",
    "        # 옷의 이름은 중복이 없고 의상의 종류만 경우의 수에 영향을 준다\n",
    "        # 따라서 name 변수는 사실상 문제 풀이에 필요하지 않다\n",
    "        name, kind = input().split()\n",
    "        clothes_kind.append(kind)\n",
    "        \n",
    "    # clothes 변수\n",
    "    _Counter = Counter(clothes_kind)\n",
    "    \n",
    "    # 1로 시작해야 누적곱의 값을 구할 수 있음\n",
    "    cnt = 1  \n",
    "    \n",
    "    for i in _Counter:\n",
    "        # 해당 종류를 입지 않는 경우도 존재하므로\n",
    "        # 그 경우까지 함께 생각해서 연산해야함\n",
    "        # 따라서 +1\n",
    "        cnt *= _Counter[i] + 1\n",
    "    \n",
    "    # 벌거 벗은 상태는 빼줘야함\n",
    "    print(cnt - 1)\n",
    "    \n",
    "    "
   ]
  }
 ],
 "metadata": {
  "kernelspec": {
   "display_name": "Python 3 (ipykernel)",
   "language": "python",
   "name": "python3"
  },
  "language_info": {
   "codemirror_mode": {
    "name": "ipython",
    "version": 3
   },
   "file_extension": ".py",
   "mimetype": "text/x-python",
   "name": "python",
   "nbconvert_exporter": "python",
   "pygments_lexer": "ipython3",
   "version": "3.9.7"
  }
 },
 "nbformat": 4,
 "nbformat_minor": 5
}
