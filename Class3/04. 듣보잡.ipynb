{
 "cells": [
  {
   "cell_type": "markdown",
   "id": "6f10ad2e",
   "metadata": {},
   "source": [
    "### 1764 듣보잡"
   ]
  },
  {
   "cell_type": "code",
   "execution_count": 41,
   "id": "a61eab7e",
   "metadata": {},
   "outputs": [
    {
     "name": "stdout",
     "output_type": "stream",
     "text": [
      "3 4\n",
      "ohhenrie\n",
      "bae\n",
      "hun\n",
      "obama\n",
      "bae\n",
      "hun\n",
      "char\n",
      "2\n",
      "bae\n",
      "hun\n"
     ]
    }
   ],
   "source": [
    "n, m = map(int, input().split())\n",
    "\n",
    "n_set = {input() for _ in range(n)}\n",
    "m_set = {input() for _ in range(m)}\n",
    "\n",
    "result = sorted(n_set.intersection(m_set))\n",
    "\n",
    "print(len(result))\n",
    "for i in result:\n",
    "    print(i)"
   ]
  }
 ],
 "metadata": {
  "kernelspec": {
   "display_name": "Python 3 (ipykernel)",
   "language": "python",
   "name": "python3"
  },
  "language_info": {
   "codemirror_mode": {
    "name": "ipython",
    "version": 3
   },
   "file_extension": ".py",
   "mimetype": "text/x-python",
   "name": "python",
   "nbconvert_exporter": "python",
   "pygments_lexer": "ipython3",
   "version": "3.9.7"
  }
 },
 "nbformat": 4,
 "nbformat_minor": 5
}
