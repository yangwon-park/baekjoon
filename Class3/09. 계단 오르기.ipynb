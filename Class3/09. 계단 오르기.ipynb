{
 "cells": [
  {
   "cell_type": "markdown",
   "id": "2f2bc26b",
   "metadata": {},
   "source": [
    "### 2579 계단 오르기"
   ]
  },
  {
   "cell_type": "code",
   "execution_count": 33,
   "id": "3fdb1f6f",
   "metadata": {},
   "outputs": [
    {
     "name": "stdout",
     "output_type": "stream",
     "text": [
      "1\n",
      "10\n",
      "10\n"
     ]
    }
   ],
   "source": [
    "n = int(input())\n",
    "\n",
    "def stair_up(n):\n",
    "    \n",
    "    # 누적 합을 더할 DP 테이블\n",
    "    d = [0] * (n+1)\n",
    "\n",
    "    score = [0] * (n+1)\n",
    "    \n",
    "    # 인덱스를 편의상 통일시키기 위해 범위를 아래와 같이 설정\n",
    "    for i in range(1, n+1):\n",
    "        score[i] = int(input())\n",
    "    \n",
    "    # 별도로 처리해주지 않으면 IndexError 발생\n",
    "    if n == 1:\n",
    "        return score[1]    \n",
    "\n",
    "    d[1] = score[1]\n",
    "    d[2] = d[1] + score[2]\n",
    "\n",
    "    for i in range(3, n+1):\n",
    "        d[i] = max(d[i-2] + score[i], d[i-3] + score[i-1] + score[i])\n",
    "\n",
    "    return d[n]\n",
    "\n",
    "print(stair_up(n))"
   ]
  }
 ],
 "metadata": {
  "kernelspec": {
   "display_name": "Python 3 (ipykernel)",
   "language": "python",
   "name": "python3"
  },
  "language_info": {
   "codemirror_mode": {
    "name": "ipython",
    "version": 3
   },
   "file_extension": ".py",
   "mimetype": "text/x-python",
   "name": "python",
   "nbconvert_exporter": "python",
   "pygments_lexer": "ipython3",
   "version": "3.9.7"
  }
 },
 "nbformat": 4,
 "nbformat_minor": 5
}
