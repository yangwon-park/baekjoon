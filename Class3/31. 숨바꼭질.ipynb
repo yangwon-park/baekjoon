{
 "cells": [
  {
   "cell_type": "markdown",
   "id": "ae92565d",
   "metadata": {},
   "source": [
    "### 1697 숨바꼭질"
   ]
  },
  {
   "cell_type": "code",
   "execution_count": 7,
   "id": "a91b1c7c",
   "metadata": {},
   "outputs": [
    {
     "name": "stdout",
     "output_type": "stream",
     "text": [
      "5 17\n",
      "4\n"
     ]
    }
   ],
   "source": [
    "from collections import deque\n",
    "\n",
    "n, k = map(int, input().split())\n",
    "\n",
    "# 문제에서 제시해준 n, k의 최대 범위 => 10만\n",
    "ran = 100001\n",
    "\n",
    "# 출발점에서 인덱스에 해당하는 위치까지의\n",
    "# 최소 이동 횟수를 담을 리스트\n",
    "visited = [0] * ran\n",
    "\n",
    "def bfs():\n",
    "    q = deque()\n",
    "    q.append(n)\n",
    "    \n",
    "    while q:\n",
    "        # 수빈이 현재 위치\n",
    "        x = q.popleft()\n",
    "        \n",
    "        # 동생의 위치와 수빈이의 위치가 같다 => 찾았다\n",
    "        if x == k:\n",
    "            print(dist[x])\n",
    "            break\n",
    "            \n",
    "        # 걸을 때 움직일 수 있는 위치 (+1, -1)\n",
    "        # 순간이동할 때 움직일 수 있는 위치 (x2)\n",
    "        # 세 경우를 모두 찾아줌\n",
    "        for i in (x-1, x+1, x*2):\n",
    "            \n",
    "            # 위의 3가지 경우 중\n",
    "            # 문제의 조건에 해당하는 범위만 탐색\n",
    "            if 0 <= i < ran and not visited[i]:\n",
    "                visited[i] = visited[x] + 1\n",
    "                q.append(i)\n",
    "             \n",
    "bfs()"
   ]
  }
 ],
 "metadata": {
  "kernelspec": {
   "display_name": "Python 3 (ipykernel)",
   "language": "python",
   "name": "python3"
  },
  "language_info": {
   "codemirror_mode": {
    "name": "ipython",
    "version": 3
   },
   "file_extension": ".py",
   "mimetype": "text/x-python",
   "name": "python",
   "nbconvert_exporter": "python",
   "pygments_lexer": "ipython3",
   "version": "3.9.7"
  }
 },
 "nbformat": 4,
 "nbformat_minor": 5
}
