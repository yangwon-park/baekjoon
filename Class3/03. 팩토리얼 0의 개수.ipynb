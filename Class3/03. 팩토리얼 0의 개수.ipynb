{
 "cells": [
  {
   "cell_type": "markdown",
   "id": "d951a7e5",
   "metadata": {},
   "source": [
    "### 1676 팩토리얼 0의 개수"
   ]
  },
  {
   "cell_type": "code",
   "execution_count": 44,
   "id": "a31f2fef",
   "metadata": {},
   "outputs": [
    {
     "name": "stdout",
     "output_type": "stream",
     "text": [
      "10\n",
      "2\n"
     ]
    }
   ],
   "source": [
    "n = int(input())\n",
    "\n",
    "def _facto(n):\n",
    "    if n == 0 or n == 1:\n",
    "        return 1\n",
    "    else:\n",
    "        return n * _facto(n-1)\n",
    "    \n",
    "facto = str(_facto(n))\n",
    "\n",
    "cnt = 0\n",
    "\n",
    "for i in range(len(facto)-1, 0, -1):    \n",
    "    if int(facto[i]) == 0:\n",
    "        cnt += 1\n",
    "    else:\n",
    "        break\n",
    "        \n",
    "print(cnt)    "
   ]
  }
 ],
 "metadata": {
  "kernelspec": {
   "display_name": "Python 3 (ipykernel)",
   "language": "python",
   "name": "python3"
  },
  "language_info": {
   "codemirror_mode": {
    "name": "ipython",
    "version": 3
   },
   "file_extension": ".py",
   "mimetype": "text/x-python",
   "name": "python",
   "nbconvert_exporter": "python",
   "pygments_lexer": "ipython3",
   "version": "3.9.7"
  }
 },
 "nbformat": 4,
 "nbformat_minor": 5
}
