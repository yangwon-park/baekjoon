{
 "cells": [
  {
   "cell_type": "markdown",
   "id": "a5db5082",
   "metadata": {},
   "source": [
    "### 1927 최소 힙"
   ]
  },
  {
   "cell_type": "code",
   "execution_count": 2,
   "id": "72d7942a",
   "metadata": {},
   "outputs": [
    {
     "name": "stdout",
     "output_type": "stream",
     "text": [
      "9\n",
      "0\n",
      "0\n",
      "12345678\n",
      "1\n",
      "2\n",
      "0\n",
      "1\n",
      "0\n",
      "2\n",
      "0\n",
      "12345678\n",
      "0\n",
      "0\n",
      "32\n"
     ]
    }
   ],
   "source": [
    "import heapq\n",
    "n = int(input())\n",
    "\n",
    "heap = []\n",
    "\n",
    "for _ in range(n):\n",
    "    x = int(input())\n",
    "    \n",
    "    if x == 0:\n",
    "        if not heap:\n",
    "            print(0)\n",
    "        else:\n",
    "            print(heap[0])\n",
    "            heapq.heappop(heap)\n",
    "    else:\n",
    "        heapq.heappush(heap, x)"
   ]
  }
 ],
 "metadata": {
  "kernelspec": {
   "display_name": "Python3_7",
   "language": "python",
   "name": "3_7"
  },
  "language_info": {
   "codemirror_mode": {
    "name": "ipython",
    "version": 3
   },
   "file_extension": ".py",
   "mimetype": "text/x-python",
   "name": "python",
   "nbconvert_exporter": "python",
   "pygments_lexer": "ipython3",
   "version": "3.7.11"
  }
 },
 "nbformat": 4,
 "nbformat_minor": 5
}
