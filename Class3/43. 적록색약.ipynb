{
 "cells": [
  {
   "cell_type": "code",
   "execution_count": 45,
   "id": "13ab0634",
   "metadata": {},
   "outputs": [
    {
     "name": "stdout",
     "output_type": "stream",
     "text": [
      "5\n",
      "RRRBB\n",
      "GGBBB\n",
      "BBBRR\n",
      "BBRRR\n",
      "RRRRR\n"
     ]
    }
   ],
   "source": [
    "import sys\n",
    "sys.setrecursionlimit(10**5)\n",
    "\n",
    "n = int(input())\n",
    "graph = [list(map(str, input())) for _ in range(n)]\n",
    "\n",
    "# 해당 그리드를 방문하였는가 담을 변수\n",
    "visited = [[False] * n for _ in range(n)]\n",
    "\n",
    "# DFS 실행\n",
    "def dfs(x, y):\n",
    "    \n",
    "    # 상하좌우 방향값\n",
    "    dx = [-1, 1, 0, 0]\n",
    "    dy = [0, 0, -1, 1]\n",
    "    \n",
    "    # 방문했으면 True\n",
    "    visited[x][y] = True\n",
    "    \n",
    "    # 현재 그리드 색상을 담을 변수\n",
    "    rgb = graph[x][y]\n",
    "    \n",
    "    # 4방향으로 탐색\n",
    "    for i in range(4):\n",
    "        nx = x + dx[i]\n",
    "        ny = y + dy[i]\n",
    "        \n",
    "        # 범위가 그리디 밖으로 나가지 않으며\n",
    "        # 방문하지 않은 그리드 중에\n",
    "        # 색이 같은 그리드를 발견하면 DFS 실행\n",
    "        if 0 <= nx < n and 0 <= ny < n:\n",
    "            if not visited[nx][ny]:\n",
    "                if graph[nx][ny] == rgb:\n",
    "                    dfs(nx, ny)\n",
    "\n",
    "# 적록색약 아닌 사람이 볼 수 있는 구역의 개수\n",
    "answer_1 = 0    \n",
    "\n",
    "# 적록색약인 사람이 볼 수 있는 구역의 개수\n",
    "answer_2 = 0\n",
    "\n",
    "# 적록색약 X\n",
    "for i in range(n):\n",
    "    for j in range(n):\n",
    "        if not visited[i][j]:\n",
    "            dfs(i, j)\n",
    "            answer_1 += 1\n",
    "\n",
    "# 적록색약인 사람들의 경우 => G == R로 보임 => 따라서 그냥 두 문자를 통일시키자      \n",
    "for i in range(n):\n",
    "    for j in range(n):\n",
    "        if graph[i][j] == 'G':\n",
    "            graph[i][j] = 'R'\n",
    "\n",
    "# 초기화 시켜줘야 이전 경우와 겹치지 않는다.             \n",
    "visited = [[False] * n for _ in range(n)]       \n",
    " \n",
    "    \n",
    "for i in range(n):\n",
    "    for j in range(n):\n",
    "        if not visited[i][j]:\n",
    "            dfs(i, j)\n",
    "            answer_2 += 1           \n",
    "            \n",
    "print(answer_1, answer_2)     "
   ]
  }
 ],
 "metadata": {
  "kernelspec": {
   "display_name": "Python3_7",
   "language": "python",
   "name": "3_7"
  },
  "language_info": {
   "codemirror_mode": {
    "name": "ipython",
    "version": 3
   },
   "file_extension": ".py",
   "mimetype": "text/x-python",
   "name": "python",
   "nbconvert_exporter": "python",
   "pygments_lexer": "ipython3",
   "version": "3.7.11"
  }
 },
 "nbformat": 4,
 "nbformat_minor": 5
}
