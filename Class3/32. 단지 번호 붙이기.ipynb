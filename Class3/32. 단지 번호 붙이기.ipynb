{
 "cells": [
  {
   "cell_type": "markdown",
   "id": "8f131ba9",
   "metadata": {},
   "source": [
    "### 단지 번호 붙이기"
   ]
  },
  {
   "cell_type": "markdown",
   "id": "94c6a26b",
   "metadata": {},
   "source": [
    "#### DFS"
   ]
  },
  {
   "cell_type": "code",
   "execution_count": 17,
   "id": "2edbf06d",
   "metadata": {},
   "outputs": [
    {
     "name": "stdout",
     "output_type": "stream",
     "text": [
      "7\n",
      "0110100\n",
      "0110101\n",
      "1110101\n",
      "0000111\n",
      "0100000\n",
      "0111110\n",
      "0111000\n",
      "3\n",
      "7\n",
      "8\n",
      "9\n"
     ]
    }
   ],
   "source": [
    "n = int(input())\n",
    "graph = []\n",
    "\n",
    "for _ in range(n):\n",
    "    graph.append(list(map(int, input())))\n",
    "\n",
    "# 아파트 개수\n",
    "cnt = 0\n",
    "\n",
    "# 아파트 개수를 담을 리스트\n",
    "cnt_list = []\n",
    "    \n",
    "def dfs(x, y):\n",
    "    # 상하좌우 방향 의미\n",
    "    dx = [-1, 1, 0, 0]\n",
    "    dy = [0, 0, -1, 1]\n",
    "    \n",
    "    # 지도 범위를 넘어서면 종료\n",
    "    if x < 0 or x >= n or y < 0 or y >= n:\n",
    "        return False\n",
    "    \n",
    "    # if graph[x][y] == 0 or graph[x][y] == 2:\n",
    "    #     return False\n",
    "    \n",
    "    # 좌표값이 1인 경우 => 아파트가 존재하는 경우\n",
    "    # 좌표값이 1이 아닌 숫자로 바꿔주고 (재방문 방지)\n",
    "    # 아파트 개수를 1 증가\n",
    "    if graph[x][y] == 1:\n",
    "        graph[x][y] = 2\n",
    "        global cnt\n",
    "        cnt += 1\n",
    "        \n",
    "        # 상하좌우 방향으로 재귀적으로 탐색\n",
    "        for i in range(4):\n",
    "            nx = x + dx[i]\n",
    "            ny = y + dy[i]\n",
    "            dfs(nx, ny)\n",
    "        return True\n",
    "    return False\n",
    "\n",
    "# 모든 좌표에 대해서 dfs 실행\n",
    "for i in range(n):\n",
    "    for j in range(n):\n",
    "        if dfs(i, j):\n",
    "            cnt_list.append(cnt)\n",
    "            # 단지 별로 아파트 개수를 카운팅해야 하므로\n",
    "            # 0으로 매번 초기화해줘야 한다\n",
    "            cnt = 0\n",
    "\n",
    "# 오름차순 조건\n",
    "cnt_list.sort()            \n",
    "print(len(cnt_list))\n",
    "for c in cnt_list:\n",
    "    print(c)            "
   ]
  },
  {
   "cell_type": "markdown",
   "id": "983d6a92",
   "metadata": {},
   "source": [
    "#### BFS"
   ]
  },
  {
   "cell_type": "code",
   "execution_count": 11,
   "id": "2fe8eaf7",
   "metadata": {},
   "outputs": [
    {
     "name": "stdout",
     "output_type": "stream",
     "text": [
      "7\n",
      "0110100\n",
      "0110101\n",
      "1110101\n",
      "0000111\n",
      "0100000\n",
      "0111110\n",
      "0111000\n",
      "3\n",
      "7\n",
      "8\n",
      "9\n"
     ]
    }
   ],
   "source": [
    "from collections import deque\n",
    "\n",
    "n = int(input())\n",
    "graph = []\n",
    "\n",
    "for _ in range(n):\n",
    "    graph.append(list(map(int, input())))\n",
    "    \n",
    "def bfs(x, y):\n",
    "    q = deque()\n",
    "    q.append((x, y))\n",
    "    \n",
    "    # 이 부분 중요\n",
    "    graph[x][y] = 0\n",
    "    cnt = 1\n",
    "    \n",
    "    dx = [-1, 1, 0, 0]\n",
    "    dy = [0, 0, -1, 1]\n",
    "    \n",
    "    while q:\n",
    "        x, y = q.popleft()\n",
    "        \n",
    "        for i in range(4):\n",
    "            nx = x + dx[i]\n",
    "            ny = y + dy[i]\n",
    "            \n",
    "            if nx < 0 or nx >= n or ny < 0 or ny >= n:\n",
    "                continue\n",
    "            \n",
    "            if graph[nx][ny] == 1:\n",
    "                graph[nx][ny] = 2\n",
    "                q.append((nx, ny))\n",
    "                cnt += 1\n",
    "    return cnt    \n",
    "        \n",
    "cnt_list = []\n",
    "for i in range(n):\n",
    "    for j in range(n):\n",
    "        if graph[i][j] == 1:\n",
    "            cnt_list.append(bfs(i, j))\n",
    "            \n",
    "cnt_list.sort()\n",
    "print(len(cnt_list))\n",
    "for c in cnt_list:\n",
    "    print(c)\n",
    "            "
   ]
  }
 ],
 "metadata": {
  "kernelspec": {
   "display_name": "Python3_7",
   "language": "python",
   "name": "3_7"
  },
  "language_info": {
   "codemirror_mode": {
    "name": "ipython",
    "version": 3
   },
   "file_extension": ".py",
   "mimetype": "text/x-python",
   "name": "python",
   "nbconvert_exporter": "python",
   "pygments_lexer": "ipython3",
   "version": "3.7.11"
  }
 },
 "nbformat": 4,
 "nbformat_minor": 5
}
