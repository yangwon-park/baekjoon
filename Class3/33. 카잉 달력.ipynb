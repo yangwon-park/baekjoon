{
 "cells": [
  {
   "cell_type": "markdown",
   "id": "a039bfee",
   "metadata": {},
   "source": [
    "### 6064 카잉 달력"
   ]
  },
  {
   "cell_type": "code",
   "execution_count": 5,
   "id": "384ef2a5",
   "metadata": {},
   "outputs": [
    {
     "name": "stdout",
     "output_type": "stream",
     "text": [
      "3\n",
      "10 12 3 9\n",
      "33\n",
      "10 12 7 2\n",
      "-1\n",
      "13 11 5 6\n",
      "83\n"
     ]
    }
   ],
   "source": [
    "import math\n",
    "t = int(input())\n",
    "\n",
    "for _ in range(t):\n",
    "    m, n, x, y = map(int, input().split())\n",
    "\n",
    "    boolean = False\n",
    "\n",
    "    # x의 맥스값이 m, n의 최소 공배수 => 둘의 곱보다 당연히 작을 것\n",
    "    while x <= (m * n) // math.gcd(m, n):\n",
    "        if x % n == y % n:\n",
    "            print(x)\n",
    "            boolean = True\n",
    "            break\n",
    "        x += m\n",
    "\n",
    "    if not boolean:\n",
    "        print(-1)\n",
    "        "
   ]
  }
 ],
 "metadata": {
  "kernelspec": {
   "display_name": "Python3_7",
   "language": "python",
   "name": "3_7"
  },
  "language_info": {
   "codemirror_mode": {
    "name": "ipython",
    "version": 3
   },
   "file_extension": ".py",
   "mimetype": "text/x-python",
   "name": "python",
   "nbconvert_exporter": "python",
   "pygments_lexer": "ipython3",
   "version": "3.7.11"
  }
 },
 "nbformat": 4,
 "nbformat_minor": 5
}
