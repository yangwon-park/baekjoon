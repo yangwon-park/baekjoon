{
 "cells": [
  {
   "cell_type": "markdown",
   "id": "ea90fa50",
   "metadata": {},
   "source": [
    "### 11723 집합"
   ]
  },
  {
   "cell_type": "code",
   "execution_count": 99,
   "id": "99efc666",
   "metadata": {},
   "outputs": [
    {
     "name": "stdout",
     "output_type": "stream",
     "text": [
      "3\n",
      "add 1\n",
      "remove 1\n",
      "remove 1\n"
     ]
    }
   ],
   "source": [
    "m = int(input())\n",
    "s = set()\n",
    "\n",
    "for _ in range(m):\n",
    "    \n",
    "    M = input().split()\n",
    "    \n",
    "    if M[0] == 'add':\n",
    "        s.add(int(M[1]))\n",
    "            \n",
    "    # remove로 없는 원소 제거 시 에러 발생\n",
    "    # discard는 에러 발생 안 함\n",
    "    elif M[0] == 'remove':\n",
    "    #   if int(M[1]) in s:\n",
    "    #       s.remove(int(M[1]))\n",
    "    #   else:\n",
    "    #       pass\n",
    "        s.discard(int(M[1]))\n",
    "        \n",
    "    elif M[0] == 'check':\n",
    "    #   if int(M[1]) in s:\n",
    "    #       print(1)\n",
    "    #   else:\n",
    "    #       print(0)\n",
    "        print(1 if intM([1]) in s else 0)\n",
    "            \n",
    "    elif M[0] == 'toggle':\n",
    "        if int(M[1]) in s:\n",
    "            s.discard(int(M[1]))\n",
    "        else:\n",
    "            s.add(int(M[1]))\n",
    "        \n",
    "    elif M[0] == 'all':\n",
    "        s = set(list(range(1,21)))\n",
    "        \n",
    "    elif M[0] == 'empty':\n",
    "        s.clear()        "
   ]
  }
 ],
 "metadata": {
  "kernelspec": {
   "display_name": "Python 3 (ipykernel)",
   "language": "python",
   "name": "python3"
  },
  "language_info": {
   "codemirror_mode": {
    "name": "ipython",
    "version": 3
   },
   "file_extension": ".py",
   "mimetype": "text/x-python",
   "name": "python",
   "nbconvert_exporter": "python",
   "pygments_lexer": "ipython3",
   "version": "3.9.7"
  }
 },
 "nbformat": 4,
 "nbformat_minor": 5
}
