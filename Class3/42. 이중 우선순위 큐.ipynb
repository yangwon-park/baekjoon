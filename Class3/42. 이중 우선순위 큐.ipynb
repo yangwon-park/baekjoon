{
 "cells": [
  {
   "cell_type": "markdown",
   "id": "beee035c",
   "metadata": {},
   "source": [
    "### 7662 이중 우선순위 큐"
   ]
  },
  {
   "cell_type": "markdown",
   "id": "95320088",
   "metadata": {},
   "source": [
    "#### 시간 초과"
   ]
  },
  {
   "cell_type": "code",
   "execution_count": 95,
   "id": "bb22959f",
   "metadata": {},
   "outputs": [
    {
     "name": "stdout",
     "output_type": "stream",
     "text": [
      "1\n",
      "7\n",
      "I 16\n",
      "I -5643\n",
      "D -1\n",
      "D 1\n",
      "D 1\n",
      "I 123\n",
      "D -1\n",
      "[]\n"
     ]
    }
   ],
   "source": [
    "import heapq\n",
    "T = int(input())\n",
    "\n",
    "for _ in range(T):\n",
    "    k = int(input())\n",
    "    heap_min = []\n",
    "    heap_max = []\n",
    "    \n",
    "    for _ in range(k):\n",
    "        cmd = input().split()\n",
    "        rule = cmd[0]\n",
    "        n = int(cmd[1])\n",
    "        \n",
    "        if rule == 'I':\n",
    "            heapq.heappush(heap_min, n)\n",
    "            heapq.heappush(heap_max, -n)\n",
    "            \n",
    "        if rule == 'D':\n",
    "            if not heap_min or not heap_max:\n",
    "                continue\n",
    "            \n",
    "            if n == -1:\n",
    "                heapq.heappop(heap_min)\n",
    "            else:\n",
    "                heapq.heappop(heap_max)\n",
    "\n",
    "\n",
    "result = [x for x in heap_min if -x in heap_max]                \n",
    "\n",
    "print(result)\n",
    "\n",
    "if not heap_min or not heap_max:\n",
    "    print('EMPTY')\n",
    "else:\n",
    "    print(max(result), min(result))\n",
    "\n",
    "    "
   ]
  },
  {
   "cell_type": "markdown",
   "id": "ab4af66d",
   "metadata": {},
   "source": [
    "#### 구글링 참고"
   ]
  },
  {
   "cell_type": "code",
   "execution_count": 102,
   "id": "471f4770",
   "metadata": {},
   "outputs": [
    {
     "name": "stdout",
     "output_type": "stream",
     "text": [
      "2\n",
      "7\n",
      "I 16\n",
      "I -5643\n",
      "D -1\n",
      "D 1\n",
      "D 1\n",
      "I 123\n",
      "D -1\n",
      "EMPTY\n",
      "9\n",
      "I -45\n",
      "I 653\n",
      "D 1\n",
      "I -642\n",
      "I 45\n",
      "I 97\n",
      "D 1\n",
      "D -1\n",
      "I 333\n",
      "333 -45\n"
     ]
    }
   ],
   "source": [
    "import heapq\n",
    "\n",
    "T = int(input())\n",
    "\n",
    "for _ in range(T):\n",
    "    \n",
    "    # 연산의 개수 k의 최댓값 1000000\n",
    "    k = int(input())\n",
    "    \n",
    "    # 최소힙 최대힙\n",
    "    heap_min = []\n",
    "    heap_max = []\n",
    "    \n",
    "    # k의 개수 만큼 visited 리스트 생성\n",
    "    # 역할 : 연산에 부여된 숫자를 인덱스로 사용하여\n",
    "    #        해당 연산이 수행됐으면 두 큐에 동시 적용하기 위한 구분\n",
    "    visited = [False] * 1000001\n",
    "    \n",
    "    # i를 식별자로 사용 => visited 리스트의 인덱스와 일치\n",
    "    # I 연산이 두 힙에 모두 적용됐는가를 확인하는 용도\n",
    "    for i in range(k):\n",
    "        cmd = input().split()\n",
    "        rule = cmd[0]\n",
    "        n = int(cmd[1])\n",
    "        \n",
    "        if rule == 'I':\n",
    "            heapq.heappush(heap_min, (n, i))\n",
    "            heapq.heappush(heap_max, (-n, i))\n",
    "            visited[i] = True\n",
    "        \n",
    "        else:\n",
    "            if n == 1:\n",
    "                while heap_max and not visited[heap_max[0][1]]:\n",
    "                    heapq.heappop(heap_max)\n",
    "\n",
    "                if heap_max:\n",
    "                    visited[heap_max[0][1]] = False\n",
    "                    heapq.heappop(heap_max)\n",
    "            else:\n",
    "                while heap_min and not visited[heap_min[0][1]]:\n",
    "                    heapq.heappop(heap_min)\n",
    "\n",
    "                if heap_min:\n",
    "                    visited[heap_min[0][1]] = False\n",
    "                    heapq.heappop(heap_min)\n",
    "                    \n",
    "    while heap_min and not visited[heap_min[0][1]]:\n",
    "        heapq.heappop(heap_min)\n",
    "        \n",
    "    while heap_max and not visited[heap_max[0][1]]:\n",
    "        heapq.heappop(heap_max)\n",
    "        \n",
    "    if heap_min and heap_max:\n",
    "        print(-(heap_max[0][0]), heap_min[0][0])\n",
    "    else:\n",
    "        print('EMPTY')\n",
    "        \n",
    "        \n",
    "    \n",
    "    \n",
    "    "
   ]
  },
  {
   "cell_type": "code",
   "execution_count": 105,
   "id": "a7255482",
   "metadata": {},
   "outputs": [],
   "source": [
    "li = [1,2,3,4,5]\n",
    "result = []"
   ]
  },
  {
   "cell_type": "code",
   "execution_count": 106,
   "id": "6b3d2579",
   "metadata": {},
   "outputs": [],
   "source": [
    "while li:\n",
    "    result.append(li.pop())"
   ]
  },
  {
   "cell_type": "code",
   "execution_count": 107,
   "id": "823be86a",
   "metadata": {},
   "outputs": [
    {
     "data": {
      "text/plain": [
       "[5, 4, 3, 2, 1]"
      ]
     },
     "execution_count": 107,
     "metadata": {},
     "output_type": "execute_result"
    }
   ],
   "source": [
    "result"
   ]
  },
  {
   "cell_type": "code",
   "execution_count": null,
   "id": "8e217417",
   "metadata": {},
   "outputs": [],
   "source": [
    "heap"
   ]
  }
 ],
 "metadata": {
  "kernelspec": {
   "display_name": "Python3_7",
   "language": "python",
   "name": "3_7"
  },
  "language_info": {
   "codemirror_mode": {
    "name": "ipython",
    "version": 3
   },
   "file_extension": ".py",
   "mimetype": "text/x-python",
   "name": "python",
   "nbconvert_exporter": "python",
   "pygments_lexer": "ipython3",
   "version": "3.7.11"
  }
 },
 "nbformat": 4,
 "nbformat_minor": 5
}
