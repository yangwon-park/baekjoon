{
 "cells": [
  {
   "cell_type": "markdown",
   "id": "a0fb35ea",
   "metadata": {},
   "source": [
    "### 2606 바이러스"
   ]
  },
  {
   "cell_type": "code",
   "execution_count": 5,
   "id": "a9e2f10d",
   "metadata": {},
   "outputs": [
    {
     "name": "stdout",
     "output_type": "stream",
     "text": [
      "7\n",
      "6\n",
      "1 2\n",
      "2 3\n",
      "1 5\n",
      "5 2\n",
      "5 6\n",
      "4 7\n",
      "0\n",
      "0\n",
      "1\n",
      "2\n",
      "1\n"
     ]
    }
   ],
   "source": [
    "# 컴퓨터의 수 (1 ~ 100) (노드의 개수)\n",
    "v = int(input())\n",
    "\n",
    "# 연결되어 있는 컴퓨터 쌍의 수 (간선의 개수)\n",
    "e = int(input())\n",
    "\n",
    "# 연결 상태를 입력받을 리스트\n",
    "# 인덱스 번호와 노드 번호를 통일시키기 위해서 N + 1 크기로 만듬\n",
    "link = [[] for _ in range(v+1)]\n",
    "\n",
    "# 컴퓨터 간의 연결 상태\n",
    "for _ in range(e):\n",
    "    a, b = map(int, input().split())\n",
    "    link[a].append(b)\n",
    "    link[b].append(a)\n",
    "    \n",
    "def dfs(link, v, visited):\n",
    "    visited[v] = True\n",
    "    \n",
    "    for i in link[v]:\n",
    "        if not visited[i]:\n",
    "            dfs(link, i, visited)        \n",
    "\n",
    "# 1번 컴퓨터가 방문하였는지 체크할 리스트\n",
    "visited = [False] * len(link)\n",
    "\n",
    "# 1번 컴퓨터가 웜 바이러스 시초\n",
    "dfs(link, 1, visited)\n",
    "\n",
    "# 1번 컴퓨터를 통해 바이러스가 걸리게 되는 컴퓨터의 수를 구해라\n",
    "# => 1번 컴퓨터는 제외해야하므로 -1\n",
    "print(len([x for x in visited if x == True]) - 1)"
   ]
  },
  {
   "cell_type": "code",
   "execution_count": 10,
   "id": "1a21362f",
   "metadata": {},
   "outputs": [
    {
     "data": {
      "text/plain": [
       "[False, True, True, True, False, True, True, False]"
      ]
     },
     "execution_count": 10,
     "metadata": {},
     "output_type": "execute_result"
    }
   ],
   "source": [
    "visited"
   ]
  },
  {
   "cell_type": "code",
   "execution_count": 18,
   "id": "8c5f79d2",
   "metadata": {},
   "outputs": [
    {
     "name": "stdout",
     "output_type": "stream",
     "text": [
      "4\n"
     ]
    }
   ],
   "source": [
    "print(len([x for x in visited if x == True]) - 1)"
   ]
  }
 ],
 "metadata": {
  "kernelspec": {
   "display_name": "Python 3 (ipykernel)",
   "language": "python",
   "name": "python3"
  },
  "language_info": {
   "codemirror_mode": {
    "name": "ipython",
    "version": 3
   },
   "file_extension": ".py",
   "mimetype": "text/x-python",
   "name": "python",
   "nbconvert_exporter": "python",
   "pygments_lexer": "ipython3",
   "version": "3.9.7"
  }
 },
 "nbformat": 4,
 "nbformat_minor": 5
}
