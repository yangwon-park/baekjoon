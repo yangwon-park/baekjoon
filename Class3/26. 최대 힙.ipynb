{
 "cells": [
  {
   "cell_type": "markdown",
   "id": "7920869f",
   "metadata": {},
   "source": [
    "### 11279 최대 힙"
   ]
  },
  {
   "cell_type": "code",
   "execution_count": 17,
   "id": "18237a32",
   "metadata": {},
   "outputs": [
    {
     "name": "stdout",
     "output_type": "stream",
     "text": [
      "13\n",
      "0\n",
      "0\n",
      "1\n",
      "2\n",
      "0\n",
      "2\n",
      "0\n",
      "1\n",
      "3\n",
      "2\n",
      "1\n",
      "0\n",
      "3\n",
      "0\n",
      "2\n",
      "0\n",
      "1\n",
      "0\n",
      "0\n",
      "0\n",
      "0\n"
     ]
    }
   ],
   "source": [
    "import heapq\n",
    "\n",
    "n = int(input())\n",
    "\n",
    "heap = []\n",
    "\n",
    "for _ in range(n):\n",
    "    x = int(input())\n",
    "    \n",
    "    if x == 0:\n",
    "        if not heap:\n",
    "            print(0)\n",
    "        else:\n",
    "            print(-heap[0])\n",
    "            heapq.heappop(heap)\n",
    "    else:\n",
    "        heapq.heappush(heap, -x)\n",
    "    "
   ]
  }
 ],
 "metadata": {
  "kernelspec": {
   "display_name": "Python3_7",
   "language": "python",
   "name": "3_7"
  },
  "language_info": {
   "codemirror_mode": {
    "name": "ipython",
    "version": 3
   },
   "file_extension": ".py",
   "mimetype": "text/x-python",
   "name": "python",
   "nbconvert_exporter": "python",
   "pygments_lexer": "ipython3",
   "version": "3.7.11"
  }
 },
 "nbformat": 4,
 "nbformat_minor": 5
}
