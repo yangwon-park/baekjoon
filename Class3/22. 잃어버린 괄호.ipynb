{
 "cells": [
  {
   "cell_type": "markdown",
   "id": "405a4b6d",
   "metadata": {},
   "source": [
    "### 1541 잃어버린 괄호"
   ]
  },
  {
   "cell_type": "code",
   "execution_count": 58,
   "id": "fde5de44",
   "metadata": {},
   "outputs": [
    {
     "name": "stdout",
     "output_type": "stream",
     "text": [
      "1-2+3-4+5\n",
      "-13\n"
     ]
    }
   ],
   "source": [
    "# +, - 두가지 연산 중 최솟값을 만들려면\n",
    "# 덧셈끼리 먼저 해주고 뺄셈을 처리해야함\n",
    "# 따라서 -을 기준으로 숫자들을 나눠서 입력받고\n",
    "# +의 좌우 숫자들을 먼저 따로 더한 후\n",
    "# 그 합을 -로 연산하면 최솟값을 구할 수 있음\n",
    "expr = input().split('-')\n",
    "\n",
    "# 식에 있는 숫자들을 담을 리스트\n",
    "num = []\n",
    "\n",
    "for i in expr:\n",
    "    # 임시로 숫자의 합을 저장할 변수\n",
    "    temp = 0\n",
    "    \n",
    "    # +가 포함돼있으면 다시 쪼개준다\n",
    "    # +가 포함돼있지 않으면 s = i\n",
    "    s = i.split('+')\n",
    "    \n",
    "    for j in s:\n",
    "        # + 연산 애들끼리 다 더해줌\n",
    "        temp += int(j)\n",
    "     \n",
    "    num.append(temp)\n",
    "\n",
    "# num[0] : 처음 - 연산이 나오기 전까지의 숫자들을 더한 값\n",
    "n = num[0]\n",
    "\n",
    "# 이 숫자에 나머지 모든 값들을 다 빼준다\n",
    "# 만약 - 연산이 하나도 존재하지 않으면 num의 길이는 1이므로\n",
    "# - 연산 자체가 발생하지 않음\n",
    "for i in range(1, len(num)):\n",
    "    n -= num[i]\n",
    "    \n",
    "print(n)"
   ]
  }
 ],
 "metadata": {
  "kernelspec": {
   "display_name": "Python3_7",
   "language": "python",
   "name": "3_7"
  },
  "language_info": {
   "codemirror_mode": {
    "name": "ipython",
    "version": 3
   },
   "file_extension": ".py",
   "mimetype": "text/x-python",
   "name": "python",
   "nbconvert_exporter": "python",
   "pygments_lexer": "ipython3",
   "version": "3.7.11"
  }
 },
 "nbformat": 4,
 "nbformat_minor": 5
}
