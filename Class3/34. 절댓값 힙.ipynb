{
 "cells": [
  {
   "cell_type": "markdown",
   "id": "47f79ae3",
   "metadata": {},
   "source": [
    "### 11286 절댓값 힙"
   ]
  },
  {
   "cell_type": "code",
   "execution_count": 12,
   "id": "35585758",
   "metadata": {
    "scrolled": true
   },
   "outputs": [
    {
     "name": "stdout",
     "output_type": "stream",
     "text": [
      "18\n",
      "1\n",
      "-1\n",
      "0\n",
      "-1\n",
      "0\n",
      "1\n",
      "0\n",
      "0\n",
      "1\n",
      "1\n",
      "-1\n",
      "-1\n",
      "2\n",
      "-2\n",
      "0\n",
      "-1\n",
      "0\n",
      "-1\n",
      "0\n",
      "1\n",
      "0\n",
      "1\n",
      "0\n",
      "-2\n",
      "0\n",
      "2\n",
      "0\n",
      "0\n"
     ]
    }
   ],
   "source": [
    "import heapq\n",
    "\n",
    "n = int(input())\n",
    "\n",
    "heap = []\n",
    "\n",
    "for _ in range(n):\n",
    "    cmd = int(input())\n",
    "    \n",
    "\n",
    "    if cmd == 0:\n",
    "        if not heap:\n",
    "            print(0)\n",
    "        else:\n",
    "            p = heapq.heappop(heap) \n",
    "            print(p[1])\n",
    "    else:\n",
    "        heapq.heappush(heap, (abs(cmd), cmd))\n",
    "\n",
    "\n"
   ]
  }
 ],
 "metadata": {
  "kernelspec": {
   "display_name": "Python3_7",
   "language": "python",
   "name": "3_7"
  },
  "language_info": {
   "codemirror_mode": {
    "name": "ipython",
    "version": 3
   },
   "file_extension": ".py",
   "mimetype": "text/x-python",
   "name": "python",
   "nbconvert_exporter": "python",
   "pygments_lexer": "ipython3",
   "version": "3.7.11"
  }
 },
 "nbformat": 4,
 "nbformat_minor": 5
}
