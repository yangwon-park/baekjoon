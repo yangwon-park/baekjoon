{
 "cells": [
  {
   "cell_type": "markdown",
   "id": "2d813af9",
   "metadata": {},
   "source": [
    "### 1074 Z"
   ]
  },
  {
   "cell_type": "code",
   "execution_count": null,
   "id": "1e424ce2",
   "metadata": {},
   "outputs": [],
   "source": [
    "n, r, c = map(int, input().split())\n",
    "\n",
    "answer = 0\n",
    "\n",
    "while n != 0:\n",
    "    n -= 1\n",
    "    \n",
    "    # 제 1사분면\n",
    "    if r < (2 ** n) and c < (2 ** n):\n",
    "        answer += (2 ** n) * (2 ** n) * 0\n",
    "        \n",
    "    # 제 2사분면\n",
    "    elif r < (2 ** n) and c >= (2 ** n):\n",
    "        answer += (2 ** n) * (2 ** n) * 1\n",
    "        c -= (2 ** n)\n",
    "        \n",
    "    # 제 3사분면\n",
    "    elif r >= (2 ** n) and c < (2 ** n):\n",
    "        answer += (2 ** n) * (2 ** n) * 2\n",
    "        r -= (2 ** n)\n",
    "        \n",
    "    # 제 4사분면\n",
    "    else:\n",
    "        answer += (2 ** n) * (2 ** n) * 3\n",
    "        c -= (2 ** n)\n",
    "        r -= (2 ** n)\n",
    "        \n",
    "print(answer)"
   ]
  }
 ],
 "metadata": {
  "kernelspec": {
   "display_name": "Python3_7",
   "language": "python",
   "name": "3_7"
  },
  "language_info": {
   "codemirror_mode": {
    "name": "ipython",
    "version": 3
   },
   "file_extension": ".py",
   "mimetype": "text/x-python",
   "name": "python",
   "nbconvert_exporter": "python",
   "pygments_lexer": "ipython3",
   "version": "3.7.11"
  }
 },
 "nbformat": 4,
 "nbformat_minor": 5
}
