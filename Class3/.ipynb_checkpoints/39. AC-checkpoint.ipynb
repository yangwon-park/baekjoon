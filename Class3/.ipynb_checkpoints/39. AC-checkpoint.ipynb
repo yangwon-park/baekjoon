{
 "cells": [
  {
   "cell_type": "markdown",
   "id": "de56a3ec",
   "metadata": {},
   "source": [
    "### 5430 AC"
   ]
  },
  {
   "cell_type": "markdown",
   "id": "83202176",
   "metadata": {},
   "source": [
    "#### 시간 초과"
   ]
  },
  {
   "cell_type": "code",
   "execution_count": null,
   "id": "0d44029a",
   "metadata": {},
   "outputs": [],
   "source": [
    "from collections import deque\n",
    "    \n",
    "def solution(cmd, n ,arr):\n",
    "    \n",
    "    # 정수만 남겨 놓기\n",
    "    arr = arr.strip('[]').split(',')\n",
    "    if arr != ['']:\n",
    "        arr = [int(x) for x in arr]\n",
    "    else:\n",
    "        arr = ''\n",
    "\n",
    "    # D 연산 시 처음 숫자를 버리므로 deque 사용 (popleft())\n",
    "    q = deque(arr)\n",
    "    \n",
    "    while len(cmd) != 0:\n",
    "        c = cmd.popleft()\n",
    "\n",
    "        if c == 'R':\n",
    "            q.reverse()\n",
    "\n",
    "        if c == 'D':\n",
    "            if not q:\n",
    "                print(\"error\")\n",
    "                return\n",
    "            \n",
    "            q.popleft()\n",
    "    \n",
    "    print('[', end='')\n",
    "    \n",
    "    while q:\n",
    "        num = q.popleft()\n",
    "        if len(q) == 0:\n",
    "            print(num, end='')\n",
    "        else:\n",
    "            print(num, end=',')\n",
    "    \n",
    "    print(']')\n",
    "    return\n",
    "    \n",
    "# 테스트 케이스 개수\n",
    "T = int(input())\n",
    "\n",
    "for _ in range(T):\n",
    "    cmd = input()\n",
    "\n",
    "    # 명령이 앞에서부터 차례대로 적용되니까 편하게 deque 사용 (popleft())\n",
    "    cmd = deque(cmd)\n",
    "    n = int(input())\n",
    "    arr = input()\n",
    "        \n",
    "    solution(cmd, n, arr)   "
   ]
  },
  {
   "cell_type": "markdown",
   "id": "fd912a3d",
   "metadata": {},
   "source": [
    "#### 정답 (reverse() 메소드 최소 사용)"
   ]
  },
  {
   "cell_type": "code",
   "execution_count": 157,
   "id": "5b1bdaa3",
   "metadata": {},
   "outputs": [
    {
     "name": "stdout",
     "output_type": "stream",
     "text": [
      "1\n",
      "RRR\n",
      "4\n",
      "[1,2,3,4]\n",
      "deque([4, 3, 2, 1])\n",
      "[4,3,2,1]\n"
     ]
    }
   ],
   "source": [
    "from collections import deque\n",
    "    \n",
    "def solution(cmd, n ,arr):\n",
    "    \n",
    "    # 정수만 남겨 놓기\n",
    "    arr = arr.strip('[]').split(',')\n",
    "    if arr != ['']:\n",
    "        arr = [int(x) for x in arr]\n",
    "    else:\n",
    "        arr = ''\n",
    "\n",
    "    # D 연산 시 처음 숫자를 버리므로 deque 사용 (popleft())\n",
    "    q = deque(arr)\n",
    "    \n",
    "    # reverse() 메소드 대신\n",
    "    # 뒤집기를 해야하는지 판단할 boolean 선언\n",
    "    rev = False\n",
    "    \n",
    "    while len(cmd) != 0:\n",
    "        \n",
    "        c = cmd.popleft()\n",
    "\n",
    "        if c == 'R':\n",
    "            # q.reverse()\n",
    "            # R이 홀수번 나오면 뒤집기 해야하고\n",
    "            # 짝수번 나오면 뒤집을 필요없다\n",
    "            # 따라서 나온 횟수만큼 True False값을 계속 변환하면\n",
    "            # 최종적으로 뒤집기를 시행해야 할지 말지를 정할 수 있다.\n",
    "            rev = not rev\n",
    "\n",
    "        if c == 'D':\n",
    "            if not q:\n",
    "                print(\"error\")\n",
    "                return\n",
    "            \n",
    "            if rev:\n",
    "                q.pop()\n",
    "            else:\n",
    "                q.popleft()\n",
    "    \n",
    "    # 최종적으로 rev가 True라면\n",
    "    # 뒤집기 시행\n",
    "    if rev == True:\n",
    "            q.reverse()\n",
    "        \n",
    "    print('[', end='')\n",
    "    \n",
    "    while q:\n",
    "        num = q.popleft()\n",
    "        \n",
    "        if len(q) == 0:\n",
    "            print(num, end='')\n",
    "        else:\n",
    "            print(num, end=',')\n",
    "    \n",
    "    print(']')\n",
    "    return\n",
    "    \n",
    "# 테스트 케이스 개수\n",
    "T = int(input())\n",
    "\n",
    "for _ in range(T):\n",
    "    cmd = input()\n",
    "\n",
    "    # 명령이 앞에서부터 차례대로 적용되니까 편하게 deque 사용 (popleft())\n",
    "    cmd = deque(cmd)\n",
    "    n = int(input())\n",
    "    arr = input()\n",
    "        \n",
    "    solution(cmd, n, arr)   "
   ]
  },
  {
   "cell_type": "code",
   "execution_count": 155,
   "id": "684ed425",
   "metadata": {},
   "outputs": [
    {
     "name": "stdout",
     "output_type": "stream",
     "text": [
      "True\n",
      "False\n",
      "True\n"
     ]
    }
   ],
   "source": [
    "bo = False\n",
    "for _ in range(3):\n",
    "    bo = not bo\n",
    "    print(bo)"
   ]
  },
  {
   "cell_type": "code",
   "execution_count": 153,
   "id": "d8e27f90",
   "metadata": {},
   "outputs": [
    {
     "name": "stdout",
     "output_type": "stream",
     "text": [
      "True\n"
     ]
    }
   ],
   "source": [
    "print(bo)"
   ]
  },
  {
   "cell_type": "code",
   "execution_count": null,
   "id": "28df830e",
   "metadata": {},
   "outputs": [],
   "source": []
  }
 ],
 "metadata": {
  "kernelspec": {
   "display_name": "Python3_7",
   "language": "python",
   "name": "3_7"
  },
  "language_info": {
   "codemirror_mode": {
    "name": "ipython",
    "version": 3
   },
   "file_extension": ".py",
   "mimetype": "text/x-python",
   "name": "python",
   "nbconvert_exporter": "python",
   "pygments_lexer": "ipython3",
   "version": "3.7.11"
  }
 },
 "nbformat": 4,
 "nbformat_minor": 5
}
