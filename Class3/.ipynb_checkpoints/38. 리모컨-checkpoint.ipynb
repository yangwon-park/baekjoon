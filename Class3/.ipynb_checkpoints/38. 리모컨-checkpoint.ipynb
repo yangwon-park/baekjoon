{
 "cells": [
  {
   "cell_type": "markdown",
   "id": "7446fefa",
   "metadata": {},
   "source": [
    "### 1107 리모컨"
   ]
  },
  {
   "cell_type": "code",
   "execution_count": 72,
   "id": "8e0e939b",
   "metadata": {},
   "outputs": [
    {
     "name": "stdout",
     "output_type": "stream",
     "text": [
      "5457\n",
      "3\n",
      "6 7 8\n",
      "6\n"
     ]
    }
   ],
   "source": [
    "n = int(input())\n",
    "m = int(input())\n",
    "\n",
    "# 무식하게 +나 - 버튼으로만 이동한 경우 => 사실상 최댓값\n",
    "answer = abs(100-n)\n",
    "\n",
    "if m:\n",
    "    # 고장은 숫자버튼만 발생\n",
    "    breakdown = list(map(int, input().split()))\n",
    "else:\n",
    "    breakdown = []\n",
    "\n",
    "# 채널 자체는 무한대 => n보다 큰 값에서부터 내려와서 답을 도출하려고 할 때\n",
    "# 예를 들어 찾고자 하는 채널이 50만인 경우\n",
    "# 50만보다도 더 큰 채널에서부터 내려와서 50만 채널에 도착하는 경우가\n",
    "# 100번에서부터 올라가는 경우보다 작은 경우가 분명 발생\n",
    "# 100만에서 50만까지 50만번 - 버튼을 클릭하는 경우가 최대 경우일 것이므로\n",
    "# 이를 넉넉하게 모두 처리하기 위해서 범위를 100만으로 설정\n",
    "for i in range(1000001):\n",
    "    flag = False\n",
    "    for j in str(i):\n",
    "        \n",
    "        # 고장난 버튼이라면 break\n",
    "        if int(j) in breakdown:\n",
    "            flag = True\n",
    "            break\n",
    "            \n",
    "    # 파이썬에선 굳이 안 해줘도 되는 코드\n",
    "    # 다른 언어로 풀 때 사용할 수도 있으므로 그냥 적음\n",
    "    if flag:\n",
    "        continue\n",
    "    # 고장이 한 번도 발생하지 않은 경우에 실행\n",
    "    else:\n",
    "        # 찾은 문자열의 길이 + 그 값에서 찾고자하는 채널 - n을 더하면\n",
    "        # 최소 횟수로 이동한 거리가 된다\n",
    "        answer = min(answer, len(str(i)) + abs(i - n))\n",
    "\n",
    "print(answer)            "
   ]
  }
 ],
 "metadata": {
  "kernelspec": {
   "display_name": "Python3_7",
   "language": "python",
   "name": "3_7"
  },
  "language_info": {
   "codemirror_mode": {
    "name": "ipython",
    "version": 3
   },
   "file_extension": ".py",
   "mimetype": "text/x-python",
   "name": "python",
   "nbconvert_exporter": "python",
   "pygments_lexer": "ipython3",
   "version": "3.7.11"
  }
 },
 "nbformat": 4,
 "nbformat_minor": 5
}
