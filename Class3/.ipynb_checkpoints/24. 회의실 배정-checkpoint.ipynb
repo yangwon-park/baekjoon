{
 "cells": [
  {
   "cell_type": "markdown",
   "id": "81b4392f",
   "metadata": {},
   "source": [
    "### 1931 회의실 배정"
   ]
  },
  {
   "cell_type": "code",
   "execution_count": 21,
   "id": "0f69601e",
   "metadata": {},
   "outputs": [
    {
     "name": "stdout",
     "output_type": "stream",
     "text": [
      "11\n",
      "1 4\n",
      "3 5\n",
      "0 6\n",
      "5 7\n",
      "3 8\n",
      "5 9\n",
      "6 10\n",
      "8 11\n",
      "8 12\n",
      "2 13\n",
      "12 14\n"
     ]
    }
   ],
   "source": [
    "n = int(input())\n",
    "\n",
    "time_table = []\n",
    "\n",
    "for _ in range(n):\n",
    "    time_table.append(list(map(int, input().split())))\n",
    "\n",
    "def max_meeting_count(time_table):\n",
    "    # 정답을 담을 변수\n",
    "    result = 0\n",
    "    \n",
    "    # 이전 회의의 시작 시간을 담을 변수\n",
    "    # 처음엔 0\n",
    "    before_meeting_end = 0\n",
    "    \n",
    "    # 회의가 빨리 끝날 수록 더 많은 회의가 진행될 수 있음\n",
    "    # 종료 시간이 같은 경우, 빨리 시작한 회의가 우선\n",
    "    time_table = sorted(time_table, key = lambda x: (x[1], x[0]))\n",
    "\n",
    "    for i in time_table:\n",
    "        start, end = i\n",
    "        \n",
    "        # 시작 시간이 이전 회의 종료시간보다 큰 경우\n",
    "        # 회의가 시작됐다고 보면 됨\n",
    "        if start >= before_meeting_end:\n",
    "            result += 1\n",
    "            \n",
    "            # 회의가 종료됐으므로\n",
    "            # 해당 회의의 종료 시간을 \n",
    "            # 이전 회의 시간을 담는 변수에 저장해줌\n",
    "            before_meeting_end = end\n",
    "            \n",
    "    return result"
   ]
  },
  {
   "cell_type": "code",
   "execution_count": 22,
   "id": "93bd37b8",
   "metadata": {},
   "outputs": [
    {
     "data": {
      "text/plain": [
       "4"
      ]
     },
     "execution_count": 22,
     "metadata": {},
     "output_type": "execute_result"
    }
   ],
   "source": [
    "max_meeting_count(time_table)"
   ]
  }
 ],
 "metadata": {
  "kernelspec": {
   "display_name": "Python3_7",
   "language": "python",
   "name": "3_7"
  },
  "language_info": {
   "codemirror_mode": {
    "name": "ipython",
    "version": 3
   },
   "file_extension": ".py",
   "mimetype": "text/x-python",
   "name": "python",
   "nbconvert_exporter": "python",
   "pygments_lexer": "ipython3",
   "version": "3.7.11"
  }
 },
 "nbformat": 4,
 "nbformat_minor": 5
}
