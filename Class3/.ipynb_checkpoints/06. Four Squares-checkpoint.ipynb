{
 "cells": [
  {
   "cell_type": "markdown",
   "id": "724ca6e7",
   "metadata": {},
   "source": [
    "### 17626 Four Squares"
   ]
  },
  {
   "cell_type": "code",
   "execution_count": 139,
   "id": "ef896783",
   "metadata": {},
   "outputs": [
    {
     "name": "stdout",
     "output_type": "stream",
     "text": [
      "26\n",
      "2 1 2\n",
      "3 1 3\n",
      "4 2 1\n",
      "5 2 2\n",
      "6 2 3\n",
      "7 2 4\n",
      "8 2 2\n",
      "9 3 1\n",
      "10 3 2\n",
      "11 3 3\n",
      "12 3 3\n",
      "13 3 2\n",
      "14 3 3\n",
      "15 3 4\n",
      "16 4 1\n",
      "17 4 2\n",
      "18 4 2\n",
      "19 4 3\n",
      "20 4 2\n",
      "21 4 3\n",
      "22 4 3\n",
      "23 4 4\n",
      "24 4 3\n",
      "25 5 1\n",
      "26 5 2\n",
      "2\n"
     ]
    }
   ],
   "source": [
    "INF = int(1e9) #무한히 큰 수 (10억)\n",
    "n = int(input())\n",
    "\n",
    "# DP 테이블 INF로 초기화\n",
    "d = [INF] * (n+1)\n",
    "d[0] = 0\n",
    "d[1] = 1\n",
    "\n",
    "for i in range(2, n + 1):  \n",
    "   # d[i]가 INF가 아니면 넘김\n",
    "    if d[i] != INF:\n",
    "        continue\n",
    "    \n",
    "    k = 1\n",
    "    \n",
    "    while (k**2) <= i:\n",
    "        \n",
    "        d[i] = min(d[i], d[i - (k**2)] + 1)\n",
    "        k+=1\n",
    "    \n",
    "    #print(i, k-1, d[i])\n",
    "    \n",
    "        \n",
    "print(d[n])\n",
    "    "
   ]
  },
  {
   "cell_type": "code",
   "execution_count": null,
   "id": "bfd70bad",
   "metadata": {},
   "outputs": [],
   "source": []
  }
 ],
 "metadata": {
  "kernelspec": {
   "display_name": "Python 3 (ipykernel)",
   "language": "python",
   "name": "python3"
  },
  "language_info": {
   "codemirror_mode": {
    "name": "ipython",
    "version": 3
   },
   "file_extension": ".py",
   "mimetype": "text/x-python",
   "name": "python",
   "nbconvert_exporter": "python",
   "pygments_lexer": "ipython3",
   "version": "3.9.7"
  }
 },
 "nbformat": 4,
 "nbformat_minor": 5
}
