{
 "cells": [
  {
   "cell_type": "markdown",
   "id": "4088c7f7",
   "metadata": {},
   "source": [
    "#### 1층짜리 토마토 상자"
   ]
  },
  {
   "cell_type": "code",
   "execution_count": 31,
   "id": "02760f0b",
   "metadata": {},
   "outputs": [
    {
     "name": "stdout",
     "output_type": "stream",
     "text": [
      "6 4\n",
      "0 0 0 0 0 0\n",
      "0 0 0 0 0 0\n",
      "0 0 0 0 0 0\n",
      "0 0 0 0 0 1\n"
     ]
    }
   ],
   "source": [
    "m, n = map(int, input().split())\n",
    "\n",
    "graph = [list(map(int, input().split())) for _ in range(n)]\n",
    "\n",
    "from collections import deque\n",
    "\n",
    "q = deque()\n",
    "\n",
    "dx = [-1, 1, 0, 0]\n",
    "dy = [0, 0, -1, 1]\n",
    "\n",
    "for i in range(n):\n",
    "    for j in range(m):\n",
    "        if graph[i][j] == 1:\n",
    "            q.append((i, j))\n",
    "            \n",
    "def solution():\n",
    "    while q:\n",
    "        x, y = q.popleft()\n",
    "        \n",
    "        for i in range(4):\n",
    "            nx = x+dx[i]\n",
    "            ny = y+dy[i]\n",
    "\n",
    "            if 0 <= nx < n and 0 <= ny < m and graph[nx][ny] == 0:\n",
    "                graph[nx][ny] = graph[x][y] + 1\n",
    "                q.append((nx, ny))\n",
    "                \n",
    "    \n",
    "    answer = 0\n",
    "    \n",
    "    for box in graph:\n",
    "        if 0 in box:\n",
    "            return -1\n",
    "    \n",
    "        answer = max(answer, max(box))    \n",
    "        \n",
    "    return answer-1"
   ]
  },
  {
   "cell_type": "code",
   "execution_count": 34,
   "id": "78dbe6e0",
   "metadata": {},
   "outputs": [
    {
     "name": "stdout",
     "output_type": "stream",
     "text": [
      "8\n"
     ]
    }
   ],
   "source": [
    "print(solution())"
   ]
  },
  {
   "cell_type": "markdown",
   "id": "5237f842",
   "metadata": {},
   "source": [
    "#### 문제의 H층 토마토 상자"
   ]
  },
  {
   "cell_type": "code",
   "execution_count": 77,
   "id": "5783bdcc",
   "metadata": {},
   "outputs": [
    {
     "name": "stdout",
     "output_type": "stream",
     "text": [
      "5 3 2\n",
      "0 0 0 0 0\n",
      "0 0 0 0 0\n",
      "0 0 0 0 0\n",
      "0 0 0 0 0\n",
      "0 0 1 0 0\n",
      "0 0 0 0 0\n",
      "4\n"
     ]
    }
   ],
   "source": [
    "from collections import deque\n",
    "\n",
    "m, n, h = map(int, input().split())\n",
    "\n",
    "# 3차원 리스트로 생성\n",
    "graph = [[list(map(int, input().split()))\n",
    "            for _ in range(n)]\n",
    "            for _ in range(h)]\n",
    "\n",
    "# 방향 부여 (3차원이니까 3개)\n",
    "dx = [-1, 1, 0, 0, 0, 0]\n",
    "dy = [0, 0, -1, 1, 0, 0]\n",
    "dz = [0, 0, 0, 0, -1, 1]\n",
    "\n",
    "q = deque()\n",
    "\n",
    "# 가장 바깥 쪽에서부터\n",
    "# graph[i][j][k] => i가 높이에 해당\n",
    "for i in range(h):\n",
    "    for j in range(n):\n",
    "        for k in range(m):\n",
    "            if graph[i][j][k] == 1:\n",
    "                q.append((i, j, k))\n",
    "                \n",
    "def solution():\n",
    "    while q:\n",
    "        # i가 높이 => z가 높이\n",
    "        # 순서 중요\n",
    "        z, x, y = q.popleft()\n",
    "        \n",
    "        for i in range(6):\n",
    "            nx = x + dx[i]\n",
    "            ny = y + dy[i]\n",
    "            nz = z + dz[i]\n",
    "            \n",
    "            if (0 <= nx < n and 0 <= ny < m \n",
    "                and 0 <= nz < h):\n",
    "                if graph[nz][nx][ny] == 0:\n",
    "                    graph[nz][nx][ny] = graph[z][x][y] + 1\n",
    "                    q.append((nz, nx, ny))\n",
    "     \n",
    "    # 최종 답안을 담을 변수\n",
    "    answer = 0\n",
    "    \n",
    "    # 전체 박스 상자들을 층 => 각각 한 줄\n",
    "    # 이 순서로 반복하여 탐색하면서\n",
    "    # 0이 존재하면 -1 리턴\n",
    "    # 0이 존재하지 않으면 가장 큰 값을 리턴\n",
    "    # 가장 큰 값을 리턴하는 과정에서\n",
    "    # 만약 처음부터 모두 익어있다면\n",
    "    # 당연히 가장 큰 값은 1일 것이므로\n",
    "    # 따로 고려해주지 않아도 된다\n",
    "    for box in graph:\n",
    "        for tot in box:\n",
    "            if 0 in tot:\n",
    "                return -1\n",
    "            answer = max(answer, max(tot))\n",
    "        \n",
    "    return answer - 1\n",
    "\n",
    "print(solution())            "
   ]
  }
 ],
 "metadata": {
  "kernelspec": {
   "display_name": "Python3_7",
   "language": "python",
   "name": "3_7"
  },
  "language_info": {
   "codemirror_mode": {
    "name": "ipython",
    "version": 3
   },
   "file_extension": ".py",
   "mimetype": "text/x-python",
   "name": "python",
   "nbconvert_exporter": "python",
   "pygments_lexer": "ipython3",
   "version": "3.7.11"
  }
 },
 "nbformat": 4,
 "nbformat_minor": 5
}
