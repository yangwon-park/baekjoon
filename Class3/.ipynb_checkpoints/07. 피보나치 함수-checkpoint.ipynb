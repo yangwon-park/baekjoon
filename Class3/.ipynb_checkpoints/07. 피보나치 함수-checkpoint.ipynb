{
 "cells": [
  {
   "cell_type": "markdown",
   "id": "1d18592b",
   "metadata": {},
   "source": [
    "### 1003 피보나치 함수"
   ]
  },
  {
   "cell_type": "code",
   "execution_count": 26,
   "id": "3e8f0cba",
   "metadata": {},
   "outputs": [
    {
     "name": "stdout",
     "output_type": "stream",
     "text": [
      "3\n",
      "0\n",
      "1 0\n",
      "1\n",
      "0 1\n",
      "3\n",
      "1 2\n"
     ]
    }
   ],
   "source": [
    "T = int(input())\n",
    "\n",
    "for i in range(T):\n",
    "    n = int(input())\n",
    "    \n",
    "    if n == 0:\n",
    "        print(1, 0)\n",
    "        continue\n",
    "    \n",
    "    if n == 1:\n",
    "        print(0, 1)\n",
    "        continue\n",
    "    \n",
    "    d = [0] * (n+1)\n",
    "\n",
    "    d[1] = 1\n",
    "    d[2] = 1\n",
    "    \n",
    "    for j in range(3, n+1):\n",
    "        d[j] = d[j-2] + d[j-1]\n",
    "        \n",
    "    print(d[n-1], d[n])"
   ]
  }
 ],
 "metadata": {
  "kernelspec": {
   "display_name": "Python 3 (ipykernel)",
   "language": "python",
   "name": "python3"
  },
  "language_info": {
   "codemirror_mode": {
    "name": "ipython",
    "version": 3
   },
   "file_extension": ".py",
   "mimetype": "text/x-python",
   "name": "python",
   "nbconvert_exporter": "python",
   "pygments_lexer": "ipython3",
   "version": "3.9.7"
  }
 },
 "nbformat": 4,
 "nbformat_minor": 5
}
