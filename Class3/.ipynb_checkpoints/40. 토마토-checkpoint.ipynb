{
 "cells": [
  {
   "cell_type": "markdown",
   "id": "4372a451",
   "metadata": {},
   "source": [
    "### 7576 토마토"
   ]
  },
  {
   "cell_type": "code",
   "execution_count": 73,
   "id": "abc19d67",
   "metadata": {},
   "outputs": [
    {
     "name": "stdout",
     "output_type": "stream",
     "text": [
      "6 4\n",
      "0 0 0 0 0 0\n",
      "0 0 0 0 0 0\n",
      "0 0 0 0 0 0\n",
      "0 0 0 0 0 1\n",
      "8\n"
     ]
    }
   ],
   "source": [
    "from collections import deque\n",
    "m, n = map(int, input().split())\n",
    "\n",
    "graph = []\n",
    "\n",
    "# 1 : 익은 토마토, 0 : 안 익은 토마토, -1 : 토마토 없음\n",
    "for _ in range(n):\n",
    "    graph.append(list(map(int, input().split())))\n",
    "    \n",
    "# BFS\n",
    "def solution():\n",
    "    # 소요된 일수를 담을 변수\n",
    "    day = 0\n",
    "    \n",
    "    q = deque()\n",
    "\n",
    "    dx = [-1, 1, 0, 0]\n",
    "    dy = [0, 0, -1, 1]\n",
    "    \n",
    "    \n",
    "    # 토마토가 있는 곳의 좌표만\n",
    "    # 큐에 넣어준다\n",
    "    for i in range(n):\n",
    "        for j in range(m):\n",
    "            if graph[i][j] == 1:\n",
    "                q.append((i, j))\n",
    "\n",
    "    while q:\n",
    "        day += 1\n",
    "        \n",
    "        # 이 for문이 중요!!!\n",
    "        # 모든 상자의 좌표에 대해서 반복을 돌리는 것이 아니라\n",
    "        # 토마토가 있던 상자에 대해서만 반복을 돌려야\n",
    "        # 정확한 일수가 계산된다.\n",
    "        for _ in range(len(q)):\n",
    "            x, y = q.popleft()\n",
    "            for i in range(4):\n",
    "                nx = x + dx[i]\n",
    "                ny = y + dy[i]\n",
    "\n",
    "                if nx < 0 or nx >= n or ny < 0 or ny >= m:\n",
    "                    continue\n",
    "\n",
    "                if graph[nx][ny] == 0:\n",
    "                    graph[nx][ny] = graph[x][y] + 1\n",
    "                    q.append((nx, ny))\n",
    "        \n",
    "    # BFS가 끝났는데도 박스에 0이 있다면\n",
    "    # 모든 토마토가 익을 수 없는 경우이므로\n",
    "    # -1 반환\n",
    "    for box in graph:\n",
    "        if 0 in box:\n",
    "            return -1\n",
    "        \n",
    "    # 첫날도 +1 했으므로 -1 해줘야 맞는 정답\n",
    "    return day-1    \n",
    "\n",
    "print(solution())"
   ]
  },
  {
   "cell_type": "code",
   "execution_count": 118,
   "id": "150851cf",
   "metadata": {},
   "outputs": [
    {
     "name": "stdout",
     "output_type": "stream",
     "text": [
      "6 4\n",
      "0 0 0 0 0 0\n",
      "0 0 0 0 0 0\n",
      "0 0 0 0 0 0\n",
      "0 0 0 0 0 1\n",
      "9\n"
     ]
    }
   ],
   "source": [
    "from collections import deque\n",
    "m, n = map(int, input().split())\n",
    "\n",
    "graph = []\n",
    "\n",
    "# 1 : 익은 토마토, 0 : 안 익은 토마토, -1 : 토마토 없음\n",
    "for _ in range(n):\n",
    "    graph.append(list(map(int, input().split())))\n",
    "    \n",
    "def solu():\n",
    "    dx = [-1, 1, 0, 0]\n",
    "    dy = [0, 0, -1, 1]\n",
    "    \n",
    "    q = deque()\n",
    "    \n",
    "    for i in range(n):\n",
    "        for j in range(m):\n",
    "            if graph[i][j] == 1:\n",
    "                q.append((i, j))\n",
    "    \n",
    "    while q:\n",
    "        x, y = q.popleft()\n",
    "        \n",
    "        for i in range(4):\n",
    "            nx = x + dx[i]\n",
    "            ny = y + dy[i]\n",
    "            \n",
    "            if 0 <= nx < n and 0 <= ny < m and graph[nx][ny] == 0:\n",
    "                graph[nx][ny] = graph[x][y] + 1\n",
    "                q.append((nx, ny))\n",
    "          \n",
    "    answer = 0\n",
    "    for box in graph:\n",
    "        if 0 in box:\n",
    "            return -1\n",
    "        \n",
    "        answer = max(answer, max(box))\n",
    "    \n",
    "    return answer-1\n",
    "    \n",
    "    \n",
    "print(solu())"
   ]
  }
 ],
 "metadata": {
  "kernelspec": {
   "display_name": "Python3_7",
   "language": "python",
   "name": "3_7"
  },
  "language_info": {
   "codemirror_mode": {
    "name": "ipython",
    "version": 3
   },
   "file_extension": ".py",
   "mimetype": "text/x-python",
   "name": "python",
   "nbconvert_exporter": "python",
   "pygments_lexer": "ipython3",
   "version": "3.7.11"
  }
 },
 "nbformat": 4,
 "nbformat_minor": 5
}
