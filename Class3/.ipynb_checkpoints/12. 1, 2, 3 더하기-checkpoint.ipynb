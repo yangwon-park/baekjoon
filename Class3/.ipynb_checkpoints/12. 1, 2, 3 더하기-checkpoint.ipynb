{
 "cells": [
  {
   "cell_type": "markdown",
   "id": "c1a0ad14",
   "metadata": {},
   "source": [
    "### 9095 1, 2, 3 더하기"
   ]
  },
  {
   "cell_type": "code",
   "execution_count": 21,
   "id": "d7f8c2b2",
   "metadata": {},
   "outputs": [
    {
     "name": "stdout",
     "output_type": "stream",
     "text": [
      "3\n",
      "4\n",
      "7\n",
      "7\n",
      "44\n",
      "10\n",
      "274\n"
     ]
    }
   ],
   "source": [
    "T = int(input())\n",
    "\n",
    "for _ in range(T):\n",
    "    n = int(input())\n",
    "\n",
    "    d = [0] * (n + 1)\n",
    "    \n",
    "    # 아래 두 조건문이 없으면 IndexError\n",
    "    # break가 아니라 continue로 해야 나머지 반복으로\n",
    "    # 다른 n값에 대한 결과값도 출력\n",
    "    if n == 1:\n",
    "        print(1)\n",
    "        continue\n",
    "        \n",
    "    if n == 2:\n",
    "        print(2)\n",
    "        continue\n",
    "    \n",
    "    d[1] = 1\n",
    "    d[2] = 2\n",
    "    d[3] = 4\n",
    "    \n",
    "    for i in range(4, n+1):\n",
    "        d[i] = d[i-1] + d[i-2] + d[i-3]\n",
    "            \n",
    "    print(d[n])"
   ]
  }
 ],
 "metadata": {
  "kernelspec": {
   "display_name": "Python 3 (ipykernel)",
   "language": "python",
   "name": "python3"
  },
  "language_info": {
   "codemirror_mode": {
    "name": "ipython",
    "version": 3
   },
   "file_extension": ".py",
   "mimetype": "text/x-python",
   "name": "python",
   "nbconvert_exporter": "python",
   "pygments_lexer": "ipython3",
   "version": "3.9.7"
  }
 },
 "nbformat": 4,
 "nbformat_minor": 5
}
