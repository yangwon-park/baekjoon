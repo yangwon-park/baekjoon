{
 "cells": [
  {
   "cell_type": "markdown",
   "id": "d01194e0",
   "metadata": {},
   "source": [
    "### 5525 IOIOI"
   ]
  },
  {
   "cell_type": "code",
   "execution_count": 14,
   "id": "c5c2a7ad",
   "metadata": {},
   "outputs": [
    {
     "name": "stdout",
     "output_type": "stream",
     "text": [
      "2\n",
      "13\n",
      "OOIOIOIOIIOII\n",
      "2\n"
     ]
    }
   ],
   "source": [
    "# I의 개수 n+1\n",
    "# O의 개수 n\n",
    "\n",
    "n = int(input())\n",
    "m = int(input())\n",
    "s = input()\n",
    "\n",
    "# 최종 출력할 변수\n",
    "answer = 0\n",
    "\n",
    "# IOI가 나온 횟수를 담을 변수\n",
    "cnt = 0\n",
    "\n",
    "# 문자열의 인덱스 변수\n",
    "idx = 0\n",
    "\n",
    "while idx < (m-1):\n",
    "    if s[idx:idx+3] == 'IOI':\n",
    "        # 'IOI'후에 'OI'가 추가로 나오는지 보면 되니까 idx를 2 더해줌\n",
    "        idx += 2\n",
    "        \n",
    "        cnt += 1\n",
    "        if cnt == n:\n",
    "            answer += 1\n",
    "            \n",
    "            # 'IOI'가 연속으로 'IOIOIOI' 이런 식으로 나올 경우\n",
    "            # cnt가 n보다 커지는 경우가 발생\n",
    "            # 이러면 이 if문이 실행되지 않는다\n",
    "            # 따라서 1을 빼주고 다음 패턴을 확인한다\n",
    "            cnt -= 1\n",
    "    else:\n",
    "        # IOI가 아니니까 cnt를 초기화\n",
    "        cnt = 0\n",
    "        \n",
    "        # 인덱스는 1만 이동하면 됨\n",
    "        idx += 1\n",
    "        \n",
    "print(answer)"
   ]
  }
 ],
 "metadata": {
  "kernelspec": {
   "display_name": "Python3_7",
   "language": "python",
   "name": "3_7"
  },
  "language_info": {
   "codemirror_mode": {
    "name": "ipython",
    "version": 3
   },
   "file_extension": ".py",
   "mimetype": "text/x-python",
   "name": "python",
   "nbconvert_exporter": "python",
   "pygments_lexer": "ipython3",
   "version": "3.7.11"
  }
 },
 "nbformat": 4,
 "nbformat_minor": 5
}
