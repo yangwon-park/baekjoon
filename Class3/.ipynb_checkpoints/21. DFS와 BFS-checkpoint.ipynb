{
 "cells": [
  {
   "cell_type": "markdown",
   "id": "f4e33dbe",
   "metadata": {},
   "source": [
    "### 1260 DFS와 BFS"
   ]
  },
  {
   "cell_type": "code",
   "execution_count": 22,
   "id": "9c40194a",
   "metadata": {},
   "outputs": [
    {
     "name": "stdout",
     "output_type": "stream",
     "text": [
      "5 5 3\n",
      "5 4\n",
      "5 2\n",
      "1 2\n",
      "3 4\n",
      "3 1\n",
      "3 1 2 5 4 \n",
      "3 1 4 2 5 "
     ]
    }
   ],
   "source": [
    "from collections import deque\n",
    "\n",
    "n, m, v = map(int, input().split())\n",
    "\n",
    "graph = [[] for _ in range(n+1)]\n",
    "\n",
    "for _ in range(m):\n",
    "    a, b = map(int, input().split())\n",
    "    \n",
    "    graph[a].append(b)\n",
    "    graph[b].append(a)\n",
    "    \n",
    "    graph[a].sort()\n",
    "    graph[b].sort()\n",
    "# 방문 완료 여부를 체크할 리스트\n",
    "visited = [False] * (n+1)\n",
    "\n",
    "def dfs(graph, v, visited):\n",
    "    \n",
    "    # 시작할 노드 : v => 시작했으니까 방문처리\n",
    "    # 이후 v => 시작 노드와 연결된 노드\n",
    "    visited[v] = True\n",
    "    print(v, end = ' ')\n",
    "    \n",
    "    # 현재 노드와 연결돼있는 노드를 재귀적으로 방문\n",
    "    for i in graph[v]:\n",
    "        \n",
    "        # 해당 노드가 방문 처리가 돼있지 않다면 (즉, True가 아니라면)\n",
    "        if not visited[i]:\n",
    "            dfs(graph, i, visited)\n",
    "      \n",
    "\n",
    "def bfs(graph, v, visited):\n",
    "    visited = [False] * (n+1)\n",
    "    \n",
    "    # 방문 노드노드를 큐에 삽입\n",
    "    q = deque([v])\n",
    "    \n",
    "    # 현재 노드 방문 처리\n",
    "    visited[v] = True\n",
    "    \n",
    "    # 큐가 빌 때까지\n",
    "    while q:\n",
    "        \n",
    "        # 큐에서 하나의 원소 뽑아서 출력\n",
    "        node = q.popleft()\n",
    "        print(node, end = ' ')\n",
    "        \n",
    "        # 해당 원소와 연결돼있고, 아직 방문하지 않은 노드들 큐에 삽입 후 방문처리\n",
    "        for i in graph[node]:\n",
    "            if not visited[i]:\n",
    "                q.append(i)\n",
    "                visited[i] = True\n",
    "\n",
    "dfs(graph, v, visited)     \n",
    "print()                \n",
    "bfs(graph, v, visited)                    "
   ]
  }
 ],
 "metadata": {
  "kernelspec": {
   "display_name": "Python3_7",
   "language": "python",
   "name": "3_7"
  },
  "language_info": {
   "codemirror_mode": {
    "name": "ipython",
    "version": 3
   },
   "file_extension": ".py",
   "mimetype": "text/x-python",
   "name": "python",
   "nbconvert_exporter": "python",
   "pygments_lexer": "ipython3",
   "version": "3.7.11"
  }
 },
 "nbformat": 4,
 "nbformat_minor": 5
}
