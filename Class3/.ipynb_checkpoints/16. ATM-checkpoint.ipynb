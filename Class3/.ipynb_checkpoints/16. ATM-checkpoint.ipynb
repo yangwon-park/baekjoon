{
 "cells": [
  {
   "cell_type": "markdown",
   "id": "c715dd5e",
   "metadata": {},
   "source": [
    "### 11399 ATM"
   ]
  },
  {
   "cell_type": "code",
   "execution_count": 15,
   "id": "1c9cd262",
   "metadata": {},
   "outputs": [
    {
     "name": "stdout",
     "output_type": "stream",
     "text": [
      "5\n",
      "3 1 4 3 2\n",
      "32\n"
     ]
    }
   ],
   "source": [
    "n = int(input())\n",
    "waiting = list(map(int, input().split()))\n",
    "\n",
    "waiting = sorted(waiting)\n",
    "\n",
    "d = [0] * (n+1)\n",
    "\n",
    "d[1] = 1\n",
    "\n",
    "for i in range(2, n+1):\n",
    "    d[i] = d[i-1] + waiting[i-1]\n",
    "    \n",
    "print(sum(d))"
   ]
  }
 ],
 "metadata": {
  "kernelspec": {
   "display_name": "Python3_7",
   "language": "python",
   "name": "3_7"
  },
  "language_info": {
   "codemirror_mode": {
    "name": "ipython",
    "version": 3
   },
   "file_extension": ".py",
   "mimetype": "text/x-python",
   "name": "python",
   "nbconvert_exporter": "python",
   "pygments_lexer": "ipython3",
   "version": "3.7.11"
  }
 },
 "nbformat": 4,
 "nbformat_minor": 5
}
