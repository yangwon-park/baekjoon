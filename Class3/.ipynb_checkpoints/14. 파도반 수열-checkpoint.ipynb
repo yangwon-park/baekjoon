{
 "cells": [
  {
   "cell_type": "markdown",
   "id": "65c160f2",
   "metadata": {},
   "source": [
    "### 9461 파도반 수열"
   ]
  },
  {
   "cell_type": "code",
   "execution_count": 5,
   "id": "0daef05f",
   "metadata": {},
   "outputs": [
    {
     "name": "stdout",
     "output_type": "stream",
     "text": [
      "1\n",
      "12\n",
      "16\n"
     ]
    }
   ],
   "source": [
    "T = int(input())\n",
    "\n",
    "for _ in range(T):\n",
    "    n = int(input())\n",
    "    d = [0] * (n+1)\n",
    "    \n",
    "    d[1] = 1\n",
    "    d[2] = 1\n",
    "    d[3] = 1\n",
    "    d[4] = 2\n",
    "    d[5] = 2\n",
    "    \n",
    "    for i in range(6, n+1):\n",
    "        d[i] = d[i-1] + d[i-5]\n",
    "        \n",
    "    print(d[n])"
   ]
  }
 ],
 "metadata": {
  "kernelspec": {
   "display_name": "Python3_7",
   "language": "python",
   "name": "3_7"
  },
  "language_info": {
   "codemirror_mode": {
    "name": "ipython",
    "version": 3
   },
   "file_extension": ".py",
   "mimetype": "text/x-python",
   "name": "python",
   "nbconvert_exporter": "python",
   "pygments_lexer": "ipython3",
   "version": "3.7.11"
  }
 },
 "nbformat": 4,
 "nbformat_minor": 5
}
