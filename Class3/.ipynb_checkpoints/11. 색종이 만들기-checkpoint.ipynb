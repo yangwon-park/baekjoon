{
 "cells": [
  {
   "cell_type": "markdown",
   "id": "3c859567",
   "metadata": {},
   "source": [
    "### 2630 색종이 만들기"
   ]
  },
  {
   "cell_type": "code",
   "execution_count": 24,
   "id": "f967a140",
   "metadata": {},
   "outputs": [
    {
     "name": "stdout",
     "output_type": "stream",
     "text": [
      "8\n",
      "1 1 0 0 0 0 1 1\n",
      "1 1 0 0 0 0 1 1\n",
      "0 0 0 0 1 1 0 0\n",
      "0 0 0 0 1 1 0 0\n",
      "1 0 0 0 1 1 1 1\n",
      "0 1 0 0 1 1 1 1\n",
      "0 0 1 1 1 1 1 1\n",
      "0 0 1 1 1 1 1 1\n",
      "9\n",
      "7\n"
     ]
    }
   ],
   "source": [
    "# 전체 종이의 한 변의 길이 (2, 4, 8, 16, 32, 64, 128)\n",
    "N = int(input())\n",
    "\n",
    "# 색종이 색상 정보를 입력받을 리스트\n",
    "paper = [list(map(int, input().split())) for _ in range(N)]\n",
    "\n",
    "# 색 종류 (0 : 흰색, 1 : 파란색)\n",
    "color_list = []\n",
    "\n",
    "# 쿼드트리 알고리즘\n",
    "def quad_tree(x, y, N):\n",
    "    \n",
    "    # x, y 좌표의 현재 색을 담을 변수 (0 or 1)\n",
    "    color = paper[x][y]\n",
    "    \n",
    "    # 모든 좌표를 탐색\n",
    "    for i in range(x, x+N):\n",
    "        for j in range(y, y+N):\n",
    "            \n",
    "            # 탐색이 시작된 좌표의 색과 현재 탐색 중인 좌표의 색이 다르면\n",
    "            # 4분할을 하여 재탐색 \n",
    "            # x, y => 분할된 영역의 좌측 맨 위 좌표\n",
    "            # N => 4분할이기 때문에 길이는 절반\n",
    "            if color != paper[i][j]:\n",
    "                quad_tree(x, y, N//2)\n",
    "                quad_tree(x, y+N//2, N//2)\n",
    "                quad_tree(x+N//2, y, N//2)\n",
    "                quad_tree(x+N//2, y+N//2, N//2)\n",
    "                return\n",
    "    if color == 0:\n",
    "        color_list.append(0)\n",
    "    else:\n",
    "        color_list.append(1)\n",
    "        \n",
    "# (0, 0)부터 시작\n",
    "quad_tree(0, 0, N)\n",
    "\n",
    "# 흰색의 개수\n",
    "print(color_list.count(0))\n",
    "\n",
    "# 파란색의 개수\n",
    "print(color_list.count(1))\n"
   ]
  }
 ],
 "metadata": {
  "kernelspec": {
   "display_name": "Python 3 (ipykernel)",
   "language": "python",
   "name": "python3"
  },
  "language_info": {
   "codemirror_mode": {
    "name": "ipython",
    "version": 3
   },
   "file_extension": ".py",
   "mimetype": "text/x-python",
   "name": "python",
   "nbconvert_exporter": "python",
   "pygments_lexer": "ipython3",
   "version": "3.9.7"
  }
 },
 "nbformat": 4,
 "nbformat_minor": 5
}
