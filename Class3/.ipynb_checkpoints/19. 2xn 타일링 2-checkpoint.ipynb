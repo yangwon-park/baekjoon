{
 "cells": [
  {
   "cell_type": "markdown",
   "id": "b05c5a7c",
   "metadata": {},
   "source": [
    "### 11727 2xn 타일링 2"
   ]
  },
  {
   "cell_type": "code",
   "execution_count": 10,
   "id": "a793f405",
   "metadata": {},
   "outputs": [
    {
     "name": "stdout",
     "output_type": "stream",
     "text": [
      "8\n",
      "171\n"
     ]
    }
   ],
   "source": [
    "n = int(input())\n",
    "\n",
    "d = [0] * (1001)\n",
    "\n",
    "d[1] = 1\n",
    "d[2] = 3\n",
    "d[3] = 5\n",
    "\n",
    "for  i in range(4, n+1):\n",
    "    d[i] = d[i-1] + 2 *d[i-2]\n",
    "    \n",
    "print(d[n] % 10007)"
   ]
  }
 ],
 "metadata": {
  "kernelspec": {
   "display_name": "Python3_7",
   "language": "python",
   "name": "3_7"
  },
  "language_info": {
   "codemirror_mode": {
    "name": "ipython",
    "version": 3
   },
   "file_extension": ".py",
   "mimetype": "text/x-python",
   "name": "python",
   "nbconvert_exporter": "python",
   "pygments_lexer": "ipython3",
   "version": "3.7.11"
  }
 },
 "nbformat": 4,
 "nbformat_minor": 5
}
