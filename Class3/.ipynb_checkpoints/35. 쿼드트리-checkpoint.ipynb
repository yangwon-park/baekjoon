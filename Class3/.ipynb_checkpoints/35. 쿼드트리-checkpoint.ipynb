{
 "cells": [
  {
   "cell_type": "markdown",
   "id": "942509a0",
   "metadata": {},
   "source": [
    "### 1992 쿼드 트리"
   ]
  },
  {
   "cell_type": "code",
   "execution_count": 17,
   "id": "7342842d",
   "metadata": {},
   "outputs": [
    {
     "name": "stdout",
     "output_type": "stream",
     "text": [
      "8\n",
      "11110000\n",
      "11110000\n",
      "00011100\n",
      "00011100\n",
      "11110000\n",
      "11110000\n",
      "11110011\n",
      "11110011\n",
      "((110(0101))(0010)1(0001))"
     ]
    }
   ],
   "source": [
    "n = int(input())\n",
    "\n",
    "graph = []\n",
    "\n",
    "for _ in range(n):\n",
    "    graph.append(list(map(int, input())))\n",
    "    \n",
    "def comp(x, y, n):\n",
    "    \n",
    "    # 0, 1 둘 밖에 없으니까 \n",
    "    # 입력받은 좌표의 값을 기준으로\n",
    "    # 다음 값이 0인지 1인지 구분할 수 있음\n",
    "    color = graph[x][y]\n",
    "    \n",
    "    for i in range(x, x+n):\n",
    "        for j in range(y, y+n):\n",
    "            \n",
    "            # 색이 다르면 4등분 실시\n",
    "            # 출력 순서 주의\n",
    "            if color != graph[i][j]:\n",
    "                print('(', end='')\n",
    "                comp(x, y, n//2)\n",
    "                comp(x, y+n//2, n//2)\n",
    "                comp(x+n//2, y, n//2)\n",
    "                comp(x+n//2, y+n//2, n//2)\n",
    "                print(')', end='')\n",
    "                return\n",
    "    \n",
    "    # 밑의 조건문이 실행이 됐다는 것은\n",
    "    # 반복문 안의 return이 실행 되지 않았다는 의미\n",
    "    # 즉, 분할한 부분의 모든 숫자가 같은 숫자라는 뜻\n",
    "    if color == 0:\n",
    "        print('0', end='')\n",
    "        return\n",
    "    else:\n",
    "        print('1', end='')\n",
    "        return\n",
    "    \n",
    "comp(0, 0, n)        "
   ]
  }
 ],
 "metadata": {
  "kernelspec": {
   "display_name": "Python3_7",
   "language": "python",
   "name": "3_7"
  },
  "language_info": {
   "codemirror_mode": {
    "name": "ipython",
    "version": 3
   },
   "file_extension": ".py",
   "mimetype": "text/x-python",
   "name": "python",
   "nbconvert_exporter": "python",
   "pygments_lexer": "ipython3",
   "version": "3.7.11"
  }
 },
 "nbformat": 4,
 "nbformat_minor": 5
}
