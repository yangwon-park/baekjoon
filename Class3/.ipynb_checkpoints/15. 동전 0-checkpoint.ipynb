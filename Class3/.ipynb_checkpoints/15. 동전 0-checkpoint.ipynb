{
 "cells": [
  {
   "cell_type": "markdown",
   "id": "65d7ec02",
   "metadata": {},
   "source": [
    "### 11046 동전 0"
   ]
  },
  {
   "cell_type": "code",
   "execution_count": 21,
   "id": "cc534ac1",
   "metadata": {},
   "outputs": [
    {
     "name": "stdout",
     "output_type": "stream",
     "text": [
      "10 4790\n",
      "1\n",
      "5\n",
      "10\n",
      "50\n",
      "100\n",
      "500\n",
      "1000\n",
      "5000\n",
      "10000\n",
      "500000\n"
     ]
    }
   ],
   "source": [
    "n, k = map(int, input().split())\n",
    "\n",
    "# 동전의 종류\n",
    "coin = [int(input()) for _ in range(n)]\n",
    "coin = [x for x in coin if x <= k]\n",
    "coin = sorted(coin, reverse=True)\n",
    "\n",
    "# 동전의 최소 개수\n",
    "cnt = 0\n",
    "\n",
    "for c in coin:\n",
    "    cnt += k // c\n",
    "    \n",
    "    k = k % c\n",
    "    \n",
    "    if k == 0:\n",
    "        break\n",
    "        \n",
    "print(cnt)"
   ]
  }
 ],
 "metadata": {
  "kernelspec": {
   "display_name": "Python3_7",
   "language": "python",
   "name": "3_7"
  },
  "language_info": {
   "codemirror_mode": {
    "name": "ipython",
    "version": 3
   },
   "file_extension": ".py",
   "mimetype": "text/x-python",
   "name": "python",
   "nbconvert_exporter": "python",
   "pygments_lexer": "ipython3",
   "version": "3.7.11"
  }
 },
 "nbformat": 4,
 "nbformat_minor": 5
}
