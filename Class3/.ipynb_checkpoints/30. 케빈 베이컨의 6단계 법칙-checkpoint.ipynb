{
 "cells": [
  {
   "cell_type": "markdown",
   "id": "3723419c",
   "metadata": {},
   "source": [
    "### 1389 케빈 베이컨의 6단계 법칙"
   ]
  },
  {
   "cell_type": "code",
   "execution_count": 1,
   "id": "ddcba257",
   "metadata": {},
   "outputs": [
    {
     "name": "stdout",
     "output_type": "stream",
     "text": [
      "5 5\n",
      "1 3\n",
      "1 4\n",
      "4 5\n",
      "4 3\n",
      "3 2\n",
      "3\n"
     ]
    }
   ],
   "source": [
    "from collections import deque\n",
    "\n",
    "n, m = map(int, input().split())\n",
    "graph = [[] for _ in range(n+1)]\n",
    "\n",
    "for _ in range(m):\n",
    "    a, b = map(int, input().split())\n",
    "    graph[a].append(b)\n",
    "    graph[b].append(a)\n",
    "\n",
    "# 최종 결과를 담을 리스트    \n",
    "answer = []\n",
    "\n",
    "# 특정 노드와 연결된 모든 노드를 순회해야 하므로 BFS 사용\n",
    "def bfs(graph, v, visited):\n",
    "    q = deque()\n",
    "    \n",
    "    q.append(v)\n",
    "    \n",
    "    visited[v] = 1\n",
    "    \n",
    "    while q:\n",
    "        node = q.popleft()\n",
    "        \n",
    "        for i in graph[node]:\n",
    "            # 0 == False\n",
    "            if not visited[i]:\n",
    "                \n",
    "                # 마지막 노드까지 간선의 이동 횟수를 계산해야 하므로\n",
    "                # 한 번 이동할 때 마다 도착한 간선의 visited 값을\n",
    "                # 이전 간선까지의 이동 횟수 + 1로 표현\n",
    "                visited[i] = visited[node]+1\n",
    "                q.append(i)\n",
    "                \n",
    "    return sum(visited)\n",
    "\n",
    "    \n",
    "for i in range(1, n+1):\n",
    "    # 각 노드 별 간선의 누적 합을 구해야하므로\n",
    "    # 노드마다 visited 리스트가 0으로 초기화 돼있어야 함\n",
    "    visited = [0] * (n+1)\n",
    "    answer.append(bfs(graph, i, visited))\n",
    "    \n",
    "print(answer.index(min(result)) + 1)    "
   ]
  }
 ],
 "metadata": {
  "kernelspec": {
   "display_name": "Python3_7",
   "language": "python",
   "name": "3_7"
  },
  "language_info": {
   "codemirror_mode": {
    "name": "ipython",
    "version": 3
   },
   "file_extension": ".py",
   "mimetype": "text/x-python",
   "name": "python",
   "nbconvert_exporter": "python",
   "pygments_lexer": "ipython3",
   "version": "3.7.11"
  }
 },
 "nbformat": 4,
 "nbformat_minor": 5
}
