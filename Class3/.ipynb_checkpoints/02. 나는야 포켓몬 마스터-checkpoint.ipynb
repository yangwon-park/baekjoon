{
 "cells": [
  {
   "cell_type": "markdown",
   "id": "9ef85eaf",
   "metadata": {},
   "source": [
    "### 1620 나는야 포켓몬 마스터"
   ]
  },
  {
   "cell_type": "markdown",
   "id": "58449c98",
   "metadata": {},
   "source": [
    "#### Python3 기준 시간 초과"
   ]
  },
  {
   "cell_type": "code",
   "execution_count": 1,
   "id": "096f33ea",
   "metadata": {},
   "outputs": [
    {
     "name": "stdout",
     "output_type": "stream",
     "text": [
      "3 3\n",
      "A\n",
      "B\n",
      "C\n",
      "1\n",
      "A\n",
      "2\n",
      "B\n",
      "3\n",
      "C\n"
     ]
    }
   ],
   "source": [
    "n, m = map(int, input().split())\n",
    "\n",
    "pokemon = [input() for _ in range(n)]\n",
    "\n",
    "for i in range(m):\n",
    "    q = input()\n",
    "    \n",
    "    if q.isdigit():\n",
    "        print(pokemon[int(q) - 1])\n",
    "    else:\n",
    "        print(pokemon.index(q) + 1)"
   ]
  },
  {
   "cell_type": "markdown",
   "id": "a5540e32",
   "metadata": {},
   "source": [
    "#### Python3 정답 (sys.stdin.readline() 사용)"
   ]
  },
  {
   "cell_type": "code",
   "execution_count": 2,
   "id": "d1637e58",
   "metadata": {},
   "outputs": [
    {
     "name": "stdout",
     "output_type": "stream",
     "text": [
      "3 3\n",
      "A\n",
      "B\n",
      "C\n",
      "A\n",
      "1\n",
      "B\n",
      "2\n",
      "C\n",
      "3\n"
     ]
    }
   ],
   "source": [
    "n, m = map(int, input().split())\n",
    "\n",
    "pokemon = {}\n",
    "\n",
    "for i in range(n):\n",
    "    po = input()\n",
    "    pokemon[i] = po\n",
    "    pokemon[po] = i\n",
    "    \n",
    "for i in range(m):\n",
    "    q = input()\n",
    "\n",
    "    if q.isdigit():\n",
    "        print(pokemon[int(q) - 1])\n",
    "    else:\n",
    "        print(pokemon[q] + 1)"
   ]
  }
 ],
 "metadata": {
  "kernelspec": {
   "display_name": "Python 3 (ipykernel)",
   "language": "python",
   "name": "python3"
  },
  "language_info": {
   "codemirror_mode": {
    "name": "ipython",
    "version": 3
   },
   "file_extension": ".py",
   "mimetype": "text/x-python",
   "name": "python",
   "nbconvert_exporter": "python",
   "pygments_lexer": "ipython3",
   "version": "3.9.7"
  }
 },
 "nbformat": 4,
 "nbformat_minor": 5
}
