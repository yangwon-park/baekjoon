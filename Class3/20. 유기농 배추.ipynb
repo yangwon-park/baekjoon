{
 "cells": [
  {
   "cell_type": "markdown",
   "id": "6186f3c6",
   "metadata": {},
   "source": [
    "### 1012 유기농 배추"
   ]
  },
  {
   "cell_type": "code",
   "execution_count": 45,
   "id": "8412612a",
   "metadata": {},
   "outputs": [
    {
     "name": "stdout",
     "output_type": "stream",
     "text": [
      "1\n",
      "5 3 6\n",
      "0 2\n",
      "1 2\n",
      "2 2\n",
      "3 2\n",
      "4 2\n",
      "4 0\n",
      "2\n"
     ]
    }
   ],
   "source": [
    "import sys\n",
    "sys.setrecursionlimit(10 ** 5)\n",
    "\n",
    "\n",
    "T = int(input())\n",
    "\n",
    "for _ in range(T):\n",
    "    M, N, K = map(int, input().split())\n",
    "    graph = [[0] * M for _ in range(N)]\n",
    "\n",
    "    for _ in range(K):\n",
    "        a, b = map(int, input().split())\n",
    "        graph[b][a] = 1\n",
    "\n",
    "    cnt = 0\n",
    "\n",
    "    def dfs(y, x):\n",
    "        if x < 0 or x >= M or y <0 or y >= N:\n",
    "            return False\n",
    "\n",
    "        if graph[y][x] == 1:\n",
    "            graph[y][x] = 0\n",
    "\n",
    "            dfs(y-1,x)\n",
    "            dfs(y,x-1)\n",
    "            dfs(y+1,x)\n",
    "            dfs(y,x+1)\n",
    "            return True\n",
    "        return False\n",
    "\n",
    "    for i in range(N):\n",
    "        for j in range(M):\n",
    "            if dfs(i,j) == True:\n",
    "                cnt += 1\n",
    "            \n",
    "    print(cnt)    "
   ]
  }
 ],
 "metadata": {
  "kernelspec": {
   "display_name": "Python3_7",
   "language": "python",
   "name": "3_7"
  },
  "language_info": {
   "codemirror_mode": {
    "name": "ipython",
    "version": 3
   },
   "file_extension": ".py",
   "mimetype": "text/x-python",
   "name": "python",
   "nbconvert_exporter": "python",
   "pygments_lexer": "ipython3",
   "version": "3.7.11"
  }
 },
 "nbformat": 4,
 "nbformat_minor": 5
}
