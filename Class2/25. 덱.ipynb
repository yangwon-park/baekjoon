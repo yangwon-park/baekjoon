{
 "cells": [
  {
   "cell_type": "markdown",
   "id": "9693e97e",
   "metadata": {},
   "source": [
    "### 10866 덱"
   ]
  },
  {
   "cell_type": "code",
   "execution_count": 1,
   "id": "94749e37",
   "metadata": {},
   "outputs": [
    {
     "name": "stdout",
     "output_type": "stream",
     "text": [
      "15\n",
      "push_back 1\n",
      "push_front 2\n",
      "front\n",
      "2\n",
      "back\n",
      "1\n",
      "size\n",
      "2\n",
      "empty\n",
      "0\n",
      "pop_front\n",
      "2\n",
      "pop_back\n",
      "1\n",
      "pop_front\n",
      "-1\n",
      "size\n",
      "0\n",
      "empty\n",
      "1\n",
      "pop_back\n",
      "-1\n",
      "push_front 3\n",
      "empty\n",
      "0\n",
      "front\n",
      "3\n"
     ]
    }
   ],
   "source": [
    "n = int(input())\n",
    "deq = []\n",
    "\n",
    "for _ in range(n):\n",
    "    cmd = input().split()\n",
    "    \n",
    "    if cmd[0] == 'push_front':\n",
    "        deq.insert(0, cmd[1])\n",
    "    elif cmd[0] == 'push_back':\n",
    "        deq.append(cmd[1])\n",
    "    elif cmd[0] == 'pop_front':\n",
    "        if not deq:\n",
    "            print(-1)\n",
    "        else:\n",
    "            print(deq.pop(0))\n",
    "    elif cmd[0] == 'pop_back':\n",
    "        if not deq:\n",
    "            print(-1)\n",
    "        else:\n",
    "            print(deq.pop())\n",
    "    elif cmd[0] == 'size':\n",
    "        print(len(deq))\n",
    "    elif cmd[0] == 'empty':\n",
    "        if not deq:\n",
    "            print(1)\n",
    "        else:\n",
    "            print(0)\n",
    "    elif cmd[0] == 'front':\n",
    "        if not deq:\n",
    "            print(-1)\n",
    "        else:\n",
    "            print(deq[0])\n",
    "    elif cmd[0] == 'back':\n",
    "        if not deq:\n",
    "            print(-1)\n",
    "        else:\n",
    "            print(deq[-1])"
   ]
  }
 ],
 "metadata": {
  "kernelspec": {
   "display_name": "Python 3 (ipykernel)",
   "language": "python",
   "name": "python3"
  },
  "language_info": {
   "codemirror_mode": {
    "name": "ipython",
    "version": 3
   },
   "file_extension": ".py",
   "mimetype": "text/x-python",
   "name": "python",
   "nbconvert_exporter": "python",
   "pygments_lexer": "ipython3",
   "version": "3.9.7"
  }
 },
 "nbformat": 4,
 "nbformat_minor": 5
}
