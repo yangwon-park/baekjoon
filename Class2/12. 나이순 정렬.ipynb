{
 "cells": [
  {
   "cell_type": "markdown",
   "id": "b0c13584",
   "metadata": {},
   "source": [
    "### 10814 나이순 정렬"
   ]
  },
  {
   "cell_type": "code",
   "execution_count": 12,
   "id": "bb03ab7e",
   "metadata": {},
   "outputs": [
    {
     "name": "stdout",
     "output_type": "stream",
     "text": [
      "3\n",
      "21 Junkyu\n",
      "20 Do\n",
      "20 KK\n",
      "20 Do\n",
      "20 KK\n",
      "21 Junkyu\n"
     ]
    }
   ],
   "source": [
    "n = int(input())\n",
    "member = []\n",
    "\n",
    "for _ in range(n):\n",
    "    # member.append(list(map(str, input().split())))\n",
    "    age, name = map(str, input().split())\n",
    "    age = int(age)\n",
    "    member.append([age, name])\n",
    "\n",
    "member.sort(key = lambda x: x[0])\n",
    "\n",
    "for m in member:\n",
    "    # print(int(m[0]), m[1])\n",
    "    print(m[0], m[1])"
   ]
  },
  {
   "cell_type": "code",
   "execution_count": 13,
   "id": "39603343",
   "metadata": {},
   "outputs": [
    {
     "data": {
      "text/plain": [
       "[[20, 'Do'], [20, 'KK'], [21, 'Junkyu']]"
      ]
     },
     "execution_count": 13,
     "metadata": {},
     "output_type": "execute_result"
    }
   ],
   "source": [
    "member"
   ]
  },
  {
   "cell_type": "code",
   "execution_count": null,
   "id": "ca13e93c",
   "metadata": {},
   "outputs": [],
   "source": []
  }
 ],
 "metadata": {
  "kernelspec": {
   "display_name": "Python 3 (ipykernel)",
   "language": "python",
   "name": "python3"
  },
  "language_info": {
   "codemirror_mode": {
    "name": "ipython",
    "version": 3
   },
   "file_extension": ".py",
   "mimetype": "text/x-python",
   "name": "python",
   "nbconvert_exporter": "python",
   "pygments_lexer": "ipython3",
   "version": "3.9.7"
  }
 },
 "nbformat": 4,
 "nbformat_minor": 5
}
