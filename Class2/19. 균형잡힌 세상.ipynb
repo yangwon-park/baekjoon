{
 "cells": [
  {
   "cell_type": "markdown",
   "id": "3801bb03",
   "metadata": {},
   "source": [
    "### 4949 균형잡힌 세상"
   ]
  },
  {
   "cell_type": "code",
   "execution_count": 31,
   "id": "53d2af8c",
   "metadata": {
    "scrolled": true
   },
   "outputs": [
    {
     "name": "stdout",
     "output_type": "stream",
     "text": [
      ")(\n",
      "no\n",
      ".\n"
     ]
    }
   ],
   "source": [
    "# 참고 코드\n",
    "while True:\n",
    "    s = input()\n",
    "    \n",
    "    if s == '.':\n",
    "        break\n",
    "        \n",
    "    st = []\n",
    "    \n",
    "    for i in s:\n",
    "        \n",
    "        if i not in '()[]':\n",
    "            continue\n",
    "        if i == '(' or i == '[':\n",
    "            st.append(i)\n",
    "        elif (i == ')' and st and st[-1] == '(') or (i == ']' and st and st[-1] == '['):\n",
    "            p = st.pop()\n",
    "        else:\n",
    "            st.append(0)\n",
    "            break\n",
    "        \n",
    "    print('no' if st else 'yes')"
   ]
  },
  {
   "cell_type": "code",
   "execution_count": 45,
   "id": "1c659035",
   "metadata": {},
   "outputs": [
    {
     "name": "stdout",
     "output_type": "stream",
     "text": [
      "(\n",
      "no\n",
      "(()\n",
      "no\n",
      ".\n"
     ]
    }
   ],
   "source": [
    "# 내가 작성한 코드\n",
    "while True:\n",
    "    # 찾아야할 괄호\n",
    "    bracket = '()[]'\n",
    "    \n",
    "    str_ = input()\n",
    "    \n",
    "    if str_ == '.':\n",
    "        break\n",
    "        \n",
    "    # 괄호를 받아줄 스택 => 이 스택에 있는 요소를 비교하여 균형 여부 확인\n",
    "    stack = []\n",
    "    \n",
    "    # 입력받은 문자열을 하나씩 비교\n",
    "    for i in str_:\n",
    "        \n",
    "        # i가 괄호 리스트안에 없으면 아무런 작업할 필요없음 \n",
    "        if i not in bracket:\n",
    "            # print('괄호 아님')\n",
    "            continue\n",
    "            \n",
    "        # i가 여는 괄호라면 스택에 추가\n",
    "        if i == '(' or i == '[':\n",
    "            stack.append(i)\n",
    "            \n",
    "        # i가 닫는 괄호이고, 스택이 비어있지 않으며 스택의 맨 마지막이 열린 괄호인 경우\n",
    "        # 한쌍의 괄호가 만들어짐 => pop()으로 스택에서 제거함 \n",
    "        elif (i == ')' and stack and stack[-1] == '(') or (i == ']' and stack and stack[-1] == '['):\n",
    "            stack.pop()\n",
    "            \n",
    "        # 위의 경우가 아닌 경우, 그냥 스택에 아무거나 넣어준다\n",
    "        # 이때, 어차피 문제의 요구 조건에서 벗어났으므로 반복을 중지시킨다\n",
    "        else:\n",
    "            stack.append('Junk Data')\n",
    "            print(stack)\n",
    "            break\n",
    "\n",
    "    # st가 비어있지 않으면 no 비어있으면 yes 출력\n",
    "    print('no' if stack else 'yes')"
   ]
  },
  {
   "cell_type": "code",
   "execution_count": null,
   "id": "644b2bb6",
   "metadata": {},
   "outputs": [],
   "source": []
  }
 ],
 "metadata": {
  "kernelspec": {
   "display_name": "Python 3 (ipykernel)",
   "language": "python",
   "name": "python3"
  },
  "language_info": {
   "codemirror_mode": {
    "name": "ipython",
    "version": 3
   },
   "file_extension": ".py",
   "mimetype": "text/x-python",
   "name": "python",
   "nbconvert_exporter": "python",
   "pygments_lexer": "ipython3",
   "version": "3.9.7"
  }
 },
 "nbformat": 4,
 "nbformat_minor": 5
}
