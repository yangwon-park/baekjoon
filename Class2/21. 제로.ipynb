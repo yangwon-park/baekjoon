{
 "cells": [
  {
   "cell_type": "markdown",
   "id": "89379199",
   "metadata": {},
   "source": [
    "### 10773 제로"
   ]
  },
  {
   "cell_type": "code",
   "execution_count": 1,
   "id": "e73cccdf",
   "metadata": {},
   "outputs": [
    {
     "name": "stdout",
     "output_type": "stream",
     "text": [
      "4\n",
      "3\n",
      "0\n",
      "4\n",
      "0\n",
      "0\n"
     ]
    }
   ],
   "source": [
    "from collections import deque\n",
    "\n",
    "k = int(input())\n",
    "\n",
    "stack = deque()\n",
    "\n",
    "for _ in range(k):\n",
    "    n = int(input())\n",
    "    if n != 0:\n",
    "        stack.append(n)\n",
    "    \n",
    "    if n == 0 and stack:\n",
    "        stack.pop()\n",
    "        \n",
    "print(sum(stack))"
   ]
  }
 ],
 "metadata": {
  "kernelspec": {
   "display_name": "Python 3 (ipykernel)",
   "language": "python",
   "name": "python3"
  },
  "language_info": {
   "codemirror_mode": {
    "name": "ipython",
    "version": 3
   },
   "file_extension": ".py",
   "mimetype": "text/x-python",
   "name": "python",
   "nbconvert_exporter": "python",
   "pygments_lexer": "ipython3",
   "version": "3.9.7"
  }
 },
 "nbformat": 4,
 "nbformat_minor": 5
}
