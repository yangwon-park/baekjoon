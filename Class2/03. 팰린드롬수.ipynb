{
 "cells": [
  {
   "cell_type": "markdown",
   "id": "24288b8d",
   "metadata": {},
   "source": [
    "### 1259 팰린드롬수"
   ]
  },
  {
   "cell_type": "code",
   "execution_count": 7,
   "id": "8030adea",
   "metadata": {},
   "outputs": [
    {
     "name": "stdout",
     "output_type": "stream",
     "text": [
      "121\n",
      "yes\n",
      "1231\n",
      "no\n",
      "12421\n",
      "yes\n",
      "123321\n",
      "yes\n",
      "12334123\n",
      "no\n",
      "1234321\n",
      "yes\n",
      "0\n"
     ]
    }
   ],
   "source": [
    "while True:\n",
    "    n = int(input())\n",
    "\n",
    "    if n == 0:\n",
    "        break\n",
    "        \n",
    "    st = str(n)\n",
    "    # list의 요소를 내장 함수 reversed로 뒤집음\n",
    "    st_list = list(reversed(st))\n",
    "\n",
    "    if st_list == list(st):\n",
    "        print('yes')\n",
    "    else:\n",
    "        print('no')"
   ]
  }
 ],
 "metadata": {
  "kernelspec": {
   "display_name": "Python 3 (ipykernel)",
   "language": "python",
   "name": "python3"
  },
  "language_info": {
   "codemirror_mode": {
    "name": "ipython",
    "version": 3
   },
   "file_extension": ".py",
   "mimetype": "text/x-python",
   "name": "python",
   "nbconvert_exporter": "python",
   "pygments_lexer": "ipython3",
   "version": "3.9.7"
  }
 },
 "nbformat": 4,
 "nbformat_minor": 5
}
