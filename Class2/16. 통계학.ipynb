{
 "cells": [
  {
   "cell_type": "markdown",
   "id": "91efc83b",
   "metadata": {},
   "source": [
    "### 2108 통계학"
   ]
  },
  {
   "cell_type": "code",
   "execution_count": 76,
   "id": "c144ca3e",
   "metadata": {
    "scrolled": true
   },
   "outputs": [
    {
     "name": "stdout",
     "output_type": "stream",
     "text": [
      "5\n",
      "-1\n",
      "-2\n",
      "-3\n",
      "-1\n",
      "-2\n",
      "-2\n",
      "-2\n",
      "-1\n",
      "2\n"
     ]
    }
   ],
   "source": [
    "from collections import Counter\n",
    "\n",
    "n = int(input())\n",
    "nums = []\n",
    "\n",
    "for _ in range(n):\n",
    "    nums.append(int(input()))\n",
    "\n",
    "nums.sort()\n",
    "\n",
    "# 산술 평균\n",
    "print(int(round((sum(nums)/n), 0)))\n",
    "\n",
    "# 중앙값\n",
    "print(nums[n // 2])\n",
    "\n",
    "# 최빈값\n",
    "ls = Counter(nums).most_common(2)\n",
    "if (len(ls) > 1):\n",
    "    if ls[0][1] == ls[1][1]:\n",
    "        print(ls[1][0])\n",
    "    else:\n",
    "        print(ls[0][0])\n",
    "else:\n",
    "    print(ls[0][0])\n",
    "\n",
    "\n",
    "# 범위\n",
    "print(max(nums) - min(nums))"
   ]
  },
  {
   "cell_type": "code",
   "execution_count": 73,
   "id": "b598d971",
   "metadata": {},
   "outputs": [
    {
     "ename": "ValueError",
     "evalue": "invalid literal for int() with base 10: ''",
     "output_type": "error",
     "traceback": [
      "\u001b[1;31m---------------------------------------------------------------------------\u001b[0m",
      "\u001b[1;31mValueError\u001b[0m                                Traceback (most recent call last)",
      "\u001b[1;32m~\\AppData\\Local\\Temp/ipykernel_16872/2812254757.py\u001b[0m in \u001b[0;36m<module>\u001b[1;34m\u001b[0m\n\u001b[0;32m      2\u001b[0m \u001b[1;32mfrom\u001b[0m \u001b[0mcollections\u001b[0m \u001b[1;32mimport\u001b[0m \u001b[0mCounter\u001b[0m\u001b[1;33m\u001b[0m\u001b[1;33m\u001b[0m\u001b[0m\n\u001b[0;32m      3\u001b[0m \u001b[1;33m\u001b[0m\u001b[0m\n\u001b[1;32m----> 4\u001b[1;33m \u001b[0mn\u001b[0m \u001b[1;33m=\u001b[0m \u001b[0mint\u001b[0m\u001b[1;33m(\u001b[0m\u001b[0msys\u001b[0m\u001b[1;33m.\u001b[0m\u001b[0mstdin\u001b[0m\u001b[1;33m.\u001b[0m\u001b[0mreadline\u001b[0m\u001b[1;33m(\u001b[0m\u001b[1;33m)\u001b[0m\u001b[1;33m.\u001b[0m\u001b[0mrstrip\u001b[0m\u001b[1;33m(\u001b[0m\u001b[1;33m)\u001b[0m\u001b[1;33m)\u001b[0m\u001b[1;33m\u001b[0m\u001b[1;33m\u001b[0m\u001b[0m\n\u001b[0m\u001b[0;32m      5\u001b[0m \u001b[0mnums\u001b[0m \u001b[1;33m=\u001b[0m \u001b[1;33m[\u001b[0m\u001b[1;33m]\u001b[0m\u001b[1;33m\u001b[0m\u001b[1;33m\u001b[0m\u001b[0m\n\u001b[0;32m      6\u001b[0m \u001b[1;33m\u001b[0m\u001b[0m\n",
      "\u001b[1;31mValueError\u001b[0m: invalid literal for int() with base 10: ''"
     ]
    }
   ],
   "source": [
    "# 주피터 노트북에서 sys.stdin.readline()은 안됨\n",
    "import sys\n",
    "from collections import Counter\n",
    "n = int(sys.stdin.readline())\n",
    "nums = []\n",
    "\n",
    "for _ in range(n):\n",
    "    nums.append(int(sys.stdin.readline()))\n",
    "\n",
    "nums.sort()\n",
    "\n",
    "# 산술 평균\n",
    "print(int(round((sum(nums)/n), 0)))\n",
    "\n",
    "# 중앙값\n",
    "print(nums[n // 2])\n",
    "\n",
    "# 최빈값\n",
    "ls = Counter(nums).most_common(2)\n",
    "if (len(ls) > 1):\n",
    "    if ls[0][1] == ls[1][1]:\n",
    "        print(ls[1][0])\n",
    "    else:\n",
    "        print(ls[0][0])\n",
    "else:\n",
    "    print(ls[0][0])\n",
    "\n",
    "\n",
    "# 범위\n",
    "print(max(nums) - min(nums))"
   ]
  }
 ],
 "metadata": {
  "kernelspec": {
   "display_name": "Python 3 (ipykernel)",
   "language": "python",
   "name": "python3"
  },
  "language_info": {
   "codemirror_mode": {
    "name": "ipython",
    "version": 3
   },
   "file_extension": ".py",
   "mimetype": "text/x-python",
   "name": "python",
   "nbconvert_exporter": "python",
   "pygments_lexer": "ipython3",
   "version": "3.9.7"
  }
 },
 "nbformat": 4,
 "nbformat_minor": 5
}
