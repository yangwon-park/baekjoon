{
 "cells": [
  {
   "cell_type": "markdown",
   "id": "a137e22f",
   "metadata": {},
   "source": [
    "### 9012 괄호"
   ]
  },
  {
   "cell_type": "code",
   "execution_count": 18,
   "id": "96a0efd8",
   "metadata": {},
   "outputs": [
    {
     "name": "stdout",
     "output_type": "stream",
     "text": [
      "6\n",
      "(())())\n",
      "no\n",
      "(((()())()\n",
      "no\n",
      "(()())((()))\n",
      "yes\n",
      "((()()(()))(((())))()\n",
      "no\n",
      "()()()()(()()())()\n",
      "yes\n",
      "(()((())()(\n",
      "no\n"
     ]
    }
   ],
   "source": [
    "n = int(input())\n",
    "\n",
    "for _ in range(n):\n",
    "    bracket = input()\n",
    "    stack = []\n",
    "\n",
    "    for i in bracket:\n",
    "        if i == '(':\n",
    "            stack.append(i)\n",
    "        elif (i == ')' and stack and stack[-1] == '('):\n",
    "            stack.pop()\n",
    "        else:\n",
    "            stack.append(0)\n",
    "            break\n",
    "    \n",
    "    print('NO' if stack else 'YES')"
   ]
  },
  {
   "cell_type": "markdown",
   "id": "59ea40c7",
   "metadata": {},
   "source": [
    "### 10773 제로"
   ]
  },
  {
   "cell_type": "code",
   "execution_count": 26,
   "id": "422a48fe",
   "metadata": {},
   "outputs": [
    {
     "name": "stdout",
     "output_type": "stream",
     "text": [
      "10\n",
      "1\n",
      "3\n",
      "5\n",
      "4\n",
      "0\n",
      "0\n",
      "7\n",
      "0\n",
      "0\n",
      "6\n",
      "7\n"
     ]
    }
   ],
   "source": [
    "from collections import deque\n",
    "\n",
    "k = int(input())\n",
    "\n",
    "stack = deque()\n",
    "\n",
    "for _ in range(k):\n",
    "    n = int(input())\n",
    "    if n != 0:\n",
    "        stack.append(n)\n",
    "    \n",
    "    if n == 0 and stack:\n",
    "        stack.pop()\n",
    "        \n",
    "print(sum(stack))"
   ]
  },
  {
   "cell_type": "markdown",
   "id": "6154f3de",
   "metadata": {},
   "source": [
    "### 10816 숫자 카드 2"
   ]
  },
  {
   "cell_type": "markdown",
   "id": "8bf36fb5",
   "metadata": {},
   "source": [
    "#### 시간 초과"
   ]
  },
  {
   "cell_type": "code",
   "execution_count": 53,
   "id": "b1cfec49",
   "metadata": {},
   "outputs": [
    {
     "name": "stdout",
     "output_type": "stream",
     "text": [
      "10\n",
      "6 3 2 10 10 10 -10 -10 7 3\n",
      "8\n",
      "10 9 -5 2 3 4 5 -10\n",
      "3 0 0 1 2 0 0 2 "
     ]
    }
   ],
   "source": [
    "from collections import Counter\n",
    "\n",
    "n = int(input())\n",
    "card = list(map(int, input().split()))\n",
    "    \n",
    "m = int(input())\n",
    "my_card = list(map(int, input().split()))\n",
    "    \n",
    "counter = Counter(card)\n",
    "result = []\n",
    "keys = list(counter.keys())\n",
    "\n",
    "for i in my_card:\n",
    "    if i in keys:\n",
    "        result.append(counter[i])\n",
    "    else:\n",
    "        result.append(0)\n",
    "        \n",
    "for i in result:\n",
    "    print(i, end = ' ')"
   ]
  },
  {
   "cell_type": "markdown",
   "id": "27a21811",
   "metadata": {},
   "source": [
    "#### 정답"
   ]
  },
  {
   "cell_type": "code",
   "execution_count": 55,
   "id": "899f06bc",
   "metadata": {},
   "outputs": [
    {
     "name": "stdout",
     "output_type": "stream",
     "text": [
      "10\n",
      "6 3 2 10 10 10 -10 -10 7 3\n",
      "8\n",
      "10 9 -5 2 3 4 5 -10\n",
      "3 0 0 1 2 0 0 2 "
     ]
    }
   ],
   "source": [
    "from collections import Counter\n",
    "\n",
    "n = int(input())\n",
    "card = list(map(int, input().split()))\n",
    "    \n",
    "m = int(input())\n",
    "my_card = list(map(int, input().split()))\n",
    "    \n",
    "counter = Counter(card)\n",
    "\n",
    "for i in my_card:\n",
    "    if i in counter:\n",
    "        print(counter[i], end =  ' ')\n",
    "    else:\n",
    "        print(0, end = ' ')"
   ]
  },
  {
   "cell_type": "markdown",
   "id": "e2b3cf63",
   "metadata": {},
   "source": [
    "### 10828 스택"
   ]
  },
  {
   "cell_type": "code",
   "execution_count": 56,
   "id": "62df7e1b",
   "metadata": {
    "scrolled": true
   },
   "outputs": [
    {
     "name": "stdout",
     "output_type": "stream",
     "text": [
      "7\n",
      "pop\n",
      "-1\n",
      "top\n",
      "-1\n",
      "push 123\n",
      "top\n",
      "123\n",
      "pop\n",
      "123\n",
      "top\n",
      "-1\n",
      "pop\n",
      "-1\n"
     ]
    }
   ],
   "source": [
    "n = int(input())\n",
    "stack = []\n",
    "\n",
    "for _ in range(n):\n",
    "    cmd = input().split()\n",
    "    \n",
    "    if cmd[0] == 'push':\n",
    "        stack.append(cmd[1])\n",
    "    elif cmd[0] == 'pop':\n",
    "        if not stack:\n",
    "            print(-1)\n",
    "        else:\n",
    "            print(stack.pop())\n",
    "    elif cmd[0] == 'size':\n",
    "        print(len(stack))\n",
    "    elif cmd[0] == 'empty':\n",
    "        if not stack:\n",
    "            print(1)\n",
    "        else:\n",
    "            print(0)\n",
    "    elif cmd[0] == 'top':\n",
    "        if not stack:\n",
    "            print(-1)\n",
    "        else:\n",
    "            print(stack[-1])"
   ]
  },
  {
   "cell_type": "markdown",
   "id": "f58ad6c1",
   "metadata": {},
   "source": [
    "### 10845 큐"
   ]
  },
  {
   "cell_type": "code",
   "execution_count": 58,
   "id": "36cb7c3d",
   "metadata": {},
   "outputs": [
    {
     "name": "stdout",
     "output_type": "stream",
     "text": [
      "15\n",
      "push 1\n",
      "push 2\n",
      "front\n",
      "1\n",
      "back\n",
      "2\n",
      "size\n",
      "2\n",
      "empty\n",
      "0\n",
      "pop\n",
      "1\n",
      "pop\n",
      "2\n",
      "pop\n",
      "-1\n",
      "size\n",
      "0\n",
      "empty\n",
      "1\n",
      "pop\n",
      "-1\n",
      "push 3\n",
      "empty\n",
      "0\n",
      "front\n",
      "3\n"
     ]
    }
   ],
   "source": [
    "n = int(input())\n",
    "queue = []\n",
    "\n",
    "for _ in range(n):\n",
    "    cmd = input().split()\n",
    "    \n",
    "    if cmd[0] == 'push':\n",
    "        queue.append(cmd[1])\n",
    "    elif cmd[0] == 'pop':\n",
    "        if not queue:\n",
    "            print(-1)\n",
    "        else:\n",
    "            print(queue.pop(0))\n",
    "    elif cmd[0] == 'size':\n",
    "        print(len(queue))\n",
    "    elif cmd[0] == 'empty':\n",
    "        if not queue:\n",
    "            print(1)\n",
    "        else:\n",
    "            print(0)\n",
    "    elif cmd[0] == 'front':\n",
    "        if not queue:\n",
    "            print(-1)\n",
    "        else:\n",
    "            print(queue[0])\n",
    "    elif cmd[0] == 'back':\n",
    "        if not queue:\n",
    "            print(-1)\n",
    "        else:\n",
    "            print(queue[-1])"
   ]
  },
  {
   "cell_type": "markdown",
   "id": "7479f2f8",
   "metadata": {},
   "source": [
    "### 10866 덱"
   ]
  },
  {
   "cell_type": "code",
   "execution_count": 61,
   "id": "ebbcf7e3",
   "metadata": {},
   "outputs": [
    {
     "name": "stdout",
     "output_type": "stream",
     "text": [
      "15\n",
      "push_back 1\n",
      "push_front 2\n",
      "front\n",
      "2\n",
      "back\n",
      "1\n",
      "size\n",
      "2\n",
      "empty\n",
      "0\n",
      "pop_front\n",
      "2\n",
      "pop_back\n",
      "1\n",
      "pop_front\n",
      "-1\n",
      "size\n",
      "0\n",
      "empty\n",
      "1\n",
      "pop_back\n",
      "-1\n",
      "push_front 3\n",
      "empty\n",
      "0\n",
      "front\n",
      "3\n"
     ]
    }
   ],
   "source": [
    "n = int(input())\n",
    "deq = []\n",
    "\n",
    "for _ in range(n):\n",
    "    cmd = input().split()\n",
    "    \n",
    "    if cmd[0] == 'push_front':\n",
    "        deq.insert(0, cmd[1])\n",
    "    elif cmd[0] == 'push_back':\n",
    "        deq.append(cmd[1])\n",
    "    elif cmd[0] == 'pop_front':\n",
    "        if not deq:\n",
    "            print(-1)\n",
    "        else:\n",
    "            print(deq.pop(0))\n",
    "    elif cmd[0] == 'pop_back':\n",
    "        if not deq:\n",
    "            print(-1)\n",
    "        else:\n",
    "            print(deq.pop())\n",
    "    elif cmd[0] == 'size':\n",
    "        print(len(deq))\n",
    "    elif cmd[0] == 'empty':\n",
    "        if not deq:\n",
    "            print(1)\n",
    "        else:\n",
    "            print(0)\n",
    "    elif cmd[0] == 'front':\n",
    "        if not deq:\n",
    "            print(-1)\n",
    "        else:\n",
    "            print(deq[0])\n",
    "    elif cmd[0] == 'back':\n",
    "        if not deq:\n",
    "            print(-1)\n",
    "        else:\n",
    "            print(deq[-1])"
   ]
  },
  {
   "cell_type": "markdown",
   "id": "548fd9df",
   "metadata": {},
   "source": [
    "### 11866 요세푸스 문제 0"
   ]
  },
  {
   "cell_type": "markdown",
   "id": "c10fbe30",
   "metadata": {},
   "source": [
    "#### 테스트 케이스에서만 정답..."
   ]
  },
  {
   "cell_type": "code",
   "execution_count": 192,
   "id": "cc9cd5a0",
   "metadata": {},
   "outputs": [
    {
     "name": "stdout",
     "output_type": "stream",
     "text": [
      "7 3\n",
      "2\n",
      "4\n",
      "1\n",
      "3\n",
      "2\n",
      "0\n",
      "0\n"
     ]
    }
   ],
   "source": [
    "n, k = map(int, input().split())\n",
    "\n",
    "stack = list(range(1, n+1))\n",
    "result = []\n",
    "cnt = 0\n",
    "\n",
    "while True:\n",
    "    if not stack:\n",
    "      break\n",
    "\n",
    "    cnt += 1    \n",
    "    \n",
    "    loc = (k-1) * cnt\n",
    "    \n",
    "    if loc >= len(stack):\n",
    "        loc = loc % len(stack)\n",
    "        \n",
    "        if loc == 0:\n",
    "            loc = k\n",
    "            cnt = 0\n",
    "        if len(stack) < k:\n",
    "            loc = 0\n",
    "            \n",
    "    \n",
    "    print(loc)\n",
    "    \n",
    "    result.append(stack.pop(loc))\n",
    "\n",
    "    \n",
    "    "
   ]
  },
  {
   "cell_type": "code",
   "execution_count": 201,
   "id": "c38b3487",
   "metadata": {},
   "outputs": [
    {
     "name": "stdout",
     "output_type": "stream",
     "text": [
      "7 3\n"
     ]
    }
   ],
   "source": [
    "from collections import deque\n",
    "n, k = map(int, input().split())\n",
    "s = deque(range(1, n + 1))"
   ]
  },
  {
   "cell_type": "code",
   "execution_count": 202,
   "id": "4178eaeb",
   "metadata": {},
   "outputs": [
    {
     "name": "stdout",
     "output_type": "stream",
     "text": [
      "<3, 6, 2, 7, 5, 1, 4>\n"
     ]
    }
   ],
   "source": [
    "print('<', end='')\n",
    "while s:\n",
    "    for _ in range(k-1):\n",
    "        s.append(s[0])\n",
    "        s.popleft()\n",
    "    print(s.popleft(), end='')\n",
    "    if s:\n",
    "        print(',', end=' ')\n",
    "print('>')"
   ]
  },
  {
   "cell_type": "code",
   "execution_count": null,
   "id": "105cb657",
   "metadata": {},
   "outputs": [],
   "source": []
  }
 ],
 "metadata": {
  "kernelspec": {
   "display_name": "Python 3 (ipykernel)",
   "language": "python",
   "name": "python3"
  },
  "language_info": {
   "codemirror_mode": {
    "name": "ipython",
    "version": 3
   },
   "file_extension": ".py",
   "mimetype": "text/x-python",
   "name": "python",
   "nbconvert_exporter": "python",
   "pygments_lexer": "ipython3",
   "version": "3.9.7"
  }
 },
 "nbformat": 4,
 "nbformat_minor": 5
}
