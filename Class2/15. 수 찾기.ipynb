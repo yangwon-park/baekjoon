{
 "cells": [
  {
   "cell_type": "markdown",
   "id": "792cfcf4",
   "metadata": {},
   "source": [
    "### 1920 수 찾기"
   ]
  },
  {
   "cell_type": "code",
   "execution_count": 2,
   "id": "77ad8d6b",
   "metadata": {},
   "outputs": [
    {
     "name": "stdout",
     "output_type": "stream",
     "text": [
      "5\n",
      "4 1 5 2 3\n",
      "5\n",
      "1 3 7 9 5\n",
      "1\n",
      "1\n",
      "0\n",
      "0\n",
      "1\n",
      "Wall time: 6.08 s\n"
     ]
    }
   ],
   "source": [
    "%%time\n",
    "n = int(input())\n",
    "\n",
    "pre = list(map(int, input().split()))\n",
    "\n",
    "m = int(input())\n",
    "\n",
    "suf = list(map(int, input().split()))\n",
    "\n",
    "result = [0] * m\n",
    "\n",
    "idx = 0\n",
    "\n",
    "for s in suf:\n",
    "    if s in pre:\n",
    "        result[idx] = 1\n",
    "    idx += 1\n",
    "\n",
    "for r in result:\n",
    "    print(r)"
   ]
  },
  {
   "cell_type": "markdown",
   "id": "75c4bc7f",
   "metadata": {},
   "source": [
    "### set의 in 연산의 시간 복잡도(O(1))가 리스트보다 더 우수"
   ]
  },
  {
   "cell_type": "code",
   "execution_count": 3,
   "id": "75df35e1",
   "metadata": {},
   "outputs": [
    {
     "name": "stdout",
     "output_type": "stream",
     "text": [
      "5\n",
      "4 1 5 2 3\n",
      "5\n",
      "1 3 7 9 5\n",
      "1\n",
      "1\n",
      "0\n",
      "0\n",
      "1\n",
      "Wall time: 5.81 s\n"
     ]
    }
   ],
   "source": [
    "%%time\n",
    "n = int(input())\n",
    "\n",
    "pre = set(map(int, input().split()))\n",
    "\n",
    "m = int(input())\n",
    "\n",
    "suf = list(map(int, input().split()))\n",
    "\n",
    "result = [0] * m\n",
    "\n",
    "idx = 0\n",
    "\n",
    "for s in suf:\n",
    "    if s in pre:\n",
    "        result[idx] = 1\n",
    "    idx += 1\n",
    "\n",
    "for r in result:\n",
    "    print(r)"
   ]
  },
  {
   "cell_type": "code",
   "execution_count": null,
   "id": "719a66ea",
   "metadata": {},
   "outputs": [],
   "source": []
  }
 ],
 "metadata": {
  "kernelspec": {
   "display_name": "Python 3 (ipykernel)",
   "language": "python",
   "name": "python3"
  },
  "language_info": {
   "codemirror_mode": {
    "name": "ipython",
    "version": 3
   },
   "file_extension": ".py",
   "mimetype": "text/x-python",
   "name": "python",
   "nbconvert_exporter": "python",
   "pygments_lexer": "ipython3",
   "version": "3.9.7"
  }
 },
 "nbformat": 4,
 "nbformat_minor": 5
}
