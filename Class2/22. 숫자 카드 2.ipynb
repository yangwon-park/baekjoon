{
 "cells": [
  {
   "cell_type": "markdown",
   "id": "57b77931",
   "metadata": {},
   "source": [
    "### 10816 숫자 카드 2"
   ]
  },
  {
   "cell_type": "markdown",
   "id": "ff68bbf6",
   "metadata": {},
   "source": [
    "#### 시간 초과"
   ]
  },
  {
   "cell_type": "code",
   "execution_count": 1,
   "id": "dd27e958",
   "metadata": {},
   "outputs": [
    {
     "name": "stdout",
     "output_type": "stream",
     "text": [
      "10\n",
      "6 3 2 10 10 10 -10 -10 7 3\n",
      "8\n",
      "10 9 -5 2 3 4 5 -10\n",
      "3 0 0 1 2 0 0 2 "
     ]
    }
   ],
   "source": [
    "from collections import Counter\n",
    "\n",
    "n = int(input())\n",
    "card = list(map(int, input().split()))\n",
    "    \n",
    "m = int(input())\n",
    "my_card = list(map(int, input().split()))\n",
    "    \n",
    "counter = Counter(card)\n",
    "result = []\n",
    "keys = list(counter.keys())\n",
    "\n",
    "for i in my_card:\n",
    "    if i in keys:\n",
    "        result.append(counter[i])\n",
    "    else:\n",
    "        result.append(0)\n",
    "        \n",
    "for i in result:\n",
    "    print(i, end = ' ')"
   ]
  },
  {
   "cell_type": "markdown",
   "id": "dc0b410b",
   "metadata": {},
   "source": [
    "#### 정답"
   ]
  },
  {
   "cell_type": "code",
   "execution_count": 2,
   "id": "923feca4",
   "metadata": {},
   "outputs": [
    {
     "name": "stdout",
     "output_type": "stream",
     "text": [
      "10\n",
      "6 3 2 10 10 10 -10 -10 7 3\n",
      "8\n",
      "10 9 -5 2 3 4 5 -10\n",
      "3 0 0 1 2 0 0 2 "
     ]
    }
   ],
   "source": [
    "from collections import Counter\n",
    "\n",
    "n = int(input())\n",
    "card = list(map(int, input().split()))\n",
    "    \n",
    "m = int(input())\n",
    "my_card = list(map(int, input().split()))\n",
    "    \n",
    "counter = Counter(card)\n",
    "\n",
    "for i in my_card:\n",
    "    if i in counter:\n",
    "        print(counter[i], end =  ' ')\n",
    "    else:\n",
    "        print(0, end = ' ')"
   ]
  }
 ],
 "metadata": {
  "kernelspec": {
   "display_name": "Python 3 (ipykernel)",
   "language": "python",
   "name": "python3"
  },
  "language_info": {
   "codemirror_mode": {
    "name": "ipython",
    "version": 3
   },
   "file_extension": ".py",
   "mimetype": "text/x-python",
   "name": "python",
   "nbconvert_exporter": "python",
   "pygments_lexer": "ipython3",
   "version": "3.9.7"
  }
 },
 "nbformat": 4,
 "nbformat_minor": 5
}
