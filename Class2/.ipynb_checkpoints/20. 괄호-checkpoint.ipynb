{
 "cells": [
  {
   "cell_type": "markdown",
   "id": "5a3a6519",
   "metadata": {},
   "source": [
    "### 9012 괄호"
   ]
  },
  {
   "cell_type": "code",
   "execution_count": 2,
   "id": "2ad87954",
   "metadata": {},
   "outputs": [
    {
     "name": "stdout",
     "output_type": "stream",
     "text": [
      "3\n",
      "((\n",
      "NO\n",
      "))\n",
      "NO\n",
      "())(()\n",
      "NO\n"
     ]
    }
   ],
   "source": [
    "n = int(input())\n",
    "\n",
    "for _ in range(n):\n",
    "    bracket = input()\n",
    "    stack = []\n",
    "\n",
    "    for i in bracket:\n",
    "        if i == '(':\n",
    "            stack.append(i)\n",
    "        elif (i == ')' and stack and stack[-1] == '('):\n",
    "            stack.pop()\n",
    "        else:\n",
    "            stack.append(0)\n",
    "            break\n",
    "    \n",
    "    print('NO' if stack else 'YES')"
   ]
  }
 ],
 "metadata": {
  "kernelspec": {
   "display_name": "Python 3 (ipykernel)",
   "language": "python",
   "name": "python3"
  },
  "language_info": {
   "codemirror_mode": {
    "name": "ipython",
    "version": 3
   },
   "file_extension": ".py",
   "mimetype": "text/x-python",
   "name": "python",
   "nbconvert_exporter": "python",
   "pygments_lexer": "ipython3",
   "version": "3.9.7"
  }
 },
 "nbformat": 4,
 "nbformat_minor": 5
}
