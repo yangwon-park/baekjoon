{
 "cells": [
  {
   "cell_type": "markdown",
   "id": "db6a6ffb",
   "metadata": {},
   "source": [
    "### 11050 이항 계수 1"
   ]
  },
  {
   "cell_type": "code",
   "execution_count": 20,
   "id": "a80a7aca",
   "metadata": {},
   "outputs": [
    {
     "name": "stdout",
     "output_type": "stream",
     "text": [
      "5 2\n",
      "10\n"
     ]
    }
   ],
   "source": [
    "n, k = map(int, input().split())\n",
    "\n",
    "# 팩토리얼 구현 함수\n",
    "def _factorial(r):   \n",
    "    if r == 0 or r == 1:\n",
    "        return 1\n",
    "        \n",
    "    return r * _factorial(r-1)\n",
    "\n",
    "# 이항계수 관련 변수들\n",
    "nf = _factorial(n)\n",
    "nk = _factorial(k)\n",
    "nr = _factorial(n-k)\n",
    "\n",
    "print(int(nf / (nk * nr)))"
   ]
  }
 ],
 "metadata": {
  "kernelspec": {
   "display_name": "Python 3 (ipykernel)",
   "language": "python",
   "name": "python3"
  },
  "language_info": {
   "codemirror_mode": {
    "name": "ipython",
    "version": 3
   },
   "file_extension": ".py",
   "mimetype": "text/x-python",
   "name": "python",
   "nbconvert_exporter": "python",
   "pygments_lexer": "ipython3",
   "version": "3.9.7"
  }
 },
 "nbformat": 4,
 "nbformat_minor": 5
}
