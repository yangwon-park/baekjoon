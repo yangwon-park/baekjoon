{
 "cells": [
  {
   "cell_type": "markdown",
   "id": "dcd54976",
   "metadata": {},
   "source": [
    "### 11866 요세푸스 문제 0"
   ]
  },
  {
   "cell_type": "markdown",
   "id": "32143384",
   "metadata": {},
   "source": [
    "####  테스트 케이스만 정답..."
   ]
  },
  {
   "cell_type": "code",
   "execution_count": 9,
   "id": "f9123e01",
   "metadata": {},
   "outputs": [
    {
     "name": "stdout",
     "output_type": "stream",
     "text": [
      "7 3\n",
      "<3627514>"
     ]
    }
   ],
   "source": [
    "n, k = map(int, input().split())\n",
    "\n",
    "stack = list(range(1, n+1))\n",
    "result = []\n",
    "cnt = 0\n",
    "\n",
    "print('<', end='')\n",
    "while True:\n",
    "    if not stack:\n",
    "      break\n",
    "\n",
    "    cnt += 1    \n",
    "    \n",
    "    loc = (k-1) * cnt\n",
    "    \n",
    "    if loc >= len(stack):\n",
    "        loc = loc % len(stack)\n",
    "        \n",
    "        if loc == 0:\n",
    "            loc = k\n",
    "            cnt = 0\n",
    "        if len(stack) < k:\n",
    "            loc = 0\n",
    "\n",
    "    \n",
    "    result.append(stack.pop(loc))\n",
    "\n",
    "for i in result:\n",
    "    print(i, end='')\n",
    "    \n",
    "print('>', end='')"
   ]
  },
  {
   "cell_type": "markdown",
   "id": "a39a9acf",
   "metadata": {},
   "source": [
    "#### 덱 활용"
   ]
  },
  {
   "cell_type": "code",
   "execution_count": 18,
   "id": "203cb018",
   "metadata": {},
   "outputs": [
    {
     "name": "stdout",
     "output_type": "stream",
     "text": [
      "7 3\n",
      "<3, 6, 2, 7, 5, 1, 4>\n"
     ]
    }
   ],
   "source": [
    "from collections import deque\n",
    "\n",
    "n, k = map(int, input().split())\n",
    "s = deque(range(1, n + 1))\n",
    "\n",
    "print('<', end='')\n",
    "while s:\n",
    "    \n",
    "    # k번째 요소를 완전 제거해야 하므로\n",
    "    # k-1번째 요소까지는 덱의 뒤에 다시 저장\n",
    "    for _ in range(k-1):\n",
    "        s.append(s[0])\n",
    "        s.popleft()\n",
    "        \n",
    "    # 제거된 k번째 요소 출력\n",
    "    print(s.popleft(), end='')\n",
    "    \n",
    "    # 아직 다 비워지지 않았다면 , 출력 => 맨 마지막 요소 출력후에 ,가 찍히지 않음\n",
    "    if s:\n",
    "        print(',', end=' ')\n",
    "print('>')"
   ]
  }
 ],
 "metadata": {
  "kernelspec": {
   "display_name": "Python 3 (ipykernel)",
   "language": "python",
   "name": "python3"
  },
  "language_info": {
   "codemirror_mode": {
    "name": "ipython",
    "version": 3
   },
   "file_extension": ".py",
   "mimetype": "text/x-python",
   "name": "python",
   "nbconvert_exporter": "python",
   "pygments_lexer": "ipython3",
   "version": "3.9.7"
  }
 },
 "nbformat": 4,
 "nbformat_minor": 5
}
