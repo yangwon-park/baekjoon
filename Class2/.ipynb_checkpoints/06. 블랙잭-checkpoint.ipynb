{
 "cells": [
  {
   "cell_type": "markdown",
   "id": "4fec19fc",
   "metadata": {},
   "source": [
    "### 2798 블랙잭"
   ]
  },
  {
   "cell_type": "code",
   "execution_count": 34,
   "id": "45514914",
   "metadata": {},
   "outputs": [
    {
     "name": "stdout",
     "output_type": "stream",
     "text": [
      "10 500\n",
      "93 181 245 214 315 36 185 138 216 295\n",
      "497\n"
     ]
    }
   ],
   "source": [
    "n, m = map(int, input().split())\n",
    "\n",
    "card = list(map(int, input().split()))\n",
    "\n",
    "# 나올 수 있는 수의 조합을 담을 리스트\n",
    "tot = []\n",
    "\n",
    "for i in range(n-2):\n",
    "    for j in range(i+1, n-1):\n",
    "        for k in range(j+1, n):\n",
    "            card_tot = card[i] + card[j] + card[k]\n",
    "            \n",
    "            # card_tot이 m보다 크지 않을 때만 담아줌\n",
    "            if m >= card_tot:\n",
    "                tot.append(card_tot)\n",
    "\n",
    "# 그 중 가장 큰 값 출력\n",
    "print(max(tot))"
   ]
  }
 ],
 "metadata": {
  "kernelspec": {
   "display_name": "Python 3 (ipykernel)",
   "language": "python",
   "name": "python3"
  },
  "language_info": {
   "codemirror_mode": {
    "name": "ipython",
    "version": 3
   },
   "file_extension": ".py",
   "mimetype": "text/x-python",
   "name": "python",
   "nbconvert_exporter": "python",
   "pygments_lexer": "ipython3",
   "version": "3.9.7"
  }
 },
 "nbformat": 4,
 "nbformat_minor": 5
}
