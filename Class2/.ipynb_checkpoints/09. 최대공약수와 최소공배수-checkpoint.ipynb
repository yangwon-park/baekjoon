{
 "cells": [
  {
   "cell_type": "markdown",
   "id": "c20a444c",
   "metadata": {},
   "source": [
    "### 2609 최대공약수와 최소공배수"
   ]
  },
  {
   "cell_type": "code",
   "execution_count": 40,
   "id": "d7df21ca",
   "metadata": {},
   "outputs": [
    {
     "name": "stdout",
     "output_type": "stream",
     "text": [
      "25 75\n",
      "25\n",
      "75\n"
     ]
    },
    {
     "data": {
      "text/plain": [
       "75"
      ]
     },
     "execution_count": 40,
     "metadata": {},
     "output_type": "execute_result"
    }
   ],
   "source": [
    "n, m = map(int, input().split())\n",
    "\n",
    "ng_list = []\n",
    "mg_list = []\n",
    "\n",
    "nl_list = []\n",
    "ml_list = []\n",
    "\n",
    "def _GCD(n, m):\n",
    "    for i in range(1, n + 1):\n",
    "        if n % i == 0:\n",
    "            ng_list.append(i)\n",
    "            \n",
    "    for i in range(1, m + 1):\n",
    "        if m % i == 0:\n",
    "            mg_list.append(i)\n",
    "            \n",
    "    GCD = [g for g in ng_list if g in mg_list]\n",
    "      \n",
    "    return GCD\n",
    "\n",
    "def _LCM(n, m):\n",
    "    for i in range(n, n * m+1, n):\n",
    "        if i % n == 0:\n",
    "            nl_list.append(i)\n",
    "            \n",
    "    for i in range(m, n * m+1, m):\n",
    "        if i % m == 0:\n",
    "            ml_list.append(i)\n",
    "                 \n",
    "    LCM = [l for l in nl_list if l in ml_list]\n",
    "      \n",
    "    return LCM\n",
    "\n",
    "print(max(_GCD(n, m)))\n",
    "print(min(_LCM(n, m)))     \n",
    "\n",
    "n * m // 25"
   ]
  },
  {
   "cell_type": "markdown",
   "id": "c020b631",
   "metadata": {},
   "source": [
    "#### 유클리드 호제법 사용"
   ]
  },
  {
   "cell_type": "code",
   "execution_count": 42,
   "id": "ce0e6bf9",
   "metadata": {},
   "outputs": [
    {
     "name": "stdout",
     "output_type": "stream",
     "text": [
      "25 75\n",
      "25\n",
      "75\n"
     ]
    }
   ],
   "source": [
    "n, m = map(int, input().split())\n",
    "\n",
    "def _gcd(n, m):\n",
    "    while m > 0:\n",
    "        n, m = m, n % m\n",
    "        \n",
    "    return n\n",
    "\n",
    "def _lcm(n, m):\n",
    "    return  n * m // _gcd(n, m)\n",
    "\n",
    "print(_gcd(n, m))\n",
    "print(_lcm(n, m))"
   ]
  }
 ],
 "metadata": {
  "kernelspec": {
   "display_name": "Python 3 (ipykernel)",
   "language": "python",
   "name": "python3"
  },
  "language_info": {
   "codemirror_mode": {
    "name": "ipython",
    "version": 3
   },
   "file_extension": ".py",
   "mimetype": "text/x-python",
   "name": "python",
   "nbconvert_exporter": "python",
   "pygments_lexer": "ipython3",
   "version": "3.9.7"
  }
 },
 "nbformat": 4,
 "nbformat_minor": 5
}
