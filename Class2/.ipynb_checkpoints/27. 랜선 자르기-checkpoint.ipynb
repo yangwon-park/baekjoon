{
 "cells": [
  {
   "cell_type": "markdown",
   "id": "f2dd7438",
   "metadata": {},
   "source": [
    "### 1654 랜선 자르기"
   ]
  },
  {
   "cell_type": "code",
   "execution_count": 25,
   "id": "6a944a91",
   "metadata": {},
   "outputs": [
    {
     "name": "stdout",
     "output_type": "stream",
     "text": [
      "4 11\n",
      "802\n",
      "743\n",
      "457\n",
      "539\n",
      "200\n"
     ]
    }
   ],
   "source": [
    "k, n = map(int, input().split())\n",
    "\n",
    "line_list = []\n",
    "\n",
    "for _ in range(k):\n",
    "    line_list.append(int(input()))\n",
    "    \n",
    "# 기준으로 할 최단 길이, 최장 길이 설정\n",
    "start = 1\n",
    "end = max(line_list)\n",
    "\n",
    "# 최대 랜선의 길이\n",
    "target = 0\n",
    "\n",
    "while(start <= end):\n",
    "    # 중간 길이 => 정답이 될 길이\n",
    "    mid = (start + end) // 2\n",
    "    \n",
    "    # 만들 수 있는 랜선의 개수\n",
    "    line = 0\n",
    "    \n",
    "    for l in line_list:\n",
    "        line += l // mid\n",
    "    \n",
    "    # 만들어진 랜선의 개수가 원하는 랜선의 개수 n보다 크거나 같으면\n",
    "    # 최단 길이를 1씩 증가\n",
    "    if line >= n:\n",
    "        # mid의 길이가 정답이 될 길이이므로 target에 넣어줌\n",
    "        target = mid\n",
    "        start = mid + 1\n",
    "    # 그게 아니라면 최장 길이를 1씩 증가\n",
    "    else:\n",
    "        end = mid - 1\n",
    "        \n",
    "print(target)"
   ]
  }
 ],
 "metadata": {
  "kernelspec": {
   "display_name": "Python 3 (ipykernel)",
   "language": "python",
   "name": "python3"
  },
  "language_info": {
   "codemirror_mode": {
    "name": "ipython",
    "version": 3
   },
   "file_extension": ".py",
   "mimetype": "text/x-python",
   "name": "python",
   "nbconvert_exporter": "python",
   "pygments_lexer": "ipython3",
   "version": "3.9.7"
  }
 },
 "nbformat": 4,
 "nbformat_minor": 5
}
