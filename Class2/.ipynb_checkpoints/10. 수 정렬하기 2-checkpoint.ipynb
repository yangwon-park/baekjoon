{
 "cells": [
  {
   "cell_type": "markdown",
   "id": "0c700828",
   "metadata": {},
   "source": [
    "### 2751 수 정렬 하기 2"
   ]
  },
  {
   "cell_type": "code",
   "execution_count": 17,
   "id": "2f443443",
   "metadata": {},
   "outputs": [
    {
     "name": "stdout",
     "output_type": "stream",
     "text": [
      "10\n",
      "123\n",
      "234\n",
      "345345\n",
      "345389\n",
      "345\n",
      "123\n",
      "128\n",
      "1\n",
      "2\n",
      "3\n",
      "[1, 2, 3, 123, 123, 128, 234, 345, 345345, 345389]\n"
     ]
    }
   ],
   "source": [
    "# Pypy3 사용\n",
    "\n",
    "n = int(input())\n",
    "list_ = []\n",
    "\n",
    "for i in range(n):\n",
    "    list_.append(int(input()))\n",
    "    \n",
    "list_.sort()\n",
    "\n",
    "for i in list_:\n",
    "    print(i)"
   ]
  }
 ],
 "metadata": {
  "kernelspec": {
   "display_name": "Python 3 (ipykernel)",
   "language": "python",
   "name": "python3"
  },
  "language_info": {
   "codemirror_mode": {
    "name": "ipython",
    "version": 3
   },
   "file_extension": ".py",
   "mimetype": "text/x-python",
   "name": "python",
   "nbconvert_exporter": "python",
   "pygments_lexer": "ipython3",
   "version": "3.9.7"
  }
 },
 "nbformat": 4,
 "nbformat_minor": 5
}
