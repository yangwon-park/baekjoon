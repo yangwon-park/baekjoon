{
 "cells": [
  {
   "cell_type": "markdown",
   "id": "d713f48f",
   "metadata": {},
   "source": [
    "### 1181 단어 정렬"
   ]
  },
  {
   "cell_type": "code",
   "execution_count": 43,
   "id": "547ef34d",
   "metadata": {},
   "outputs": [
    {
     "name": "stdout",
     "output_type": "stream",
     "text": [
      "13\n",
      "but\n",
      "i\n",
      "wont\n",
      "hesitate\n",
      "no\n",
      "more\n",
      "no\n",
      "more\n",
      "it\n",
      "cannot\n",
      "wait\n",
      "im\n",
      "yours\n"
     ]
    }
   ],
   "source": [
    "n = int(input())\n",
    "list_ = []\n",
    "\n",
    "for _ in range(n):\n",
    "    list_.append(input())\n",
    "    #list(set(list_.append(input())))\n",
    "    \n",
    "# for i in range(len(list_)-1):\n",
    "#     if (len(list_[i]) > len(list_[i+1])):\n",
    "#         list_[i], list_[i+1] = list_[i+1], list_[i]\n",
    "\n",
    "# for i in range(len(list_)-1):\n",
    "#     if(len(list_[i]) == len(list_[i+1])):\n",
    "#         if(list_[i] > list_[i+1]):\n",
    "#             list_[i], list_[i+1] = list_[i+1], list_[i]\n"
   ]
  },
  {
   "cell_type": "code",
   "execution_count": 53,
   "id": "60875c68",
   "metadata": {},
   "outputs": [
    {
     "data": {
      "text/plain": [
       "['but',\n",
       " 'i',\n",
       " 'wont',\n",
       " 'hesitate',\n",
       " 'no',\n",
       " 'more',\n",
       " 'no',\n",
       " 'more',\n",
       " 'it',\n",
       " 'cannot',\n",
       " 'wait',\n",
       " 'im',\n",
       " 'yours']"
      ]
     },
     "execution_count": 53,
     "metadata": {},
     "output_type": "execute_result"
    }
   ],
   "source": [
    "list_"
   ]
  },
  {
   "cell_type": "code",
   "execution_count": 69,
   "id": "ffa614d5",
   "metadata": {},
   "outputs": [],
   "source": [
    "list_.sort(key=len)"
   ]
  },
  {
   "cell_type": "code",
   "execution_count": 70,
   "id": "2d80e30e",
   "metadata": {},
   "outputs": [
    {
     "data": {
      "text/plain": [
       "['i',\n",
       " 'no',\n",
       " 'no',\n",
       " 'it',\n",
       " 'im',\n",
       " 'but',\n",
       " 'wont',\n",
       " 'more',\n",
       " 'more',\n",
       " 'wait',\n",
       " 'yours',\n",
       " 'cannot',\n",
       " 'hesitate']"
      ]
     },
     "execution_count": 70,
     "metadata": {},
     "output_type": "execute_result"
    }
   ],
   "source": [
    "list_"
   ]
  },
  {
   "cell_type": "code",
   "execution_count": 77,
   "id": "8a1d8608",
   "metadata": {},
   "outputs": [],
   "source": [
    "ls = list(set(list_))"
   ]
  },
  {
   "cell_type": "code",
   "execution_count": 80,
   "id": "67d16edf",
   "metadata": {},
   "outputs": [],
   "source": [
    "ls.sort(key=len)"
   ]
  },
  {
   "cell_type": "code",
   "execution_count": 81,
   "id": "c5522efb",
   "metadata": {},
   "outputs": [
    {
     "data": {
      "text/plain": [
       "['i',\n",
       " 'im',\n",
       " 'no',\n",
       " 'it',\n",
       " 'but',\n",
       " 'wait',\n",
       " 'wont',\n",
       " 'more',\n",
       " 'yours',\n",
       " 'cannot',\n",
       " 'hesitate']"
      ]
     },
     "execution_count": 81,
     "metadata": {},
     "output_type": "execute_result"
    }
   ],
   "source": [
    "ls"
   ]
  },
  {
   "cell_type": "code",
   "execution_count": null,
   "id": "e8d65708",
   "metadata": {},
   "outputs": [],
   "source": []
  }
 ],
 "metadata": {
  "kernelspec": {
   "display_name": "Python 3 (ipykernel)",
   "language": "python",
   "name": "python3"
  },
  "language_info": {
   "codemirror_mode": {
    "name": "ipython",
    "version": 3
   },
   "file_extension": ".py",
   "mimetype": "text/x-python",
   "name": "python",
   "nbconvert_exporter": "python",
   "pygments_lexer": "ipython3",
   "version": "3.9.7"
  }
 },
 "nbformat": 4,
 "nbformat_minor": 5
}
