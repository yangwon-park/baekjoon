{
 "cells": [
  {
   "cell_type": "markdown",
   "id": "2d89e160",
   "metadata": {},
   "source": [
    "### 2805 나무 자르기"
   ]
  },
  {
   "cell_type": "code",
   "execution_count": 24,
   "id": "085d12ab",
   "metadata": {},
   "outputs": [
    {
     "name": "stdout",
     "output_type": "stream",
     "text": [
      "4 7\n",
      "20 15 10 17\n",
      "15\n"
     ]
    }
   ],
   "source": [
    "n, m =  map(int, input().split())\n",
    "\n",
    "tree = list(map(int, input().split()))\n",
    "\n",
    "start = 0\n",
    "end = max(tree)\n",
    "\n",
    "target = 0\n",
    "\n",
    "while (start <= end):\n",
    "    mid = (start + end) // 2\n",
    "    \n",
    "    tot_height = 0\n",
    "    \n",
    "#     for t in tree:\n",
    "#         if t - mid > 0:\n",
    "#             tot_height += (t - mid)\n",
    "    \n",
    "    # List Comprehension이 속도가 훨씬 빠르다. 연습하자!\n",
    "    tot_height = sum(t - mid if t > mid else 0 for i in tree)\n",
    "    \n",
    "    if tot_height == m:\n",
    "        target = mid\n",
    "        break\n",
    "    \n",
    "    if tot_height > m:\n",
    "        start = mid + 1\n",
    "        target = mid\n",
    "    else:\n",
    "        end = mid - 1\n",
    "\n",
    "print(target) "
   ]
  }
 ],
 "metadata": {
  "kernelspec": {
   "display_name": "Python 3 (ipykernel)",
   "language": "python",
   "name": "python3"
  },
  "language_info": {
   "codemirror_mode": {
    "name": "ipython",
    "version": 3
   },
   "file_extension": ".py",
   "mimetype": "text/x-python",
   "name": "python",
   "nbconvert_exporter": "python",
   "pygments_lexer": "ipython3",
   "version": "3.9.7"
  }
 },
 "nbformat": 4,
 "nbformat_minor": 5
}
