{
 "cells": [
  {
   "cell_type": "markdown",
   "id": "a9679f60",
   "metadata": {},
   "source": [
    "### 10814 나이순 정렬"
   ]
  },
  {
   "cell_type": "code",
   "execution_count": 12,
   "id": "86c3fd47",
   "metadata": {},
   "outputs": [
    {
     "name": "stdout",
     "output_type": "stream",
     "text": [
      "3\n",
      "21 Junkyu\n",
      "20 Do\n",
      "20 KK\n",
      "20 Do\n",
      "20 KK\n",
      "21 Junkyu\n"
     ]
    }
   ],
   "source": [
    "n = int(input())\n",
    "member = []\n",
    "\n",
    "for _ in range(n):\n",
    "    # member.append(list(map(str, input().split())))\n",
    "    age, name = map(str, input().split())\n",
    "    age = int(age)\n",
    "    member.append([age, name])\n",
    "\n",
    "member.sort(key = lambda x: x[0])\n",
    "\n",
    "for m in member:\n",
    "    # print(int(m[0]), m[1])\n",
    "    print(m[0], m[1])"
   ]
  }
 ],
 "metadata": {
  "kernelspec": {
   "display_name": "Python 3 (ipykernel)",
   "language": "python",
   "name": "python3"
  },
  "language_info": {
   "codemirror_mode": {
    "name": "ipython",
    "version": 3
   },
   "file_extension": ".py",
   "mimetype": "text/x-python",
   "name": "python",
   "nbconvert_exporter": "python",
   "pygments_lexer": "ipython3",
   "version": "3.9.7"
  }
 },
 "nbformat": 4,
 "nbformat_minor": 5
}
