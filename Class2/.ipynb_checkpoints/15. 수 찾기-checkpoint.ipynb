{
 "cells": [
  {
   "cell_type": "markdown",
   "id": "792cfcf4",
   "metadata": {},
   "source": [
    "### 1920 수 찾기"
   ]
  },
  {
   "cell_type": "code",
   "execution_count": 33,
   "id": "77ad8d6b",
   "metadata": {},
   "outputs": [
    {
     "name": "stdout",
     "output_type": "stream",
     "text": [
      "5\n",
      "4 1 5 2 3\n",
      "5\n",
      "1 3 7 9 5\n",
      "1 1 0\n",
      "3 1 1\n",
      "5 1 4\n",
      "1\n",
      "1\n",
      "0\n",
      "0\n",
      "1\n"
     ]
    }
   ],
   "source": [
    "n = int(input())\n",
    "\n",
    "pre = list(map(int, input().split()))\n",
    "\n",
    "m = int(input())\n",
    "\n",
    "suf = list(map(int, input().split()))\n",
    "\n",
    "result = [0] * m\n",
    "\n",
    "idx = 0\n",
    "\n",
    "for s in suf:\n",
    "    if s in pre:\n",
    "        result[idx] = 1\n",
    "    idx += 1\n",
    "\n",
    "for r in result:\n",
    "    print(r)"
   ]
  }
 ],
 "metadata": {
  "kernelspec": {
   "display_name": "Python 3 (ipykernel)",
   "language": "python",
   "name": "python3"
  },
  "language_info": {
   "codemirror_mode": {
    "name": "ipython",
    "version": 3
   },
   "file_extension": ".py",
   "mimetype": "text/x-python",
   "name": "python",
   "nbconvert_exporter": "python",
   "pygments_lexer": "ipython3",
   "version": "3.9.7"
  }
 },
 "nbformat": 4,
 "nbformat_minor": 5
}
