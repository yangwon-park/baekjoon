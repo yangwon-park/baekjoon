{
 "cells": [
  {
   "cell_type": "markdown",
   "id": "f0819516",
   "metadata": {},
   "source": [
    "### 1874 스택 수열"
   ]
  },
  {
   "cell_type": "code",
   "execution_count": 10,
   "id": "828469aa",
   "metadata": {},
   "outputs": [
    {
     "name": "stdout",
     "output_type": "stream",
     "text": [
      "8\n",
      "4\n",
      "3\n",
      "6\n",
      "8\n",
      "7\n",
      "5\n",
      "2\n",
      "1\n",
      "+\n",
      "+\n",
      "+\n",
      "+\n",
      "-\n",
      "-\n",
      "+\n",
      "+\n",
      "-\n",
      "+\n",
      "+\n",
      "-\n",
      "-\n",
      "-\n",
      "-\n",
      "-\n"
     ]
    }
   ],
   "source": [
    "n = int(input())\n",
    "\n",
    "# 기본 스택\n",
    "stack = []\n",
    "\n",
    "# +, -를 담을 리스트\n",
    "result = []\n",
    "\n",
    "# 만들고자 하는 수열\n",
    "target = []\n",
    "\n",
    "for _ in range(n):\n",
    "    target.append(int(input()))\n",
    "    \n",
    "# 1~n까지의 숫자를 담을 변수\n",
    "num = 1\n",
    "\n",
    "for t in target:\n",
    "    while(num <= t):\n",
    "        stack.append(num)\n",
    "        result.append('+')\n",
    "        num += 1\n",
    "    \n",
    "    if stack[-1] == t:\n",
    "        stack.pop()\n",
    "        result.append('-')\n",
    "        \n",
    "# stack이 비었을 때 => 수열이 만들어졌음\n",
    "if not stack:\n",
    "    print('\\n'.join(result))\n",
    "    \n",
    "#     for i in result:\n",
    "#         print(i)\n",
    "else:\n",
    "    print('NO')"
   ]
  }
 ],
 "metadata": {
  "kernelspec": {
   "display_name": "Python 3 (ipykernel)",
   "language": "python",
   "name": "python3"
  },
  "language_info": {
   "codemirror_mode": {
    "name": "ipython",
    "version": 3
   },
   "file_extension": ".py",
   "mimetype": "text/x-python",
   "name": "python",
   "nbconvert_exporter": "python",
   "pygments_lexer": "ipython3",
   "version": "3.9.7"
  }
 },
 "nbformat": 4,
 "nbformat_minor": 5
}
