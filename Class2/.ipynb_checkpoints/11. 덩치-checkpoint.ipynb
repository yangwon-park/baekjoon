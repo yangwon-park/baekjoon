{
 "cells": [
  {
   "cell_type": "markdown",
   "id": "a8f621e3",
   "metadata": {},
   "source": [
    "### 7568 덩치"
   ]
  },
  {
   "cell_type": "code",
   "execution_count": 40,
   "id": "fd482153",
   "metadata": {},
   "outputs": [
    {
     "name": "stdout",
     "output_type": "stream",
     "text": [
      "5\n",
      "55 185\n",
      "58 183\n",
      "88 186\n",
      "60 175\n",
      "46 155\n",
      "2 2 1 2 5 "
     ]
    }
   ],
   "source": [
    "n = int(input())\n",
    "\n",
    "# 덩치를 입력받을 리스트\n",
    "physical = []\n",
    "\n",
    "for _ in range(n):\n",
    "    physical.append(list(map(int, input().split())))\n",
    "    \n",
    "\n",
    "for i in range(n):\n",
    "    # 등수\n",
    "    rank = 1\n",
    "    \n",
    "    for j in range(n):\n",
    "        if i == j:\n",
    "            continue\n",
    "        \n",
    "        # 그냥 단순하게 나보다 큰 사람이 있으면 자기 등수를 1씩 늘려줌\n",
    "        if physical[i][0] < physical[j][0] and physical[i][1] < physical[j][1]:\n",
    "            rank += 1\n",
    "    print(rank, end = ' ')    "
   ]
  }
 ],
 "metadata": {
  "kernelspec": {
   "display_name": "Python 3 (ipykernel)",
   "language": "python",
   "name": "python3"
  },
  "language_info": {
   "codemirror_mode": {
    "name": "ipython",
    "version": 3
   },
   "file_extension": ".py",
   "mimetype": "text/x-python",
   "name": "python",
   "nbconvert_exporter": "python",
   "pygments_lexer": "ipython3",
   "version": "3.9.7"
  }
 },
 "nbformat": 4,
 "nbformat_minor": 5
}
