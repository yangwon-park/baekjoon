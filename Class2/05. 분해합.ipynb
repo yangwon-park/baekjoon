{
 "cells": [
  {
   "cell_type": "markdown",
   "id": "fa2ccc84",
   "metadata": {},
   "source": [
    "### 2231 분해합"
   ]
  },
  {
   "cell_type": "code",
   "execution_count": 58,
   "id": "67afa9de",
   "metadata": {},
   "outputs": [
    {
     "name": "stdout",
     "output_type": "stream",
     "text": [
      "256\n",
      "245\n"
     ]
    }
   ],
   "source": [
    "n = int(input())\n",
    "\n",
    "def _generateNum(n):\n",
    "    # 생성자\n",
    "    g = 0\n",
    "\n",
    "    while True:\n",
    "        # 각 자리 수의 합을 담을 변수\n",
    "        tot = 0\n",
    "        g += 1\n",
    "        tmp = g\n",
    "        \n",
    "        # n과 g가 같아질 때까지 반복문이 돌았다 => 생성자가 없다\n",
    "        if n == g:\n",
    "            print('0')\n",
    "            break\n",
    "        \n",
    "        # tot를 구할 반복문\n",
    "        while True:\n",
    "            tot += tmp % 10\n",
    "            tmp = tmp // 10\n",
    "            \n",
    "            if tmp == 0:\n",
    "                break\n",
    "        \n",
    "        if n == (g + tot):\n",
    "            print(g)\n",
    "            break\n",
    "    \n",
    "_generateNum(n)"
   ]
  },
  {
   "cell_type": "code",
   "execution_count": 69,
   "id": "e1db496c",
   "metadata": {},
   "outputs": [
    {
     "name": "stdout",
     "output_type": "stream",
     "text": [
      "216\n",
      "198\n"
     ]
    }
   ],
   "source": [
    "n = int(input())\n",
    "tot = 0\n",
    "\n",
    "for i in range(1, n+1):\n",
    "    # i를 str 함수로 문자열로 변환 후 map 함수로 개별적으로 받고 list로 만들어줌\n",
    "    # while 문에서 tot를 구한 반복문과 동일한 역할\n",
    "    tot = list(map(int, str(i)))\n",
    "    g_tot = i + sum(lst)\n",
    "    \n",
    "    if g_tot == n:\n",
    "        print(i)\n",
    "        break\n",
    "    \n",
    "    if i == n:\n",
    "        print(0)"
   ]
  }
 ],
 "metadata": {
  "kernelspec": {
   "display_name": "Python 3 (ipykernel)",
   "language": "python",
   "name": "python3"
  },
  "language_info": {
   "codemirror_mode": {
    "name": "ipython",
    "version": 3
   },
   "file_extension": ".py",
   "mimetype": "text/x-python",
   "name": "python",
   "nbconvert_exporter": "python",
   "pygments_lexer": "ipython3",
   "version": "3.9.7"
  }
 },
 "nbformat": 4,
 "nbformat_minor": 5
}
