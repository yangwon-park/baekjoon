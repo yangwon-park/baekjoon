{
 "cells": [
  {
   "cell_type": "code",
   "execution_count": 2,
   "id": "f482119d",
   "metadata": {},
   "outputs": [
    {
     "name": "stdout",
     "output_type": "stream",
     "text": [
      "5 2\n"
     ]
    }
   ],
   "source": [
    "n, k = map(int, input().split())\n",
    "\n",
    "def _factorial(r):   \n",
    "    if r == 1:\n",
    "        return 1\n",
    "        \n",
    "    return r * _factorial(r-1)\n",
    "\n",
    "nf = _factorial(n)\n",
    "nk = _factorial(k)\n",
    "nr = _factorial(n-k)\n",
    "\n",
    "print(int(nf / (nk * nr)))"
   ]
  },
  {
   "cell_type": "code",
   "execution_count": 3,
   "id": "15ccca52",
   "metadata": {},
   "outputs": [
    {
     "name": "stdout",
     "output_type": "stream",
     "text": [
      "5 2\n"
     ]
    }
   ],
   "source": [
    "print(n, k)"
   ]
  },
  {
   "cell_type": "code",
   "execution_count": 15,
   "id": "c1458183",
   "metadata": {},
   "outputs": [],
   "source": []
  },
  {
   "cell_type": "code",
   "execution_count": 17,
   "id": "2e8b5030",
   "metadata": {},
   "outputs": [],
   "source": []
  },
  {
   "cell_type": "code",
   "execution_count": 19,
   "id": "89557d3c",
   "metadata": {},
   "outputs": [
    {
     "name": "stdout",
     "output_type": "stream",
     "text": [
      "10\n"
     ]
    }
   ],
   "source": []
  },
  {
   "cell_type": "code",
   "execution_count": null,
   "id": "8f29f207",
   "metadata": {},
   "outputs": [],
   "source": []
  }
 ],
 "metadata": {
  "kernelspec": {
   "display_name": "Python 3 (ipykernel)",
   "language": "python",
   "name": "python3"
  },
  "language_info": {
   "codemirror_mode": {
    "name": "ipython",
    "version": 3
   },
   "file_extension": ".py",
   "mimetype": "text/x-python",
   "name": "python",
   "nbconvert_exporter": "python",
   "pygments_lexer": "ipython3",
   "version": "3.9.7"
  }
 },
 "nbformat": 4,
 "nbformat_minor": 5
}
