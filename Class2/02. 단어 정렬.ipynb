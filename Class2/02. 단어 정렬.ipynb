{
 "cells": [
  {
   "cell_type": "markdown",
   "id": "05aac493",
   "metadata": {},
   "source": [
    "### 1181 단어 정렬"
   ]
  },
  {
   "cell_type": "code",
   "execution_count": 95,
   "id": "978a51b9",
   "metadata": {},
   "outputs": [
    {
     "name": "stdout",
     "output_type": "stream",
     "text": [
      "13\n",
      "but\n",
      "i\n",
      "wont\n",
      "hesitate\n",
      "no\n",
      "more\n",
      "no\n",
      "more\n",
      "it\n",
      "cannot\n",
      "wait\n",
      "im\n",
      "yours\n",
      "i\n",
      "im\n",
      "it\n",
      "no\n",
      "but\n",
      "more\n",
      "wait\n",
      "wont\n",
      "yours\n",
      "cannot\n",
      "hesitate\n"
     ]
    }
   ],
   "source": [
    "n = int(input())\n",
    "list_ = []\n",
    "\n",
    "for _ in range(n):\n",
    "    list_.append(input())\n",
    "    \n",
    "ls = list(set(list_))\n",
    "\n",
    "# 리스트를 길이 별로 정렬\n",
    "ls.sort()\n",
    "ls.sort(key=len)\n",
    "\n",
    "# 선택 정렬 \n",
    "# for i in range(len(ls)-1):\n",
    "#     for j in range(i, len(ls)-1):\n",
    "#         if(len(ls[i]) == len(ls[j+1])):\n",
    "#             if(ls[i] > ls[j+1]):\n",
    "#                 ls[i], ls[j+1] = ls[j+1], ls[i]\n",
    "#                 break\n",
    "\n",
    "for i in ls:\n",
    "    print(i)"
   ]
  },
  {
   "cell_type": "markdown",
   "id": "0c6b1668",
   "metadata": {},
   "source": [
    "#### input()보다 빠른 sys.stdin.readline() 활용"
   ]
  },
  {
   "cell_type": "code",
   "execution_count": null,
   "id": "6fbff864",
   "metadata": {},
   "outputs": [],
   "source": [
    "import sys\n",
    "\n",
    "n = int(sys.stdin.readline())\n",
    "list_ = []\n",
    "\n",
    "for _ in range(n):\n",
    "    list_.append(sys.stdin.readline().strip())\n",
    "    \n",
    "ls = list(set(list_))\n",
    "\n",
    "# 리스트를 길이 별로 정렬\n",
    "ls.sort()\n",
    "ls.sort(key=len)\n",
    "\n",
    "for i in ls:\n",
    "    print(i)"
   ]
  }
 ],
 "metadata": {
  "kernelspec": {
   "display_name": "Python 3 (ipykernel)",
   "language": "python",
   "name": "python3"
  },
  "language_info": {
   "codemirror_mode": {
    "name": "ipython",
    "version": 3
   },
   "file_extension": ".py",
   "mimetype": "text/x-python",
   "name": "python",
   "nbconvert_exporter": "python",
   "pygments_lexer": "ipython3",
   "version": "3.9.7"
  }
 },
 "nbformat": 4,
 "nbformat_minor": 5
}
