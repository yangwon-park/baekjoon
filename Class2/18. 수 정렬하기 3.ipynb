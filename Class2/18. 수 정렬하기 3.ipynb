{
 "cells": [
  {
   "cell_type": "markdown",
   "id": "322d1a2e",
   "metadata": {},
   "source": [
    "### 10989 수 정렬하기 3 (계수 정렬)"
   ]
  },
  {
   "cell_type": "code",
   "execution_count": 5,
   "id": "61e27e90",
   "metadata": {},
   "outputs": [
    {
     "name": "stdout",
     "output_type": "stream",
     "text": [
      "10\n",
      "5\n",
      "2\n",
      "3\n",
      "1\n",
      "4\n",
      "2\n",
      "3\n",
      "5\n",
      "1\n",
      "7\n",
      "1\n",
      "1\n",
      "2\n",
      "2\n",
      "3\n",
      "3\n",
      "4\n",
      "5\n",
      "5\n",
      "7\n"
     ]
    }
   ],
   "source": [
    "# 메모리 초과\n",
    "n = int(input())\n",
    "nums = []\n",
    "\n",
    "for _ in range(n):\n",
    "    nums.append(int(input()))\n",
    "    \n",
    "nums.sort()\n",
    "for n in nums:\n",
    "    print(n)"
   ]
  },
  {
   "cell_type": "code",
   "execution_count": 6,
   "id": "0ce621af",
   "metadata": {},
   "outputs": [
    {
     "name": "stdout",
     "output_type": "stream",
     "text": [
      "10\n",
      "5\n",
      "2\n",
      "3\n",
      "1\n",
      "4\n",
      "2\n",
      "3\n",
      "5\n",
      "1\n",
      "7\n",
      "1\n",
      "1\n",
      "2\n",
      "2\n",
      "3\n",
      "3\n",
      "4\n",
      "5\n",
      "5\n",
      "7\n"
     ]
    }
   ],
   "source": [
    "n = int(input())\n",
    "\n",
    "nums = [0] * 10001\n",
    "\n",
    "for _ in range(n):\n",
    "    # 숫자를 입력받으면 그 값에 해당하는 리스트의 인덱스에 +1\n",
    "    nums[int(input())] += 1\n",
    "    \n",
    "for i in range(len(nums)):\n",
    "    # 입력받은 숫자만 고려하면 됨 => 0인 경우는 입력을 받지 않음\n",
    "    if nums[i] != 0:\n",
    "        # 해당 인덱스에 들어있는 값 => 입력받은 횟수\n",
    "        # 그 값 만큼 반복해서 해당 인덱스 즉, 입력받은 값을 출력\n",
    "        for j in range(nums[i]):\n",
    "            print(i)"
   ]
  }
 ],
 "metadata": {
  "kernelspec": {
   "display_name": "Python 3 (ipykernel)",
   "language": "python",
   "name": "python3"
  },
  "language_info": {
   "codemirror_mode": {
    "name": "ipython",
    "version": 3
   },
   "file_extension": ".py",
   "mimetype": "text/x-python",
   "name": "python",
   "nbconvert_exporter": "python",
   "pygments_lexer": "ipython3",
   "version": "3.9.7"
  }
 },
 "nbformat": 4,
 "nbformat_minor": 5
}
