{
 "cells": [
  {
   "cell_type": "markdown",
   "id": "d6b5b1a3",
   "metadata": {},
   "source": [
    "### 10989 수 정렬하기 3 (계수 정렬)"
   ]
  },
  {
   "cell_type": "code",
   "execution_count": 5,
   "id": "d665763d",
   "metadata": {},
   "outputs": [
    {
     "name": "stdout",
     "output_type": "stream",
     "text": [
      "10\n",
      "5\n",
      "2\n",
      "3\n",
      "1\n",
      "4\n",
      "2\n",
      "3\n",
      "5\n",
      "1\n",
      "7\n",
      "1\n",
      "1\n",
      "2\n",
      "2\n",
      "3\n",
      "3\n",
      "4\n",
      "5\n",
      "5\n",
      "7\n"
     ]
    }
   ],
   "source": [
    "# 메모리 초과\n",
    "n = int(input())\n",
    "nums = []\n",
    "\n",
    "for _ in range(n):\n",
    "    nums.append(int(input()))\n",
    "    \n",
    "nums.sort()\n",
    "for n in nums:\n",
    "    print(n)"
   ]
  },
  {
   "cell_type": "code",
   "execution_count": 6,
   "id": "9cdd3a2f",
   "metadata": {},
   "outputs": [
    {
     "name": "stdout",
     "output_type": "stream",
     "text": [
      "10\n",
      "5\n",
      "2\n",
      "3\n",
      "1\n",
      "4\n",
      "2\n",
      "3\n",
      "5\n",
      "1\n",
      "7\n",
      "1\n",
      "1\n",
      "2\n",
      "2\n",
      "3\n",
      "3\n",
      "4\n",
      "5\n",
      "5\n",
      "7\n"
     ]
    }
   ],
   "source": [
    "n = int(input())\n",
    "\n",
    "# 입력받은 숫자의 ㄱ\n",
    "nums = [0] * 10001\n",
    "\n",
    "for _ in range(n):\n",
    "    nums[int(input())] += 1\n",
    "    \n",
    "for i in range(len(nums)):\n",
    "    if nums[i] != 0:\n",
    "        for j in range(nums[i]):\n",
    "            print(i)"
   ]
  }
 ],
 "metadata": {
  "kernelspec": {
   "display_name": "Python 3 (ipykernel)",
   "language": "python",
   "name": "python3"
  },
  "language_info": {
   "codemirror_mode": {
    "name": "ipython",
    "version": 3
   },
   "file_extension": ".py",
   "mimetype": "text/x-python",
   "name": "python",
   "nbconvert_exporter": "python",
   "pygments_lexer": "ipython3",
   "version": "3.9.7"
  }
 },
 "nbformat": 4,
 "nbformat_minor": 5
}
