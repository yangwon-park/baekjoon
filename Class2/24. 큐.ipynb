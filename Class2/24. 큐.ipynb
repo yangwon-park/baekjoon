{
 "cells": [
  {
   "cell_type": "markdown",
   "id": "8909d8e7",
   "metadata": {},
   "source": [
    "### 10845 큐"
   ]
  },
  {
   "cell_type": "code",
   "execution_count": 1,
   "id": "695642db",
   "metadata": {},
   "outputs": [
    {
     "name": "stdout",
     "output_type": "stream",
     "text": [
      "15\n",
      "push 1\n",
      "push 2\n",
      "front\n",
      "1\n",
      "back\n",
      "2\n",
      "size\n",
      "2\n",
      "empty\n",
      "0\n",
      "pop\n",
      "1\n",
      "pop\n",
      "2\n",
      "pop\n",
      "-1\n",
      "size\n",
      "0\n",
      "empty\n",
      "1\n",
      "pop\n",
      "-1\n",
      "push 3\n",
      "empty\n",
      "0\n",
      "front\n",
      "3\n"
     ]
    }
   ],
   "source": [
    "n = int(input())\n",
    "queue = []\n",
    "\n",
    "for _ in range(n):\n",
    "    cmd = input().split()\n",
    "    \n",
    "    if cmd[0] == 'push':\n",
    "        queue.append(cmd[1])\n",
    "    elif cmd[0] == 'pop':\n",
    "        if not queue:\n",
    "            print(-1)\n",
    "        else:\n",
    "            print(queue.pop(0))\n",
    "    elif cmd[0] == 'size':\n",
    "        print(len(queue))\n",
    "    elif cmd[0] == 'empty':\n",
    "        if not queue:\n",
    "            print(1)\n",
    "        else:\n",
    "            print(0)\n",
    "    elif cmd[0] == 'front':\n",
    "        if not queue:\n",
    "            print(-1)\n",
    "        else:\n",
    "            print(queue[0])\n",
    "    elif cmd[0] == 'back':\n",
    "        if not queue:\n",
    "            print(-1)\n",
    "        else:\n",
    "            print(queue[-1])"
   ]
  }
 ],
 "metadata": {
  "kernelspec": {
   "display_name": "Python 3 (ipykernel)",
   "language": "python",
   "name": "python3"
  },
  "language_info": {
   "codemirror_mode": {
    "name": "ipython",
    "version": 3
   },
   "file_extension": ".py",
   "mimetype": "text/x-python",
   "name": "python",
   "nbconvert_exporter": "python",
   "pygments_lexer": "ipython3",
   "version": "3.9.7"
  }
 },
 "nbformat": 4,
 "nbformat_minor": 5
}
