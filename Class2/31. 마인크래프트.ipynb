{
 "cells": [
  {
   "cell_type": "markdown",
   "id": "6e16885c",
   "metadata": {},
   "source": [
    "### 18111 마인크래프트"
   ]
  },
  {
   "cell_type": "markdown",
   "id": "955e8cfc",
   "metadata": {},
   "source": [
    "#### 풀이 1"
   ]
  },
  {
   "cell_type": "code",
   "execution_count": 27,
   "id": "9adcbd56",
   "metadata": {},
   "outputs": [
    {
     "name": "stdout",
     "output_type": "stream",
     "text": [
      "3 4 3\n",
      "0 0 0 4\n",
      "4 2 1 4\n",
      "0 3 3 0\n",
      "27 2\n"
     ]
    }
   ],
   "source": [
    "N, M, B = map(int, input().split())\n",
    "\n",
    "ground = [list(map(int, input().split())) for _ in range(N)]\n",
    "\n",
    "time = 1e10\n",
    "height = 0\n",
    "\n",
    "# 높이의 최대가 256이므로 목표 높이의 범위는 0 ~ 256\n",
    "target_heights = 257\n",
    "for target in range(target_heights):\n",
    "    \n",
    "    # 조건에 맞게 사용한 블록의 개수\n",
    "    # 새로 추가 (1초 소요)\n",
    "    push_block = 0\n",
    "    \n",
    "    # 제거 (2초 소요)\n",
    "    pop_block = 0\n",
    "    \n",
    "    for j in range(N):\n",
    "        for k in range(M):\n",
    "            if ground[j][k] < target:\n",
    "                push_block += (target - ground[j][k])\n",
    "            else:\n",
    "                pop_block += (ground[j][k] - target)\n",
    "                \n",
    "    # 사용한 블록 > 인벤토리에 새로 들어온 블록 + 기존에 가지고 있는 블록인 경우\n",
    "    # 사용해야하는 블록의 개수가 당연히 (기존 블록 개수 + 새로 들어온 개수)보다\n",
    "    # 많아야만 작업 자체를 마무리 할 수 있으므로\n",
    "    # 그거보다 작은 경우에서는 반복을 넘어간다\n",
    "    if push_block > pop_block + B:\n",
    "        continue\n",
    "        \n",
    "    total_time = push_block + (pop_block * 2)\n",
    "    \n",
    "    if total_time <= time:\n",
    "        time = total_time\n",
    "        height = target\n",
    "\n",
    "print(time, height)"
   ]
  },
  {
   "cell_type": "markdown",
   "id": "1fba4e70",
   "metadata": {},
   "source": [
    "#### 풀이 2"
   ]
  },
  {
   "cell_type": "code",
   "execution_count": 51,
   "id": "1bdad1dd",
   "metadata": {},
   "outputs": [
    {
     "name": "stdout",
     "output_type": "stream",
     "text": [
      "3 4 1\n",
      "64 64 64 64\n",
      "64 64 64 64\n",
      "64 64 64 63\n",
      "1 64\n"
     ]
    }
   ],
   "source": [
    "# 조건 1 : 블록 제거하고 인벤토리에 넣음 (2초 소요)\n",
    "# 조건 2 : 블록을 새로 위에 얹음 (1초 소요)\n",
    "\n",
    "N, M, B = map(int, input().split())\n",
    "ground = [list(map(int, input().split())) for _ in range(N)]\n",
    "INF = int(1e9)\n",
    "\n",
    "# 블록의 최소 높이와 최대 높이\n",
    "lo = min([min(x) for x in ground])\n",
    "hi = max([max(x) for x in ground])\n",
    "\n",
    "# target\n",
    "def _mtg(ground, target, B):\n",
    "    c1 = 0\n",
    "    c2 = 0\n",
    "    \n",
    "    for i in range(N):\n",
    "        for j in range(M):\n",
    "            \n",
    "            # 좌표 땅과 목표 높이의 차이\n",
    "            block = ground[i][j] - target\n",
    "            \n",
    "            # 높이 차이가 양수 => 조건 1\n",
    "            if block > 0:\n",
    "                B += block\n",
    "                c1 += 2 * block\n",
    "            else:\n",
    "                c2 += -block\n",
    "            \n",
    "    # 여기서 B의 값은 기존의 블록 + 새로 채굴한 블록이다\n",
    "    # 즉, 풀이 1번의 조건과 동일하다\n",
    "    if B < c2:\n",
    "        return INF\n",
    "    return c1 + c2\n",
    "\n",
    "time = INF  \n",
    "height = 0\n",
    "    \n",
    "# 가장 높은 높이부터 아래로 내려가면서 반복\n",
    "# 아래로 내려가면서 같은 값이 나와도 처음 초기화 된 값이 그대로 남아있다\n",
    "for target in range(hi, lo-1, -1):\n",
    "    \n",
    "    tot = _mtg(ground, target, B)\n",
    "    \n",
    "    if time > tot:\n",
    "        time = tot\n",
    "        height = target\n",
    "        \n",
    "print(time, height) "
   ]
  }
 ],
 "metadata": {
  "kernelspec": {
   "display_name": "Python 3 (ipykernel)",
   "language": "python",
   "name": "python3"
  },
  "language_info": {
   "codemirror_mode": {
    "name": "ipython",
    "version": 3
   },
   "file_extension": ".py",
   "mimetype": "text/x-python",
   "name": "python",
   "nbconvert_exporter": "python",
   "pygments_lexer": "ipython3",
   "version": "3.9.7"
  }
 },
 "nbformat": 4,
 "nbformat_minor": 5
}
