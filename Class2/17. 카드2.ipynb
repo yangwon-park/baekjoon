{
 "cells": [
  {
   "cell_type": "markdown",
   "id": "cae30682",
   "metadata": {},
   "source": [
    "### 2164 카드2"
   ]
  },
  {
   "cell_type": "markdown",
   "id": "2bac3aff",
   "metadata": {},
   "source": [
    "#### 시간초과 (코너 케이스 처리 안 함 (n == 1))"
   ]
  },
  {
   "cell_type": "code",
   "execution_count": 88,
   "id": "86b289c3",
   "metadata": {},
   "outputs": [
    {
     "name": "stdout",
     "output_type": "stream",
     "text": [
      "4000\n",
      "3904\n",
      "Wall time: 785 ms\n"
     ]
    }
   ],
   "source": [
    "%%time\n",
    "\n",
    "n = int(input())\n",
    "\n",
    "cards = list(range(1, n+1))\n",
    "\n",
    "cnt = 0\n",
    "for i in range(n):\n",
    "    \n",
    "    #print('cards : ', cards)\n",
    "    f = cards.pop(0)\n",
    "    #print(f)\n",
    "    p = cards.pop(0)\n",
    "    #print(p)\n",
    "    cards.append(p)\n",
    "    cnt += 1\n",
    "    \n",
    "    #print(i, ' : ', cards)  \n",
    "    \n",
    "    if cnt == n or len(cards) == 1:\n",
    "        break\n",
    "        \n",
    "print(cards[0])"
   ]
  },
  {
   "cell_type": "markdown",
   "id": "32012f4c",
   "metadata": {},
   "source": [
    "#### queue 사용"
   ]
  },
  {
   "cell_type": "code",
   "execution_count": 87,
   "id": "cb92799d",
   "metadata": {
    "scrolled": true
   },
   "outputs": [
    {
     "name": "stdout",
     "output_type": "stream",
     "text": [
      "4000\n",
      "3904\n",
      "Wall time: 824 ms\n"
     ]
    }
   ],
   "source": [
    "%%time\n",
    "\n",
    "from collections import deque\n",
    "\n",
    "n = int(input())\n",
    "cards_qu = deque()\n",
    "\n",
    "for i in range(n):\n",
    "    cards_qu.append(i + 1)\n",
    "    \n",
    "while len(cards_qu) > 1:\n",
    "    cards_qu.popleft()\n",
    "    cards_qu.append(cards_qu.popleft())\n",
    "    \n",
    "print(cards_qu.pop())"
   ]
  },
  {
   "cell_type": "markdown",
   "id": "2daaffba",
   "metadata": {},
   "source": [
    "#### 규칙 이용"
   ]
  },
  {
   "cell_type": "code",
   "execution_count": 86,
   "id": "dd35495e",
   "metadata": {},
   "outputs": [
    {
     "name": "stdout",
     "output_type": "stream",
     "text": [
      "4000\n",
      "3904\n",
      "Wall time: 793 ms\n"
     ]
    }
   ],
   "source": [
    "%%time\n",
    "\n",
    "n = int(input())\n",
    "c = 2\n",
    "\n",
    "while True:\n",
    "    if n == 1 or n == 2:\n",
    "        print(n)\n",
    "        break\n",
    "    \n",
    "    # c가 2의 제곱수\n",
    "    c *= 2\n",
    "    \n",
    "    # c가 n보다 큰 경우에만 동작\n",
    "    if c >= n:\n",
    "        # n보다 작은 2의 제곱수 중 가장 큰 수\n",
    "        print((n - (c // 2)) * 2)\n",
    "        break"
   ]
  },
  {
   "cell_type": "code",
   "execution_count": null,
   "id": "f281ac4d",
   "metadata": {},
   "outputs": [],
   "source": []
  }
 ],
 "metadata": {
  "kernelspec": {
   "display_name": "Python 3 (ipykernel)",
   "language": "python",
   "name": "python3"
  },
  "language_info": {
   "codemirror_mode": {
    "name": "ipython",
    "version": 3
   },
   "file_extension": ".py",
   "mimetype": "text/x-python",
   "name": "python",
   "nbconvert_exporter": "python",
   "pygments_lexer": "ipython3",
   "version": "3.9.7"
  }
 },
 "nbformat": 4,
 "nbformat_minor": 5
}
