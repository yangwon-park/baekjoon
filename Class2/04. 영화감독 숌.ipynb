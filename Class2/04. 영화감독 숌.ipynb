{
 "cells": [
  {
   "cell_type": "markdown",
   "id": "77f50553",
   "metadata": {},
   "source": [
    "### 1436 영화감독 숌"
   ]
  },
  {
   "cell_type": "code",
   "execution_count": 4,
   "id": "34adfc7e",
   "metadata": {},
   "outputs": [
    {
     "name": "stdout",
     "output_type": "stream",
     "text": [
      "187\n",
      "66666\n"
     ]
    }
   ],
   "source": [
    "n = int(input())\n",
    "\n",
    "# 가장 작은 종말의 숫자\n",
    "hell = 666\n",
    "\n",
    "# 몇번째 온 종말의 수인지 담을 변수\n",
    "seq = 0\n",
    "\n",
    "\n",
    "while True:\n",
    "    if '666' in str(hell):\n",
    "        seq += 1\n",
    "    \n",
    "    # 입력받은 n과 종말의 수의 순설르 담은 변수가 같다면 반복 탈출\n",
    "    if seq == n:\n",
    "        print(hell)\n",
    "        break\n",
    "        \n",
    "    # 가장 작은 종말의 숫자에서 1씩 계속 더하면서 반복으로 확인\n",
    "    hell += 1\n",
    "\n"
   ]
  },
  {
   "cell_type": "code",
   "execution_count": null,
   "id": "1a34ea2e",
   "metadata": {},
   "outputs": [],
   "source": []
  }
 ],
 "metadata": {
  "kernelspec": {
   "display_name": "Python 3 (ipykernel)",
   "language": "python",
   "name": "python3"
  },
  "language_info": {
   "codemirror_mode": {
    "name": "ipython",
    "version": 3
   },
   "file_extension": ".py",
   "mimetype": "text/x-python",
   "name": "python",
   "nbconvert_exporter": "python",
   "pygments_lexer": "ipython3",
   "version": "3.9.7"
  }
 },
 "nbformat": 4,
 "nbformat_minor": 5
}
