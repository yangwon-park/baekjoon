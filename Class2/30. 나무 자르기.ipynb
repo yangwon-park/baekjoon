{
 "cells": [
  {
   "cell_type": "markdown",
   "id": "21b98dac",
   "metadata": {},
   "source": [
    "### 2805 나무 자르기"
   ]
  },
  {
   "cell_type": "code",
   "execution_count": 24,
   "id": "4e2cc578",
   "metadata": {},
   "outputs": [
    {
     "name": "stdout",
     "output_type": "stream",
     "text": [
      "4 7\n",
      "20 15 10 17\n",
      "15\n"
     ]
    }
   ],
   "source": [
    "n, m =  map(int, input().split())\n",
    "\n",
    "tree = list(map(int, input().split()))\n",
    "\n",
    "start = 0\n",
    "end = max(tree)\n",
    "\n",
    "target = 0\n",
    "\n",
    "while (start <= end):\n",
    "    mid = (start + end) // 2\n",
    "    \n",
    "    tot_height = 0\n",
    "    \n",
    "#     for t in tree:\n",
    "#         if t - mid > 0:\n",
    "#             tot_height += (t - mid)\n",
    "    \n",
    "    tot_height = sum(t - mid if t > mid else 0 for i in tree)\n",
    "    \n",
    "    if tot_height == m:\n",
    "        target = mid\n",
    "        break\n",
    "    \n",
    "    if tot_height > m:\n",
    "        start = mid + 1\n",
    "        target = mid\n",
    "    else:\n",
    "        end = mid - 1\n",
    "\n",
    "print(target) "
   ]
  },
  {
   "cell_type": "code",
   "execution_count": null,
   "id": "16445b85",
   "metadata": {},
   "outputs": [],
   "source": []
  }
 ],
 "metadata": {
  "kernelspec": {
   "display_name": "Python 3 (ipykernel)",
   "language": "python",
   "name": "python3"
  },
  "language_info": {
   "codemirror_mode": {
    "name": "ipython",
    "version": 3
   },
   "file_extension": ".py",
   "mimetype": "text/x-python",
   "name": "python",
   "nbconvert_exporter": "python",
   "pygments_lexer": "ipython3",
   "version": "3.9.7"
  }
 },
 "nbformat": 4,
 "nbformat_minor": 5
}
