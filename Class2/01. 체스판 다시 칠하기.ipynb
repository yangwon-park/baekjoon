{
 "cells": [
  {
   "cell_type": "markdown",
   "id": "7fd48c47",
   "metadata": {},
   "source": [
    "### 1018 체스판 다시 칠하기\n"
   ]
  },
  {
   "cell_type": "code",
   "execution_count": 40,
   "id": "15a4ca74",
   "metadata": {},
   "outputs": [
    {
     "name": "stdout",
     "output_type": "stream",
     "text": [
      "10 13\n",
      "BBBBBBBBWBWBW\n",
      "BBBBBBBBBWBWB\n",
      "BBBBBBBBWBWBW\n",
      "BBBBBBBBBWBWB\n",
      "BBBBBBBBWBWBW\n",
      "BBBBBBBBBWBWB\n",
      "BBBBBBBBWBWBW\n",
      "BBBBBBBBBWBWB\n",
      "WWWWWWWWWWBWB\n",
      "WWWWWWWWWWBWB\n",
      "84\n"
     ]
    }
   ],
   "source": [
    "# 체스판 전체 다시 칠하기\n",
    "n, m = map(int, input().split())\n",
    "board = []\n",
    "cnt = 0\n",
    "for i in range(n):\n",
    "    board.append(list(map(str, input())))\n",
    "    \n",
    "for x in range(n-1):\n",
    "    for y in range(m-1):\n",
    "        if board[x][y] == 'W':\n",
    "            if board[x][y] == board[x][y+1]:\n",
    "                board[x][y+1] = 'B'\n",
    "                cnt += 1\n",
    "                \n",
    "            if board[x][y] == board[x+1][y]:\n",
    "                board[x+1][y] = 'B'\n",
    "                cnt += 1\n",
    "                \n",
    "        else:\n",
    "            if board[x][y] == board[x][y+1]:\n",
    "                board[x][y+1] = 'W'\n",
    "                cnt += 1\n",
    "                \n",
    "            if board[x][y] == board[x+1][y]:\n",
    "                board[x+1][y] = 'W'\n",
    "                cnt += 1\n",
    "\n",
    "print(cnt)"
   ]
  },
  {
   "cell_type": "code",
   "execution_count": 53,
   "id": "745f01f7",
   "metadata": {},
   "outputs": [
    {
     "name": "stdout",
     "output_type": "stream",
     "text": [
      "8 8\n",
      "WBWBWBWB\n",
      "BWBWBWBW\n",
      "WBWBWBWB\n",
      "BWBBBWBW\n",
      "WBWBWBWB\n",
      "BWBWBWBW\n",
      "WBWBWBWB\n",
      "BWBWBWBW\n",
      "0 8\n",
      "0 16\n",
      "0 24\n",
      "1 31\n",
      "1 39\n",
      "1 47\n",
      "1 55\n",
      "1 63\n",
      "1\n"
     ]
    }
   ],
   "source": [
    "# 8x8 크기로 잘라서 체스판 만들기\n",
    "n, m = map(int, input().split())\n",
    "board = []\n",
    "cnt = []\n",
    "for _ in range(n):\n",
    "    board.append(list(input()))\n",
    "    \n",
    "# 전체 체스판을 8x8로 나누어서 계속 반복해야함\n",
    "# 앞 2개의 for문 : 자르는 범위의 시작점 즉, 맨 왼쪽 좌표 설정\n",
    "# 뒤 2개의 for문 : 시작점을 기준으로 8칸 씩 반복해서 'W', 'B' 체크\n",
    "for x in range(n-7):\n",
    "    for y in range(m-7):\n",
    "        w_idx = 0         # 시작점이 W인 경우 카운트\n",
    "        b_idx = 0         # 시작점이 B인 경우 카운트\n",
    "        \n",
    "        for i in range(x, x+8):\n",
    "            for j in range(y, y+8):\n",
    "                # 시작점의 색 == 행 + 열이 짝수\n",
    "                if (i+j) % 2 == 0:\n",
    "                    if board[i][j] != 'W':\n",
    "                        w_idx += 1\n",
    "                    if board[i][j] != 'B':\n",
    "                        b_idx += 1\n",
    "                else:\n",
    "                    if board[i][j] != 'B':\n",
    "                        w_idx += 1\n",
    "                    if board[i][j] != 'W':\n",
    "                        b_idx += 1\n",
    "            # w_idx, b_idx의 변동 확인\n",
    "            # print(w_idx, b_idx)\n",
    "        \n",
    "        # 다시 칠해야 하는 정사각형 개수의 최솟값을 출력\n",
    "        cnt.append(min(w_idx, b_idx))\n",
    "        \n",
    "print(min(cnt))"
   ]
  }
 ],
 "metadata": {
  "kernelspec": {
   "display_name": "Python 3 (ipykernel)",
   "language": "python",
   "name": "python3"
  },
  "language_info": {
   "codemirror_mode": {
    "name": "ipython",
    "version": 3
   },
   "file_extension": ".py",
   "mimetype": "text/x-python",
   "name": "python",
   "nbconvert_exporter": "python",
   "pygments_lexer": "ipython3",
   "version": "3.9.7"
  }
 },
 "nbformat": 4,
 "nbformat_minor": 5
}
