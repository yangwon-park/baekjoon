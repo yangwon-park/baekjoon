{
 "cells": [
  {
   "cell_type": "markdown",
   "id": "e5025ea8",
   "metadata": {},
   "source": [
    "### 1966 프린터 큐"
   ]
  },
  {
   "cell_type": "markdown",
   "id": "f7a92e1d",
   "metadata": {},
   "source": [
    "#### 큐 활용"
   ]
  },
  {
   "cell_type": "code",
   "execution_count": 52,
   "id": "177491d6",
   "metadata": {},
   "outputs": [
    {
     "name": "stdout",
     "output_type": "stream",
     "text": [
      "1\n",
      "6 0\n",
      "1 1 9 1 1 1\n",
      "5\n"
     ]
    }
   ],
   "source": [
    "from collections import deque\n",
    "\n",
    "# 테스트 케이스 개수 받는 변수\n",
    "t = int(input())\n",
    "\n",
    "for _ in range(t):\n",
    "    # n : 문서의 개수, m : 원하는 문서가 있는 위치\n",
    "    n, m = map(int, input().split())\n",
    "   \n",
    "    # 중요도 받을 덱 생성\n",
    "    deq = deque(map(int, input().split()))\n",
    "    \n",
    "    # 최종적으로 원하는 문서가 마지막으로 위치할 값을 담을 변수\n",
    "    final_idx = 0\n",
    "    \n",
    "    while deq:\n",
    "        \n",
    "        # 중요도가 가장 높은 값 담을 변수\n",
    "        max_ = max(deq)\n",
    "        \n",
    "        # 첫번째 요소를 일단 제거\n",
    "        first = deq.popleft()\n",
    "       \n",
    "        # 요소가 하나씩 줄 때마다 원하는 위치값도 1씩 작아짐\n",
    "        m -= 1\n",
    "        \n",
    "        # 첫번째 요소와 가장 높은 중요도와 같다면 원하는 문서의 마지막 위치값 +1\n",
    "        if max_ == first:\n",
    "            final_idx += 1\n",
    "            \n",
    "            # m이 음수 => 원하는 문서의 위치값에 도달\n",
    "            if m < 0:\n",
    "                print(final_idx)\n",
    "                break\n",
    "        else:\n",
    "            deq.append(first)\n",
    "            if m < 0:\n",
    "                m = len(deq) - 1        \n"
   ]
  },
  {
   "cell_type": "markdown",
   "id": "196daf6b",
   "metadata": {},
   "source": [
    "#### 리스트 활용"
   ]
  },
  {
   "cell_type": "code",
   "execution_count": 55,
   "id": "329506e7",
   "metadata": {},
   "outputs": [
    {
     "name": "stdout",
     "output_type": "stream",
     "text": [
      "1\n",
      "6 0\n",
      "1 1 9 1 1 1\n",
      "5\n"
     ]
    }
   ],
   "source": [
    "t = int(input())\n",
    "\n",
    "for _ in range(t):\n",
    "    n, m = map(int, input().split())\n",
    "    \n",
    "    # 중요도를 담을 리스트\n",
    "    docu_p_list = list(map(int, input().split()))\n",
    "    \n",
    "    # 원하는 문서의 현재 위치를 담을 리스트\n",
    "    docu_p_idx = [0 for _ in range(n)]\n",
    "    \n",
    "    # m번째 요소의 값만 1로 변환\n",
    "    docu_p_idx[m] = 1\n",
    "    \n",
    "    # 최종적으로 출력할 값\n",
    "    final_idx = 0\n",
    "    \n",
    "    while True:\n",
    "        \n",
    "        # 맨 처음 요소와 가장 높은 중요도가 일치하지 않는 경우\n",
    "        if docu_p_list[0] != max(docu_p_list):\n",
    "            \n",
    "            # 앞에서 지우고 뒤로 보낸다\n",
    "            docu_p_list.append(docu_p_list[0])\n",
    "            docu_p_idx.append(docu_p_idx[0])\n",
    "            docu_p_list.pop(0)\n",
    "            docu_p_idx.pop(0)\n",
    "        \n",
    "        # 맨 처음 요소가 가장 높은 중요도인 경우\n",
    "        else:\n",
    "            final_idx += 1\n",
    "            \n",
    "            # 1이 아니라면 원하는 문서가 아니니까 리스트에서 삭제\n",
    "            if docu_p_idx[0] != 1:\n",
    "                docu_p_list.pop(0)\n",
    "                docu_p_idx.pop(0)\n",
    "            else:\n",
    "                print(final_idx)\n",
    "                break           "
   ]
  }
 ],
 "metadata": {
  "kernelspec": {
   "display_name": "Python 3 (ipykernel)",
   "language": "python",
   "name": "python3"
  },
  "language_info": {
   "codemirror_mode": {
    "name": "ipython",
    "version": 3
   },
   "file_extension": ".py",
   "mimetype": "text/x-python",
   "name": "python",
   "nbconvert_exporter": "python",
   "pygments_lexer": "ipython3",
   "version": "3.9.7"
  }
 },
 "nbformat": 4,
 "nbformat_minor": 5
}
