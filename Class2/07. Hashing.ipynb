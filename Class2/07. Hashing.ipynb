{
 "cells": [
  {
   "cell_type": "markdown",
   "id": "e586d40f",
   "metadata": {},
   "source": [
    "### 15829 Hasing"
   ]
  },
  {
   "cell_type": "code",
   "execution_count": 29,
   "id": "86b24389",
   "metadata": {},
   "outputs": [
    {
     "name": "stdout",
     "output_type": "stream",
     "text": [
      "5\n",
      "abcde\n",
      "4739715\n"
     ]
    }
   ],
   "source": [
    "l = int(input())\n",
    "word = list(input())\n",
    "\n",
    "# r, M은 서로소\n",
    "M = 1234567891\n",
    "r = 31\n",
    "\n",
    "# 입력받은 문자열을 숫자로 변환\n",
    "num_list = list(map(lambda x: ord(x)-96, word))\n",
    "\n",
    "# 해시 값을 담을 변수\n",
    "h_tot = 0\n",
    "\n",
    "for i in range(len(word)):\n",
    "    h_tot += num_list[i] * (r ** i)\n",
    "    \n",
    "print(h_tot % M)"
   ]
  }
 ],
 "metadata": {
  "kernelspec": {
   "display_name": "Python 3 (ipykernel)",
   "language": "python",
   "name": "python3"
  },
  "language_info": {
   "codemirror_mode": {
    "name": "ipython",
    "version": 3
   },
   "file_extension": ".py",
   "mimetype": "text/x-python",
   "name": "python",
   "nbconvert_exporter": "python",
   "pygments_lexer": "ipython3",
   "version": "3.9.7"
  }
 },
 "nbformat": 4,
 "nbformat_minor": 5
}
