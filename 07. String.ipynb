{
 "cells": [
  {
   "cell_type": "code",
   "execution_count": 3,
   "id": "7cb5ec6a",
   "metadata": {},
   "outputs": [
    {
     "name": "stdout",
     "output_type": "stream",
     "text": [
      "b\n",
      "98\n"
     ]
    }
   ],
   "source": [
    "ch = input()\n",
    "\n",
    "print(ord(ch))"
   ]
  },
  {
   "cell_type": "code",
   "execution_count": 11,
   "id": "8d1b2c28",
   "metadata": {},
   "outputs": [
    {
     "name": "stdout",
     "output_type": "stream",
     "text": [
      "5\n",
      "54321\n"
     ]
    }
   ],
   "source": [
    "n = int(input())\n",
    "str_ = input()\n",
    "sum_ = 0\n",
    "\n",
    "for i in range(len(str_)):\n",
    "    sum_ += int(str_[i])\n",
    "    \n",
    "print(sum_)"
   ]
  },
  {
   "cell_type": "code",
   "execution_count": 21,
   "id": "7ca916e9",
   "metadata": {},
   "outputs": [
    {
     "name": "stdout",
     "output_type": "stream",
     "text": [
      "baekjoon\n"
     ]
    }
   ],
   "source": [
    "str_ = input()"
   ]
  },
  {
   "cell_type": "code",
   "execution_count": 22,
   "id": "bfc81f4e",
   "metadata": {},
   "outputs": [
    {
     "data": {
      "text/plain": [
       "'baekjoon'"
      ]
     },
     "execution_count": 22,
     "metadata": {},
     "output_type": "execute_result"
    }
   ],
   "source": [
    "str_"
   ]
  },
  {
   "cell_type": "code",
   "execution_count": 23,
   "id": "6d784c97",
   "metadata": {},
   "outputs": [],
   "source": [
    "list_ = [-1 for i in range(26)]"
   ]
  },
  {
   "cell_type": "code",
   "execution_count": 24,
   "id": "19c46cd7",
   "metadata": {},
   "outputs": [
    {
     "data": {
      "text/plain": [
       "[-1,\n",
       " -1,\n",
       " -1,\n",
       " -1,\n",
       " -1,\n",
       " -1,\n",
       " -1,\n",
       " -1,\n",
       " -1,\n",
       " -1,\n",
       " -1,\n",
       " -1,\n",
       " -1,\n",
       " -1,\n",
       " -1,\n",
       " -1,\n",
       " -1,\n",
       " -1,\n",
       " -1,\n",
       " -1,\n",
       " -1,\n",
       " -1,\n",
       " -1,\n",
       " -1,\n",
       " -1,\n",
       " -1]"
      ]
     },
     "execution_count": 24,
     "metadata": {},
     "output_type": "execute_result"
    }
   ],
   "source": [
    "list_"
   ]
  },
  {
   "cell_type": "code",
   "execution_count": 41,
   "id": "a4fd123f",
   "metadata": {},
   "outputs": [
    {
     "name": "stdout",
     "output_type": "stream",
     "text": [
      "1 0 -1 -1 2 -1 -1 -1 -1 4 3 -1 -1 7 5 -1 -1 -1 -1 -1 -1 -1 -1 -1 -1 -1 "
     ]
    }
   ],
   "source": [
    "for i in range(97, 123):\n",
    "    for j in range(len(str_)):\n",
    "        a = -1\n",
    "        if chr(i) == str_[j]:\n",
    "            a = j\n",
    "            break\n",
    "    print(a, end= ' ')"
   ]
  },
  {
   "cell_type": "code",
   "execution_count": 37,
   "id": "f13fb548",
   "metadata": {},
   "outputs": [
    {
     "name": "stdout",
     "output_type": "stream",
     "text": [
      "baekjoon\n",
      "1 0 -1 -1 2 -1 -1 -1 -1 4 3 -1 -1 7 5 -1 -1 -1 -1 -1 -1 -1 -1 -1 -1 -1 "
     ]
    }
   ],
   "source": [
    "string = input()\n",
    "alphabet = \"abcdefghijklmnopqrstuvwxyz\"\n",
    "for i in alphabet:\n",
    "    # find() : 문자열이 존재하지 않으면 -1을 반환\n",
    "    print(string.find(i), end = ' ')"
   ]
  },
  {
   "cell_type": "code",
   "execution_count": 50,
   "id": "5b452ad1",
   "metadata": {},
   "outputs": [
    {
     "name": "stdout",
     "output_type": "stream",
     "text": [
      "baekjoon\n",
      "1 0 -1 -1 2 -1 -1 -1 -1 4 3 -1 -1 7 5 -1 -1 -1 -1 -1 -1 -1 -1 -1 -1 -1 "
     ]
    }
   ],
   "source": [
    "s = input()\n",
    "alph = list(range(97, 123))\n",
    "\n",
    "for i in alph:\n",
    "    print(s.find(chr(i)), end=' ')"
   ]
  },
  {
   "cell_type": "code",
   "execution_count": 58,
   "id": "0bd9e9c5",
   "metadata": {},
   "outputs": [
    {
     "name": "stdout",
     "output_type": "stream",
     "text": [
      "2\n",
      "3 ABC\n",
      "AAABBBCCC\n",
      "5 /HTP\n",
      "/////HHHHHTTTTTPPPPP\n"
     ]
    }
   ],
   "source": [
    "n = int(input())\n",
    "\n",
    "for i in range(n):\n",
    "    c, str_ = input().split()\n",
    "    \n",
    "    for j in range(len(str_)):\n",
    "        for k in range(int(c)):\n",
    "            print(str_[j], end='')\n",
    "    print()"
   ]
  },
  {
   "cell_type": "code",
   "execution_count": 132,
   "id": "8cfcaf0f",
   "metadata": {},
   "outputs": [
    {
     "name": "stdout",
     "output_type": "stream",
     "text": [
      "kkkaa\n",
      "10 K\n"
     ]
    }
   ],
   "source": [
    "# 시간초과 => 너무 자바 스타일로 품\n",
    "str_ = input().upper()\n",
    "\n",
    "list_ = [0 for i in range(26)]\n",
    "\n",
    "for i in str_:\n",
    "    k = ord(i) - 65 \n",
    "    list_[k] += 1\n",
    "    \n",
    "    max_ = max(list_)\n",
    "    \n",
    "    for j in range(len(str_)):\n",
    "        idx = list_.index(max_)\n",
    "        \n",
    "if list_.count(max(list_)) > 1:\n",
    "    print('?')\n",
    "else:\n",
    "    print(idx, chr(idx + 65))\n",
    "\n"
   ]
  },
  {
   "cell_type": "code",
   "execution_count": 1,
   "id": "c3000152",
   "metadata": {},
   "outputs": [
    {
     "name": "stdout",
     "output_type": "stream",
     "text": [
      "zAa\n",
      "A\n"
     ]
    }
   ],
   "source": [
    "str_ = input().upper()\n",
    "str_list = list(set(str_))\n",
    "\n",
    "cnt_list = []\n",
    "\n",
    "for i in str_list:\n",
    "    cnt = str_.count\n",
    "    cnt_list.append(cnt(i))\n",
    "\n",
    "if cnt_list.count(max(cnt_list)) > 1:\n",
    "    print('?')\n",
    "else:\n",
    "    print(str_list[(cnt_list.index(max(cnt_list)))])"
   ]
  },
  {
   "cell_type": "code",
   "execution_count": 24,
   "id": "f1b1558a",
   "metadata": {},
   "outputs": [
    {
     "name": "stdout",
     "output_type": "stream",
     "text": [
      "the last character is a blank \n",
      "6\n"
     ]
    }
   ],
   "source": [
    "str_ = list(input())\n",
    "if str_ != []:\n",
    "    cnt = str_.count(' ') + 1\n",
    "    if str_[0] == ' ' or str_[len(str_) - 1] == ' ':\n",
    "        cnt -= 1\n",
    "else:\n",
    "    cnt = 0\n",
    "\n",
    "print(cnt)"
   ]
  },
  {
   "cell_type": "code",
   "execution_count": 68,
   "id": "30f56f11",
   "metadata": {},
   "outputs": [
    {
     "name": "stdout",
     "output_type": "stream",
     "text": [
      "show me the money\n",
      "4\n"
     ]
    }
   ],
   "source": [
    "str_ = input()\n",
    "\n",
    "result = str_.split(' ')\n",
    "result = list(filter(lambda a: a != '', result))\n",
    "print(len(result))"
   ]
  },
  {
   "cell_type": "code",
   "execution_count": 88,
   "id": "e15c6975",
   "metadata": {},
   "outputs": [],
   "source": [
    "# filter('').__ne__ 활용 (매직메소드)\n",
    "# str3 = list(filter(('').__ne__, str3))"
   ]
  },
  {
   "cell_type": "code",
   "execution_count": 120,
   "id": "a8d5028d",
   "metadata": {},
   "outputs": [
    {
     "name": "stdout",
     "output_type": "stream",
     "text": [
      "839 237\n",
      "938\n"
     ]
    }
   ],
   "source": [
    "num_ = input().split()\n",
    "list_ = []\n",
    "\n",
    "for i in num_:\n",
    "    re = list(map(int, i))\n",
    "    str_ = list(map(str, re))\n",
    "    rev = str_.reverse()\n",
    "    rev = ''.join(str_)\n",
    "    list_.append(int(rev))\n",
    "print(max(list_))"
   ]
  },
  {
   "cell_type": "code",
   "execution_count": 134,
   "id": "e0663cd3",
   "metadata": {},
   "outputs": [
    {
     "name": "stdout",
     "output_type": "stream",
     "text": [
      "unucic\n"
     ]
    }
   ],
   "source": [
    "str_ = list(input().upper())\n",
    "\n",
    "for i in range(len(str_)):\n",
    "    if str_[i] in ('A', 'B', 'C'):\n",
    "        str_[i] = '3'\n",
    "    elif str_[i] in ('D', 'E', 'F'):\n",
    "        str_[i] = '4'\n",
    "    elif str_[i] in ('G', 'H', 'I'):\n",
    "        str_[i] = '5'\n",
    "    elif str_[i] in ('J', 'K', 'L'):\n",
    "        str_[i] = '6'\n",
    "    elif str_[i] in ('M', 'N', 'O'):\n",
    "        str_[i] = '7'\n",
    "    elif str_[i] in ('P', 'Q', 'R', 'S'):\n",
    "        str_[i] = '8'\n",
    "    elif str_[i] in ('T', 'U', 'V'):\n",
    "        str_[i] = '9'\n",
    "    elif str_[i] in ('W', 'X', 'Y', 'Z'):\n",
    "        str_[i] = '10'\n",
    "\n",
    "print(sum(list(map(int, str_))))"
   ]
  },
  {
   "cell_type": "code",
   "execution_count": 137,
   "id": "a369f442",
   "metadata": {},
   "outputs": [],
   "source": [
    "dial = ['ABC', 'DEF', 'GHI', 'JKL', 'MNO', 'PQRS', 'TUV', 'WXYZ']\n",
    "a = input()\n",
    "ret = 0\n",
    "for j in range(len(a)):\n",
    "    for i in dial:\n",
    "        if a[j] in i:\n",
    "            ret += dial.index(i)+3\n",
    "print(ret)"
   ]
  },
  {
   "cell_type": "code",
   "execution_count": 191,
   "id": "912adb66",
   "metadata": {},
   "outputs": [
    {
     "name": "stdout",
     "output_type": "stream",
     "text": [
      "ljes=njak\n"
     ]
    }
   ],
   "source": [
    "cro = input()\n",
    "li = ['c=', 'c-', 'dz=', 'd-', 'lj', 'nj', 's=', 'z=']\n",
    "\n",
    "for i in li:\n",
    "    # 2글자로 묶인 단어를 1개로 카운팅하게만 만들면 되므로 replace 메소드 안의 '1'은 char 아무거나 들어가도 상관없음\n",
    "    cro = cro.replace(i, '1')\n",
    "print(len(cro))"
   ]
  },
  {
   "cell_type": "code",
   "execution_count": 34,
   "id": "76827f6b",
   "metadata": {},
   "outputs": [
    {
     "name": "stdout",
     "output_type": "stream",
     "text": [
      "1\n",
      "abababab\n",
      "-5\n"
     ]
    }
   ],
   "source": [
    "n = int(input())\n",
    "result = n\n",
    "\n",
    "for i in range(n):\n",
    "    list_ = input()\n",
    "    for j in range(len(list_)-1):\n",
    "        if list_[j] == list_[j + 1]:\n",
    "            continue\n",
    "        elif list_[j] in list_[j + 1:]:\n",
    "            result -= 1\n",
    "            break\n",
    "print(result)"
   ]
  },
  {
   "cell_type": "code",
   "execution_count": null,
   "id": "77e3e9f5",
   "metadata": {},
   "outputs": [],
   "source": []
  },
  {
   "cell_type": "code",
   "execution_count": null,
   "id": "79b40a38",
   "metadata": {},
   "outputs": [],
   "source": []
  },
  {
   "cell_type": "code",
   "execution_count": null,
   "id": "4007b821",
   "metadata": {},
   "outputs": [],
   "source": []
  },
  {
   "cell_type": "code",
   "execution_count": null,
   "id": "980654a9",
   "metadata": {},
   "outputs": [],
   "source": []
  },
  {
   "cell_type": "code",
   "execution_count": null,
   "id": "369e87d9",
   "metadata": {},
   "outputs": [],
   "source": []
  },
  {
   "cell_type": "code",
   "execution_count": null,
   "id": "8c78e7fa",
   "metadata": {},
   "outputs": [],
   "source": []
  },
  {
   "cell_type": "code",
   "execution_count": 113,
   "id": "66ab7d81",
   "metadata": {},
   "outputs": [],
   "source": []
  },
  {
   "cell_type": "code",
   "execution_count": null,
   "id": "35db1807",
   "metadata": {},
   "outputs": [],
   "source": []
  },
  {
   "cell_type": "code",
   "execution_count": null,
   "id": "a800fbd6",
   "metadata": {},
   "outputs": [],
   "source": []
  },
  {
   "cell_type": "code",
   "execution_count": null,
   "id": "041dad20",
   "metadata": {},
   "outputs": [],
   "source": []
  }
 ],
 "metadata": {
  "kernelspec": {
   "display_name": "Python 3 (ipykernel)",
   "language": "python",
   "name": "python3"
  },
  "language_info": {
   "codemirror_mode": {
    "name": "ipython",
    "version": 3
   },
   "file_extension": ".py",
   "mimetype": "text/x-python",
   "name": "python",
   "nbconvert_exporter": "python",
   "pygments_lexer": "ipython3",
   "version": "3.9.7"
  }
 },
 "nbformat": 4,
 "nbformat_minor": 5
}
