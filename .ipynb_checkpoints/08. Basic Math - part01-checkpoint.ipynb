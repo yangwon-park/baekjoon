{
 "cells": [
  {
   "cell_type": "code",
   "execution_count": 244,
   "id": "ec8e32cf",
   "metadata": {},
   "outputs": [
    {
     "name": "stdout",
     "output_type": "stream",
     "text": [
      "123123\n",
      "204\n"
     ]
    }
   ],
   "source": [
    "# 맞는데 시간초과 => ㅠㅠ\n",
    "n = int(input())\n",
    "\n",
    "cycle = 1\n",
    "term = 6\n",
    "room = 1\n",
    "\n",
    "for i in range(n):\n",
    "    \n",
    "    if (room == 1):\n",
    "        room += 1\n",
    "        cycle +=1\n",
    "        continue \n",
    "    \n",
    "    if (room - 2 == (cycle * (cycle - 1) / 2) * term):\n",
    "        #print('room : ', room, 'cycle : ', cycle)\n",
    "        cycle += 1\n",
    "    room += 1\n",
    "\n",
    "if (n == 1):\n",
    "    print(n)\n",
    "else:\n",
    "    print(cycle)"
   ]
  },
  {
   "cell_type": "code",
   "execution_count": 245,
   "id": "0db97743",
   "metadata": {},
   "outputs": [
    {
     "name": "stdout",
     "output_type": "stream",
     "text": [
      "123123\n",
      "204\n"
     ]
    }
   ],
   "source": [
    "num = int(input())\n",
    "\n",
    "bee = 1\n",
    "cnt = 1\n",
    "\n",
    "while num > bee:\n",
    "    bee += 6 * cnt\n",
    "    cnt += 1\n",
    "print(cnt)"
   ]
  },
  {
   "cell_type": "code",
   "execution_count": 297,
   "id": "b2d665fd",
   "metadata": {},
   "outputs": [
    {
     "name": "stdout",
     "output_type": "stream",
     "text": [
      "1\n"
     ]
    }
   ],
   "source": [
    "# ax - b(x-1) >= v\n",
    "import math\n",
    "a, b, v = map(int. input().split())\n",
    "day = (v-b)/(a-b)\n",
    "\n",
    "print(math.ceil(day))\n",
    "    "
   ]
  },
  {
   "cell_type": "code",
   "execution_count": 321,
   "id": "4d7c5d51",
   "metadata": {
    "scrolled": true
   },
   "outputs": [
    {
     "name": "stdout",
     "output_type": "stream",
     "text": [
      "1\n",
      "6 6 36\n",
      "606\n"
     ]
    }
   ],
   "source": [
    "t = int(input())\n",
    "room_num = 0\n",
    "\n",
    "for i in range(t):\n",
    "    h, w, n = map(int, input().split())\n",
    "    if (n % h == 0):\n",
    "        room_num = h * 100 + (n // h)\n",
    "    else:\n",
    "        room_num = (n % h) * 100 + (n // h + 1)\n",
    "    print(room_num)"
   ]
  },
  {
   "cell_type": "code",
   "execution_count": 334,
   "id": "b0bbb496",
   "metadata": {},
   "outputs": [
    {
     "name": "stdout",
     "output_type": "stream",
     "text": [
      "1\n",
      "1\n",
      "3\n",
      "6\n"
     ]
    }
   ],
   "source": [
    "t = int(input())\n",
    "\n",
    "for i in range(t):\n",
    "    k = int(input())\n",
    "    n = int(input())\n",
    "    \n",
    "    floor = [x for x in range(1, n + 1)] #0층 호수별 사람 수\n",
    "    \n",
    "    for _ in range(k):\n",
    "        for j in range(1, n):\n",
    "            floor[j] += floor[j-1]\n",
    "    \n",
    "    print(floor[-1])"
   ]
  },
  {
   "cell_type": "code",
   "execution_count": 328,
   "id": "be75f426",
   "metadata": {},
   "outputs": [
    {
     "data": {
      "text/plain": [
       "[1, 2, 3, 4, 5, 6, 7, 8, 9]"
      ]
     },
     "execution_count": 328,
     "metadata": {},
     "output_type": "execute_result"
    }
   ],
   "source": [
    "floor"
   ]
  },
  {
   "cell_type": "code",
   "execution_count": 365,
   "id": "58cc4656",
   "metadata": {},
   "outputs": [
    {
     "name": "stdout",
     "output_type": "stream",
     "text": [
      "18\n",
      "4\n"
     ]
    }
   ],
   "source": [
    "n = int(input())\n",
    "cnt = 0\n",
    "\n",
    "while True:        \n",
    "    if (n % 5 == 0):\n",
    "        cnt += (n // 5)\n",
    "        print(cnt)\n",
    "        break\n",
    "    n -= 3\n",
    "    cnt += 1\n",
    "    \n",
    "    if n < 0:\n",
    "        print(-1)\n",
    "        break\n",
    "    \n",
    "        "
   ]
  },
  {
   "cell_type": "code",
   "execution_count": null,
   "id": "1573b05c",
   "metadata": {},
   "outputs": [],
   "source": [
    "n = int(input())"
   ]
  },
  {
   "cell_type": "code",
   "execution_count": 339,
   "id": "b38c0a70",
   "metadata": {},
   "outputs": [
    {
     "data": {
      "text/plain": [
       "3"
      ]
     },
     "execution_count": 339,
     "metadata": {},
     "output_type": "execute_result"
    }
   ],
   "source": [
    "n // 5"
   ]
  },
  {
   "cell_type": "code",
   "execution_count": 340,
   "id": "fd079b8d",
   "metadata": {},
   "outputs": [
    {
     "data": {
      "text/plain": [
       "3"
      ]
     },
     "execution_count": 340,
     "metadata": {},
     "output_type": "execute_result"
    }
   ],
   "source": [
    "n % 5 "
   ]
  },
  {
   "cell_type": "code",
   "execution_count": 366,
   "id": "b0789da4",
   "metadata": {},
   "outputs": [
    {
     "name": "stdout",
     "output_type": "stream",
     "text": [
      "91374928375928579 394857394857349583495\n",
      "394948769785725512074\n"
     ]
    }
   ],
   "source": [
    "a, b = map(int, input().split())\n",
    "print(a + b)"
   ]
  },
  {
   "cell_type": "code",
   "execution_count": null,
   "id": "8726bc7f",
   "metadata": {},
   "outputs": [],
   "source": []
  },
  {
   "cell_type": "code",
   "execution_count": null,
   "id": "33fb9618",
   "metadata": {},
   "outputs": [],
   "source": []
  },
  {
   "cell_type": "code",
   "execution_count": null,
   "id": "f0fa91a3",
   "metadata": {},
   "outputs": [],
   "source": []
  },
  {
   "cell_type": "code",
   "execution_count": null,
   "id": "b853d810",
   "metadata": {},
   "outputs": [],
   "source": []
  },
  {
   "cell_type": "code",
   "execution_count": null,
   "id": "347f2149",
   "metadata": {},
   "outputs": [],
   "source": []
  },
  {
   "cell_type": "code",
   "execution_count": null,
   "id": "8510c9f7",
   "metadata": {},
   "outputs": [],
   "source": []
  },
  {
   "cell_type": "code",
   "execution_count": null,
   "id": "44492a87",
   "metadata": {},
   "outputs": [],
   "source": []
  },
  {
   "cell_type": "code",
   "execution_count": null,
   "id": "134e2b6c",
   "metadata": {},
   "outputs": [],
   "source": []
  },
  {
   "cell_type": "code",
   "execution_count": null,
   "id": "dcb309dd",
   "metadata": {},
   "outputs": [],
   "source": []
  },
  {
   "cell_type": "code",
   "execution_count": null,
   "id": "eaa00bb1",
   "metadata": {},
   "outputs": [],
   "source": []
  },
  {
   "cell_type": "code",
   "execution_count": null,
   "id": "8f39eb8e",
   "metadata": {},
   "outputs": [],
   "source": []
  },
  {
   "cell_type": "code",
   "execution_count": null,
   "id": "8274ae70",
   "metadata": {},
   "outputs": [],
   "source": []
  },
  {
   "cell_type": "code",
   "execution_count": null,
   "id": "97fb9145",
   "metadata": {},
   "outputs": [],
   "source": []
  },
  {
   "cell_type": "code",
   "execution_count": null,
   "id": "178a50d1",
   "metadata": {},
   "outputs": [],
   "source": []
  },
  {
   "cell_type": "code",
   "execution_count": null,
   "id": "5f812e5b",
   "metadata": {},
   "outputs": [],
   "source": []
  },
  {
   "cell_type": "code",
   "execution_count": null,
   "id": "be72af2f",
   "metadata": {},
   "outputs": [],
   "source": []
  },
  {
   "cell_type": "code",
   "execution_count": null,
   "id": "b4254661",
   "metadata": {},
   "outputs": [],
   "source": []
  },
  {
   "cell_type": "code",
   "execution_count": null,
   "id": "aad45ccb",
   "metadata": {},
   "outputs": [],
   "source": []
  },
  {
   "cell_type": "code",
   "execution_count": null,
   "id": "48cf2da2",
   "metadata": {},
   "outputs": [],
   "source": []
  },
  {
   "cell_type": "code",
   "execution_count": null,
   "id": "97aea50d",
   "metadata": {},
   "outputs": [],
   "source": []
  },
  {
   "cell_type": "code",
   "execution_count": null,
   "id": "55f70940",
   "metadata": {},
   "outputs": [],
   "source": []
  }
 ],
 "metadata": {
  "kernelspec": {
   "display_name": "Python 3 (ipykernel)",
   "language": "python",
   "name": "python3"
  },
  "language_info": {
   "codemirror_mode": {
    "name": "ipython",
    "version": 3
   },
   "file_extension": ".py",
   "mimetype": "text/x-python",
   "name": "python",
   "nbconvert_exporter": "python",
   "pygments_lexer": "ipython3",
   "version": "3.9.7"
  }
 },
 "nbformat": 4,
 "nbformat_minor": 5
}
