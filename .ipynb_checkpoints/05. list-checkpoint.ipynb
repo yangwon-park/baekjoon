{
 "cells": [
  {
   "cell_type": "code",
   "execution_count": 5,
   "id": "26e1ec60",
   "metadata": {},
   "outputs": [
    {
     "name": "stdout",
     "output_type": "stream",
     "text": [
      "5\n",
      "20 10 35 30 7\n",
      "35 7\n"
     ]
    }
   ],
   "source": [
    "n = int(input())\n",
    "\n",
    "list_ = list(map(int, input().split()))\n",
    "\n",
    "max_ = max(list_)\n",
    "min_ = min(list_)\n",
    "\n",
    "print(min_, max_)"
   ]
  },
  {
   "cell_type": "code",
   "execution_count": 4,
   "id": "c5568367",
   "metadata": {},
   "outputs": [
    {
     "data": {
      "text/plain": [
       "35"
      ]
     },
     "execution_count": 4,
     "metadata": {},
     "output_type": "execute_result"
    }
   ],
   "source": [
    "max_"
   ]
  },
  {
   "cell_type": "code",
   "execution_count": 11,
   "id": "7ee4f8da",
   "metadata": {},
   "outputs": [
    {
     "name": "stdout",
     "output_type": "stream",
     "text": [
      "3\n",
      "29\n",
      "38\n",
      "12\n",
      "57\n",
      "74\n",
      "40\n",
      "85\n",
      "61\n",
      "\n",
      "85\n",
      "7\n"
     ]
    }
   ],
   "source": [
    "list_ = []\n",
    "for i in range(9):\n",
    "    list_.append(int(input()))\n",
    "print()\n",
    "max_ = max(list_)\n",
    "print(max_)\n",
    "print(list_.index(max_) + 1)"
   ]
  },
  {
   "cell_type": "code",
   "execution_count": 53,
   "id": "fc164ae8",
   "metadata": {},
   "outputs": [
    {
     "name": "stdout",
     "output_type": "stream",
     "text": [
      "150\n",
      "266\n",
      "427\n",
      "3\n",
      "1\n",
      "0\n",
      "2\n",
      "0\n",
      "0\n",
      "0\n",
      "2\n",
      "0\n",
      "0\n"
     ]
    }
   ],
   "source": [
    "a = int(input())\n",
    "b = int(input())\n",
    "c = int(input())\n",
    "\n",
    "nums = [0 for i in range(10)]\n",
    "\n",
    "mul = a * b * c\n",
    "\n",
    "while True:\n",
    "    mo = mul % 10\n",
    "    \n",
    "    mul //= 10\n",
    "    \n",
    "    nums[mo] += 1\n",
    "    \n",
    "    if (mul==0):\n",
    "        break\n",
    "\n",
    "for i in nums:\n",
    "    print(i)\n"
   ]
  },
  {
   "cell_type": "code",
   "execution_count": null,
   "id": "dcfa6273",
   "metadata": {},
   "outputs": [],
   "source": []
  },
  {
   "cell_type": "code",
   "execution_count": null,
   "id": "9a30a238",
   "metadata": {},
   "outputs": [],
   "source": []
  }
 ],
 "metadata": {
  "kernelspec": {
   "display_name": "Python 3 (ipykernel)",
   "language": "python",
   "name": "python3"
  },
  "language_info": {
   "codemirror_mode": {
    "name": "ipython",
    "version": 3
   },
   "file_extension": ".py",
   "mimetype": "text/x-python",
   "name": "python",
   "nbconvert_exporter": "python",
   "pygments_lexer": "ipython3",
   "version": "3.9.7"
  }
 },
 "nbformat": 4,
 "nbformat_minor": 5
}
