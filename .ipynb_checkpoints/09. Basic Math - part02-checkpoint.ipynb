{
 "cells": [
  {
   "cell_type": "code",
   "execution_count": 61,
   "id": "0a979158",
   "metadata": {},
   "outputs": [
    {
     "name": "stdout",
     "output_type": "stream",
     "text": [
      "4\n",
      "1 3 5 7\n",
      "3\n"
     ]
    }
   ],
   "source": [
    "n = int(input())\n",
    "cnt = 0\n",
    "num = list(map(int, input().split()))\n",
    "\n",
    "for i in range(len(num)):\n",
    "    prime_cnt = 0\n",
    "    \n",
    "    if num[i] == 1:\n",
    "        continue\n",
    "    \n",
    "    for j in range(2, num[i]-1):\n",
    "        if num[i] % j == 0:\n",
    "            prime_cnt += 1\n",
    "            break\n",
    "            \n",
    "    if prime_cnt == 0:\n",
    "        cnt += 1\n",
    "        \n",
    "print(cnt)"
   ]
  },
  {
   "cell_type": "code",
   "execution_count": 121,
   "id": "dc59f99a",
   "metadata": {},
   "outputs": [
    {
     "name": "stdout",
     "output_type": "stream",
     "text": [
      "14\n",
      "16\n",
      "-1\n"
     ]
    }
   ],
   "source": [
    "m = int(input())\n",
    "n = int(input())\n",
    "\n",
    "check_list = []\n",
    "final_list = []\n",
    "\n",
    "for i in range(m, n+1):\n",
    "    check_list.append(i)\n",
    "    \n",
    "for p in check_list:\n",
    "    cnt = 0\n",
    "    \n",
    "    if p == 1:\n",
    "        continue\n",
    "    \n",
    "    for j in range(2, p):\n",
    "        \n",
    "        if p % j == 0:\n",
    "            cnt += 1\n",
    "            break\n",
    "    \n",
    "    if cnt == 0:\n",
    "        final_list.append(p)\n",
    "    \n",
    "if len(final_list) > 0 :\n",
    "    print(sum(final_list))\n",
    "    print(min(final_list))\n",
    "else:\n",
    "    print(-1)"
   ]
  },
  {
   "cell_type": "code",
   "execution_count": 148,
   "id": "919c7e27",
   "metadata": {},
   "outputs": [
    {
     "name": "stdout",
     "output_type": "stream",
     "text": [
      "1\n"
     ]
    }
   ],
   "source": [
    "n = int(input())\n",
    "\n",
    "for i in range(2, n+1):\n",
    "    while True:\n",
    "        if n % i == 0:\n",
    "            n //= i\n",
    "            print(i)\n",
    "        else:\n",
    "            break\n"
   ]
  },
  {
   "cell_type": "code",
   "execution_count": 183,
   "id": "11605789",
   "metadata": {},
   "outputs": [
    {
     "name": "stdout",
     "output_type": "stream",
     "text": [
      "10 30\n",
      "11\n",
      "13\n",
      "17\n",
      "19\n",
      "23\n",
      "29\n"
     ]
    }
   ],
   "source": [
    "n, m = map(int, input().split())\n",
    "\n",
    "for i in range(n, m + 1):\n",
    "    if i == 1:\n",
    "        continue\n",
    "        \n",
    "    for j in range(2, int(i ** 0.5) + 1):\n",
    "        if i % j == 0:\n",
    "            break\n",
    "    else:\n",
    "        print(i)"
   ]
  },
  {
   "cell_type": "code",
   "execution_count": 241,
   "id": "4988d1bb",
   "metadata": {},
   "outputs": [
    {
     "name": "stdout",
     "output_type": "stream",
     "text": [
      "2\n",
      "1\n",
      "4\n",
      "2\n",
      "3\n",
      "1\n",
      "6\n",
      "2\n",
      "5\n",
      "1\n",
      "0\n"
     ]
    }
   ],
   "source": [
    "# 시간 초과 ㅠ\n",
    "while True:\n",
    "    num = int(input())\n",
    "    cnt = 0\n",
    "    \n",
    "    if num == 0:\n",
    "        break\n",
    "    \n",
    "    for i in range(num + 1, 2 * num + 1):\n",
    "        if num == 1:\n",
    "            cnt = 1\n",
    "            break\n",
    "\n",
    "        for j in range(2, int(i ** 0.5) + 1):\n",
    "            if i % j == 0:\n",
    "                break\n",
    "        else:\n",
    "            cnt += 1\n",
    "\n",
    "    print(cnt)"
   ]
  },
  {
   "cell_type": "code",
   "execution_count": 251,
   "id": "ad111a74",
   "metadata": {},
   "outputs": [
    {
     "name": "stdout",
     "output_type": "stream",
     "text": [
      "1\n",
      "1\n",
      "0\n"
     ]
    }
   ],
   "source": [
    "# 주어진 num의 범위 중 소수를 미리 추출\n",
    "# 추출된 소수를 list로 만들고 그것들 중에\n",
    "# num ~ 2 * num에 속하는 숫자만 카운트\n",
    "prime_list = []\n",
    "for i in range(2, 123456 * 2):\n",
    "    if i == 1:\n",
    "        continue\n",
    "        \n",
    "    for j in range(2, int(i ** 0.5) + 1):\n",
    "        if i % j == 0:\n",
    "            break\n",
    "    else:\n",
    "        prime_list.append(i)\n",
    "        \n",
    "while True:\n",
    "    num = int(input())\n",
    "    cnt = 0\n",
    "    \n",
    "    if num == 0:\n",
    "        break\n",
    "    \n",
    "    for i in prime_list:\n",
    "        if num < i <= 2*num:\n",
    "            cnt += 1\n",
    "            \n",
    "\n",
    "    print(cnt)"
   ]
  },
  {
   "cell_type": "code",
   "execution_count": null,
   "id": "a87420b6",
   "metadata": {},
   "outputs": [],
   "source": [
    "# 골드바흐의 수\n",
    "t = int(input())\n",
    "prime_list = []\n",
    "\n",
    "for i in range(t):\n",
    "    n = int(input())\n",
    "    \n",
    "    for j in range(2, t)"
   ]
  },
  {
   "cell_type": "code",
   "execution_count": 24,
   "id": "566c057b",
   "metadata": {
    "scrolled": true
   },
   "outputs": [
    {
     "name": "stdout",
     "output_type": "stream",
     "text": [
      "3\n",
      "20\n",
      "7 13\n",
      "40\n",
      "17 23\n",
      "60\n",
      "29 31\n"
     ]
    }
   ],
   "source": [
    "import math\n",
    "\n",
    "def isgold():\n",
    "    # 1, 2는 재꿈\n",
    "    check = [False, False] + [True] * 10001\n",
    "    \n",
    "    for i in range(2, 101):\n",
    "        if check[i]:\n",
    "            for j in range(2 * i, 10002, i):\n",
    "                check[j] = False\n",
    "                \n",
    "    t = int(input())\n",
    "    \n",
    "    for _ in range(t):\n",
    "        n = int(input())\n",
    "        \n",
    "        a = n // 2\n",
    "        b = a\n",
    "        for i in range(10000):\n",
    "            if check[a] and check[b]:\n",
    "                print(a, b)\n",
    "                break\n",
    "            a -= 1\n",
    "            b += 1\n",
    "            \n",
    "isgold()"
   ]
  },
  {
   "cell_type": "code",
   "execution_count": 41,
   "id": "4453fe18",
   "metadata": {},
   "outputs": [
    {
     "name": "stdout",
     "output_type": "stream",
     "text": [
      "161 181 762 375\n",
      "161\n"
     ]
    }
   ],
   "source": [
    "# 직사각형에서 탈출\n",
    "x, y, w, h = map(int, input().split())\n",
    "\n",
    "# 0 0 w h 까지의 거리 중\n",
    "# 가장 작은 값을 리턴\n",
    "def _min(x, y, w, h): \n",
    "    if(x < w-x):\n",
    "        min_x = x\n",
    "    else:\n",
    "        min_x = w-x\n",
    "    if(y < h-y):\n",
    "        min_y = y\n",
    "    else:\n",
    "        min_y = h-y\n",
    "        \n",
    "    return min(min_x, min_y)\n",
    "\n",
    "print(_min(x, y, w, h))"
   ]
  },
  {
   "cell_type": "code",
   "execution_count": 79,
   "id": "c982db2d",
   "metadata": {},
   "outputs": [
    {
     "name": "stdout",
     "output_type": "stream",
     "text": [
      "30 10\n",
      "20 20\n",
      "20 10\n",
      "30 20\n"
     ]
    }
   ],
   "source": [
    "# 직사각형 나머지 꼭짓점 구하기\n",
    "x1, y1 = map(int, input().split())\n",
    "x2, y2 = map(int, input().split())\n",
    "x3, y3 = map(int, input().split())\n",
    "\n",
    "def _s(x1, y1, x2, y2, x3, y3):\n",
    "    \n",
    "    x_list = [x1, x2, x3]\n",
    "    y_list = [y1, y2, y3]\n",
    "    \n",
    "    x_max = max(x_list)\n",
    "    y_max = max(y_list)\n",
    "    \n",
    "    x_min = min(x_list)\n",
    "    y_min = min(y_list)\n",
    "    \n",
    "    if (x_list.count(x_max) == 2):\n",
    "        x4 = x_min\n",
    "    else:\n",
    "        x4 = x_max\n",
    "        \n",
    "    if (y_list.count(y_max) == 2):\n",
    "        y4 = y_min\n",
    "    else:\n",
    "        y4 = y_max\n",
    "    \n",
    "    \n",
    "    print(x4, y4)\n",
    "    \n",
    "_s(x1, y1, x2, y2, x3, y3)"
   ]
  },
  {
   "cell_type": "code",
   "execution_count": 122,
   "id": "0c4d87cf",
   "metadata": {
    "scrolled": true
   },
   "outputs": [
    {
     "name": "stdout",
     "output_type": "stream",
     "text": [
      "0 0 0\n"
     ]
    }
   ],
   "source": [
    "# 직각삼각형 판별\n",
    "while True:\n",
    "    a = list(map(int, input().split()))\n",
    "\n",
    "    if(sum(a) == 0):\n",
    "        break\n",
    "    \n",
    "    a.sort()    \n",
    "        \n",
    "    if ((a[0] ** 2 + a[1] ** 2) == a[2] ** 2):\n",
    "        print('right')\n",
    "    else:\n",
    "        print('wrong')"
   ]
  },
  {
   "cell_type": "code",
   "execution_count": 116,
   "id": "4d510c6e",
   "metadata": {
    "scrolled": true
   },
   "outputs": [
    {
     "name": "stdout",
     "output_type": "stream",
     "text": [
      "42\n",
      "5541.769441\n",
      "3528.000000\n"
     ]
    }
   ],
   "source": [
    "# 택시 기하학\n",
    "import math\n",
    "r = int(input())\n",
    "\n",
    "print('%.6f' %((r ** 2) * math.pi))\n",
    "print('%.6f' %((r ** 2) * 2))"
   ]
  },
  {
   "cell_type": "code",
   "execution_count": 121,
   "id": "584c3cc1",
   "metadata": {},
   "outputs": [
    {
     "name": "stdout",
     "output_type": "stream",
     "text": [
      "3\n",
      "0 0 13 40 0 037\n",
      "2\n",
      "0 0 3 0 7 4\n",
      "1\n",
      "1 1 1 1 1 5\n",
      "0\n"
     ]
    }
   ],
   "source": [
    "# 터렛 (원의 방정식)\n",
    "import math\n",
    "n = int(input())\n",
    "\n",
    "for _ in range(n):\n",
    "    x1, y1, r1, x2, y2, r2 = map(int, input().split())\n",
    "\n",
    "    # 두 원 중심끼리의 거리\n",
    "    d = math.sqrt((x1-x2) ** 2 + (y1-y2) ** 2) # 피타고라스\n",
    "\n",
    "    # 두 원의 위치관계\n",
    "    if d == 0 and r1 == r2:\n",
    "        print(-1) # 두 원이 같은 원\n",
    "    elif abs(r1 - r2) == d or r1 + r2 == d:\n",
    "        print(1) #내접 외접\n",
    "    elif abs(r1 - r2) < d and d < r1 + r2:\n",
    "        print(2) # 두 점에서 만남\n",
    "    else:\n",
    "        print(0)"
   ]
  },
  {
   "cell_type": "code",
   "execution_count": null,
   "id": "592c7d04",
   "metadata": {},
   "outputs": [],
   "source": []
  },
  {
   "cell_type": "code",
   "execution_count": null,
   "id": "8076a7af",
   "metadata": {},
   "outputs": [],
   "source": []
  },
  {
   "cell_type": "code",
   "execution_count": null,
   "id": "48317853",
   "metadata": {},
   "outputs": [],
   "source": []
  },
  {
   "cell_type": "code",
   "execution_count": null,
   "id": "fcb5167d",
   "metadata": {},
   "outputs": [],
   "source": []
  },
  {
   "cell_type": "code",
   "execution_count": null,
   "id": "6afedccb",
   "metadata": {},
   "outputs": [],
   "source": []
  },
  {
   "cell_type": "code",
   "execution_count": null,
   "id": "4d66eabf",
   "metadata": {},
   "outputs": [],
   "source": []
  },
  {
   "cell_type": "code",
   "execution_count": null,
   "id": "d37a6e70",
   "metadata": {},
   "outputs": [],
   "source": []
  },
  {
   "cell_type": "code",
   "execution_count": null,
   "id": "a9787967",
   "metadata": {},
   "outputs": [],
   "source": []
  },
  {
   "cell_type": "code",
   "execution_count": null,
   "id": "a6864e1e",
   "metadata": {},
   "outputs": [],
   "source": []
  },
  {
   "cell_type": "code",
   "execution_count": null,
   "id": "614b1647",
   "metadata": {},
   "outputs": [],
   "source": []
  },
  {
   "cell_type": "code",
   "execution_count": null,
   "id": "57d55c1d",
   "metadata": {},
   "outputs": [],
   "source": []
  },
  {
   "cell_type": "code",
   "execution_count": null,
   "id": "331bfa68",
   "metadata": {},
   "outputs": [],
   "source": []
  },
  {
   "cell_type": "code",
   "execution_count": null,
   "id": "47f9f632",
   "metadata": {},
   "outputs": [],
   "source": []
  },
  {
   "cell_type": "code",
   "execution_count": null,
   "id": "b6ad3a9a",
   "metadata": {},
   "outputs": [],
   "source": []
  },
  {
   "cell_type": "code",
   "execution_count": null,
   "id": "88e4ff0f",
   "metadata": {},
   "outputs": [],
   "source": []
  },
  {
   "cell_type": "code",
   "execution_count": null,
   "id": "55cb2913",
   "metadata": {},
   "outputs": [],
   "source": []
  },
  {
   "cell_type": "code",
   "execution_count": null,
   "id": "781ccc37",
   "metadata": {},
   "outputs": [],
   "source": []
  },
  {
   "cell_type": "code",
   "execution_count": null,
   "id": "49a5a763",
   "metadata": {},
   "outputs": [],
   "source": []
  },
  {
   "cell_type": "code",
   "execution_count": null,
   "id": "bca4df8c",
   "metadata": {},
   "outputs": [],
   "source": []
  },
  {
   "cell_type": "code",
   "execution_count": null,
   "id": "d31fba60",
   "metadata": {},
   "outputs": [],
   "source": []
  },
  {
   "cell_type": "code",
   "execution_count": null,
   "id": "0ddeefdf",
   "metadata": {},
   "outputs": [],
   "source": []
  },
  {
   "cell_type": "code",
   "execution_count": null,
   "id": "ac0a4a75",
   "metadata": {},
   "outputs": [],
   "source": []
  },
  {
   "cell_type": "code",
   "execution_count": null,
   "id": "35317454",
   "metadata": {},
   "outputs": [],
   "source": []
  }
 ],
 "metadata": {
  "kernelspec": {
   "display_name": "Python 3 (ipykernel)",
   "language": "python",
   "name": "python3"
  },
  "language_info": {
   "codemirror_mode": {
    "name": "ipython",
    "version": 3
   },
   "file_extension": ".py",
   "mimetype": "text/x-python",
   "name": "python",
   "nbconvert_exporter": "python",
   "pygments_lexer": "ipython3",
   "version": "3.9.7"
  }
 },
 "nbformat": 4,
 "nbformat_minor": 5
}
