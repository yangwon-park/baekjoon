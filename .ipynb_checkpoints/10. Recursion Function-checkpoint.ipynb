{
 "cells": [
  {
   "cell_type": "markdown",
   "id": "5b970c4a",
   "metadata": {},
   "source": [
    "### 10872 팩토리얼"
   ]
  },
  {
   "cell_type": "code",
   "execution_count": 8,
   "id": "261ae70c",
   "metadata": {},
   "outputs": [
    {
     "name": "stdout",
     "output_type": "stream",
     "text": [
      "10\n",
      "3628800\n"
     ]
    }
   ],
   "source": [
    "n = int(input())\n",
    "\n",
    "def facto_(n):\n",
    "    # 0! = 1\n",
    "    # 1! = 1\n",
    "    if n == 0 or n == 1:\n",
    "        return 1\n",
    "    \n",
    "    return n * facto_(n-1)\n",
    "\n",
    "print(facto_(n))"
   ]
  },
  {
   "cell_type": "markdown",
   "id": "fe2acbbd",
   "metadata": {},
   "source": [
    "### 10870 피보나치수 5"
   ]
  },
  {
   "cell_type": "code",
   "execution_count": 10,
   "id": "d9cda0d3",
   "metadata": {},
   "outputs": [
    {
     "name": "stdout",
     "output_type": "stream",
     "text": [
      "11\n",
      "89\n"
     ]
    }
   ],
   "source": [
    "# 첫 두 요소는 0, 1로 고정\n",
    "pibo = [0, 1]\n",
    "\n",
    "n = int(input())\n",
    "\n",
    "def _pibo(n):\n",
    "    # 마지막 요소 2개를 더하면 새로운 요소\n",
    "    pibo.append(pibo[-2] + pibo[-1])\n",
    "    \n",
    "    if n == 0:\n",
    "        return 0\n",
    "    if n == 1:\n",
    "        return 1\n",
    "    \n",
    "    # 수열 전체 길이와 n + 1의 값이 같을 때, 마지막 원소의 값을 출력하면 n번째 요소의 값이 나옴\n",
    "    if len(pibo) == n + 1:\n",
    "        return pibo[-1]\n",
    "    \n",
    "    # 조건문에 걸리기 전 까지 재귀적 호출\n",
    "    return _pibo(n)\n",
    "    \n",
    "print(_pibo(n))"
   ]
  },
  {
   "cell_type": "markdown",
   "id": "ea36a1a1",
   "metadata": {},
   "source": [
    "### 11729 하노이 탑 이동 순서"
   ]
  },
  {
   "cell_type": "code",
   "execution_count": 17,
   "id": "1c3b5dd7",
   "metadata": {},
   "outputs": [
    {
     "name": "stdout",
     "output_type": "stream",
     "text": [
      "3\n",
      "7\n",
      "1 3\n",
      "1 2\n",
      "3 2\n",
      "1 3\n",
      "2 1\n",
      "2 3\n",
      "1 3\n"
     ]
    }
   ],
   "source": [
    "# 원반의 개수\n",
    "n = int(input())\n",
    "\n",
    "# a : 시작, b : 보조, c : 최종\n",
    "def hanoi(n, a, b, c):\n",
    "    # 원반이 하나면 a => c로 가면 끝\n",
    "    if n == 1:\n",
    "        print(a, c)\n",
    "        return\n",
    "    else:\n",
    "        # 맨 밑의 원반을 제외한 n-1개의 원반을 보조 원반으로 옮김\n",
    "        hanoi(n - 1, a, c, b)\n",
    "        \n",
    "        print(a, c)\n",
    "        \n",
    "        # 보조 원반에 있는 원반 중 -1개 만큼 최종 원반으로 옮김\n",
    "        hanoi(n - 1, b, a, c)\n",
    "        \n",
    "print(2**n - 1)\n",
    "hanoi(n, 1, 2, 3)"
   ]
  }
 ],
 "metadata": {
  "kernelspec": {
   "display_name": "Python 3 (ipykernel)",
   "language": "python",
   "name": "python3"
  },
  "language_info": {
   "codemirror_mode": {
    "name": "ipython",
    "version": 3
   },
   "file_extension": ".py",
   "mimetype": "text/x-python",
   "name": "python",
   "nbconvert_exporter": "python",
   "pygments_lexer": "ipython3",
   "version": "3.9.7"
  }
 },
 "nbformat": 4,
 "nbformat_minor": 5
}
