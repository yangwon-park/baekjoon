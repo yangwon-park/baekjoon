{
 "cells": [
  {
   "cell_type": "markdown",
   "id": "1ab595d2",
   "metadata": {},
   "source": [
    "### 11725 트리의 부모 찾기"
   ]
  },
  {
   "cell_type": "code",
   "execution_count": 11,
   "id": "29f8fc07",
   "metadata": {},
   "outputs": [
    {
     "name": "stdout",
     "output_type": "stream",
     "text": [
      "7\n",
      "1 6\n",
      "6 3\n",
      "3 5\n",
      "4 1\n",
      "2 4\n",
      "4 7\n",
      "4\n",
      "6\n",
      "1\n",
      "3\n",
      "1\n",
      "4\n"
     ]
    }
   ],
   "source": [
    "import sys\n",
    "sys.setrecursionlimit(10**9)\n",
    "\n",
    "n = int(input())\n",
    "\n",
    "graph = [[] for _ in range(n+1)]\n",
    "\n",
    "for _ in range(n-1):\n",
    "    a, b = map(int, input().split())\n",
    "    graph[a].append(b)\n",
    "    graph[b].append(a)\n",
    "    \n",
    "for i in range(1, n+1):\n",
    "    graph[i].sort()\n",
    "\n",
    "# visited[i] : i번 노드를 방문한 노드 번호를 담음 => 부모 노드가 됨\n",
    "visited = [0 for _ in range(n+1)]\n",
    "\n",
    "def dfs(v):\n",
    "    for i in graph[v]:\n",
    "        if visited[i] == 0:\n",
    "            visited[i] = v\n",
    "            dfs(i)\n",
    "            \n",
    "dfs(1)\n",
    "\n",
    "# 1번은 루트이므로 안 해도 됨\n",
    "for i in range(2, n+1):\n",
    "    print(visited[i])"
   ]
  }
 ],
 "metadata": {
  "kernelspec": {
   "display_name": "Python3_7",
   "language": "python",
   "name": "3_7"
  },
  "language_info": {
   "codemirror_mode": {
    "name": "ipython",
    "version": 3
   },
   "file_extension": ".py",
   "mimetype": "text/x-python",
   "name": "python",
   "nbconvert_exporter": "python",
   "pygments_lexer": "ipython3",
   "version": "3.7.11"
  }
 },
 "nbformat": 4,
 "nbformat_minor": 5
}
