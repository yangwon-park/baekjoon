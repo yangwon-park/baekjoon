{
 "cells": [
  {
   "cell_type": "markdown",
   "id": "dd676199",
   "metadata": {},
   "source": [
    "### 1197 최소 스패닝 트리\n",
    "- 크루스칼 알고리즘 사용"
   ]
  },
  {
   "cell_type": "code",
   "execution_count": 7,
   "id": "1606cf93",
   "metadata": {},
   "outputs": [
    {
     "name": "stdout",
     "output_type": "stream",
     "text": [
      "3 3\n",
      "1 2 1\n",
      "2 3 2\n",
      "3 1 3\n",
      "3\n"
     ]
    }
   ],
   "source": [
    "v, e = map(int, input().split())\n",
    "\n",
    "edge = []\n",
    "\n",
    "for _ in range(e):\n",
    "    a, b, w = map(int, input().split())\n",
    "    edge.append((w, a, b))\n",
    "    \n",
    "# 크루스칼 알고리즘은 가중치를 기준으로 정렬해야 함\n",
    "edge.sort(key = lambda x: x[0])\n",
    "\n",
    "parent = list(range(v+1))\n",
    "\n",
    "def union(a, b):\n",
    "    a = find(a)\n",
    "    b = find(b)\n",
    "    \n",
    "    if b < a:\n",
    "        parent[a] = b\n",
    "    else:\n",
    "        parent[b] = a\n",
    "        \n",
    "def find(a):\n",
    "    if a == parent[a]:\n",
    "        return a\n",
    "    \n",
    "    parent[a] = find(parent[a])\n",
    "    \n",
    "    return parent[a]\n",
    "\n",
    "answer = 0\n",
    "\n",
    "for w, a, b in edge:\n",
    "    if find(a) != find(b):\n",
    "        union(a, b)\n",
    "        answer += w\n",
    "        \n",
    "print(answer)"
   ]
  }
 ],
 "metadata": {
  "kernelspec": {
   "display_name": "Python 3",
   "language": "python",
   "name": "python3"
  },
  "language_info": {
   "codemirror_mode": {
    "name": "ipython",
    "version": 3
   },
   "file_extension": ".py",
   "mimetype": "text/x-python",
   "name": "python",
   "nbconvert_exporter": "python",
   "pygments_lexer": "ipython3",
   "version": "3.8.8"
  }
 },
 "nbformat": 4,
 "nbformat_minor": 5
}
