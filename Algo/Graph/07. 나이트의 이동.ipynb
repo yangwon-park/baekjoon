{
 "cells": [
  {
   "cell_type": "markdown",
   "id": "3785e296",
   "metadata": {},
   "source": [
    "### 7562 나이트의 이동"
   ]
  },
  {
   "cell_type": "code",
   "execution_count": 18,
   "id": "1313c8d4",
   "metadata": {},
   "outputs": [
    {
     "name": "stdout",
     "output_type": "stream",
     "text": [
      "3\n",
      "8\n",
      "0 0\n",
      "7 0\n",
      "5\n",
      "100\n",
      "0 0\n",
      "30 50\n",
      "28\n",
      "10\n",
      "1 1\n",
      "1 1\n",
      "0\n"
     ]
    }
   ],
   "source": [
    "from collections import deque\n",
    "T = int(input())\n",
    "\n",
    "for i in range(T):\n",
    "    n = int(input())\n",
    "\n",
    "    graph = [[0 for _ in range(n)] for _ in range(n)]\n",
    "    x1, y1 = map(int, input().split())\n",
    "    x2, y2 = map(int, input().split())\n",
    "\n",
    "    def bfs(x1, y1):\n",
    "        q = deque()\n",
    "        q.append((x1, y1))\n",
    "\n",
    "        # 방문 처리\n",
    "        graph[x1][y1] = 1\n",
    "\n",
    "        # 나이트가 움직일 수 있는 방향을 표현\n",
    "        dx = [1, 2, 1, 2, -1, -2, -1, -2]\n",
    "        dy = [2, 1, -2, -1, 2, 1, -2, -1]\n",
    "\n",
    "        while q:\n",
    "            x, y = q.popleft()\n",
    "\n",
    "            # 도착지에 도착한 경우 return\n",
    "            if x == x2 and y == y2:\n",
    "                print(graph[x2][y2] - 1)\n",
    "                return\n",
    "\n",
    "            for i in range(8):\n",
    "                nx = x + dx[i]\n",
    "                ny = y + dy[i]\n",
    "\n",
    "                # 체스판을 벗어나지 않은 경우와\n",
    "                # 방문하지 않은 경우에만 방문 처리\n",
    "                if 0 <= nx < n and 0 <= ny < n and graph[nx][ny] == 0:\n",
    "                    q.append((nx, ny))\n",
    "\n",
    "                    # 이전 값에 +1 => 이동 횟수\n",
    "                    graph[nx][ny] = graph[x][y] + 1\n",
    "                \n",
    "    bfs(x1, y1)                "
   ]
  }
 ],
 "metadata": {
  "kernelspec": {
   "display_name": "Python3_7",
   "language": "python",
   "name": "3_7"
  },
  "language_info": {
   "codemirror_mode": {
    "name": "ipython",
    "version": 3
   },
   "file_extension": ".py",
   "mimetype": "text/x-python",
   "name": "python",
   "nbconvert_exporter": "python",
   "pygments_lexer": "ipython3",
   "version": "3.7.11"
  }
 },
 "nbformat": 4,
 "nbformat_minor": 5
}
