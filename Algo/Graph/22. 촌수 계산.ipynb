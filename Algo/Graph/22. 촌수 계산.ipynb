{
 "cells": [
  {
   "cell_type": "markdown",
   "id": "f3b4be46",
   "metadata": {},
   "source": [
    "### 2644 촌수 계산"
   ]
  },
  {
   "cell_type": "markdown",
   "id": "542180ae",
   "metadata": {},
   "source": [
    "#### DFS - 1 (방문 리스트와 가중치를 담을 변수, 리스트 별도 설정)"
   ]
  },
  {
   "cell_type": "code",
   "execution_count": 62,
   "id": "c5674f76",
   "metadata": {},
   "outputs": [
    {
     "name": "stdout",
     "output_type": "stream",
     "text": [
      "9\n",
      "8 6\n",
      "7\n",
      "1 2\n",
      "1 3\n",
      "2 7\n",
      "2 8\n",
      "2 9\n",
      "4 5\n",
      "4 6\n",
      "-1\n"
     ]
    }
   ],
   "source": [
    "n = int(input())\n",
    "x1, x2 = map(int, input().split())\n",
    "\n",
    "m = int(input())\n",
    "\n",
    "graph = [[] for _ in range(n+1)]\n",
    "\n",
    "for _ in range(m):\n",
    "    a, b = map(int, input().split())\n",
    "    graph[a].append(b)\n",
    "    graph[b].append(a)\n",
    "    \n",
    "for i in range(1, n+1):\n",
    "    graph[i].sort()\n",
    "    \n",
    "visited = [False for _ in range(n+1)]\n",
    "result = []\n",
    "cnt = 0\n",
    "\n",
    "def dfs(x, cnt):\n",
    "    \n",
    "    visited[x] = True\n",
    "    cnt += 1\n",
    "              \n",
    "    if x == x2:    \n",
    "        result.append(cnt)\n",
    "        \n",
    "    for i in graph[x]:\n",
    "        if not visited[i]: \n",
    "            dfs(i, cnt)\n",
    "            \n",
    "dfs(x1, cnt)\n",
    "\n",
    "if len(result) > 0:\n",
    "    print(result[0]-1)\n",
    "else:\n",
    "    print(-1)"
   ]
  },
  {
   "cell_type": "markdown",
   "id": "ad85cd6e",
   "metadata": {},
   "source": [
    "#### DFS - 2 (방문 리스트 자체를 가중치로 이용)"
   ]
  },
  {
   "cell_type": "code",
   "execution_count": 79,
   "id": "412b5983",
   "metadata": {},
   "outputs": [
    {
     "name": "stdout",
     "output_type": "stream",
     "text": [
      "9\n",
      "7 3\n",
      "7\n",
      "1 2\n",
      "1 3\n",
      "2 7\n",
      "2 8\n",
      "2 9\n",
      "4 5\n",
      "4 6\n",
      "3\n"
     ]
    }
   ],
   "source": [
    "n = int(input())\n",
    "x1, x2 = map(int, input().split())\n",
    "graph = [[] for _ in range(n+1)]\n",
    "m = int(input())\n",
    "for _ in range(m):\n",
    "    a, b = map(int, input().split())\n",
    "    \n",
    "    graph[a].append(b)\n",
    "    graph[b].append(a)\n",
    "    \n",
    "for i in range(1, n+1):\n",
    "    graph[i].sort()\n",
    "    \n",
    "visited = [-1 for _ in range(n+1)]\n",
    "visited[x1] = 0\n",
    "\n",
    "def dfs(x):\n",
    "    for i in graph[x]:\n",
    "        if visited[i] == -1:\n",
    "            visited[i] = visited[x] + 1\n",
    "            dfs(i)\n",
    "            \n",
    "dfs(x1)\n",
    "print(visited[x2])"
   ]
  },
  {
   "cell_type": "markdown",
   "id": "9fd57eb3",
   "metadata": {},
   "source": [
    "#### BFS"
   ]
  },
  {
   "cell_type": "code",
   "execution_count": 74,
   "id": "e46fe8bb",
   "metadata": {},
   "outputs": [
    {
     "name": "stdout",
     "output_type": "stream",
     "text": [
      "9\n",
      "7 3\n",
      "7\n",
      "1 2\n",
      "1 3\n",
      "2 7\n",
      "2 8\n",
      "2 9\n",
      "4 5\n",
      "4 6\n",
      "3\n"
     ]
    }
   ],
   "source": [
    "from collections import deque\n",
    "\n",
    "n = int(input())\n",
    "x1, x2 = map(int, input().split())\n",
    "m = int(input())\n",
    "\n",
    "graph = [[] for _ in range(n+1)]\n",
    "\n",
    "for _ in range(m):\n",
    "    a, b = map(int, input().split())\n",
    "    graph[a].append(b)\n",
    "    graph[b].append(a)\n",
    "    \n",
    "for i in range(1, n+1):\n",
    "    graph[i].sort()\n",
    "\n",
    "# 노드간 방문 간격을 체크하기 위한 리스트\n",
    "# 방문하지 못하면 -1 출력이라 -1로 리스트 자체를 초기화시킴\n",
    "visited = [-1 for _ in range(n+1)]\n",
    "    \n",
    "def bfs(x):\n",
    "    q = deque()\n",
    "    \n",
    "    q.append(x)\n",
    "    \n",
    "    # 시작 노드 값 0으로 설정\n",
    "    visited[x] = 0\n",
    "    \n",
    "    while q:\n",
    "        x = q.popleft()\n",
    "        \n",
    "        for i in graph[x]:\n",
    "            # -1 => 아직 방문하지 않은 경우\n",
    "            if visited[i] == -1:\n",
    "                \n",
    "                # 이전 노드(x)까지 소요 값 + 1 => 현재 노드(i)까지 소요 값\n",
    "                visited[i] = visited[x] + 1\n",
    "                q.append(i)\n",
    "                \n",
    "bfs(x1)\n",
    "\n",
    "print(visited[x2])"
   ]
  }
 ],
 "metadata": {
  "kernelspec": {
   "display_name": "Python 3",
   "language": "python",
   "name": "python3"
  },
  "language_info": {
   "codemirror_mode": {
    "name": "ipython",
    "version": 3
   },
   "file_extension": ".py",
   "mimetype": "text/x-python",
   "name": "python",
   "nbconvert_exporter": "python",
   "pygments_lexer": "ipython3",
   "version": "3.8.8"
  }
 },
 "nbformat": 4,
 "nbformat_minor": 5
}
