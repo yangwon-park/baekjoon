{
 "cells": [
  {
   "cell_type": "markdown",
   "id": "29514d50",
   "metadata": {},
   "source": [
    "### 24480 깊이 우선 탐색 2"
   ]
  },
  {
   "cell_type": "code",
   "execution_count": 3,
   "id": "a1fa72a2",
   "metadata": {},
   "outputs": [
    {
     "name": "stdout",
     "output_type": "stream",
     "text": [
      "5 5 1\n",
      "1 4\n",
      "1 2\n",
      "2 3\n",
      "2 4\n",
      "3 4\n",
      "1\n",
      "4\n",
      "3\n",
      "2\n",
      "0\n"
     ]
    }
   ],
   "source": [
    "import sys\n",
    "sys.setrecursionlimit(10**6)\n",
    "\n",
    "n, m, r = map(int, input().split())\n",
    "\n",
    "graph = [[] for _ in range(n+1)]\n",
    "node_seq = [0 for _ in range(n+1)]\n",
    "visited = [False for _ in range(n+1)]\n",
    "\n",
    "for _ in range(m):\n",
    "    a, b = map(int, input().split())\n",
    "    \n",
    "    graph[a].append(b)\n",
    "    graph[b].append(a)\n",
    "\n",
    "for i in range(n+1):\n",
    "    graph[i].sort(reverse=True)\n",
    "    \n",
    "seq = 1\n",
    "\n",
    "def dfs(graph, r, visited):\n",
    "    global seq\n",
    "    \n",
    "    visited[r] = True\n",
    "    \n",
    "    if node_seq[r] == 0:\n",
    "        node_seq[r] = seq\n",
    "        seq += 1\n",
    "    \n",
    "    for i in graph[r]:\n",
    "        if not visited[i]:\n",
    "            dfs(graph, i, visited)\n",
    "            \n",
    "dfs(graph, r, visited)\n",
    "\n",
    "for i in range(1, len(node_seq)):\n",
    "    print(node_seq[i])"
   ]
  }
 ],
 "metadata": {
  "kernelspec": {
   "display_name": "Python3_7",
   "language": "python",
   "name": "3_7"
  },
  "language_info": {
   "codemirror_mode": {
    "name": "ipython",
    "version": 3
   },
   "file_extension": ".py",
   "mimetype": "text/x-python",
   "name": "python",
   "nbconvert_exporter": "python",
   "pygments_lexer": "ipython3",
   "version": "3.7.11"
  }
 },
 "nbformat": 4,
 "nbformat_minor": 5
}
