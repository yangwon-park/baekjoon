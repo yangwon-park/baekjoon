{
 "cells": [
  {
   "cell_type": "markdown",
   "id": "22a3f8b9",
   "metadata": {},
   "source": [
    "### 1260 DFS와 BFS"
   ]
  },
  {
   "cell_type": "code",
   "execution_count": 28,
   "id": "7e20ca69",
   "metadata": {},
   "outputs": [
    {
     "name": "stdout",
     "output_type": "stream",
     "text": [
      "4 5 1\n",
      "1 2\n",
      "1 3\n",
      "1 4\n",
      "2 4\n",
      "3 4\n",
      "1 2 4 3 \n",
      "1 2 3 4 "
     ]
    }
   ],
   "source": [
    "from collections import deque\n",
    "\n",
    "n, m, v = map(int, input().split())\n",
    "\n",
    "graph = [[] for _ in range(n+1)]\n",
    "\n",
    "for _ in range(m):\n",
    "    a, b = map(int, input().split())\n",
    "    \n",
    "    graph[a].append(b)\n",
    "    graph[b].append(a)\n",
    "    \n",
    "    graph[a].sort()\n",
    "    graph[b].sort()\n",
    "\n",
    "visited = [False] * (n+1)\n",
    "\n",
    "def dfs(graph, v, visited):\n",
    "    visited[v] = True\n",
    "    \n",
    "    print(v, end=' ')\n",
    "    \n",
    "    for i in graph[v]:\n",
    "        if not visited[i]:\n",
    "            visited[i] = True\n",
    "            dfs(graph, i, visited)\n",
    "            \n",
    "def bfs(graph, v, visited):\n",
    "    visited = [False] * (n+1)\n",
    "    \n",
    "    visited[v] = True\n",
    "    \n",
    "    q = deque([v])\n",
    "    \n",
    "    while q:\n",
    "        node = q.popleft()\n",
    "        print(node, end=' ')\n",
    "        \n",
    "        for i in graph[v]:\n",
    "            if not visited[i]:\n",
    "                q.append(i)\n",
    "                visited[i] = True\n",
    "    \n",
    "dfs(graph, v, visited)\n",
    "print()\n",
    "bfs(graph, v, visited)"
   ]
  }
 ],
 "metadata": {
  "kernelspec": {
   "display_name": "Python 3",
   "language": "python",
   "name": "python3"
  },
  "language_info": {
   "codemirror_mode": {
    "name": "ipython",
    "version": 3
   },
   "file_extension": ".py",
   "mimetype": "text/x-python",
   "name": "python",
   "nbconvert_exporter": "python",
   "pygments_lexer": "ipython3",
   "version": "3.8.8"
  }
 },
 "nbformat": 4,
 "nbformat_minor": 5
}
