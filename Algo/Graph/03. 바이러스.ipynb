{
 "cells": [
  {
   "cell_type": "markdown",
   "id": "b272ad55",
   "metadata": {},
   "source": [
    "### 2606 바이러스"
   ]
  },
  {
   "cell_type": "code",
   "execution_count": 1,
   "id": "1617dfe3",
   "metadata": {},
   "outputs": [
    {
     "name": "stdout",
     "output_type": "stream",
     "text": [
      "7\n",
      "6\n",
      "1 2\n",
      "2 3\n",
      "1 5\n",
      "5 2\n",
      "5 6\n",
      "4 7\n"
     ]
    }
   ],
   "source": [
    "n = int(input())\n",
    "m = int(input())\n",
    "\n",
    "graph = [[] for _ in range(n+1)]\n",
    "\n",
    "for _ in range(m):\n",
    "    a, b = map(int, input().split())\n",
    "    \n",
    "    graph[a].append(b)\n",
    "    graph[b].append(a)\n",
    "    \n",
    "    graph[a].sort()\n",
    "    graph[b].sort()\n",
    "    \n",
    "visited = [False] * (n+1)\n",
    "result = []\n",
    "def dfs(graph, v, visited, result):\n",
    "    visited[v] = True\n",
    "    result.append(v)\n",
    "    for i in graph[v]:\n",
    "        if not visited[i]:\n",
    "            visited[i] = True\n",
    "            dfs(graph, i, visited, result)\n",
    "            \n",
    "    return result\n",
    "\n",
    "dfs(graph, 1, visited, result)\n",
    "\n",
    "print(len(result)-1)"
   ]
  }
 ],
 "metadata": {
  "kernelspec": {
   "display_name": "Python 3",
   "language": "python",
   "name": "python3"
  },
  "language_info": {
   "codemirror_mode": {
    "name": "ipython",
    "version": 3
   },
   "file_extension": ".py",
   "mimetype": "text/x-python",
   "name": "python",
   "nbconvert_exporter": "python",
   "pygments_lexer": "ipython3",
   "version": "3.8.8"
  }
 },
 "nbformat": 4,
 "nbformat_minor": 5
}
