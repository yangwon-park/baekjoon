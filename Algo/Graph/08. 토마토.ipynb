{
 "cells": [
  {
   "cell_type": "markdown",
   "id": "b8bf2663",
   "metadata": {},
   "source": [
    "### 7576 토마토"
   ]
  },
  {
   "cell_type": "markdown",
   "id": "68b236ac",
   "metadata": {},
   "source": [
    "#### 일수를 별도의 변수에 담아서 푸는 풀이"
   ]
  },
  {
   "cell_type": "code",
   "execution_count": 38,
   "id": "93567166",
   "metadata": {},
   "outputs": [
    {
     "name": "stdout",
     "output_type": "stream",
     "text": [
      "2 2\n",
      "1 -1\n",
      "-1 1\n",
      "0\n"
     ]
    }
   ],
   "source": [
    "m, n = map(int, input().split())\n",
    "graph = []\n",
    "\n",
    "for _ in range(n):\n",
    "    graph.append(list(map(int, input().split())))\n",
    "    \n",
    "from collections import deque\n",
    "\n",
    "dx = [-1, 1, 0, 0]\n",
    "dy = [0, 0, -1, 1]\n",
    "\n",
    "def bfs():\n",
    "    \n",
    "    cnt = 0\n",
    "    \n",
    "    q = deque()\n",
    "    \n",
    "    # 토마토가 있는 경우에만 큐에 넣어줌\n",
    "    for i in range(n):\n",
    "        for j in range(m):\n",
    "            if graph[i][j] == 1:\n",
    "                q.append((i, j))\n",
    "    \n",
    "    \n",
    "    while q:\n",
    "        \n",
    "        cnt += 1\n",
    "        \n",
    "        for _ in range(len(q)):\n",
    "            x, y = q.popleft()\n",
    "            for i in range(4):\n",
    "                nx = x + dx[i]\n",
    "                ny = y + dy[i]\n",
    "\n",
    "                if nx < 0 or nx >= n or ny < 0 or ny >= m:\n",
    "                    continue\n",
    "\n",
    "                if graph[nx][ny] == 0:\n",
    "                    graph[nx][ny] = 1\n",
    "                    q.append((nx, ny))\n",
    "    for box in graph:\n",
    "        if 0 in box:\n",
    "            return -1\n",
    "        \n",
    "    return cnt-1\n",
    "\n",
    "print(bfs())"
   ]
  },
  {
   "cell_type": "markdown",
   "id": "121d0597",
   "metadata": {},
   "source": [
    "#### 별도의 변수없이 그래프값을 변경하여 풀이"
   ]
  },
  {
   "cell_type": "code",
   "execution_count": 42,
   "id": "aa93eb8c",
   "metadata": {},
   "outputs": [
    {
     "name": "stdout",
     "output_type": "stream",
     "text": [
      "6 4\n",
      "0 0 0 0 0 0\n",
      "0 0 0 0 0 0\n",
      "0 0 0 0 0 0\n",
      "0 0 0 0 0 1\n",
      "8\n"
     ]
    }
   ],
   "source": [
    "from collections import deque\n",
    "\n",
    "m, n = map(int, input().split())\n",
    "graph = []\n",
    "\n",
    "for _ in range(n):\n",
    "    graph.append(list(map(int, input().split())))\n",
    "    \n",
    "dx = [-1, 1, 0, 0]\n",
    "dy = [0, 0, -1, 1]\n",
    "\n",
    "# bfs 사용\n",
    "def bfs():\n",
    "    q = deque()\n",
    "    \n",
    "    # 익은 토마토가 담겨있는 위치만 큐에 미리 저장\n",
    "    # 처음에 있는 곳이 한 곳이 아닐 수도 있음\n",
    "    # 그런 경우, 들어간 순서대로 큐에서 나오므로\n",
    "    # 먼저 익었던 토마토부터 처리 가능 => 일수가 정확하게 계산됨\n",
    "    for i in range(n):\n",
    "        for j in range(m):\n",
    "            if graph[i][j] == 1:\n",
    "                q.append((i, j))\n",
    "                \n",
    "    while q:\n",
    "        x, y = q.popleft()\n",
    "        \n",
    "        for i in range(4):\n",
    "            nx = x + dx[i]\n",
    "            ny = y + dy[i]\n",
    "            \n",
    "            if nx < 0 or nx >= n or ny < 0 or ny >= m:\n",
    "                continue\n",
    "            \n",
    "            if graph[nx][ny] == 0:\n",
    "                graph[nx][ny] = graph[x][y] + 1\n",
    "                q.append((nx, ny))\n",
    "              \n",
    "    # 최종 정답을 담을 변수        \n",
    "    result = 0\n",
    "    \n",
    "    for box in graph:\n",
    "        if 0 in box:\n",
    "            return -1\n",
    "        \n",
    "        result = max(result, max(box))\n",
    "    return result-1\n",
    "print(bfs())"
   ]
  }
 ],
 "metadata": {
  "kernelspec": {
   "display_name": "Python 3",
   "language": "python",
   "name": "python3"
  },
  "language_info": {
   "codemirror_mode": {
    "name": "ipython",
    "version": 3
   },
   "file_extension": ".py",
   "mimetype": "text/x-python",
   "name": "python",
   "nbconvert_exporter": "python",
   "pygments_lexer": "ipython3",
   "version": "3.8.8"
  }
 },
 "nbformat": 4,
 "nbformat_minor": 5
}
