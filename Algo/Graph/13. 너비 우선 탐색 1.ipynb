{
 "cells": [
  {
   "cell_type": "markdown",
   "id": "6a9a8fee",
   "metadata": {},
   "source": [
    "### 24444 너비 우선 탐색 1"
   ]
  },
  {
   "cell_type": "code",
   "execution_count": 31,
   "id": "bc1e23b9",
   "metadata": {},
   "outputs": [
    {
     "name": "stdout",
     "output_type": "stream",
     "text": [
      "5 5 1\n",
      "1 4\n",
      "1 2\n",
      "2 3\n",
      "2 4 \n",
      "3 4\n",
      "1\n",
      "2\n",
      "4\n",
      "3\n",
      "0\n"
     ]
    }
   ],
   "source": [
    "n, m, r = map(int, input().split())\n",
    "\n",
    "graph = [[] for _ in range(n+1)]\n",
    "visited = [False for _ in range(n+1)]\n",
    "node_seq = [0 for _ in range(n+1)]\n",
    "\n",
    "for _ in range(m):\n",
    "    a, b = map(int, input().split())\n",
    "    \n",
    "    graph[a].append(b)\n",
    "    graph[b].append(a)\n",
    "    \n",
    "for i in range(1, n+1):\n",
    "    graph[i].sort()\n",
    "    \n",
    "from collections import deque\n",
    "seq = 1\n",
    "\n",
    "def bfs(graph, visited, r):\n",
    "    q = deque()\n",
    "    q.append(r)\n",
    "    \n",
    "    global seq\n",
    "    \n",
    "    visited[r] = True\n",
    "    \n",
    "    while q:\n",
    "        v = q.popleft()\n",
    "        \n",
    "        if node_seq[v] == 0:\n",
    "            node_seq[v] = seq\n",
    "            seq += 1\n",
    "        \n",
    "        for i in graph[v]:\n",
    "            if not visited[i]:\n",
    "                visited[i] = True\n",
    "                q.append(i)\n",
    "                \n",
    "bfs(graph, visited, r)\n",
    "\n",
    "for i in range(1, len(node_seq)):\n",
    "    print(node_seq[i])"
   ]
  }
 ],
 "metadata": {
  "kernelspec": {
   "display_name": "Python 3",
   "language": "python",
   "name": "python3"
  },
  "language_info": {
   "codemirror_mode": {
    "name": "ipython",
    "version": 3
   },
   "file_extension": ".py",
   "mimetype": "text/x-python",
   "name": "python",
   "nbconvert_exporter": "python",
   "pygments_lexer": "ipython3",
   "version": "3.8.8"
  }
 },
 "nbformat": 4,
 "nbformat_minor": 5
}
