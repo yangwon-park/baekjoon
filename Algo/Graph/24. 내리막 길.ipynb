{
 "cells": [
  {
   "cell_type": "markdown",
   "id": "25c213c5",
   "metadata": {},
   "source": [
    "### 1520 내리막 길"
   ]
  },
  {
   "cell_type": "code",
   "execution_count": 1,
   "id": "df7feee8",
   "metadata": {},
   "outputs": [
    {
     "name": "stdout",
     "output_type": "stream",
     "text": [
      "4 5\n",
      "50 45 37 32 30\n",
      "35 50 40 20 25\n",
      "30 30 25 17 28\n",
      "27 24 22 15 10\n",
      "3\n"
     ]
    }
   ],
   "source": [
    "import sys\n",
    "sys.setrecursionlimit(10 ** 8)\n",
    "\n",
    "m, n = map(int, input().split())\n",
    "graph = [list(map(int, input().split())) for _ in range(m)]\n",
    "\n",
    "# dp 테이블의 의미\n",
    "# dp[x][y] : x, y에서 출발하여 dp[m][n]까지 도달할 수 있는 경우의 수\n",
    "# 0으로 초기화하면 시간 초과가 발생\n",
    "dp = [[-1 for _ in range(n)] for _ in range(m)]\n",
    "\n",
    "# dfs 함수 내부에서 선언하면\n",
    "# 반복적으로 아래 리스트가 생성되므로 그냥 밖에서 선언\n",
    "dx = [-1, 1, 0, 0]\n",
    "dy = [0, 0, -1, 1]\n",
    "\n",
    "def dfs(x, y):\n",
    "\n",
    "    # 도착 지점까지 도달하면 1 반환 => 경우의 수가 1 증가\n",
    "    if x == m-1 and y == n-1:\n",
    "        return 1\n",
    "    \n",
    "    # 이미 방문한 적이 있다면\n",
    "    # 해당 위치에서의 경우의 수를 반환\n",
    "    # 이 DP 테이블을 이용하여 소요 시간을 줄일 수 있음\n",
    "    if dp[x][y] != -1:\n",
    "        return dp[x][y]\n",
    "    \n",
    "    # dfs를 수행할 때\n",
    "    # 방문한 적도 없고, 마지막 지점이도 아니라면\n",
    "    # 경우의 수를 0으로 초기화시킴\n",
    "    dp[x][y] = 0\n",
    "    \n",
    "    # 4방향으로 전진\n",
    "    for i in range(4):\n",
    "        nx = x + dx[i]\n",
    "        ny = y + dy[i]\n",
    "        \n",
    "        # 그래프를 벗어나면 반복 넘김\n",
    "        if nx < 0 or nx >= m or ny < 0 or ny >= n:\n",
    "            continue\n",
    "            \n",
    "        # 이전 좌표의 값이 더 큰 경우에만 fs를 수행 \n",
    "        # 방문한 적이 있는 경우 또는\n",
    "        # 최종 목적지까지 도착하는 경우\n",
    "        # 위의 두 경우의 누적합을 dp[x][y]에 저장\n",
    "        if graph[x][y] > graph[nx][ny]:\n",
    "            dp[x][y] += dfs(nx, ny)\n",
    "            \n",
    "    return dp[x][y]\n",
    "\n",
    "print(dfs(0, 0))"
   ]
  }
 ],
 "metadata": {
  "kernelspec": {
   "display_name": "Python3_7",
   "language": "python",
   "name": "3_7"
  },
  "language_info": {
   "codemirror_mode": {
    "name": "ipython",
    "version": 3
   },
   "file_extension": ".py",
   "mimetype": "text/x-python",
   "name": "python",
   "nbconvert_exporter": "python",
   "pygments_lexer": "ipython3",
   "version": "3.7.11"
  }
 },
 "nbformat": 4,
 "nbformat_minor": 5
}
