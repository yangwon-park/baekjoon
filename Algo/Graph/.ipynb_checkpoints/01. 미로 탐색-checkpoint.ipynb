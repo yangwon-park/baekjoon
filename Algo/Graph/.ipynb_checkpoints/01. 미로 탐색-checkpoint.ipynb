{
 "cells": [
  {
   "cell_type": "markdown",
   "id": "8bbca9e1",
   "metadata": {},
   "source": [
    "### 2178 미로 탐색"
   ]
  },
  {
   "cell_type": "code",
   "execution_count": 3,
   "id": "fe3728c6",
   "metadata": {},
   "outputs": [
    {
     "name": "stdout",
     "output_type": "stream",
     "text": [
      "4 6\n",
      "101111\n",
      "101010\n",
      "101011\n",
      "111011\n"
     ]
    }
   ],
   "source": [
    "# 최단 경로 => BFS\n",
    "from collections import deque\n",
    "n, m = map(int, input().split())\n",
    "\n",
    "graph = []\n",
    "\n",
    "for _ in range(n):\n",
    "    graph.append(list(map(int, input())))\n",
    "    \n",
    "# 이동 방향을 의미하는 리스트    \n",
    "dx = [-1, 1, 0, 0]\n",
    "dy = [0, 0, -1, 1]\n",
    "\n",
    "def bfs(x, y):\n",
    "    q = deque()\n",
    "    q.append((x, y))\n",
    "    \n",
    "    while q:\n",
    "        \n",
    "        x, y = q.popleft()\n",
    "        \n",
    "        # 4방향으로 이동하므로 for문 사용\n",
    "        for i in range(4):\n",
    "            nx = x + dx[i]\n",
    "            ny = y + dy[i]\n",
    "            \n",
    "            # 미로를 벗어나면 반복 스킵\n",
    "            if nx < 0 or nx >= n or ny < 0 or ny >= m:\n",
    "                continue\n",
    "                \n",
    "            # 1로만 지나갈 수 있으므로 0 제외\n",
    "            if graph[nx][ny] == 0:\n",
    "                continue\n",
    "        \n",
    "            # 좌표값이 1이므로 그냥 편하게\n",
    "            # 이전 좌표에 + 1을 해주는 로직으로\n",
    "            # 몇칸을 이동했는가 계산\n",
    "            if graph[nx][ny] == 1:\n",
    "                graph[nx][ny] = graph[x][y] + 1\n",
    "                q.append((nx, ny))\n",
    "                \n",
    "\n",
    "# BFS 실행 => 0,0이 시작                \n",
    "bfs(0, 0)   \n",
    "\n",
    "# 맨 마지막 칸의 좌표\n",
    "print(graph[n-1][m-1])"
   ]
  }
 ],
 "metadata": {
  "kernelspec": {
   "display_name": "Python 3 (ipykernel)",
   "language": "python",
   "name": "python3"
  },
  "language_info": {
   "codemirror_mode": {
    "name": "ipython",
    "version": 3
   },
   "file_extension": ".py",
   "mimetype": "text/x-python",
   "name": "python",
   "nbconvert_exporter": "python",
   "pygments_lexer": "ipython3",
   "version": "3.7.11"
  }
 },
 "nbformat": 4,
 "nbformat_minor": 5
}
