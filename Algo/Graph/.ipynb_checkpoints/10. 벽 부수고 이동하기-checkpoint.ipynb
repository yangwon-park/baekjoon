{
 "cells": [
  {
   "cell_type": "markdown",
   "id": "0b392a6b",
   "metadata": {},
   "source": [
    "### 2206 벽 부수고 이동하기"
   ]
  },
  {
   "cell_type": "code",
   "execution_count": 35,
   "id": "ffb3063b",
   "metadata": {},
   "outputs": [
    {
     "name": "stdout",
     "output_type": "stream",
     "text": [
      "4 4\n",
      "0111\n",
      "1111\n",
      "1111\n",
      "1110\n",
      "-1\n"
     ]
    }
   ],
   "source": [
    "from collections import deque\n",
    "\n",
    "n, m = map(int, input().split())\n",
    "graph = []\n",
    "\n",
    "for _ in range(n):\n",
    "    graph.append(list(map(int, input())))\n",
    "    \n",
    "# 3차원 행렬로 표현 => 벽을 부쉈는가 안 부쉈는가 체크할 수 있게 만듬\n",
    "# visited[x][y][0]\n",
    "visited = [[[0] * 2 for _ in range(m)] for _ in range(n)]\n",
    "\n",
    "visited[0][0][0] = 1\n",
    "\n",
    "dx = [-1, 1, 0, 0]\n",
    "dy = [0, 0, -1, 1]\n",
    "\n",
    "def bfs(x, y, z):\n",
    "    q = deque()\n",
    "    q.append((x, y, z))\n",
    "    \n",
    "    while q:\n",
    "        x, y, z = q.popleft()\n",
    "        \n",
    "        # 끝 점에 도달하면 이동 횟수 출력\n",
    "        # 도달했으면 끝까지 갈 수 있다는 의미\n",
    "        if x == (n-1) and y == (m-1):\n",
    "            return visited[x][y][z]\n",
    "        \n",
    "        for i in range(4):\n",
    "            nx = x + dx[i]\n",
    "            ny = y + dy[i]\n",
    "            \n",
    "            if nx < 0 or nx >= n or ny < 0 or ny >= m:\n",
    "                continue\n",
    "                \n",
    "            # 다음 이동할 곳이 벽이고, 벽을 파괴하지 않은 경우\n",
    "            if graph[nx][ny] == 1 and z == 0:\n",
    "                visited[nx][ny][1] = visited[x][y][0] + 1\n",
    "                \n",
    "                # z를 1로 넘김 => 벽을 파괴했으므로 1\n",
    "                q.append((nx, ny, 1))\n",
    "            # 다음 이동할 곳이 벽이 아니고, 방문한 적이 없으면\n",
    "            elif graph[nx][ny] == 0 and visited[nx][ny][z] == 0:\n",
    "                visited[nx][ny][z] = visited[x][y][z] + 1\n",
    "                q.append((nx, ny, z))\n",
    "    return -1\n",
    "    \n",
    "    \n",
    "print(bfs(0, 0, 0))    "
   ]
  }
 ],
 "metadata": {
  "kernelspec": {
   "display_name": "Python3_7",
   "language": "python",
   "name": "3_7"
  },
  "language_info": {
   "codemirror_mode": {
    "name": "ipython",
    "version": 3
   },
   "file_extension": ".py",
   "mimetype": "text/x-python",
   "name": "python",
   "nbconvert_exporter": "python",
   "pygments_lexer": "ipython3",
   "version": "3.7.11"
  }
 },
 "nbformat": 4,
 "nbformat_minor": 5
}
