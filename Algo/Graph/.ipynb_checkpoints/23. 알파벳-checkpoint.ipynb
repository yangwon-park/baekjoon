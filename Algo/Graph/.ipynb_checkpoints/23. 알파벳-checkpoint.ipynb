{
 "cells": [
  {
   "cell_type": "markdown",
   "id": "811fa20a",
   "metadata": {},
   "source": [
    "### 1987 알파벳"
   ]
  },
  {
   "cell_type": "markdown",
   "id": "f0f9e495",
   "metadata": {},
   "source": [
    "#### Pypy3 정답"
   ]
  },
  {
   "cell_type": "code",
   "execution_count": 30,
   "id": "f836b288",
   "metadata": {},
   "outputs": [
    {
     "name": "stdout",
     "output_type": "stream",
     "text": [
      "5 5\n",
      "IEFCJ\n",
      "FHFKC\n",
      "FFALF\n",
      "HFGCF\n",
      "HMCHH\n",
      "10\n"
     ]
    }
   ],
   "source": [
    "r, c = map(int, input().split())\n",
    "\n",
    "graph = []\n",
    "\n",
    "for _ in range(r):\n",
    "    graph.append(list(input()))\n",
    "\n",
    "tmp = set()\n",
    "    \n",
    "    \n",
    "dx = [-1, 1, 0, 0]\n",
    "dy = [0, 0, -1, 1]\n",
    "\n",
    "answer = -float('inf')\n",
    "\n",
    "def dfs(x, y, cnt):\n",
    "    global answer\n",
    "    \n",
    "    answer = max(answer, cnt)\n",
    "    \n",
    "    for i in range(4):\n",
    "        nx = x + dx[i]\n",
    "        ny = y + dy[i]\n",
    "    \n",
    "        if nx < 0 or nx >= r or ny < 0 or ny >= c:\n",
    "            continue\n",
    "\n",
    "        if not graph[nx][ny] in tmp:\n",
    "            tmp.add(graph[nx][ny])\n",
    "            dfs(nx, ny, cnt+1)\n",
    "            tmp.remove(graph[nx][ny])\n",
    "\n",
    "tmp.add(graph[0][0])\n",
    "\n",
    "dfs(0, 0, 1)\n",
    "\n",
    "print(answer)"
   ]
  },
  {
   "cell_type": "markdown",
   "id": "0bc091f8",
   "metadata": {},
   "source": [
    "#### set 대신 list 사용 시, 없는 요소 삭제 시도하면 에러"
   ]
  },
  {
   "cell_type": "code",
   "execution_count": 36,
   "id": "32b8cc62",
   "metadata": {
    "scrolled": true
   },
   "outputs": [
    {
     "name": "stdout",
     "output_type": "stream",
     "text": [
      "2 4\n",
      "CAAB\n",
      "ADCB\n"
     ]
    },
    {
     "ename": "ValueError",
     "evalue": "'D' is not in list",
     "output_type": "error",
     "traceback": [
      "\u001b[1;31m---------------------------------------------------------------------------\u001b[0m",
      "\u001b[1;31mValueError\u001b[0m                                Traceback (most recent call last)",
      "\u001b[1;32m~\\AppData\\Local\\Temp/ipykernel_21252/1089677700.py\u001b[0m in \u001b[0;36m<module>\u001b[1;34m\u001b[0m\n\u001b[0;32m     29\u001b[0m \u001b[1;33m\u001b[0m\u001b[0m\n\u001b[0;32m     30\u001b[0m \u001b[0mtmp\u001b[0m\u001b[1;33m.\u001b[0m\u001b[0mappend\u001b[0m\u001b[1;33m(\u001b[0m\u001b[0mgraph\u001b[0m\u001b[1;33m[\u001b[0m\u001b[1;36m0\u001b[0m\u001b[1;33m]\u001b[0m\u001b[1;33m[\u001b[0m\u001b[1;36m0\u001b[0m\u001b[1;33m]\u001b[0m\u001b[1;33m)\u001b[0m\u001b[1;33m\u001b[0m\u001b[1;33m\u001b[0m\u001b[0m\n\u001b[1;32m---> 31\u001b[1;33m \u001b[0mdfs\u001b[0m\u001b[1;33m(\u001b[0m\u001b[1;36m0\u001b[0m\u001b[1;33m,\u001b[0m \u001b[1;36m0\u001b[0m\u001b[1;33m,\u001b[0m \u001b[1;36m1\u001b[0m\u001b[1;33m)\u001b[0m\u001b[1;33m\u001b[0m\u001b[1;33m\u001b[0m\u001b[0m\n\u001b[0m\u001b[0;32m     32\u001b[0m \u001b[0mprint\u001b[0m\u001b[1;33m(\u001b[0m\u001b[0manswer\u001b[0m\u001b[1;33m)\u001b[0m\u001b[1;33m\u001b[0m\u001b[1;33m\u001b[0m\u001b[0m\n",
      "\u001b[1;32m~\\AppData\\Local\\Temp/ipykernel_21252/1089677700.py\u001b[0m in \u001b[0;36mdfs\u001b[1;34m(x, y, cnt)\u001b[0m\n\u001b[0;32m     25\u001b[0m         \u001b[1;32mif\u001b[0m \u001b[1;32mnot\u001b[0m \u001b[0mgraph\u001b[0m\u001b[1;33m[\u001b[0m\u001b[0mnx\u001b[0m\u001b[1;33m]\u001b[0m\u001b[1;33m[\u001b[0m\u001b[0mny\u001b[0m\u001b[1;33m]\u001b[0m \u001b[1;32min\u001b[0m \u001b[0mtmp\u001b[0m\u001b[1;33m:\u001b[0m\u001b[1;33m\u001b[0m\u001b[1;33m\u001b[0m\u001b[0m\n\u001b[0;32m     26\u001b[0m             \u001b[0mtmp\u001b[0m\u001b[1;33m.\u001b[0m\u001b[0mappend\u001b[0m\u001b[1;33m(\u001b[0m\u001b[0mgraph\u001b[0m\u001b[1;33m[\u001b[0m\u001b[0mnx\u001b[0m\u001b[1;33m]\u001b[0m\u001b[1;33m[\u001b[0m\u001b[0mny\u001b[0m\u001b[1;33m]\u001b[0m\u001b[1;33m)\u001b[0m\u001b[1;33m\u001b[0m\u001b[1;33m\u001b[0m\u001b[0m\n\u001b[1;32m---> 27\u001b[1;33m             \u001b[0mdfs\u001b[0m\u001b[1;33m(\u001b[0m\u001b[0mnx\u001b[0m\u001b[1;33m,\u001b[0m \u001b[0mny\u001b[0m\u001b[1;33m,\u001b[0m \u001b[0mcnt\u001b[0m\u001b[1;33m+\u001b[0m\u001b[1;36m1\u001b[0m\u001b[1;33m)\u001b[0m\u001b[1;33m\u001b[0m\u001b[1;33m\u001b[0m\u001b[0m\n\u001b[0m\u001b[0;32m     28\u001b[0m             \u001b[0mtmp\u001b[0m\u001b[1;33m.\u001b[0m\u001b[0mpop\u001b[0m\u001b[1;33m(\u001b[0m\u001b[0mgraph\u001b[0m\u001b[1;33m.\u001b[0m\u001b[0mindex\u001b[0m\u001b[1;33m(\u001b[0m\u001b[0mgraph\u001b[0m\u001b[1;33m[\u001b[0m\u001b[0mnx\u001b[0m\u001b[1;33m]\u001b[0m\u001b[1;33m[\u001b[0m\u001b[0mny\u001b[0m\u001b[1;33m]\u001b[0m\u001b[1;33m)\u001b[0m\u001b[1;33m)\u001b[0m\u001b[1;33m\u001b[0m\u001b[1;33m\u001b[0m\u001b[0m\n\u001b[0;32m     29\u001b[0m \u001b[1;33m\u001b[0m\u001b[0m\n",
      "\u001b[1;32m~\\AppData\\Local\\Temp/ipykernel_21252/1089677700.py\u001b[0m in \u001b[0;36mdfs\u001b[1;34m(x, y, cnt)\u001b[0m\n\u001b[0;32m     26\u001b[0m             \u001b[0mtmp\u001b[0m\u001b[1;33m.\u001b[0m\u001b[0mappend\u001b[0m\u001b[1;33m(\u001b[0m\u001b[0mgraph\u001b[0m\u001b[1;33m[\u001b[0m\u001b[0mnx\u001b[0m\u001b[1;33m]\u001b[0m\u001b[1;33m[\u001b[0m\u001b[0mny\u001b[0m\u001b[1;33m]\u001b[0m\u001b[1;33m)\u001b[0m\u001b[1;33m\u001b[0m\u001b[1;33m\u001b[0m\u001b[0m\n\u001b[0;32m     27\u001b[0m             \u001b[0mdfs\u001b[0m\u001b[1;33m(\u001b[0m\u001b[0mnx\u001b[0m\u001b[1;33m,\u001b[0m \u001b[0mny\u001b[0m\u001b[1;33m,\u001b[0m \u001b[0mcnt\u001b[0m\u001b[1;33m+\u001b[0m\u001b[1;36m1\u001b[0m\u001b[1;33m)\u001b[0m\u001b[1;33m\u001b[0m\u001b[1;33m\u001b[0m\u001b[0m\n\u001b[1;32m---> 28\u001b[1;33m             \u001b[0mtmp\u001b[0m\u001b[1;33m.\u001b[0m\u001b[0mpop\u001b[0m\u001b[1;33m(\u001b[0m\u001b[0mgraph\u001b[0m\u001b[1;33m.\u001b[0m\u001b[0mindex\u001b[0m\u001b[1;33m(\u001b[0m\u001b[0mgraph\u001b[0m\u001b[1;33m[\u001b[0m\u001b[0mnx\u001b[0m\u001b[1;33m]\u001b[0m\u001b[1;33m[\u001b[0m\u001b[0mny\u001b[0m\u001b[1;33m]\u001b[0m\u001b[1;33m)\u001b[0m\u001b[1;33m)\u001b[0m\u001b[1;33m\u001b[0m\u001b[1;33m\u001b[0m\u001b[0m\n\u001b[0m\u001b[0;32m     29\u001b[0m \u001b[1;33m\u001b[0m\u001b[0m\n\u001b[0;32m     30\u001b[0m \u001b[0mtmp\u001b[0m\u001b[1;33m.\u001b[0m\u001b[0mappend\u001b[0m\u001b[1;33m(\u001b[0m\u001b[0mgraph\u001b[0m\u001b[1;33m[\u001b[0m\u001b[1;36m0\u001b[0m\u001b[1;33m]\u001b[0m\u001b[1;33m[\u001b[0m\u001b[1;36m0\u001b[0m\u001b[1;33m]\u001b[0m\u001b[1;33m)\u001b[0m\u001b[1;33m\u001b[0m\u001b[1;33m\u001b[0m\u001b[0m\n",
      "\u001b[1;31mValueError\u001b[0m: 'D' is not in list"
     ]
    }
   ],
   "source": [
    "r, c = map(int, input().split())\n",
    "\n",
    "graph = []\n",
    "\n",
    "for _ in range(r):\n",
    "    graph.append(list(input()))\n",
    "\n",
    "tmp = []\n",
    "answer = -float('inf')\n",
    "        \n",
    "    \n",
    "dx = [-1, 1, 0, 0]\n",
    "dy = [0, 0, -1, 1]\n",
    "def dfs(x, y, cnt):\n",
    "    global answer\n",
    "    answer = max(answer, cnt)\n",
    "    \n",
    "    for i in range(4):\n",
    "        nx = x + dx[i]\n",
    "        ny = y + dy[i]\n",
    "    \n",
    "        if nx < 0 or nx >= r or ny < 0 or ny >= c:\n",
    "            continue\n",
    "\n",
    "        if not graph[nx][ny] in tmp:\n",
    "            tmp.append(graph[nx][ny])\n",
    "            dfs(nx, ny, cnt+1)\n",
    "            tmp.pop(graph.index(graph[nx][ny]))\n",
    "\n",
    "tmp.append(graph[0][0])\n",
    "dfs(0, 0, 1)            \n",
    "print(answer)"
   ]
  },
  {
   "cell_type": "markdown",
   "id": "2e9a0a8a",
   "metadata": {},
   "source": [
    "#### Python3 정답 (구글링 참고)"
   ]
  },
  {
   "cell_type": "code",
   "execution_count": 53,
   "id": "d2206f4d",
   "metadata": {},
   "outputs": [
    {
     "name": "stdout",
     "output_type": "stream",
     "text": [
      "2 4\n",
      "CAAB\n",
      "ADCB\n",
      "3\n"
     ]
    }
   ],
   "source": [
    "r, c=map(int, input().split())\n",
    "graph=[]\n",
    "\n",
    "for i in range(r):\n",
    "    graph.append(list(input()))\n",
    "    \n",
    "dx=[1,-1,0,0]\n",
    "dy=[0,0,1,-1]\n",
    "\n",
    "def bfs():\n",
    "    answer = 1\n",
    "    queue = set([(0, 0, graph[0][0])])\n",
    "\n",
    "    while queue: \n",
    "        x, y, visited=queue.pop()\n",
    "\n",
    "        for i in range(4):\n",
    "            nx = x+dx[i]\n",
    "            ny = y+dy[i]\n",
    "            \n",
    "            if nx < 0 or nx >= r or ny < 0 or ny >= c:\n",
    "                continue\n",
    "            \n",
    "            if graph[nx][ny] not in visited:\n",
    "                # 문자열 합치기를 그냥 +로 구현\n",
    "                next_visited = visited + graph[nx][ny]\n",
    "                \n",
    "                # 큐에 다음 요소로 넣어줌\n",
    "                queue.add((nx, ny, next_visited))\n",
    "                \n",
    "                # 현재까지\n",
    "                answer = max(answer, len(next_visited))\n",
    "\n",
    "    return answer\n",
    "\n",
    "\n",
    "print(bfs())"
   ]
  },
  {
   "cell_type": "markdown",
   "id": "b677fd8f",
   "metadata": {},
   "source": [
    "#### 내가 푼 방법 (오답 - 보완 필수)"
   ]
  },
  {
   "cell_type": "code",
   "execution_count": 56,
   "id": "17026610",
   "metadata": {},
   "outputs": [
    {
     "name": "stdout",
     "output_type": "stream",
     "text": [
      "5 5\n",
      "IEFCJ\n",
      "FHFKC\n",
      "FFALF\n",
      "HFGCF\n",
      "HMCHH\n",
      "['I']\n",
      "['I', 'F', 'E']\n",
      "['I', 'F', 'E', 'H']\n",
      "['I', 'F', 'E', 'H']\n",
      "4\n"
     ]
    }
   ],
   "source": [
    "from collections import deque\n",
    "\n",
    "r, c = map(int, input().split())\n",
    "\n",
    "graph = []\n",
    "\n",
    "for _ in range(r):\n",
    "    graph.append(list(input()))\n",
    "    \n",
    "def bfs(x,y):\n",
    "    answer = 1\n",
    "    q = deque()\n",
    "    \n",
    "    q.append((x, y))\n",
    "    \n",
    "    # 지나온 말들을 담을 변수\n",
    "    tmp = []\n",
    "    \n",
    "    tmp.append(graph[x][y])\n",
    "    \n",
    "    dx = [-1, 1, 0, 0]\n",
    "    dy = [0, 0, -1, 1]\n",
    "    \n",
    "    while q:\n",
    "        x, y = q.popleft()\n",
    "\n",
    "        for i in range(4):\n",
    "            nx = x + dx[i]\n",
    "            ny = y + dy[i]\n",
    "            \n",
    "            if nx < 0 or nx >= r or ny < 0 or ny >= c:\n",
    "                continue\n",
    "                \n",
    "            if not graph[nx][ny] in tmp:\n",
    "                tmp.append(graph[nx][ny])\n",
    "                q.append((nx, ny))\n",
    "                answer = max(answer, len(tmp))\n",
    "\n",
    "    return answer\n",
    "        \n",
    "print(bfs(0, 0))    "
   ]
  }
 ],
 "metadata": {
  "kernelspec": {
   "display_name": "Python3_7",
   "language": "python",
   "name": "3_7"
  },
  "language_info": {
   "codemirror_mode": {
    "name": "ipython",
    "version": 3
   },
   "file_extension": ".py",
   "mimetype": "text/x-python",
   "name": "python",
   "nbconvert_exporter": "python",
   "pygments_lexer": "ipython3",
   "version": "3.7.11"
  }
 },
 "nbformat": 4,
 "nbformat_minor": 5
}
