{
 "cells": [
  {
   "cell_type": "markdown",
   "id": "9666a06b",
   "metadata": {},
   "source": [
    "### 1697 숨바꼭질"
   ]
  },
  {
   "cell_type": "code",
   "execution_count": 5,
   "id": "d5080c42",
   "metadata": {},
   "outputs": [
    {
     "name": "stdout",
     "output_type": "stream",
     "text": [
      "5 17\n",
      "4\n"
     ]
    }
   ],
   "source": [
    "n, k = map(int, input().split())\n",
    "\n",
    "from collections import deque\n",
    "\n",
    "# n, k의 최대 범위 => 10만\n",
    "ran = 100001\n",
    "\n",
    "# 최소 이동 횟수를 담을 리스트\n",
    "visited = [0] * ran\n",
    "\n",
    "def bfs():\n",
    "    q = deque()\n",
    "    \n",
    "    q.append(n)\n",
    "    \n",
    "    while q:\n",
    "        \n",
    "        # 수빈이의 현재 위치\n",
    "        x = q.popleft()\n",
    "        \n",
    "        # 동생을 찾았다\n",
    "        if x == k:\n",
    "            print(visited[x])\n",
    "            break\n",
    "            \n",
    "        # 움직일 수 있는 경우의 수 3가지를 모두 찾아줌\n",
    "        for i in (x-1, x+1, 2*x):\n",
    "            \n",
    "            # 문제의 조건에 해당하는 범위만 탐색\n",
    "            # 조건 1 : 수빈이, 동생의 좌표는 ran보다 작아야 함\n",
    "            # 조건 2 : 방문하지 않은 곳만 방문해야 함\n",
    "            # not visited[i] => 0인 경우\n",
    "            if 0 <= i < ran and not visited[i]:\n",
    "                \n",
    "                # 움직이는 횟수를 구하는 것이므로\n",
    "                # 한 번 더 움직일 때마다 이전 값에 +1을 더해줌\n",
    "                visited[i] = visited[x] + 1\n",
    "                q.append(i)\n",
    "bfs()        "
   ]
  }
 ],
 "metadata": {
  "kernelspec": {
   "display_name": "Python3_7",
   "language": "python",
   "name": "3_7"
  },
  "language_info": {
   "codemirror_mode": {
    "name": "ipython",
    "version": 3
   },
   "file_extension": ".py",
   "mimetype": "text/x-python",
   "name": "python",
   "nbconvert_exporter": "python",
   "pygments_lexer": "ipython3",
   "version": "3.7.11"
  }
 },
 "nbformat": 4,
 "nbformat_minor": 5
}
