{
 "cells": [
  {
   "cell_type": "markdown",
   "id": "9001080a",
   "metadata": {},
   "source": [
    "### 1325 효율적인 해킹"
   ]
  },
  {
   "cell_type": "code",
   "execution_count": 12,
   "id": "da7eb697",
   "metadata": {},
   "outputs": [
    {
     "name": "stdout",
     "output_type": "stream",
     "text": [
      "5 4\n",
      "3 1\n",
      "3 2\n",
      "4 3\n",
      "5 3\n",
      "1 2 "
     ]
    }
   ],
   "source": [
    "from collections import deque\n",
    "\n",
    "n, m = map(int, input().split())\n",
    "graph = [[] for _ in range(n+1)]\n",
    "\n",
    "for _ in range(m):\n",
    "    a, b = map(int, input().split())\n",
    "\n",
    "    # a가 b를 신뢰한다 => b를 해킹하면 a도 해킹된다\n",
    "    # ==> b에서 a로만 방향이 있는 단방향 그래프이다!!!\n",
    "    graph[b].append(a)\n",
    "\n",
    "# 각각의 컴퓨터에서 해킹 가능한 개수를 담을 리스트\n",
    "result = [0]\n",
    "\n",
    "# BFS 수행\n",
    "def bfs(v):\n",
    "    q = deque()\n",
    "    q.append(v)\n",
    "    \n",
    "    visited = [False for _ in range(n+1)]\n",
    "    visited[v] = True\n",
    "    \n",
    "    # 해킹 가능한 컴퓨터의 수를 담을 변수\n",
    "    cnt = 0\n",
    "    \n",
    "    while q:\n",
    "        nv = q.popleft()\n",
    "        \n",
    "        for i in graph[nv]:\n",
    "            if not visited[i]:\n",
    "                q.append(i)\n",
    "                visited[i] = True\n",
    "                \n",
    "                # 해킹 하나 했으므로 +1\n",
    "                cnt += 1\n",
    "                \n",
    "    # deque가 비면 cnt 반환            \n",
    "    return cnt\n",
    "\n",
    "# 각 컴퓨터에 대하여 bfs 수행 후, 그 결과를 result에 저장\n",
    "for i in range(1, n+1):\n",
    "    result.append(bfs(i))\n",
    "\n",
    "# result 중 가장 큰 값의 인덱스 번호를 출력 => 컴퓨터의 번호 오름차순 출력하라는 조건과 일치\n",
    "for i in range(len(result)):\n",
    "    if result[i] == max(result):\n",
    "        print(i, end = ' ')    "
   ]
  }
 ],
 "metadata": {
  "kernelspec": {
   "display_name": "Python3_7",
   "language": "python",
   "name": "3_7"
  },
  "language_info": {
   "codemirror_mode": {
    "name": "ipython",
    "version": 3
   },
   "file_extension": ".py",
   "mimetype": "text/x-python",
   "name": "python",
   "nbconvert_exporter": "python",
   "pygments_lexer": "ipython3",
   "version": "3.7.11"
  }
 },
 "nbformat": 4,
 "nbformat_minor": 5
}
