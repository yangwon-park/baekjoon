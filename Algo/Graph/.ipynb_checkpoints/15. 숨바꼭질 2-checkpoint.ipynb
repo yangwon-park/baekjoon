{
 "cells": [
  {
   "cell_type": "markdown",
   "id": "b37c4f8e",
   "metadata": {},
   "source": [
    "### 12851 숨바꼭질 2"
   ]
  },
  {
   "cell_type": "code",
   "execution_count": 23,
   "id": "5b83aec2",
   "metadata": {},
   "outputs": [
    {
     "name": "stdout",
     "output_type": "stream",
     "text": [
      "5 17\n",
      "4\n",
      "2\n"
     ]
    }
   ],
   "source": [
    "from collections import deque\n",
    "\n",
    "n, k = map(int, input().split())\n",
    "\n",
    "max_range = 100001\n",
    "\n",
    "# visisted[방문 소요 시간][경우의 수]\n",
    "visited = [[0, 0] for _ in range(max_range)]\n",
    "\n",
    "def bfs(n):\n",
    "    q = deque()\n",
    "    q.append(n)\n",
    "    \n",
    "    visited[n][0] = 1 # 시작은 방문 처리\n",
    "    visited[n][1] = 1 # 기본 적으로 1개의 경우의 수가 존재하므로 시작을 1로 잡음\n",
    "    \n",
    "    while q:\n",
    "        x = q.popleft()\n",
    "        \n",
    "        # 찾으면 함수 종료\n",
    "        if x == k:\n",
    "            return\n",
    "        \n",
    "        for i in (x-1, x+1, x*2):\n",
    "            if i < 0 or i >= max_range:\n",
    "                continue\n",
    "                \n",
    "            # 처음 방문하는 점인 경우\n",
    "            if visited[i][0] == 0:\n",
    "                \n",
    "                # 이전 까지의 소요 시간에 +1\n",
    "                visited[i][0] = visited[x][0] + 1\n",
    "                \n",
    "                # 첫 방문이므로 이동하기 전과 후 모두 하나의 경우에서 발생하는 일\n",
    "                # 따라서 이전 좌표까지의 경우의 수를 그대로 받아옴\n",
    "                visited[i][1] = visited[x][1]\n",
    "                q.append(i)\n",
    "\n",
    "            # 다음 좌표로 이동하는 시간이 현재까지 이동 시간 + 1초로 똑같다면\n",
    "            # 이 경우, 첫 방문이 아니라는 의미\n",
    "            # 만약 여기 조건을 단순히 첫 방문이 아닌 경우 (visited[i][0] != 1)로 잡으면\n",
    "            # 최단 소요 시간인지 확인할 방법이 없음\n",
    "            # 따라서 재방문이면서, 이전 좌표까지 온 소요 시간에 +1한 값과 같아야 i까지 오는데 소요된 최단 시간이 됨\n",
    "            elif visited[i][0] == visited[x][0] + 1:\n",
    "                \n",
    "                # 다음 좌표에 도착하는 기존 경우의 수에 현재 좌표로 도착하는 경우의 수를 더함\n",
    "                visited[i][1] += visited[x][1]\n",
    "                \n",
    "bfs(n)\n",
    "\n",
    "print(visited[k][0]-1)\n",
    "print(visited[k][1])"
   ]
  }
 ],
 "metadata": {
  "kernelspec": {
   "display_name": "Python 3",
   "language": "python",
   "name": "python3"
  },
  "language_info": {
   "codemirror_mode": {
    "name": "ipython",
    "version": 3
   },
   "file_extension": ".py",
   "mimetype": "text/x-python",
   "name": "python",
   "nbconvert_exporter": "python",
   "pygments_lexer": "ipython3",
   "version": "3.8.8"
  }
 },
 "nbformat": 4,
 "nbformat_minor": 5
}
