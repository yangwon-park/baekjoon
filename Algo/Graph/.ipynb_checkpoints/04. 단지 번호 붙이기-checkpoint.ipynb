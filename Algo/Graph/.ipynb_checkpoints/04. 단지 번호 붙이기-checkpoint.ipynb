{
 "cells": [
  {
   "cell_type": "markdown",
   "id": "c932feb2",
   "metadata": {},
   "source": [
    "### 2667 단지 번호 붙이기"
   ]
  },
  {
   "cell_type": "code",
   "execution_count": 31,
   "id": "5d63dc8b",
   "metadata": {},
   "outputs": [
    {
     "name": "stdout",
     "output_type": "stream",
     "text": [
      "5 3 6\n"
     ]
    },
    {
     "ename": "ValueError",
     "evalue": "invalid literal for int() with base 10: '5 3 6'",
     "output_type": "error",
     "traceback": [
      "\u001b[0;31m---------------------------------------------------------------------------\u001b[0m",
      "\u001b[0;31mValueError\u001b[0m                                Traceback (most recent call last)",
      "\u001b[0;32m<ipython-input-31-28b6de609922>\u001b[0m in \u001b[0;36m<module>\u001b[0;34m\u001b[0m\n\u001b[1;32m      1\u001b[0m \u001b[0;32mfrom\u001b[0m \u001b[0mcollections\u001b[0m \u001b[0;32mimport\u001b[0m \u001b[0mdeque\u001b[0m\u001b[0;34m\u001b[0m\u001b[0;34m\u001b[0m\u001b[0m\n\u001b[1;32m      2\u001b[0m \u001b[0;34m\u001b[0m\u001b[0m\n\u001b[0;32m----> 3\u001b[0;31m \u001b[0mn\u001b[0m \u001b[0;34m=\u001b[0m \u001b[0mint\u001b[0m\u001b[0;34m(\u001b[0m\u001b[0minput\u001b[0m\u001b[0;34m(\u001b[0m\u001b[0;34m)\u001b[0m\u001b[0;34m)\u001b[0m\u001b[0;34m\u001b[0m\u001b[0;34m\u001b[0m\u001b[0m\n\u001b[0m\u001b[1;32m      4\u001b[0m \u001b[0mgraph\u001b[0m \u001b[0;34m=\u001b[0m \u001b[0;34m[\u001b[0m\u001b[0;34m]\u001b[0m\u001b[0;34m\u001b[0m\u001b[0;34m\u001b[0m\u001b[0m\n\u001b[1;32m      5\u001b[0m \u001b[0;34m\u001b[0m\u001b[0m\n",
      "\u001b[0;31mValueError\u001b[0m: invalid literal for int() with base 10: '5 3 6'"
     ]
    }
   ],
   "source": [
    "from collections import deque\n",
    "\n",
    "n = int(input())\n",
    "graph = []\n",
    "\n",
    "for _ in range(n):\n",
    "    graph.append(list(map(int, input())))\n",
    "    \n",
    "def bfs(x, y):\n",
    "    q = deque()\n",
    "    q.append((x, y))\n",
    "    \n",
    "    # 방향을 가르키는 리스트\n",
    "    dx = [-1, 1, 0, 0]\n",
    "    dy = [0, 0, -1, 1]\n",
    "    \n",
    "    # 첫 집 방문 처리\n",
    "    graph[x][y] = 2\n",
    "    cnt = 1\n",
    "    \n",
    "    while q:\n",
    "        x, y = q.popleft()\n",
    "    \n",
    "        for i in range(4):\n",
    "            nx = x + dx[i]\n",
    "            ny = y + dy[i]\n",
    "        \n",
    "            # 주어진 graph를 벗어나면 반복 넘김\n",
    "            if nx < 0 or nx >= n or ny < 0 or ny >= n:\n",
    "                continue\n",
    "\n",
    "            # 아파트가 있으면 방문 처리를 하고 (2)\n",
    "            if graph[nx][ny] == 1:\n",
    "                graph[nx][ny] = 2\n",
    "                \n",
    "                # 방문한 아파트를 큐에 다시 담아줌\n",
    "                q.append((nx, ny))\n",
    "                cnt += 1\n",
    "            \n",
    "    return cnt\n",
    "    \n",
    "# 단지 별 아파트의 수를 담을 리스트\n",
    "cnt_list = []    \n",
    "    \n",
    "for i in range(n):\n",
    "    for j in range(n):\n",
    "\n",
    "        # 아파트가 있는 곳만 bfs 실행\n",
    "        if graph[i][j] == 1:\n",
    "            cnt_list.append(bfs(i, j))\n",
    "            \n",
    "# 단지내 아파트의 수를 오름차순으로 출력하기위해 정렬            \n",
    "cnt_list.sort()\n",
    "\n",
    "# 단지의 수\n",
    "print(len(cnt_list))\n",
    "\n",
    "for c in cnt_list:\n",
    "    print(c)"
   ]
  },
  {
   "cell_type": "code",
   "execution_count": null,
   "id": "7872db3f",
   "metadata": {},
   "outputs": [],
   "source": []
  }
 ],
 "metadata": {
  "kernelspec": {
   "display_name": "Python 3",
   "language": "python",
   "name": "python3"
  },
  "language_info": {
   "codemirror_mode": {
    "name": "ipython",
    "version": 3
   },
   "file_extension": ".py",
   "mimetype": "text/x-python",
   "name": "python",
   "nbconvert_exporter": "python",
   "pygments_lexer": "ipython3",
   "version": "3.8.8"
  }
 },
 "nbformat": 4,
 "nbformat_minor": 5
}
