{
 "cells": [
  {
   "cell_type": "markdown",
   "id": "c932feb2",
   "metadata": {},
   "source": [
    "### 2667 단지 번호 붙이기"
   ]
  },
  {
   "cell_type": "code",
   "execution_count": 1,
   "id": "5d63dc8b",
   "metadata": {},
   "outputs": [
    {
     "name": "stdout",
     "output_type": "stream",
     "text": [
      "7\n",
      "0110100\n",
      "0110101\n",
      "1110101\n",
      "0000111\n",
      "0100000\n",
      "0111110\n",
      "0111000\n",
      "3\n",
      "7\n",
      "8\n",
      "9\n"
     ]
    }
   ],
   "source": [
    "from collections import deque\n",
    "\n",
    "n = int(input())\n",
    "graph = []\n",
    "\n",
    "for _ in range(n):\n",
    "    graph.append(list(map(int, input())))\n",
    "    \n",
    "def bfs(x, y):\n",
    "    q = deque()\n",
    "    q.append((x, y))\n",
    "    \n",
    "    # 방향을 가르키는 리스트\n",
    "    dx = [-1, 1, 0, 0]\n",
    "    dy = [0, 0, -1, 1]\n",
    "    \n",
    "    # 첫 집 방문 처리\n",
    "    graph[x][y] = 2\n",
    "    cnt = 1\n",
    "    \n",
    "    while q:\n",
    "        x, y = q.popleft()\n",
    "    \n",
    "        for i in range(4):\n",
    "            nx = x + dx[i]\n",
    "            ny = y + dy[i]\n",
    "        \n",
    "            # 주어진 graph를 벗어나면 반복 넘김\n",
    "            if nx < 0 or nx >= n or ny < 0 or ny >= n:\n",
    "                continue\n",
    "\n",
    "            # 아파트가 있으면 방문 처리를 하고 (2)\n",
    "            if graph[nx][ny] == 1:\n",
    "                graph[nx][ny] = 2\n",
    "                \n",
    "                # 방문한 아파트를 큐에 다시 담아줌\n",
    "                q.append((nx, ny))\n",
    "                cnt += 1\n",
    "            \n",
    "    return cnt\n",
    "    \n",
    "# 단지 별 아파트의 수를 담을 리스트\n",
    "cnt_list = []    \n",
    "    \n",
    "for i in range(n):\n",
    "    for j in range(n):\n",
    "\n",
    "        # 아파트가 있는 곳만 bfs 실행\n",
    "        if graph[i][j] == 1:\n",
    "            cnt_list.append(bfs(i, j))\n",
    "            \n",
    "# 단지내 아파트의 수를 오름차순으로 출력하기위해 정렬            \n",
    "cnt_list.sort()\n",
    "\n",
    "# 단지의 수\n",
    "print(len(cnt_list))\n",
    "\n",
    "for c in cnt_list:\n",
    "    print(c)"
   ]
  }
 ],
 "metadata": {
  "kernelspec": {
   "display_name": "Python 3",
   "language": "python",
   "name": "python3"
  },
  "language_info": {
   "codemirror_mode": {
    "name": "ipython",
    "version": 3
   },
   "file_extension": ".py",
   "mimetype": "text/x-python",
   "name": "python",
   "nbconvert_exporter": "python",
   "pygments_lexer": "ipython3",
   "version": "3.8.8"
  }
 },
 "nbformat": 4,
 "nbformat_minor": 5
}
