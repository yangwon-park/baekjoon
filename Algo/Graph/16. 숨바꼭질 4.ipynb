{
 "cells": [
  {
   "cell_type": "markdown",
   "id": "2785b46b",
   "metadata": {},
   "source": [
    "### 13913 숨바꼭질 4"
   ]
  },
  {
   "cell_type": "code",
   "execution_count": 48,
   "id": "995c7c8f",
   "metadata": {},
   "outputs": [
    {
     "name": "stdout",
     "output_type": "stream",
     "text": [
      "5 17\n",
      "4\n",
      "5 4 8 16 17\n"
     ]
    }
   ],
   "source": [
    "from collections import deque\n",
    "\n",
    "n, k = map(int, input().split())\n",
    "max_range = 100001\n",
    "visited = [0 for _ in range(max_range)]\n",
    "\n",
    "# seq[i] = i에 도착하기 전의 좌표. 즉, i 전에 출발한 좌표를 저장할 리스트\n",
    "seq = [0 for _ in range(max_range)]\n",
    "\n",
    "# 이동 경로를 만들어주는 메소드\n",
    "def sequence(k):\n",
    "    # 이동 경로를 담을 리스트\n",
    "    path = []\n",
    "    \n",
    "    # 이동할 때 마다 도착한 좌표를 업데이트 해줄 임시 변수\n",
    "    temp = k # 마지막 도착 경로는 k\n",
    "    \n",
    "    # 1~visited[k]까지 반복 => 움직인 횟수와 동일하게 반복 == 경로의 개수\n",
    "    for _ in range(1, visited[k]+1):\n",
    "        \n",
    "        # 이동 경로를 path에 저장\n",
    "        path.append(temp)\n",
    "        \n",
    "        # seq[temp] => temp에 도착하기 전에 있던 직전의 좌표가 됨\n",
    "        # 이 좌표를 다시 temp에 넣어줌\n",
    "        # 이 과정을 for문으로 반복하면 지나온 경로를 되감기 하듯이 거슬러 올라갈 수 있음\n",
    "        temp = seq[temp]\n",
    "        \n",
    "    # 경로를 역순으로 출력\n",
    "    print(' '.join(map(str, path[::-1])))\n",
    "\n",
    "def bfs(n):\n",
    "    q = deque()\n",
    "    q.append(n)\n",
    "    \n",
    "    visited[n] = 1\n",
    "    \n",
    "    while q:\n",
    "        x = q.popleft()\n",
    "        \n",
    "        # 동생을 찾았을 때\n",
    "        if x == k:\n",
    "            print(visited[k]-1) # 소요 시간 출력\n",
    "            sequence(k)\n",
    "            return\n",
    "        \n",
    "        for nx in (x-1, x+1, x*2):\n",
    "            if nx < 0 or nx >= max_range:\n",
    "                continue\n",
    "                \n",
    "            if visited[nx] == 0:\n",
    "                visited[nx] = visited[x] + 1\n",
    "                seq[nx] = x # nx에 도착했을 때, 도착하기 전의 좌표 x를 seq에 저장\n",
    "                q.append(nx)\n",
    "        \n",
    "bfs(n)"
   ]
  }
 ],
 "metadata": {
  "kernelspec": {
   "display_name": "Python 3 (ipykernel)",
   "language": "python",
   "name": "python3"
  },
  "language_info": {
   "codemirror_mode": {
    "name": "ipython",
    "version": 3
   },
   "file_extension": ".py",
   "mimetype": "text/x-python",
   "name": "python",
   "nbconvert_exporter": "python",
   "pygments_lexer": "ipython3",
   "version": "3.7.11"
  }
 },
 "nbformat": 4,
 "nbformat_minor": 5
}
