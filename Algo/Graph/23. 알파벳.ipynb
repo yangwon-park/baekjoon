{
 "cells": [
  {
   "cell_type": "markdown",
   "id": "4a7f25d0",
   "metadata": {},
   "source": [
    "### 1987 알파벳"
   ]
  },
  {
   "cell_type": "markdown",
   "id": "71f80fa9",
   "metadata": {},
   "source": [
    "#### DFS - Pypy3 정답"
   ]
  },
  {
   "cell_type": "code",
   "execution_count": 30,
   "id": "7080329b",
   "metadata": {},
   "outputs": [
    {
     "name": "stdout",
     "output_type": "stream",
     "text": [
      "5 5\n",
      "IEFCJ\n",
      "FHFKC\n",
      "FFALF\n",
      "HFGCF\n",
      "HMCHH\n",
      "10\n"
     ]
    }
   ],
   "source": [
    "r, c = map(int, input().split())\n",
    "\n",
    "graph = []\n",
    "\n",
    "for _ in range(r):\n",
    "    graph.append(list(input()))\n",
    "\n",
    "# 방문한 알파벳을 담을 set\n",
    "# list대신 set을 활용\n",
    "tmp = set()    \n",
    "    \n",
    "dx = [-1, 1, 0, 0]\n",
    "dy = [0, 0, -1, 1]\n",
    "\n",
    "# 최종 정답\n",
    "answer = -float('inf')\n",
    "\n",
    "def dfs(x, y, cnt):\n",
    "    global answer\n",
    "    \n",
    "    # cnt를 dfs를 반복할 때마다 1씩 증가시킴\n",
    "    # 확장된 알파벳 영역의 개수가 됨\n",
    "    # 기존의 answer와 새로운 cnt 중 더 큰 값을 answer로 변경\n",
    "    answer = max(answer, cnt)\n",
    "    \n",
    "    for i in range(4):\n",
    "        nx = x + dx[i]\n",
    "        ny = y + dy[i]\n",
    "    \n",
    "        if nx < 0 or nx >= r or ny < 0 or ny >= c:\n",
    "            continue\n",
    "\n",
    "        # 다음 지점의 알파벳이 방문한 적 없다면\n",
    "        if not graph[nx][ny] in tmp:\n",
    "            \n",
    "            # 백트래킹 수행\n",
    "            # set에 넣음\n",
    "            tmp.add(graph[nx][ny])\n",
    "            \n",
    "            # cnt+1을 한 후, dfs 수행\n",
    "            dfs(nx, ny, cnt+1)\n",
    "            \n",
    "            # 다른 경로로 이동해야 하므로 set에서 알파벳 제거\n",
    "            tmp.remove(graph[nx][ny])\n",
    "\n",
    "# 시작점도 포함해야 하므로 설정            \n",
    "tmp.add(graph[0][0])\n",
    "\n",
    "dfs(0, 0, 1)\n",
    "\n",
    "print(answer)"
   ]
  },
  {
   "cell_type": "markdown",
   "id": "3c397273",
   "metadata": {},
   "source": [
    "#### set 대신 list 사용 시, 없는 요소 삭제 시도하면 에러"
   ]
  },
  {
   "cell_type": "code",
   "execution_count": 36,
   "id": "bf378934",
   "metadata": {
    "scrolled": true
   },
   "outputs": [
    {
     "name": "stdout",
     "output_type": "stream",
     "text": [
      "2 4\n",
      "CAAB\n",
      "ADCB\n"
     ]
    },
    {
     "ename": "ValueError",
     "evalue": "'D' is not in list",
     "output_type": "error",
     "traceback": [
      "\u001b[1;31m---------------------------------------------------------------------------\u001b[0m",
      "\u001b[1;31mValueError\u001b[0m                                Traceback (most recent call last)",
      "\u001b[1;32m~\\AppData\\Local\\Temp/ipykernel_21252/1089677700.py\u001b[0m in \u001b[0;36m<module>\u001b[1;34m\u001b[0m\n\u001b[0;32m     29\u001b[0m \u001b[1;33m\u001b[0m\u001b[0m\n\u001b[0;32m     30\u001b[0m \u001b[0mtmp\u001b[0m\u001b[1;33m.\u001b[0m\u001b[0mappend\u001b[0m\u001b[1;33m(\u001b[0m\u001b[0mgraph\u001b[0m\u001b[1;33m[\u001b[0m\u001b[1;36m0\u001b[0m\u001b[1;33m]\u001b[0m\u001b[1;33m[\u001b[0m\u001b[1;36m0\u001b[0m\u001b[1;33m]\u001b[0m\u001b[1;33m)\u001b[0m\u001b[1;33m\u001b[0m\u001b[1;33m\u001b[0m\u001b[0m\n\u001b[1;32m---> 31\u001b[1;33m \u001b[0mdfs\u001b[0m\u001b[1;33m(\u001b[0m\u001b[1;36m0\u001b[0m\u001b[1;33m,\u001b[0m \u001b[1;36m0\u001b[0m\u001b[1;33m,\u001b[0m \u001b[1;36m1\u001b[0m\u001b[1;33m)\u001b[0m\u001b[1;33m\u001b[0m\u001b[1;33m\u001b[0m\u001b[0m\n\u001b[0m\u001b[0;32m     32\u001b[0m \u001b[0mprint\u001b[0m\u001b[1;33m(\u001b[0m\u001b[0manswer\u001b[0m\u001b[1;33m)\u001b[0m\u001b[1;33m\u001b[0m\u001b[1;33m\u001b[0m\u001b[0m\n",
      "\u001b[1;32m~\\AppData\\Local\\Temp/ipykernel_21252/1089677700.py\u001b[0m in \u001b[0;36mdfs\u001b[1;34m(x, y, cnt)\u001b[0m\n\u001b[0;32m     25\u001b[0m         \u001b[1;32mif\u001b[0m \u001b[1;32mnot\u001b[0m \u001b[0mgraph\u001b[0m\u001b[1;33m[\u001b[0m\u001b[0mnx\u001b[0m\u001b[1;33m]\u001b[0m\u001b[1;33m[\u001b[0m\u001b[0mny\u001b[0m\u001b[1;33m]\u001b[0m \u001b[1;32min\u001b[0m \u001b[0mtmp\u001b[0m\u001b[1;33m:\u001b[0m\u001b[1;33m\u001b[0m\u001b[1;33m\u001b[0m\u001b[0m\n\u001b[0;32m     26\u001b[0m             \u001b[0mtmp\u001b[0m\u001b[1;33m.\u001b[0m\u001b[0mappend\u001b[0m\u001b[1;33m(\u001b[0m\u001b[0mgraph\u001b[0m\u001b[1;33m[\u001b[0m\u001b[0mnx\u001b[0m\u001b[1;33m]\u001b[0m\u001b[1;33m[\u001b[0m\u001b[0mny\u001b[0m\u001b[1;33m]\u001b[0m\u001b[1;33m)\u001b[0m\u001b[1;33m\u001b[0m\u001b[1;33m\u001b[0m\u001b[0m\n\u001b[1;32m---> 27\u001b[1;33m             \u001b[0mdfs\u001b[0m\u001b[1;33m(\u001b[0m\u001b[0mnx\u001b[0m\u001b[1;33m,\u001b[0m \u001b[0mny\u001b[0m\u001b[1;33m,\u001b[0m \u001b[0mcnt\u001b[0m\u001b[1;33m+\u001b[0m\u001b[1;36m1\u001b[0m\u001b[1;33m)\u001b[0m\u001b[1;33m\u001b[0m\u001b[1;33m\u001b[0m\u001b[0m\n\u001b[0m\u001b[0;32m     28\u001b[0m             \u001b[0mtmp\u001b[0m\u001b[1;33m.\u001b[0m\u001b[0mpop\u001b[0m\u001b[1;33m(\u001b[0m\u001b[0mgraph\u001b[0m\u001b[1;33m.\u001b[0m\u001b[0mindex\u001b[0m\u001b[1;33m(\u001b[0m\u001b[0mgraph\u001b[0m\u001b[1;33m[\u001b[0m\u001b[0mnx\u001b[0m\u001b[1;33m]\u001b[0m\u001b[1;33m[\u001b[0m\u001b[0mny\u001b[0m\u001b[1;33m]\u001b[0m\u001b[1;33m)\u001b[0m\u001b[1;33m)\u001b[0m\u001b[1;33m\u001b[0m\u001b[1;33m\u001b[0m\u001b[0m\n\u001b[0;32m     29\u001b[0m \u001b[1;33m\u001b[0m\u001b[0m\n",
      "\u001b[1;32m~\\AppData\\Local\\Temp/ipykernel_21252/1089677700.py\u001b[0m in \u001b[0;36mdfs\u001b[1;34m(x, y, cnt)\u001b[0m\n\u001b[0;32m     26\u001b[0m             \u001b[0mtmp\u001b[0m\u001b[1;33m.\u001b[0m\u001b[0mappend\u001b[0m\u001b[1;33m(\u001b[0m\u001b[0mgraph\u001b[0m\u001b[1;33m[\u001b[0m\u001b[0mnx\u001b[0m\u001b[1;33m]\u001b[0m\u001b[1;33m[\u001b[0m\u001b[0mny\u001b[0m\u001b[1;33m]\u001b[0m\u001b[1;33m)\u001b[0m\u001b[1;33m\u001b[0m\u001b[1;33m\u001b[0m\u001b[0m\n\u001b[0;32m     27\u001b[0m             \u001b[0mdfs\u001b[0m\u001b[1;33m(\u001b[0m\u001b[0mnx\u001b[0m\u001b[1;33m,\u001b[0m \u001b[0mny\u001b[0m\u001b[1;33m,\u001b[0m \u001b[0mcnt\u001b[0m\u001b[1;33m+\u001b[0m\u001b[1;36m1\u001b[0m\u001b[1;33m)\u001b[0m\u001b[1;33m\u001b[0m\u001b[1;33m\u001b[0m\u001b[0m\n\u001b[1;32m---> 28\u001b[1;33m             \u001b[0mtmp\u001b[0m\u001b[1;33m.\u001b[0m\u001b[0mpop\u001b[0m\u001b[1;33m(\u001b[0m\u001b[0mgraph\u001b[0m\u001b[1;33m.\u001b[0m\u001b[0mindex\u001b[0m\u001b[1;33m(\u001b[0m\u001b[0mgraph\u001b[0m\u001b[1;33m[\u001b[0m\u001b[0mnx\u001b[0m\u001b[1;33m]\u001b[0m\u001b[1;33m[\u001b[0m\u001b[0mny\u001b[0m\u001b[1;33m]\u001b[0m\u001b[1;33m)\u001b[0m\u001b[1;33m)\u001b[0m\u001b[1;33m\u001b[0m\u001b[1;33m\u001b[0m\u001b[0m\n\u001b[0m\u001b[0;32m     29\u001b[0m \u001b[1;33m\u001b[0m\u001b[0m\n\u001b[0;32m     30\u001b[0m \u001b[0mtmp\u001b[0m\u001b[1;33m.\u001b[0m\u001b[0mappend\u001b[0m\u001b[1;33m(\u001b[0m\u001b[0mgraph\u001b[0m\u001b[1;33m[\u001b[0m\u001b[1;36m0\u001b[0m\u001b[1;33m]\u001b[0m\u001b[1;33m[\u001b[0m\u001b[1;36m0\u001b[0m\u001b[1;33m]\u001b[0m\u001b[1;33m)\u001b[0m\u001b[1;33m\u001b[0m\u001b[1;33m\u001b[0m\u001b[0m\n",
      "\u001b[1;31mValueError\u001b[0m: 'D' is not in list"
     ]
    }
   ],
   "source": [
    "r, c = map(int, input().split())\n",
    "\n",
    "graph = []\n",
    "\n",
    "for _ in range(r):\n",
    "    graph.append(list(input()))\n",
    "\n",
    "tmp = []\n",
    "answer = -float('inf')\n",
    "        \n",
    "    \n",
    "dx = [-1, 1, 0, 0]\n",
    "dy = [0, 0, -1, 1]\n",
    "def dfs(x, y, cnt):\n",
    "    global answer\n",
    "    answer = max(answer, cnt)\n",
    "    \n",
    "    for i in range(4):\n",
    "        nx = x + dx[i]\n",
    "        ny = y + dy[i]\n",
    "    \n",
    "        if nx < 0 or nx >= r or ny < 0 or ny >= c:\n",
    "            continue\n",
    "\n",
    "        if not graph[nx][ny] in tmp:\n",
    "            tmp.append(graph[nx][ny])\n",
    "            dfs(nx, ny, cnt+1)\n",
    "            tmp.pop(graph.index(graph[nx][ny]))\n",
    "\n",
    "tmp.append(graph[0][0])\n",
    "dfs(0, 0, 1)            \n",
    "print(answer)"
   ]
  },
  {
   "cell_type": "markdown",
   "id": "e845c11f",
   "metadata": {},
   "source": [
    "#### BFS - Python3 정답 (구글링 참고)"
   ]
  },
  {
   "cell_type": "code",
   "execution_count": 60,
   "id": "230e55d9",
   "metadata": {},
   "outputs": [
    {
     "name": "stdout",
     "output_type": "stream",
     "text": [
      "5 5\n",
      "IEFCJ\n",
      "FHFKC\n",
      "FFALF\n",
      "HFGCF\n",
      "HMCHH\n",
      "IF\n",
      "IE\n",
      "IEH\n",
      "IEF\n",
      "IFH\n",
      "IEFC\n",
      "IEHF\n",
      "IEHF\n",
      "IEHF\n",
      "IFHE\n",
      "IEHFA\n",
      "IEHFK\n",
      "IEHFA\n",
      "IEFCK\n",
      "IEFCJ\n",
      "IEHFAG\n",
      "IEHFAL\n",
      "IEFCKL\n",
      "IEHFALC\n",
      "IEHFALK\n",
      "IEHFKL\n",
      "IEHFKC\n",
      "IEHFKC\n",
      "IEHFAGC\n",
      "IEHFAGC\n",
      "IEFCKLA\n",
      "IEHFKLC\n",
      "IEHFKLA\n",
      "IEHFAGCL\n",
      "IEHFALCG\n",
      "IEHFALKC\n",
      "IEHFALKC\n",
      "IEHFAGCM\n",
      "IEHFAGCLK\n",
      "IEHFALKCJ\n",
      "IEHFKCJ\n",
      "IEFCKLAG\n",
      "IEHFKLCG\n",
      "IEHFALKCJ\n",
      "IEHFKCJ\n",
      "IEHFKLAG\n",
      "IEHFKLCGA\n",
      "IEHFKLAGC\n",
      "IEHFKLAGC\n",
      "IEHFKLAGCM\n",
      "10\n"
     ]
    }
   ],
   "source": [
    "r, c=map(int, input().split())\n",
    "\n",
    "graph=[]\n",
    "\n",
    "for i in range(r):\n",
    "    graph.append(list(input()))\n",
    "    \n",
    "dx = [1,-1,0,0]\n",
    "dy = [0,0,1,-1]\n",
    "\n",
    "def bfs():\n",
    "    \n",
    "    # 최종 정답 변수\n",
    "    answer = 1\n",
    "    \n",
    "    # set을 활용하여 중복 제거\n",
    "    # 좌표 x, y 와 그 좌표의 알파벳을 set에 넣어줌\n",
    "    q = set([(0, 0, graph[0][0])])\n",
    "\n",
    "    while q: \n",
    "        x, y, alpha = q.pop()\n",
    "\n",
    "        for i in range(4):\n",
    "            nx = x + dx[i]\n",
    "            ny = y + dy[i]\n",
    "            \n",
    "            if nx < 0 or nx >= r or ny < 0 or ny >= c:\n",
    "                continue\n",
    "            \n",
    "            # 다음 좌표의 값이 현재까지 쌓인 알파벳에 포함되지 않으면\n",
    "            if graph[nx][ny] not in alpha:\n",
    "                \n",
    "                # 문자열 합치기를 그냥 +로 구현\n",
    "                # 알파벳에 다음 좌표의 알파벳도 넣어줌\n",
    "                n_alpha = alpha + graph[nx][ny]\n",
    "                \n",
    "                # 큐에도 다음 요소로 넣어줌\n",
    "                q.add((nx, ny, n_alpha))\n",
    "                \n",
    "                # 더 큰 값을 answer로 업데이트 시킴\n",
    "                answer = max(answer, len(n_alpha))\n",
    "\n",
    "    return answer\n",
    "\n",
    "print(bfs())"
   ]
  },
  {
   "cell_type": "markdown",
   "id": "8001f5d5",
   "metadata": {},
   "source": [
    "#### 내가 푼 방법 (오답 - 보완 필수)"
   ]
  },
  {
   "cell_type": "code",
   "execution_count": 66,
   "id": "d9d16e10",
   "metadata": {},
   "outputs": [
    {
     "name": "stdout",
     "output_type": "stream",
     "text": [
      "5 5\n",
      "IEFCJ\n",
      "FHFKC\n",
      "FFALF\n",
      "HFGCF\n",
      "HMCHH\n"
     ]
    },
    {
     "ename": "TypeError",
     "evalue": "unhashable type: 'list'",
     "output_type": "error",
     "traceback": [
      "\u001b[1;31m---------------------------------------------------------------------------\u001b[0m",
      "\u001b[1;31mTypeError\u001b[0m                                 Traceback (most recent call last)",
      "\u001b[1;32m~\\AppData\\Local\\Temp/ipykernel_21252/1897954240.py\u001b[0m in \u001b[0;36m<module>\u001b[1;34m\u001b[0m\n\u001b[0;32m     34\u001b[0m     \u001b[1;32mreturn\u001b[0m \u001b[0manswer\u001b[0m\u001b[1;33m\u001b[0m\u001b[1;33m\u001b[0m\u001b[0m\n\u001b[0;32m     35\u001b[0m \u001b[1;33m\u001b[0m\u001b[0m\n\u001b[1;32m---> 36\u001b[1;33m \u001b[0mprint\u001b[0m\u001b[1;33m(\u001b[0m\u001b[0mbfs\u001b[0m\u001b[1;33m(\u001b[0m\u001b[1;36m0\u001b[0m\u001b[1;33m,\u001b[0m \u001b[1;36m0\u001b[0m\u001b[1;33m,\u001b[0m \u001b[0mtmp\u001b[0m\u001b[1;33m)\u001b[0m\u001b[1;33m)\u001b[0m\u001b[1;33m\u001b[0m\u001b[1;33m\u001b[0m\u001b[0m\n\u001b[0m",
      "\u001b[1;32m~\\AppData\\Local\\Temp/ipykernel_21252/1897954240.py\u001b[0m in \u001b[0;36mbfs\u001b[1;34m(x, y, tmp)\u001b[0m\n\u001b[0;32m     12\u001b[0m     \u001b[0mq\u001b[0m \u001b[1;33m=\u001b[0m \u001b[0mset\u001b[0m\u001b[1;33m(\u001b[0m\u001b[1;33m)\u001b[0m\u001b[1;33m\u001b[0m\u001b[1;33m\u001b[0m\u001b[0m\n\u001b[0;32m     13\u001b[0m     \u001b[0mtmp\u001b[0m\u001b[1;33m.\u001b[0m\u001b[0mappend\u001b[0m\u001b[1;33m(\u001b[0m\u001b[0mgraph\u001b[0m\u001b[1;33m[\u001b[0m\u001b[0mx\u001b[0m\u001b[1;33m]\u001b[0m\u001b[1;33m[\u001b[0m\u001b[0my\u001b[0m\u001b[1;33m]\u001b[0m\u001b[1;33m)\u001b[0m\u001b[1;33m\u001b[0m\u001b[1;33m\u001b[0m\u001b[0m\n\u001b[1;32m---> 14\u001b[1;33m     \u001b[0mq\u001b[0m\u001b[1;33m.\u001b[0m\u001b[0madd\u001b[0m\u001b[1;33m(\u001b[0m\u001b[1;33m(\u001b[0m\u001b[0mx\u001b[0m\u001b[1;33m,\u001b[0m \u001b[0my\u001b[0m\u001b[1;33m,\u001b[0m \u001b[0mtmp\u001b[0m\u001b[1;33m)\u001b[0m\u001b[1;33m)\u001b[0m\u001b[1;33m\u001b[0m\u001b[1;33m\u001b[0m\u001b[0m\n\u001b[0m\u001b[0;32m     15\u001b[0m \u001b[1;33m\u001b[0m\u001b[0m\n\u001b[0;32m     16\u001b[0m     \u001b[0mdx\u001b[0m \u001b[1;33m=\u001b[0m \u001b[1;33m[\u001b[0m\u001b[1;33m-\u001b[0m\u001b[1;36m1\u001b[0m\u001b[1;33m,\u001b[0m \u001b[1;36m1\u001b[0m\u001b[1;33m,\u001b[0m \u001b[1;36m0\u001b[0m\u001b[1;33m,\u001b[0m \u001b[1;36m0\u001b[0m\u001b[1;33m]\u001b[0m\u001b[1;33m\u001b[0m\u001b[1;33m\u001b[0m\u001b[0m\n",
      "\u001b[1;31mTypeError\u001b[0m: unhashable type: 'list'"
     ]
    }
   ],
   "source": [
    "from collections import deque\n",
    "\n",
    "r, c = map(int, input().split())\n",
    "\n",
    "graph = []\n",
    "\n",
    "for _ in range(r):\n",
    "    graph.append(list(input()))\n",
    "tmp = []\n",
    "def bfs(x,y, tmp):\n",
    "    answer = 1\n",
    "    q = set()\n",
    "    tmp.append(graph[x][y])\n",
    "    q.add((x, y, tmp))\n",
    "    \n",
    "    dx = [-1, 1, 0, 0]\n",
    "    dy = [0, 0, -1, 1]\n",
    "    \n",
    "    while q:\n",
    "        x, y, tmp = q.pop()\n",
    "\n",
    "        for i in range(4):\n",
    "            nx = x + dx[i]\n",
    "            ny = y + dy[i]\n",
    "            \n",
    "            if nx < 0 or nx >= r or ny < 0 or ny >= c:\n",
    "                continue\n",
    "                \n",
    "            if not graph[nx][ny] in tmp:\n",
    "                tmp.append(graph[nx][ny])\n",
    "                q.add((nx, ny, tmp))\n",
    "                answer = max(answer, len(tmp))\n",
    "\n",
    "    return answer\n",
    "        \n",
    "print(bfs(0, 0, tmp))    "
   ]
  },
  {
   "cell_type": "code",
   "execution_count": null,
   "id": "81ccdfc8",
   "metadata": {},
   "outputs": [],
   "source": []
  }
 ],
 "metadata": {
  "kernelspec": {
   "display_name": "Python3_7",
   "language": "python",
   "name": "3_7"
  },
  "language_info": {
   "codemirror_mode": {
    "name": "ipython",
    "version": 3
   },
   "file_extension": ".py",
   "mimetype": "text/x-python",
   "name": "python",
   "nbconvert_exporter": "python",
   "pygments_lexer": "ipython3",
   "version": "3.7.11"
  }
 },
 "nbformat": 4,
 "nbformat_minor": 5
}
