{
 "cells": [
  {
   "cell_type": "markdown",
   "id": "b6a735df",
   "metadata": {},
   "source": [
    "### 4963 섬의 개수"
   ]
  },
  {
   "cell_type": "code",
   "execution_count": 22,
   "id": "3667c802",
   "metadata": {},
   "outputs": [
    {
     "name": "stdout",
     "output_type": "stream",
     "text": [
      "3 2\n",
      "1 1 1\n",
      "1 1 1\n",
      "1\n",
      "0 0\n"
     ]
    }
   ],
   "source": [
    "import sys\n",
    "sys.setrecursionlimit(10**9)\n",
    "\n",
    "def solution():\n",
    "    while True:\n",
    "        w, h = map(int, input().split())\n",
    "        \n",
    "        if w == 0 and h == 0:\n",
    "            return\n",
    "\n",
    "        graph = []\n",
    "\n",
    "        for _ in range(h):\n",
    "            graph.append(list(map(int, input().split())))\n",
    "\n",
    "        def dfs(x, y):\n",
    "            dx = [-1, 1, 0, 0, -1, 1, -1, 1]\n",
    "            dy = [0, 0, -1, 1, 1, -1, -1, 1]\n",
    "\n",
    "            graph[x][y] = 2\n",
    "\n",
    "            for i in range(8):\n",
    "                nx = x + dx[i]\n",
    "                ny = y + dy[i]\n",
    "\n",
    "                if nx < 0 or nx >= h or ny < 0 or ny >= w:\n",
    "                    continue\n",
    "\n",
    "                if graph[nx][ny] == 1:\n",
    "                    graph[nx][ny] = 2\n",
    "                    dfs(nx, ny)\n",
    "\n",
    "        lands = 0            \n",
    "        for i in range(h):\n",
    "            for j in range(w):\n",
    "                if graph[i][j] == 1:\n",
    "                    lands += 1\n",
    "                    dfs(i, j)\n",
    "                    \n",
    "        print(lands)\n",
    "    \n",
    "solution()            "
   ]
  }
 ],
 "metadata": {
  "kernelspec": {
   "display_name": "Python3_7",
   "language": "python",
   "name": "3_7"
  },
  "language_info": {
   "codemirror_mode": {
    "name": "ipython",
    "version": 3
   },
   "file_extension": ".py",
   "mimetype": "text/x-python",
   "name": "python",
   "nbconvert_exporter": "python",
   "pygments_lexer": "ipython3",
   "version": "3.7.11"
  }
 },
 "nbformat": 4,
 "nbformat_minor": 5
}
