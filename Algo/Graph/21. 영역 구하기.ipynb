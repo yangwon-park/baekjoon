{
 "cells": [
  {
   "cell_type": "markdown",
   "id": "ee0973a2",
   "metadata": {},
   "source": [
    "### 2583 영역 구하기"
   ]
  },
  {
   "cell_type": "code",
   "execution_count": 35,
   "id": "0829f6c0",
   "metadata": {},
   "outputs": [
    {
     "name": "stdout",
     "output_type": "stream",
     "text": [
      "5 7 3\n",
      "0 2 4 4\n",
      "1 1 2 5\n",
      "4 0 6 2\n",
      "3\n",
      "1 7 13\n"
     ]
    }
   ],
   "source": [
    "import sys\n",
    "sys.setrecursionlimit(10**9)\n",
    "\n",
    "m, n, k = map(int, input().split())\n",
    "\n",
    "# 모눈종이를 모두 0으로 초기화\n",
    "graph = [[0 for _ in range(n)] for _ in range(m)]\n",
    "\n",
    "# 주어지는 4개의 좌표를 통해\n",
    "# K개의 직사각형을 그림\n",
    "# => 해당 좌표를 1로 바꿈\n",
    "# 이때, 그려지는 그래프는 문제에서의 그림이 상하 반전이된 상태로 생성됨\n",
    "# 단순 영역의 개수와 넓이(눈금의 간격 1이므로 넓이도 1)를 구하는 문제이므로 굳이 신경쓸 필요없음\n",
    "for _ in range(k):\n",
    "    x1, y1, x2, y2 = map(int, input().split())\n",
    "    \n",
    "    for i in range(y1, y2):\n",
    "        for j in range(x1, x2):\n",
    "            graph[i][j] = 1\n",
    "    \n",
    "# 영역의 넓이를 담을 변수\n",
    "# 눈금의 간격이 1이므로 넓이도 한 칸이 늘어나면 1씩 증가\n",
    "cnt = 0\n",
    "def dfs(y, x):\n",
    "    global cnt\n",
    "    \n",
    "    # 방문한 지점은 2로 변경 (0만 아니면 됨)\n",
    "    graph[y][x] = 2\n",
    "    \n",
    "    dx = [-1, 1, 0, 0]\n",
    "    dy = [0, 0, -1, 1]\n",
    "    \n",
    "    # 방문했으므로 넓이 +1\n",
    "    cnt += 1\n",
    "    \n",
    "    for i in range(4):\n",
    "        nx = x + dx[i]\n",
    "        ny = y + dy[i]\n",
    "        \n",
    "        if nx < 0 or nx >= n or ny < 0 or ny >= m:\n",
    "            continue\n",
    "        \n",
    "        # 다음 구역도 0이면 dfs 수행\n",
    "        if graph[ny][nx] == 0:\n",
    "            dfs(ny, nx)\n",
    "\n",
    "    # 최종 넓이 반환\n",
    "    return cnt\n",
    "\n",
    "# 영역 별 넓이를 담을 리스트\n",
    "result = []\n",
    "            \n",
    "for i in range(m):\n",
    "    for j in range(n):\n",
    "        \n",
    "        # 주어진 모눈종이가 직사각형이 덮어지지 않은 부분만 dfs를 수행\n",
    "        if graph[i][j] == 0:\n",
    "            \n",
    "            # 매 반복마다 cnt를 초기화시켜야\n",
    "            # 영역 별로 다른 cnt를 구할 수 있음\n",
    "            cnt = 0\n",
    "            \n",
    "            # 반환되는 cnt를 result에 저장\n",
    "            result.append(dfs(i, j))\n",
    "            \n",
    "# 오름 차순으로 정렬하라 했음\n",
    "result.sort()\n",
    "\n",
    "# 영역의 개수\n",
    "print(len(result))\n",
    "\n",
    "# 영역별 넓이\n",
    "print(*result)"
   ]
  }
 ],
 "metadata": {
  "kernelspec": {
   "display_name": "Python 3 (ipykernel)",
   "language": "python",
   "name": "python3"
  },
  "language_info": {
   "codemirror_mode": {
    "name": "ipython",
    "version": 3
   },
   "file_extension": ".py",
   "mimetype": "text/x-python",
   "name": "python",
   "nbconvert_exporter": "python",
   "pygments_lexer": "ipython3",
   "version": "3.7.11"
  }
 },
 "nbformat": 4,
 "nbformat_minor": 5
}
