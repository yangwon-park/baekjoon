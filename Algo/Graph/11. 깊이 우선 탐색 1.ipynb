{
 "cells": [
  {
   "cell_type": "markdown",
   "id": "2214c184",
   "metadata": {},
   "source": [
    "### 24479 깊이 우선 탐색 1"
   ]
  },
  {
   "cell_type": "code",
   "execution_count": 6,
   "id": "07244f0b",
   "metadata": {},
   "outputs": [
    {
     "name": "stdout",
     "output_type": "stream",
     "text": [
      "5 5 1\n",
      "1 4\n",
      "1 2\n",
      "2 3\n",
      "2 4\n",
      "3 4\n",
      "1\n",
      "2\n",
      "3\n",
      "4\n",
      "0\n"
     ]
    }
   ],
   "source": [
    "n, m, r = map(int, input().split())\n",
    "\n",
    "graph = [[] for _ in range(n+1)]\n",
    "visited = [False for _ in range(n+1)]\n",
    "\n",
    "# 해당 노드의 방문 순서를 담을 리스트\n",
    "# 방문하지 못하는 경우 0을 출력하라 했으므로\n",
    "# 초기값을 0으로 설정\n",
    "node_seq = [0 for _ in range(n+1)]\n",
    "\n",
    "for _ in range(m):\n",
    "    a, b = map(int, input().split())\n",
    "    graph[a].append(b)\n",
    "    graph[b].append(a)\n",
    "\n",
    "# 시간 초과를 방지하기 위해 입력을 받은 후 정렬 수행\n",
    "for i in range(n+1):\n",
    "    graph[i].sort()\n",
    "\n",
    "# 방문 순서를 담을 변수\n",
    "seq = 1\n",
    "\n",
    "def dfs(graph, visited, r):\n",
    "    global seq\n",
    "    \n",
    "    # 노드 방문 처리\n",
    "    visited[r] = True\n",
    "    \n",
    "    # 값이 0 => 아직 방문한 적이 없음\n",
    "    # seq 값을 넣어줌으로써 순서를 부여\n",
    "    if node_seq[r] == 0:\n",
    "        node_seq[r] = seq\n",
    "        seq += 1 # 순서가 1씩 증가하므로 +1\n",
    "    \n",
    "    for i in graph[r]:\n",
    "        if not visited[i]:\n",
    "            # visited[i] = True\n",
    "            dfs(graph, visited, i)\n",
    "\n",
    "dfs(graph, visited, r)\n",
    "\n",
    "for i in range(1, len(node_seq)):\n",
    "    print(node_seq[i])"
   ]
  }
 ],
 "metadata": {
  "kernelspec": {
   "display_name": "Python 3",
   "language": "python",
   "name": "python3"
  },
  "language_info": {
   "codemirror_mode": {
    "name": "ipython",
    "version": 3
   },
   "file_extension": ".py",
   "mimetype": "text/x-python",
   "name": "python",
   "nbconvert_exporter": "python",
   "pygments_lexer": "ipython3",
   "version": "3.8.8"
  }
 },
 "nbformat": 4,
 "nbformat_minor": 5
}
