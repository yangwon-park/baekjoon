{
 "cells": [
  {
   "cell_type": "markdown",
   "id": "7d5334d8",
   "metadata": {},
   "source": [
    "### 1012 유기농 배추"
   ]
  },
  {
   "cell_type": "markdown",
   "id": "9cd7ae6f",
   "metadata": {},
   "source": [
    "#### DFS"
   ]
  },
  {
   "cell_type": "code",
   "execution_count": 7,
   "id": "f70cbf06",
   "metadata": {},
   "outputs": [
    {
     "name": "stdout",
     "output_type": "stream",
     "text": [
      "5 3 6\n",
      "0 2\n",
      "1 2\n",
      "2 2\n",
      "3 2\n",
      "4 2\n",
      "4 0\n",
      "2\n"
     ]
    }
   ],
   "source": [
    "# DFS로 풀면 재귀 최대 호출을 늘려줘야 에러가 발생하지 않음\n",
    "import sys\n",
    "sys.setrecursionlimit(10**5)\n",
    "\n",
    "T = int(input())\n",
    "\n",
    "for _ in range(T):\n",
    "    \n",
    "    # 가로 길이, 세로 길이, 배추의 개수\n",
    "    m, n, k = map(int, input().split())\n",
    "\n",
    "    # 전체 지도를 일단 0으로 모두 초기화 \n",
    "    graph = [[0] * m for _ in range(n)]\n",
    "\n",
    "    # 그래프가 주어지는 것이 아니라\n",
    "    # 배추가 심어져 있는 위치가 주어짐 (배추 x : 0, 배추 o : 1)\n",
    "    for _ in range(k):\n",
    "        a, b = map(int, input().split())\n",
    "\n",
    "        # 좌표가 x, y로 주어짐 => 2차원 배열에서 y좌표가 앞에 위치\n",
    "        graph[b][a] = 1\n",
    "\n",
    "    # DFS 실행\n",
    "    def dfs(y, x):\n",
    "        \n",
    "        # 방향\n",
    "        dx = [-1, 1, 0, 0]\n",
    "        dy = [0, 0, -1, 1]\n",
    "\n",
    "        # 범위를 벗어나면 False 반환\n",
    "        if x < 0 or x >= m or y < 0 or y >= n:\n",
    "            return False\n",
    "\n",
    "        # 배추가 있는 경우\n",
    "        if graph[y][x] == 1:\n",
    "            \n",
    "            # 해당 위치를 재탐색하지 않기 위해 값을 2로 변경 (1이 아닌 아무 숫자나 괜찮음)\n",
    "            graph[y][x] = 2\n",
    "            \n",
    "            # 4방향으로 움직이므로 for문으로 4번 반복\n",
    "            for i in range(4):\n",
    "                nx = x + dx[i]\n",
    "                ny = y + dy[i]\n",
    "\n",
    "                # 4방향에 대하여 모두 dfs 실행\n",
    "                dfs(ny, nx)\n",
    "                \n",
    "            # dfs를 모두 완료하고 오면 True 반환\n",
    "            return True\n",
    "        # 배추가 없는 경우면 그냥 False 반환\n",
    "        return False\n",
    "\n",
    "    # 필요한 배추흰지렁이의 개수를 담을 변수\n",
    "    result = 0\n",
    "    \n",
    "    # 이중 for문으로 모든 좌표에 대하여 DFS 실행\n",
    "    for i in range(n):\n",
    "        for j in range(m):\n",
    "            \n",
    "            # 반환된 값이 True인 경우에만 result +1\n",
    "            if dfs(i, j) == True:\n",
    "                result += 1\n",
    "\n",
    "    print(result)\n",
    "            "
   ]
  },
  {
   "cell_type": "markdown",
   "id": "1f11f1a3",
   "metadata": {},
   "source": [
    "#### BFS"
   ]
  },
  {
   "cell_type": "code",
   "execution_count": 9,
   "id": "d34b1e1d",
   "metadata": {},
   "outputs": [
    {
     "name": "stdout",
     "output_type": "stream",
     "text": [
      "1\n",
      "5 3 6\n",
      "0 2\n",
      "1 2\n",
      "2 2\n",
      "3 2\n",
      "4 2\n",
      "4 0\n",
      "2\n"
     ]
    }
   ],
   "source": [
    "from collections import deque\n",
    "T = int(input())\n",
    "\n",
    "for _ in range(T):\n",
    "    m, n, k = map(int, input().split())\n",
    "\n",
    "    graph = [[0] * m for _ in range(n)]\n",
    "\n",
    "    for _ in range(k):\n",
    "        a, b = map(int, input().split())\n",
    "    \n",
    "        graph[b][a] = 1\n",
    "    \n",
    "    \n",
    "    def bfs(y, x):\n",
    "        q = deque()\n",
    "        q.append((y, x))\n",
    "    \n",
    "        # bfs를 이중 for문으로 배추가 있는 위치에서만 실행되므로\n",
    "        # 맨 처음에 방문한 좌표의 값도 2로 변경\n",
    "        graph[y][x] = 2\n",
    "        \n",
    "        dx = [-1, 1, 0, 0]\n",
    "        dy = [0, 0, -1, 1]\n",
    "    \n",
    "        while q:\n",
    "            y, x = q.popleft()\n",
    "        \n",
    "            for i in range(4):\n",
    "                nx = x + dx[i]\n",
    "                ny = y + dy[i]\n",
    "            \n",
    "                if nx < 0 or nx >= m or ny < 0 or ny >= n:\n",
    "                    continue\n",
    "                \n",
    "                if graph[ny][nx] == 1:\n",
    "                    graph[ny][nx] = 2\n",
    "                    q.append((ny, nx))\n",
    "                \n",
    "    result = 0\n",
    "    \n",
    "    for i in range(n):\n",
    "        for j in range(m):\n",
    "            if graph[i][j] == 1:\n",
    "                bfs(i, j)\n",
    "                # bfs가 종료됐다 => 처음 찾은 배추 위치 + 이어져있는 모든 배추 위치를 탐색 완료\n",
    "                # 배추흰지렁이 +1\n",
    "                result += 1\n",
    "    print(result)"
   ]
  }
 ],
 "metadata": {
  "kernelspec": {
   "display_name": "Python 3",
   "language": "python",
   "name": "python3"
  },
  "language_info": {
   "codemirror_mode": {
    "name": "ipython",
    "version": 3
   },
   "file_extension": ".py",
   "mimetype": "text/x-python",
   "name": "python",
   "nbconvert_exporter": "python",
   "pygments_lexer": "ipython3",
   "version": "3.8.8"
  }
 },
 "nbformat": 4,
 "nbformat_minor": 5
}
