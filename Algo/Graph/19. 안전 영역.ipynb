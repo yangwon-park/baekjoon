{
 "cells": [
  {
   "cell_type": "markdown",
   "id": "770bc6ba",
   "metadata": {},
   "source": [
    "### 2468 안전 영역"
   ]
  },
  {
   "cell_type": "code",
   "execution_count": 56,
   "id": "6a51c438",
   "metadata": {},
   "outputs": [
    {
     "name": "stdout",
     "output_type": "stream",
     "text": [
      "5\n",
      "6 8 2 6 2\n",
      "3 2 3 4 6\n",
      "6 7 3 3 2\n",
      "7 2 5 3 6\n",
      "8 9 5 2 7\n",
      "5\n"
     ]
    }
   ],
   "source": [
    "from collections import deque\n",
    "import sys\n",
    "sys.setrecursionlimit(10**9) # DFS 수행 시, 재귀 반복 제한 늘려줌\n",
    "\n",
    "n = int(input())\n",
    "graph = []\n",
    "\n",
    "for _ in range(n):\n",
    "    graph.append(list(map(int, input().split())))\n",
    "    \n",
    "# 새로 배운 문법\n",
    "# 그래프 전체에서 가장 큰 값을 찾아줌\n",
    "max_height = max(map(max, graph))\n",
    "\n",
    "def dfs(x, y, h):\n",
    "    dx = [-1, 1, 0, 0]\n",
    "    dy = [0, 0, -1, 1]\n",
    "\n",
    "    \n",
    "    for i in range(4):\n",
    "        nx = x + dx[i]\n",
    "        ny = y + dy[i]\n",
    "        \n",
    "        if nx < 0 or nx >= n or ny < 0 or ny >= n:\n",
    "            continue\n",
    "            \n",
    "        # 방문한 적이 없고, 즉 아직 침수가 되지 않았고\n",
    "        # 침수 제한 높이보다 더 높은 경우\n",
    "        # 방문 처리를 완료하고 DFS 수행\n",
    "        # 곧 이곳이 안전 지역이다\n",
    "        if not visited[nx][ny] and graph[nx][ny] > h:\n",
    "            visited[nx][ny] = True\n",
    "            dfs(nx, ny, h)\n",
    "\n",
    "# 최종 정답을 담을 변수\n",
    "# 최댓값을 구해야 하는데\n",
    "# 어차피 영역의 수는 0이 최소이므로\n",
    "# 간단하게 -1로 잡음\n",
    "answer = -1\n",
    "\n",
    "# 가장 높은 높이-1까지 반복 수행\n",
    "# 어차피 가장 높은 지역이 잠기면 안전 지역은 0이다\n",
    "# k : 설정할 높이\n",
    "for h in range(max_height):\n",
    "    \n",
    "    # 2차원 그래프의 방문 여부를 체크할 리스트\n",
    "    visited = [[False for _ in range(n+1)] for _ in range(n+1)]\n",
    "    \n",
    "    # 각 높이 별 안전 영역의 개수를 담을 변수\n",
    "    area = 0\n",
    "    \n",
    "    # 2차원 배열의 값이 k보다 크고, 아직 방문하지 않은 경우\n",
    "    # 안전 영역 +1, 방문 처리 완료 후, DFS 수행\n",
    "    for i in range(n):\n",
    "        for j in range(n):\n",
    "            if graph[i][j] > k and not visited[i][j]:\n",
    "                area += 1\n",
    "                visited[i][j] = True\n",
    "                dfs(i, j, h)\n",
    "    \n",
    "    # 이중 for문이 완료된 후 => h에 따른 안전 구역의 개수 계산 완료\n",
    "    # answer의 값을 업데이트\n",
    "    # 맨 바깥의 for문이 완료될 때 마다 answer의 값이 갱신\n",
    "    # 즉, h의 값에 따른 answer의 최댓값을 구할 수 있음\n",
    "    answer = max(answer, area)\n",
    "    \n",
    "print(answer)    "
   ]
  }
 ],
 "metadata": {
  "kernelspec": {
   "display_name": "Python3_7",
   "language": "python",
   "name": "3_7"
  },
  "language_info": {
   "codemirror_mode": {
    "name": "ipython",
    "version": 3
   },
   "file_extension": ".py",
   "mimetype": "text/x-python",
   "name": "python",
   "nbconvert_exporter": "python",
   "pygments_lexer": "ipython3",
   "version": "3.7.11"
  }
 },
 "nbformat": 4,
 "nbformat_minor": 5
}
