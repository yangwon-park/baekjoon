{
 "cells": [
  {
   "cell_type": "markdown",
   "id": "426ca8ee",
   "metadata": {},
   "source": [
    "### 2559 수열"
   ]
  },
  {
   "cell_type": "code",
   "execution_count": 13,
   "id": "a36587f9",
   "metadata": {},
   "outputs": [
    {
     "name": "stdout",
     "output_type": "stream",
     "text": [
      "10 5\n",
      "3 -2 -4 -9 0 3 7 13 8 -3\n",
      "44\n"
     ]
    }
   ],
   "source": [
    "n, k = map(int, input().split())\n",
    "\n",
    "nums = list(map(int, input().split()))\n",
    "\n",
    "# 부분 합을 구함\n",
    "_sum = sum(nums[:2])\n",
    "\n",
    "# 부분 합을 임시 저장할 변수\n",
    "tmp = _sum\n",
    "\n",
    "for i in range(k, n):\n",
    "    tmp += nums[i] - nums[i-k]\n",
    "    \n",
    "    _sum = max(tmp, _sum)\n",
    "print(_sum)"
   ]
  }
 ],
 "metadata": {
  "kernelspec": {
   "display_name": "Python 3",
   "language": "python",
   "name": "python3"
  },
  "language_info": {
   "codemirror_mode": {
    "name": "ipython",
    "version": 3
   },
   "file_extension": ".py",
   "mimetype": "text/x-python",
   "name": "python",
   "nbconvert_exporter": "python",
   "pygments_lexer": "ipython3",
   "version": "3.8.8"
  }
 },
 "nbformat": 4,
 "nbformat_minor": 5
}
