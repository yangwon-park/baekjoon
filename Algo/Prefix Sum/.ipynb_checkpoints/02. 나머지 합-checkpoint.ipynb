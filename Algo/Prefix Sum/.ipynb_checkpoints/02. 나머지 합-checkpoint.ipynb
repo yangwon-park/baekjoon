{
 "cells": [
  {
   "cell_type": "markdown",
   "id": "1ff3dee7",
   "metadata": {},
   "source": [
    "### 10986 나머지 합"
   ]
  },
  {
   "cell_type": "markdown",
   "id": "5a4335ff",
   "metadata": {},
   "source": [
    "#### 시간 초과"
   ]
  },
  {
   "cell_type": "code",
   "execution_count": 1,
   "id": "2ddec9f7",
   "metadata": {},
   "outputs": [
    {
     "name": "stdout",
     "output_type": "stream",
     "text": [
      "5 3\n",
      "1 2 3 1 2\n"
     ]
    }
   ],
   "source": [
    "n, m = map(int, input().split())\n",
    "arr = list(map(int, input().split()))\n",
    "\n",
    "cnt = 0\n",
    "\n",
    "for i in range(n):\n",
    "    part = arr[i]\n",
    "    \n",
    "    if part % m == 0:\n",
    "        cnt += 1\n",
    "    \n",
    "    for j in range(i+1, n):\n",
    "        part += arr[j]\n",
    "        \n",
    "        if part % m == 0:\n",
    "            \n",
    "            cnt += 1\n",
    "print(cnt)    "
   ]
  },
  {
   "cell_type": "markdown",
   "id": "a63d5fee",
   "metadata": {},
   "source": [
    "#### 정답"
   ]
  },
  {
   "cell_type": "code",
   "execution_count": 19,
   "id": "cd8846d7",
   "metadata": {},
   "outputs": [
    {
     "name": "stdout",
     "output_type": "stream",
     "text": [
      "5 3\n",
      "1 2 3 1 2\n",
      "7\n"
     ]
    }
   ],
   "source": [
    "n, m = map(int, input().split())\n",
    "arr = list(map(int, input().split()))\n",
    "cnt = [0 for _ in range(m)]\n",
    "\n",
    "for i in range(n):\n",
    "    arr[i] += arr[i-1]\n",
    "    cnt[arr[i] % m] += 1\n",
    "    \n",
    "answer = cnt[0]\n",
    "\n",
    "for i in cnt:\n",
    "    answer += i * (i-1) // 2\n",
    "    \n",
    "print(answer)"
   ]
  }
 ],
 "metadata": {
  "kernelspec": {
   "display_name": "Python3_7",
   "language": "python",
   "name": "3_7"
  },
  "language_info": {
   "codemirror_mode": {
    "name": "ipython",
    "version": 3
   },
   "file_extension": ".py",
   "mimetype": "text/x-python",
   "name": "python",
   "nbconvert_exporter": "python",
   "pygments_lexer": "ipython3",
   "version": "3.7.11"
  }
 },
 "nbformat": 4,
 "nbformat_minor": 5
}
