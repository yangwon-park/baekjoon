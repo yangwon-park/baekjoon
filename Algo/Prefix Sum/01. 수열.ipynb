{
 "cells": [
  {
   "cell_type": "markdown",
   "id": "9e395ce8",
   "metadata": {},
   "source": [
    "### 2559 수열"
   ]
  },
  {
   "cell_type": "code",
   "execution_count": 15,
   "id": "c202b706",
   "metadata": {},
   "outputs": [
    {
     "name": "stdout",
     "output_type": "stream",
     "text": [
      "10 5\n",
      "3 -2 -4 -9 0 3 7 13 8 -3\n",
      "31\n"
     ]
    }
   ],
   "source": [
    "n, k = map(int, input().split())\n",
    "\n",
    "nums = list(map(int, input().split()))\n",
    "\n",
    "# 최초의 부분 합을 구함 ()\n",
    "_sum = sum(nums[0:k])\n",
    "\n",
    "# 부분 합을 임시 저장할 변수\n",
    "tmp = _sum\n",
    "\n",
    "for i in range(k, n):\n",
    "    tmp += nums[i] - nums[i-k]\n",
    "    \n",
    "    _sum = max(tmp, _sum)\n",
    "print(_sum)"
   ]
  }
 ],
 "metadata": {
  "kernelspec": {
   "display_name": "Python 3 (ipykernel)",
   "language": "python",
   "name": "python3"
  },
  "language_info": {
   "codemirror_mode": {
    "name": "ipython",
    "version": 3
   },
   "file_extension": ".py",
   "mimetype": "text/x-python",
   "name": "python",
   "nbconvert_exporter": "python",
   "pygments_lexer": "ipython3",
   "version": "3.7.11"
  }
 },
 "nbformat": 4,
 "nbformat_minor": 5
}
