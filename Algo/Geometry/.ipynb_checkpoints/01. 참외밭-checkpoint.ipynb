{
 "cells": [
  {
   "cell_type": "markdown",
   "id": "282ce2b9",
   "metadata": {},
   "source": [
    "### 2477 참외밭"
   ]
  },
  {
   "cell_type": "code",
   "execution_count": 30,
   "id": "c1131dff",
   "metadata": {},
   "outputs": [
    {
     "name": "stdout",
     "output_type": "stream",
     "text": [
      "7\n",
      "4 50\n",
      "2 160\n",
      "3 30\n",
      "1 60\n",
      "3 20\n",
      "1 100\n",
      "47600\n"
     ]
    }
   ],
   "source": [
    "k = int(input())\n",
    "\n",
    "figure = []\n",
    "\n",
    "for _ in range(6):\n",
    "    d, w = map(int, input().split())\n",
    "    \n",
    "    # 어차피 주어지는 도형의 모양의 종류는 서로 회전하면 만들 수 있음\n",
    "    # 즉, 변의 방향은 따로 고려할 필요없이 길이만 고려해줘도 됨\n",
    "    figure.append(w)\n",
    "    \n",
    "# 큰 직사각형의 길이를 담을 변수\n",
    "big_square = 0\n",
    "\n",
    "# 작은 직사각형의 길이를 담을 변수\n",
    "small_square = 0\n",
    "\n",
    "# 큰 직사각형을 만든 두 변의 첫 idx를 담을 변수\n",
    "base = 0\n",
    "\n",
    "# 큰 직사각형 => 이어진 두 변의 길이의 곱이 가장 큰 경우\n",
    "for i in range(6):\n",
    "    \n",
    "    # 변이 모두 연결되어 있다 => figure 리스트의 i, i+1 요소는 서로 이어져있다\n",
    "    # 이 경우, i가 5일 때, i는 4 나 0과 이어져있으므로 0을 다시 표현하기 위해선 % 연산을 사용해야 함\n",
    "    tmp = figure[i] * figure[(i+1) % 6]\n",
    "    \n",
    "    # 가장 큰 값을 넣어주기 위한 조건문\n",
    "    if big_square < tmp:\n",
    "        big_square = tmp\n",
    "        \n",
    "        # 최종적으로 만들어진 직사각형이 어떤 변으로 이루어져있나 확인\n",
    "        # i가 두 변 중 앞 변의 인덱스이므로 바깥에서도 사용하기 위해 base에 저장\n",
    "        base = i \n",
    "        \n",
    "# 작은 직사각형\n",
    "# 기준이된 인덱스에서 +3, +4번째에 놓인 변이 작은 직사각형을 이루는 두 변이 됨\n",
    "small_square = figure[(base + 3) % 6] * figure[(base + 4) % 6]\n",
    "\n",
    "print((big_square - small_square) * k)"
   ]
  }
 ],
 "metadata": {
  "kernelspec": {
   "display_name": "Python 3",
   "language": "python",
   "name": "python3"
  },
  "language_info": {
   "codemirror_mode": {
    "name": "ipython",
    "version": 3
   },
   "file_extension": ".py",
   "mimetype": "text/x-python",
   "name": "python",
   "nbconvert_exporter": "python",
   "pygments_lexer": "ipython3",
   "version": "3.8.8"
  }
 },
 "nbformat": 4,
 "nbformat_minor": 5
}
