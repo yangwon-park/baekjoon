{
 "cells": [
  {
   "cell_type": "markdown",
   "id": "6c1ccef2",
   "metadata": {},
   "source": [
    "### 2447 별 찍기 - 10"
   ]
  },
  {
   "cell_type": "code",
   "execution_count": 11,
   "id": "2f5ad6f4",
   "metadata": {},
   "outputs": [
    {
     "name": "stdout",
     "output_type": "stream",
     "text": [
      "9\n",
      "['*********', '* ** ** *', '*********', '***   ***', '* *   * *', '***   ***', '*********', '* ** ** *', '*********']\n",
      "*********\n",
      "* ** ** *\n",
      "*********\n",
      "***   ***\n",
      "* *   * *\n",
      "***   ***\n",
      "*********\n",
      "* ** ** *\n",
      "*********\n"
     ]
    }
   ],
   "source": [
    "n = int(input())\n",
    "\n",
    "# 일단 기본적으로 우리가 그리고자 하는\n",
    "# 패턴을 줄별로 리스트에 담음\n",
    "dot = ['***', '* *', '***']\n",
    "\n",
    "def drawing_star(n):\n",
    "    if n == 3:\n",
    "        return dot\n",
    "    \n",
    "    next_draw = drawing_star(n//3)\n",
    "    stars = []\n",
    "    \n",
    "    # i : 그리고자 하는 패턴 => dot\n",
    "    \n",
    "    for i in next_draw:\n",
    "        stars.append(i * 3)\n",
    "        \n",
    "    # 가운데가 비어있어야 하므로\n",
    "    # 이 반복문만 i를 3개 뽑는게 아닌 2번만 뽑고\n",
    "    # 가운데를 n//3 만큼 여백을 추가함\n",
    "    for i in next_draw:\n",
    "        stars.append(i + ' ' * (n//3) + i)\n",
    "    \n",
    "    for i in next_draw:\n",
    "        stars.append(i * 3)\n",
    "    \n",
    "    return stars\n",
    "\n",
    "print('\\n'.join(drawing_star(n)))"
   ]
  }
 ],
 "metadata": {
  "kernelspec": {
   "display_name": "Python 3 (ipykernel)",
   "language": "python",
   "name": "python3"
  },
  "language_info": {
   "codemirror_mode": {
    "name": "ipython",
    "version": 3
   },
   "file_extension": ".py",
   "mimetype": "text/x-python",
   "name": "python",
   "nbconvert_exporter": "python",
   "pygments_lexer": "ipython3",
   "version": "3.7.11"
  }
 },
 "nbformat": 4,
 "nbformat_minor": 5
}
