{
 "cells": [
  {
   "cell_type": "markdown",
   "id": "63e1797f",
   "metadata": {},
   "source": [
    "### 1806 부분합"
   ]
  },
  {
   "cell_type": "code",
   "execution_count": 7,
   "id": "a83e5b56",
   "metadata": {},
   "outputs": [
    {
     "name": "stdout",
     "output_type": "stream",
     "text": [
      "10 15\n",
      "5 1 3 5 10 7 4 9 2 8\n",
      "0 5 5 24 1000000000\n",
      "1 5 4 19 5\n",
      "2 5 3 18 4\n",
      "3 5 2 15 3\n",
      "4 6 2 17 2\n",
      "5 8 3 20 2\n",
      "6 9 3 15 2\n",
      "7 10 3 19 2\n",
      "2\n"
     ]
    }
   ],
   "source": [
    "INF = int(1e9)\n",
    "\n",
    "n, s = map(int, input().split())\n",
    "arr = list(map(int, input().split()))\n",
    "\n",
    "# 처음과 끝이 동일한 지점일 수 있음\n",
    "start = 0\n",
    "end = 0\n",
    "\n",
    "# 부분합을 담을 변수\n",
    "parts = 0\n",
    "\n",
    "# 최종 정답을 담을 변수 (최소 개수를 담을 것이므로 INF로 초기화)\n",
    "answer = INF\n",
    "\n",
    "# end가 배열의 마지막에 도달할 때까지 반복 실시\n",
    "while True:\n",
    "    \n",
    "    # 부분 수열의 길이\n",
    "    # end-start-1이 아닌 이유\n",
    "    # 어차피 answer의 값이 변경된 후 start의 값이 +1됨\n",
    "    # 따라서 실제 start의 위치는 +1된 상태 => end - start(+1 -1) == end - start\n",
    "    length = end - start\n",
    "    \n",
    "    # 부분합이 s보다 크다면\n",
    "    if parts >= s:\n",
    "        print(start, end, length, parts, answer)\n",
    "        \n",
    "        # s보다 큰 경우의 부분 수열 길이를 구하는 것이므로\n",
    "        # length와 answer 중 더 작은 값으로 answer를 업데이트 시킴\n",
    "        answer = min(answer, length)\n",
    "        \n",
    "        # 부분합에 맨 첫 요소의 값만큼 감소\n",
    "        parts -= arr[start]\n",
    "        \n",
    "        # 첫 요소를 뺌 => start값을 1증가 시킴\n",
    "        start += 1\n",
    "        \n",
    "    # end가 n과 값이 같아짐\n",
    "    # => 배열의 마지막(n-1)까지도 다 반복을 실시했음\n",
    "    # => 끝까지 부분합을 다 구했음\n",
    "    elif end == n:\n",
    "        break\n",
    "        \n",
    "    # s보다 작거나 같다면\n",
    "    else:\n",
    "        \n",
    "        # 부분합에 마지막 요소를 더 해줌\n",
    "        parts += arr[end]\n",
    "        \n",
    "        # end값 1증가\n",
    "        end += 1\n",
    "        \n",
    "# answer의 값이 변경되지 않으면 INF => 0 출력\n",
    "if answer == INF:\n",
    "    print(0)\n",
    "else:\n",
    "    print(answer)"
   ]
  }
 ],
 "metadata": {
  "kernelspec": {
   "display_name": "Python 3",
   "language": "python",
   "name": "python3"
  },
  "language_info": {
   "codemirror_mode": {
    "name": "ipython",
    "version": 3
   },
   "file_extension": ".py",
   "mimetype": "text/x-python",
   "name": "python",
   "nbconvert_exporter": "python",
   "pygments_lexer": "ipython3",
   "version": "3.8.8"
  }
 },
 "nbformat": 4,
 "nbformat_minor": 5
}
