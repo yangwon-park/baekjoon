{
 "cells": [
  {
   "cell_type": "markdown",
   "id": "363c51ac",
   "metadata": {},
   "source": [
    "### 2470 두 용액"
   ]
  },
  {
   "cell_type": "code",
   "execution_count": 39,
   "id": "fe5b3e4a",
   "metadata": {},
   "outputs": [
    {
     "name": "stdout",
     "output_type": "stream",
     "text": [
      "5\n",
      "-2 4 -99 -1 98\n",
      "-99 98\n"
     ]
    }
   ],
   "source": [
    "# 두 용액의 합이 0에 가장 가까운 값을 만들자\n",
    "n = int(input())\n",
    "\n",
    "# 전체 용액 리스트 입력\n",
    "arr = list(map(int, input().split()))\n",
    "\n",
    "# 투 포인터 정렬 필수\n",
    "arr.sort()\n",
    "\n",
    "# 시작과 끝 인덱스 생성\n",
    "start = 0\n",
    "end = n-1\n",
    "\n",
    "# 두 값의 합을 저장할 변수\n",
    "# 가장 합이 큰 경우 == 맨 처음 + 맨 끝\n",
    "tot = arr[start] + arr[end]\n",
    "\n",
    "# 최종 출력에 사용할 두 인덱스를 생성\n",
    "idx1 = start\n",
    "idx2 = end\n",
    "\n",
    "while start < end:\n",
    "    \n",
    "    # tot와 값을 비교하기 위한 임시 변수 생성\n",
    "    tmp = arr[start] + arr[end]\n",
    "    \n",
    "    # tot, tmp 값의 크기 비교를 위해 절댓값 사용\n",
    "    \n",
    "    # tmp가 더 작으면 tmp를 tot로 변경\n",
    "    # 인덱스 2개도 현재의 인덱스로 변경\n",
    "    if abs(tmp) < abs(tot):\n",
    "        tot = tmp\n",
    "        idx1 = start\n",
    "        idx2 = end\n",
    "    \n",
    "        # 0에 가까운 값을 찾는데 0이 나오면 그냥 바로 출력해줌\n",
    "        # 어차피 아무거나 하나 출력하면 되니까\n",
    "        # 이 이상 반복을 수행할 필요가 없음\n",
    "        if tot == 0:\n",
    "            break\n",
    "    \n",
    "    # tmp의 값이 0보다 작다\n",
    "    # => start의 값 1 증가\n",
    "    # => arr[start]보다 arr[start+1]이 값이 더 큼\n",
    "    # => tmp의 값 역시 커짐\n",
    "    if tmp < 0:\n",
    "        start += 1\n",
    "        \n",
    "    # tmp의 값이 0보다 크거나 같다\n",
    "    # 작을 때와 동일한 로직\n",
    "    else:\n",
    "        end -= 1\n",
    "        \n",
    "print(arr[idx1], arr[idx2])"
   ]
  }
 ],
 "metadata": {
  "kernelspec": {
   "display_name": "Python 3",
   "language": "python",
   "name": "python3"
  },
  "language_info": {
   "codemirror_mode": {
    "name": "ipython",
    "version": 3
   },
   "file_extension": ".py",
   "mimetype": "text/x-python",
   "name": "python",
   "nbconvert_exporter": "python",
   "pygments_lexer": "ipython3",
   "version": "3.8.8"
  }
 },
 "nbformat": 4,
 "nbformat_minor": 5
}
