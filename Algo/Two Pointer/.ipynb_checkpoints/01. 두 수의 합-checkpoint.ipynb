{
 "cells": [
  {
   "cell_type": "markdown",
   "id": "a73ac00c",
   "metadata": {},
   "source": [
    "### 3273 두 수의 합"
   ]
  },
  {
   "cell_type": "code",
   "execution_count": 25,
   "id": "ab3193b5",
   "metadata": {},
   "outputs": [
    {
     "name": "stdout",
     "output_type": "stream",
     "text": [
      "9\n",
      "5 12 7 10 9 1 2 3 11\n",
      "13\n",
      "3\n"
     ]
    }
   ],
   "source": [
    "n = int(input())\n",
    "arr = list(map(int, input().split()))\n",
    "x = int(input())\n",
    "\n",
    "start = 0\n",
    "end = 1\n",
    "cnt = 0\n",
    "\n",
    "while True:\n",
    "    \n",
    "    if start == n-1 or end == n-1:\n",
    "        break\n",
    "        \n",
    "    if (arr[start] + arr[end]) == x:\n",
    "        cnt += 1\n",
    "        start += 1\n",
    "        end = start + 1\n",
    "        continue\n",
    "    else:\n",
    "        end += 1\n",
    "\n",
    "print(cnt)"
   ]
  }
 ],
 "metadata": {
  "kernelspec": {
   "display_name": "Python3_7",
   "language": "python",
   "name": "3_7"
  },
  "language_info": {
   "codemirror_mode": {
    "name": "ipython",
    "version": 3
   },
   "file_extension": ".py",
   "mimetype": "text/x-python",
   "name": "python",
   "nbconvert_exporter": "python",
   "pygments_lexer": "ipython3",
   "version": "3.7.11"
  }
 },
 "nbformat": 4,
 "nbformat_minor": 5
}
