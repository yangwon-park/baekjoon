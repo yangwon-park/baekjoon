{
 "cells": [
  {
   "cell_type": "markdown",
   "id": "c7807626",
   "metadata": {},
   "source": [
    "### 3273 두 수의 합"
   ]
  },
  {
   "cell_type": "code",
   "execution_count": 39,
   "id": "375d7bd9",
   "metadata": {},
   "outputs": [
    {
     "name": "stdout",
     "output_type": "stream",
     "text": [
      "1\n",
      "2\n",
      "2\n",
      "0\n"
     ]
    }
   ],
   "source": [
    "n = int(input())\n",
    "arr = list(map(int, input().split()))\n",
    "x = int(input())\n",
    "\n",
    "# 투 포인터는 정렬이 필요함\n",
    "# 그래야 조건별로 값의 크기를 똑바로 비교할 수 있음\n",
    "arr.sort()\n",
    "\n",
    "# 시작과 끝 인덱스\n",
    "start = 0\n",
    "end = n-1\n",
    "\n",
    "# 최종 정답 변수\n",
    "cnt = 0\n",
    "\n",
    "while start < end:\n",
    "    \n",
    "    # 합이 x가 되면 개수를 1 증가\n",
    "    # 다음 start의 비교를 위해 1 증가\n",
    "    if (arr[start] + arr[end]) == x:\n",
    "        cnt += 1\n",
    "        start += 1\n",
    "    \n",
    "    # 두 합이 x보다 작으면 start를 1 증가\n",
    "    # 오름차순 정렬이므로 start가 1 증가하면\n",
    "    # 해당 값 역시 증가한다 => x와 더 가까워짐\n",
    "    elif (arr[start] + arr[end]) < x:\n",
    "        start += 1\n",
    "    \n",
    "    # 두 합이 x보다 크면 end를 1 감소\n",
    "    # end가 감소해야 start가 그대로일 때 값을 줄일 수가 있음\n",
    "    else:\n",
    "        end -= 1\n",
    "    \n",
    "print(cnt)"
   ]
  }
 ],
 "metadata": {
  "kernelspec": {
   "display_name": "Python 3",
   "language": "python",
   "name": "python3"
  },
  "language_info": {
   "codemirror_mode": {
    "name": "ipython",
    "version": 3
   },
   "file_extension": ".py",
   "mimetype": "text/x-python",
   "name": "python",
   "nbconvert_exporter": "python",
   "pygments_lexer": "ipython3",
   "version": "3.8.8"
  }
 },
 "nbformat": 4,
 "nbformat_minor": 5
}
