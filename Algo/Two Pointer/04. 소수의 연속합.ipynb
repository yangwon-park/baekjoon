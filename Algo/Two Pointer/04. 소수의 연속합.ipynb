{
 "cells": [
  {
   "cell_type": "markdown",
   "id": "a5f38024",
   "metadata": {},
   "source": [
    "### 1644 소수의 연속합"
   ]
  },
  {
   "cell_type": "code",
   "execution_count": 26,
   "id": "ecf09723",
   "metadata": {},
   "outputs": [
    {
     "name": "stdout",
     "output_type": "stream",
     "text": [
      "3\n",
      "1\n"
     ]
    }
   ],
   "source": [
    "n = int(input())\n",
    "\n",
    "# 소수 찾기 메소드\n",
    "# 에라토스테네스의 체 활용\n",
    "def find_prime(n):\n",
    "    check = [False for _ in range(n+1)]\n",
    "    \n",
    "    # 소수를 담을 리스트\n",
    "    prime = []\n",
    "    \n",
    "    for i in range(2, n+1):\n",
    "        \n",
    "        # False인 경우에만 prime에 담음\n",
    "        # 사실상 반복문 내에서 i는 소수\n",
    "        if check[i] == False:\n",
    "            prime.append(i)\n",
    "            \n",
    "            # j는 i의 배수로 이루어져 있음 => 절대 소수일 수 없음 => True로 변경\n",
    "            for j in range(i, n+1, i):\n",
    "                check[j] = True\n",
    "            \n",
    "    return prime\n",
    "\n",
    "# 부분합을 연산 메소드\n",
    "def two_pointer(arr):\n",
    "    cnt = 0\n",
    "    start = 0\n",
    "    end = 0\n",
    "    \n",
    "    while end <= len(arr):\n",
    "        tmp = sum(arr[start:end])\n",
    "        \n",
    "        # n과 부분합이 같으면\n",
    "        # 개수를 1 증가\n",
    "        # start, end 모두 1씩 증가\n",
    "        if tmp == n:\n",
    "            cnt += 1\n",
    "            end +=1\n",
    "            start += 1\n",
    "            \n",
    "        # n보다 부분합이 작으면\n",
    "        # end 1 증가\n",
    "        # => 부분 수열의 길이가 1 증가하므로 값이 더 커짐 (주어진 arr에 있는, 부분 수열에 포함된 맨 마지막 요소의 그 다음 요소)\n",
    "        # => n보다 값을 크게 하거나 같아짐을 기대할 수 있음\n",
    "        elif tmp < n:\n",
    "            end += 1\n",
    "            \n",
    "        # n보다 부분합이 크면\n",
    "        # start 1 증가\n",
    "        # => 부분 수열의 길이가 1 감소하므로 값이 더 작아짐 (기존 맨 앞의 요소)\n",
    "        # => n보다 값을 작게 하거나 같아짐을 기대할 수 있음\n",
    "        else:\n",
    "            start += 1\n",
    "    return cnt\n",
    "\n",
    "prime_list = find_prime(n)\n",
    "answer = two_pointer(prime_list)\n",
    "\n",
    "print(answer)"
   ]
  }
 ],
 "metadata": {
  "kernelspec": {
   "display_name": "Python 3",
   "language": "python",
   "name": "python3"
  },
  "language_info": {
   "codemirror_mode": {
    "name": "ipython",
    "version": 3
   },
   "file_extension": ".py",
   "mimetype": "text/x-python",
   "name": "python",
   "nbconvert_exporter": "python",
   "pygments_lexer": "ipython3",
   "version": "3.8.8"
  }
 },
 "nbformat": 4,
 "nbformat_minor": 5
}
