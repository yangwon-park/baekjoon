{
 "cells": [
  {
   "cell_type": "markdown",
   "id": "df94e440",
   "metadata": {},
   "source": [
    "### 1450 냅색 문제"
   ]
  },
  {
   "cell_type": "code",
   "execution_count": 5,
   "id": "3fc8a661",
   "metadata": {},
   "outputs": [
    {
     "name": "stdout",
     "output_type": "stream",
     "text": [
      "1 1\n",
      "1\n",
      "3\n"
     ]
    }
   ],
   "source": [
    "n, c = map(int, input().split())\n",
    "w_list = list(map(int, input().split()))\n",
    "\n",
    "f_w = w[: n // 2]\n",
    "r_w = w[n // 2 :]\n",
    "\n",
    "f_sum = []\n",
    "r_sum = []\n",
    "\n",
    "def bruteForce(w_list, s, l, w):\n",
    "    if l >= len(w_list):\n",
    "        s.append(w)\n",
    "        return\n",
    "    bruteForce(w_list, s, l+1, w)\n",
    "    bruteForce(w_list, s, l+1, w + w_list[l])\n",
    "    \n",
    "def solution(arr, target, start, end):\n",
    "    while start < end:\n",
    "        mid = (start + end) // 2\n",
    "        \n",
    "        if arr[mid] <= target:\n",
    "            start = mid + 1\n",
    "        else:\n",
    "            end = mid\n",
    "    return end\n",
    "\n",
    "bruteForce(f_w, f_sum, 0, 0)\n",
    "bruteForce(r_w, r_sum, 0, 0)\n",
    "\n",
    "r_sum.sort()\n",
    "\n",
    "cnt = 0\n",
    "\n",
    "for i in f_sum:\n",
    "    if c - i < 0:\n",
    "        continue\n",
    "    cnt += solution(r_sum, c-i, 0, len(r_sum))\n",
    "    \n",
    "print(cnt)"
   ]
  }
 ],
 "metadata": {
  "kernelspec": {
   "display_name": "Python 3",
   "language": "python",
   "name": "python3"
  },
  "language_info": {
   "codemirror_mode": {
    "name": "ipython",
    "version": 3
   },
   "file_extension": ".py",
   "mimetype": "text/x-python",
   "name": "python",
   "nbconvert_exporter": "python",
   "pygments_lexer": "ipython3",
   "version": "3.8.8"
  }
 },
 "nbformat": 4,
 "nbformat_minor": 5
}
