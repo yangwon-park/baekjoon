{
 "cells": [
  {
   "cell_type": "markdown",
   "id": "1794ed5c",
   "metadata": {},
   "source": [
    "### 2609 최대공약수와 최소공배수"
   ]
  },
  {
   "cell_type": "code",
   "execution_count": 9,
   "id": "acfad2c0",
   "metadata": {},
   "outputs": [
    {
     "name": "stdout",
     "output_type": "stream",
     "text": [
      "24 18\n",
      "6\n",
      "72\n"
     ]
    }
   ],
   "source": [
    "# 유클리드 호제법 사용\n",
    "x, y = map(int, input().split())\n",
    "X,Y = x, y\n",
    "\n",
    "def gcd(x, y):\n",
    "    \n",
    "    while x != 0:\n",
    "        y %= x\n",
    "        y,x = x, y\n",
    "        \n",
    "    return y\n",
    "\n",
    "_gcd = gcd(x, y)\n",
    "_lcm = (X * Y) // _gcd  \n",
    "\n",
    "print(_gcd)\n",
    "print(_lcm)"
   ]
  }
 ],
 "metadata": {
  "kernelspec": {
   "display_name": "Python3_7",
   "language": "python",
   "name": "3_7"
  },
  "language_info": {
   "codemirror_mode": {
    "name": "ipython",
    "version": 3
   },
   "file_extension": ".py",
   "mimetype": "text/x-python",
   "name": "python",
   "nbconvert_exporter": "python",
   "pygments_lexer": "ipython3",
   "version": "3.7.11"
  }
 },
 "nbformat": 4,
 "nbformat_minor": 5
}
