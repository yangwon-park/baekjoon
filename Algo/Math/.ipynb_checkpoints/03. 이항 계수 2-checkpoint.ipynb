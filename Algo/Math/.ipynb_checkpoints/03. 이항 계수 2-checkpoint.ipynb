{
 "cells": [
  {
   "cell_type": "markdown",
   "id": "1ed22ae5",
   "metadata": {},
   "source": [
    "### 11051 이항 계수 2"
   ]
  },
  {
   "cell_type": "code",
   "execution_count": 1,
   "id": "28bc500d",
   "metadata": {},
   "outputs": [
    {
     "name": "stdout",
     "output_type": "stream",
     "text": [
      "5 2\n"
     ]
    }
   ],
   "source": [
    "n, k = map(int, input().split())"
   ]
  },
  {
   "cell_type": "code",
   "execution_count": null,
   "id": "ef39692e",
   "metadata": {},
   "outputs": [],
   "source": []
  }
 ],
 "metadata": {
  "kernelspec": {
   "display_name": "Python 3",
   "language": "python",
   "name": "python3"
  },
  "language_info": {
   "codemirror_mode": {
    "name": "ipython",
    "version": 3
   },
   "file_extension": ".py",
   "mimetype": "text/x-python",
   "name": "python",
   "nbconvert_exporter": "python",
   "pygments_lexer": "ipython3",
   "version": "3.8.8"
  }
 },
 "nbformat": 4,
 "nbformat_minor": 5
}
