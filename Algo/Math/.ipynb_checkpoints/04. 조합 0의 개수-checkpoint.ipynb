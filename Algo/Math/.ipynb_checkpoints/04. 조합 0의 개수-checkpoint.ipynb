{
 "cells": [
  {
   "cell_type": "markdown",
   "id": "10fcf40b",
   "metadata": {},
   "source": [
    "### 2004 조합 0의 개수"
   ]
  },
  {
   "cell_type": "markdown",
   "id": "469c20b2",
   "metadata": {},
   "source": [
    "#### 메모리 초과"
   ]
  },
  {
   "cell_type": "code",
   "execution_count": 9,
   "id": "3e4e5760",
   "metadata": {},
   "outputs": [
    {
     "data": {
      "text/plain": [
       "5200300"
      ]
     },
     "execution_count": 9,
     "metadata": {},
     "output_type": "execute_result"
    }
   ],
   "source": [
    "n, k = map(int, input().split())\n",
    "\n",
    "d = [0 for i in range(n+1)]\n",
    "\n",
    "def solution(d, n, k):\n",
    "    if n == 1:\n",
    "        print(1)\n",
    "        return\n",
    "\n",
    "    d[0] = 1\n",
    "    d[1] = 1\n",
    "    d[2] = 2\n",
    "    \n",
    "    \n",
    "    for i in range(3, n+1):\n",
    "        d[i] = d[i-1] * i\n",
    "\n",
    "    return int(d[n] // (d[k] * d[n-k]))\n",
    "    \n",
    "result = solution(d, n, k)\n",
    "\n",
    "cnt = 0\n",
    "\n",
    "while True:\n",
    "    rest = result % 10\n",
    "    \n",
    "    result = result // 10\n",
    "    if rest == 0:\n",
    "        cnt += 1\n",
    "    else:\n",
    "        break\n",
    "        \n",
    "print(cnt)"
   ]
  },
  {
   "cell_type": "markdown",
   "id": "62230fe1",
   "metadata": {},
   "source": [
    "#### 10의 개수를 구하여 해결"
   ]
  },
  {
   "cell_type": "code",
   "execution_count": null,
   "id": "00d628ad",
   "metadata": {},
   "outputs": [],
   "source": []
  },
  {
   "cell_type": "code",
   "execution_count": null,
   "id": "cee058a0",
   "metadata": {},
   "outputs": [],
   "source": []
  },
  {
   "cell_type": "code",
   "execution_count": null,
   "id": "9b608446",
   "metadata": {},
   "outputs": [],
   "source": []
  },
  {
   "cell_type": "code",
   "execution_count": 11,
   "id": "82828a40",
   "metadata": {},
   "outputs": [
    {
     "data": {
      "text/plain": [
       "2"
      ]
     },
     "execution_count": 11,
     "metadata": {},
     "output_type": "execute_result"
    }
   ],
   "source": [
    "cnt"
   ]
  },
  {
   "cell_type": "code",
   "execution_count": null,
   "id": "580dde79",
   "metadata": {},
   "outputs": [],
   "source": []
  }
 ],
 "metadata": {
  "kernelspec": {
   "display_name": "Python 3",
   "language": "python",
   "name": "python3"
  },
  "language_info": {
   "codemirror_mode": {
    "name": "ipython",
    "version": 3
   },
   "file_extension": ".py",
   "mimetype": "text/x-python",
   "name": "python",
   "nbconvert_exporter": "python",
   "pygments_lexer": "ipython3",
   "version": "3.8.8"
  }
 },
 "nbformat": 4,
 "nbformat_minor": 5
}
