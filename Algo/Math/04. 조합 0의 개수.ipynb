{
 "cells": [
  {
   "cell_type": "markdown",
   "id": "1b8221d6",
   "metadata": {},
   "source": [
    "### 2004 조합 0의 개수"
   ]
  },
  {
   "cell_type": "markdown",
   "id": "aecadb7e",
   "metadata": {},
   "source": [
    "#### 메모리 초과"
   ]
  },
  {
   "cell_type": "code",
   "execution_count": 9,
   "id": "76e41f24",
   "metadata": {},
   "outputs": [
    {
     "data": {
      "text/plain": [
       "5200300"
      ]
     },
     "execution_count": 9,
     "metadata": {},
     "output_type": "execute_result"
    }
   ],
   "source": [
    "n, k = map(int, input().split())\n",
    "\n",
    "d = [0 for i in range(n+1)]\n",
    "\n",
    "def solution(d, n, k):\n",
    "    if n == 1:\n",
    "        print(1)\n",
    "        return\n",
    "\n",
    "    d[0] = 1\n",
    "    d[1] = 1\n",
    "    d[2] = 2\n",
    "    \n",
    "    \n",
    "    for i in range(3, n+1):\n",
    "        d[i] = d[i-1] * i\n",
    "\n",
    "    return int(d[n] // (d[k] * d[n-k]))\n",
    "    \n",
    "result = solution(d, n, k)\n",
    "\n",
    "cnt = 0\n",
    "\n",
    "while True:\n",
    "    rest = result % 10\n",
    "    \n",
    "    result = result // 10\n",
    "    if rest == 0:\n",
    "        cnt += 1\n",
    "    else:\n",
    "        break\n",
    "        \n",
    "print(cnt)"
   ]
  },
  {
   "cell_type": "markdown",
   "id": "4039fad5",
   "metadata": {},
   "source": [
    "#### 10의 개수를 구하여 해결"
   ]
  },
  {
   "cell_type": "code",
   "execution_count": 13,
   "id": "cfa3cd5e",
   "metadata": {},
   "outputs": [
    {
     "name": "stdout",
     "output_type": "stream",
     "text": [
      "25 12\n",
      "2\n"
     ]
    }
   ],
   "source": [
    "n, k = map(int, input().split())\n",
    "\n",
    "# n이 몇개의 k로 이루어져있나 확인하는 함수\n",
    "def _count(n, k):\n",
    "    cnt = 0\n",
    "    while n:\n",
    "        n //= k\n",
    "        cnt += n\n",
    "        \n",
    "    return cnt\n",
    "\n",
    "# 5의 개수\n",
    "five = _count(n, 5) - _count(k, 5) - _count(n-k, 5)\n",
    "\n",
    "# 2의 개수\n",
    "two = _count(n, 2) - _count(k, 2) - _count(n-k, 2)\n",
    "\n",
    "print(min(five, two))"
   ]
  }
 ],
 "metadata": {
  "kernelspec": {
   "display_name": "Python 3",
   "language": "python",
   "name": "python3"
  },
  "language_info": {
   "codemirror_mode": {
    "name": "ipython",
    "version": 3
   },
   "file_extension": ".py",
   "mimetype": "text/x-python",
   "name": "python",
   "nbconvert_exporter": "python",
   "pygments_lexer": "ipython3",
   "version": "3.8.8"
  }
 },
 "nbformat": 4,
 "nbformat_minor": 5
}
