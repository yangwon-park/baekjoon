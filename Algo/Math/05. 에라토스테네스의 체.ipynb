{
 "cells": [
  {
   "cell_type": "markdown",
   "id": "8897ba3f",
   "metadata": {},
   "source": [
    "### 2960 에라토스테네스의 체"
   ]
  },
  {
   "cell_type": "code",
   "execution_count": 25,
   "id": "4a3c44c0",
   "metadata": {},
   "outputs": [
    {
     "name": "stdout",
     "output_type": "stream",
     "text": [
      "1000 3\n",
      "6\n"
     ]
    }
   ],
   "source": [
    "n, k = map(int, input().split())\n",
    "\n",
    "# 소수 여부를 체크할 리스트\n",
    "# True로 변하면 지운 숫자\n",
    "check = [False for _ in range(n+1)]\n",
    "\n",
    "# 지운 숫자의 개수를 담을 변수\n",
    "cnt = 0\n",
    "\n",
    "# 2부터 시작\n",
    "for i in range(2, n+1):\n",
    "    \n",
    "    # i의 배수인 숫자들을 하나씩 지움\n",
    "    # False => True로 변경\n",
    "    for j in range(i, n+1, i):\n",
    "        if check[j] == False:\n",
    "            check[j] = True\n",
    "            \n",
    "            # 개수를 1씩 증가\n",
    "            cnt += 1\n",
    "            \n",
    "            # k와 같아질 때의 j값을 출력\n",
    "            if cnt == k:\n",
    "                print(j)\n",
    "                break"
   ]
  }
 ],
 "metadata": {
  "kernelspec": {
   "display_name": "Python 3 (ipykernel)",
   "language": "python",
   "name": "python3"
  },
  "language_info": {
   "codemirror_mode": {
    "name": "ipython",
    "version": 3
   },
   "file_extension": ".py",
   "mimetype": "text/x-python",
   "name": "python",
   "nbconvert_exporter": "python",
   "pygments_lexer": "ipython3",
   "version": "3.7.11"
  }
 },
 "nbformat": 4,
 "nbformat_minor": 5
}
