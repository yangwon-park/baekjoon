{
 "cells": [
  {
   "cell_type": "markdown",
   "id": "2c94f0ce",
   "metadata": {},
   "source": [
    "### 11051 이항 계수 2"
   ]
  },
  {
   "cell_type": "code",
   "execution_count": 34,
   "id": "dfe5b01c",
   "metadata": {},
   "outputs": [
    {
     "name": "stdout",
     "output_type": "stream",
     "text": [
      "5 2\n",
      "10\n"
     ]
    }
   ],
   "source": [
    "n, k = map(int, input().split())\n",
    "\n",
    "d = [0 for i in range(n+1)]\n",
    "\n",
    "def solution(d, n, k):\n",
    "    if n == 1:\n",
    "        print(1)\n",
    "        return\n",
    "\n",
    "    d[0] = 1\n",
    "    d[1] = 1\n",
    "    d[2] = 2\n",
    "    \n",
    "    \n",
    "    for i in range(3, n+1):\n",
    "        d[i] = d[i-1] * i\n",
    "\n",
    "    print(int(d[n] // (d[k] * d[n-k])) % 10007)\n",
    "    \n",
    "solution(d, n, k)"
   ]
  }
 ],
 "metadata": {
  "kernelspec": {
   "display_name": "Python 3",
   "language": "python",
   "name": "python3"
  },
  "language_info": {
   "codemirror_mode": {
    "name": "ipython",
    "version": 3
   },
   "file_extension": ".py",
   "mimetype": "text/x-python",
   "name": "python",
   "nbconvert_exporter": "python",
   "pygments_lexer": "ipython3",
   "version": "3.8.8"
  }
 },
 "nbformat": 4,
 "nbformat_minor": 5
}
