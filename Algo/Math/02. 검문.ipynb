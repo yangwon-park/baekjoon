{
 "cells": [
  {
   "cell_type": "markdown",
   "id": "aaded766",
   "metadata": {},
   "source": [
    "### 2981 검문"
   ]
  },
  {
   "cell_type": "code",
   "execution_count": 31,
   "id": "9171be1b",
   "metadata": {},
   "outputs": [
    {
     "name": "stdout",
     "output_type": "stream",
     "text": [
      "4\n",
      "1\n",
      "5\n",
      "7\n",
      "11\n",
      "2 "
     ]
    }
   ],
   "source": [
    "n = int(input())\n",
    "arr = []\n",
    "\n",
    "for _ in range(n):\n",
    "    arr.append(int(input()))\n",
    "\n",
    "# 입력을 정렬해서 받지 않으면\n",
    "# 최대공약수가 음수가 나오는 경우가 발생\n",
    "# 아래에서 별도로 절댓값 처리를 하지 않을 것이므로\n",
    "# 그냥 편하게 처음부터 정렬을 해버리자\n",
    "arr.sort()\n",
    "    \n",
    "# 연속하는 두 수의 차이들을 담을 리스트    \n",
    "divisors = []\n",
    "\n",
    "# 주어진 수들은 나머지 R이 모두 같으므로\n",
    "# 연속하는 두 수를 빼어주는 방법을 사용하면\n",
    "# 주어진 모든 수에 대하여 연립식을 세울 수 있음\n",
    "# (R이 모두 소거됨)\n",
    "# 이 경우, 연속하는 두 수의 차이가 M을 공약수로 가진다라는 사실을 파악\n",
    "\n",
    "for i in range(1, n):\n",
    "    divisors.append(arr[i] - arr[i-1])\n",
    "\n",
    "# 최대 공약수 구하기\n",
    "def gcd(x, y):\n",
    "    while x != 0:\n",
    "        y %= x\n",
    "        y, x = x, y\n",
    "        \n",
    "    return y\n",
    "\n",
    "# 연속한 두 수의 모든 차이에 대한\n",
    "# 최대 공약수를 구할 것이므로\n",
    "# 처음 두 수의 차이를 별도의 변수에 저장\n",
    "_gcd = divisors[0]\n",
    "\n",
    "# 처음 껀 따로 처리했으므로 1부터 반복 실행\n",
    "for i in range(1, len(divisors)):\n",
    "    _gcd = gcd(_gcd, divisors[i])\n",
    "\n",
    "# 최종 결과를 담을 리스트    \n",
    "result = []\n",
    "\n",
    "# 1은 제외하므로 2부터 시작\n",
    "# 시간 초과가 발생하므로 에라토스테네스의 체 사용\n",
    "for i in range(2, int(_gcd ** 0.5) +1):\n",
    "    if _gcd % i == 0:\n",
    "        result.append(i)\n",
    "        \n",
    "        # i가 약수라면\n",
    "        # i로 나눴을 때 나오는 몫 역시 약수\n",
    "        # 당연한 말\n",
    "        # 이를 이용하여 에라토스테네스의 체를 사용할 때,\n",
    "        # 반복 횟수를 줄인 대신, 원하는 모든 약수를 담을 수 있음\n",
    "        result.append(_gcd // i)\n",
    "\n",
    "# 자기 자신은 별도로 저장\n",
    "result.append(_gcd)\n",
    "\n",
    "result = list(set(result)) # 중복이 발생할 수 있음\n",
    "result.sort() # 오름차순으로 출력하라고 명시\n",
    "\n",
    "for i in result:\n",
    "    print(int(i), end=' ')"
   ]
  }
 ],
 "metadata": {
  "kernelspec": {
   "display_name": "Python3_7",
   "language": "python",
   "name": "3_7"
  },
  "language_info": {
   "codemirror_mode": {
    "name": "ipython",
    "version": 3
   },
   "file_extension": ".py",
   "mimetype": "text/x-python",
   "name": "python",
   "nbconvert_exporter": "python",
   "pygments_lexer": "ipython3",
   "version": "3.7.11"
  }
 },
 "nbformat": 4,
 "nbformat_minor": 5
}
