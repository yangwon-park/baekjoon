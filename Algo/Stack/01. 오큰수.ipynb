{
 "cells": [
  {
   "cell_type": "markdown",
   "id": "eec46dd9",
   "metadata": {},
   "source": [
    "### 17298 오큰수"
   ]
  },
  {
   "cell_type": "markdown",
   "id": "6a1ad607",
   "metadata": {},
   "source": [
    "#### 시간 초과"
   ]
  },
  {
   "cell_type": "code",
   "execution_count": 10,
   "id": "6952c550",
   "metadata": {},
   "outputs": [
    {
     "name": "stdout",
     "output_type": "stream",
     "text": [
      "4\n",
      "3 5 2 7\n",
      "5\n",
      "7\n",
      "7\n",
      "-1\n"
     ]
    }
   ],
   "source": [
    "n = int(input())\n",
    "arr = list(map(int, input().split()))\n",
    "\n",
    "check = False\n",
    "\n",
    "def solution(n, arr):\n",
    "    for i in range(n):\n",
    "        for j in range(i+1, n):\n",
    "            if arr[i] < arr[j]:\n",
    "                print(arr[j])\n",
    "                break\n",
    "                \n",
    "            if j == n-1:\n",
    "                print(-1)\n",
    "    \n",
    "    # 마지막 요소는 무조건 -1\n",
    "    print(-1)\n",
    "solution(n, arr)"
   ]
  },
  {
   "cell_type": "markdown",
   "id": "c8b28a3a",
   "metadata": {},
   "source": [
    "#### 구글링 참고 후 정답"
   ]
  },
  {
   "cell_type": "code",
   "execution_count": 6,
   "id": "c150a26c",
   "metadata": {},
   "outputs": [
    {
     "name": "stdout",
     "output_type": "stream",
     "text": [
      "4\n",
      "1 5 2 3\n",
      "5 -1 3 -1\n"
     ]
    }
   ],
   "source": [
    "from collections import deque\n",
    "\n",
    "n = int(input())\n",
    "arr = list(map(int, input().split()))\n",
    "\n",
    "# stack은 인덱스를 저장하는 용도로 사용\n",
    "# 더 빠른 연산을 위해 deque 사용\n",
    "stack = deque()\n",
    "\n",
    "# 오큰수가 없으면 -1을 출력하므로 -1로 초기화\n",
    "result = [-1 for i in range(n)]\n",
    "\n",
    "# stack은 선입 후출 => arr의 인덱스로 stack[-1]을 사용 (가장 마지막 위치한 요소가 가장 처음 들어간 요소)\n",
    "# 선입 후출이라 뒤에서부터 요소가 사라진다\n",
    "# 만약 stack[0]으로 앞에서부터 요소를 비교하면\n",
    "# pop으로 맨 뒤의 요소값을 제거했는데 앞의 값으로 비교하는 경우가 됨\n",
    "# 이 때, stack의 첫 요소의 값은 작은데 그 뒤의 요소 값이 큰 경우\n",
    "# 뒤의 요소값의 크기와는 상관없이 while문이 동작하지 않는다\n",
    "for i in range(n):\n",
    "    \n",
    "    # stack이 비어있지 않고 인덱스로 넣은 스택의 값이 더 작은 경우\n",
    "    while stack and arr[stack[-1]] < arr[i]:\n",
    "        \n",
    "        # stack의 값에 해당하는 result의 인덱스에 arr[i]를 넣음\n",
    "        result[stack.pop()] = arr[i]\n",
    "        \n",
    "    # stack에 i를 넣어줌\n",
    "    # 맨 처음 반복 시, stack은 비어있으므로 여기서부터 시작\n",
    "    stack.append(i)\n",
    "    \n",
    "# for i in result:\n",
    "#     print(i, end=' ')\n",
    "# 위의 for문과 동일    \n",
    "print(*result)"
   ]
  },
  {
   "cell_type": "code",
   "execution_count": 2,
   "id": "f180f3af",
   "metadata": {},
   "outputs": [
    {
     "data": {
      "text/plain": [
       "deque([3])"
      ]
     },
     "execution_count": 2,
     "metadata": {},
     "output_type": "execute_result"
    }
   ],
   "source": [
    "stack"
   ]
  },
  {
   "cell_type": "code",
   "execution_count": null,
   "id": "f5491eb5",
   "metadata": {},
   "outputs": [],
   "source": []
  }
 ],
 "metadata": {
  "kernelspec": {
   "display_name": "Python 3 (ipykernel)",
   "language": "python",
   "name": "python3"
  },
  "language_info": {
   "codemirror_mode": {
    "name": "ipython",
    "version": 3
   },
   "file_extension": ".py",
   "mimetype": "text/x-python",
   "name": "python",
   "nbconvert_exporter": "python",
   "pygments_lexer": "ipython3",
   "version": "3.7.11"
  }
 },
 "nbformat": 4,
 "nbformat_minor": 5
}
