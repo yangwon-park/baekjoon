{
 "cells": [
  {
   "cell_type": "markdown",
   "id": "cf938a61",
   "metadata": {},
   "source": [
    "### 14425 문자열 집합"
   ]
  },
  {
   "cell_type": "code",
   "execution_count": 6,
   "id": "8216dbe3",
   "metadata": {},
   "outputs": [
    {
     "name": "stdout",
     "output_type": "stream",
     "text": [
      "5 5\n",
      "a\n",
      "b\n",
      "c\n",
      "d\n",
      "e\n",
      "a\n",
      "b\n",
      "c\n",
      "d\n",
      "e\n",
      "5\n"
     ]
    }
   ],
   "source": [
    "n, m = map(int, input().split())\n",
    "\n",
    "S = set()\n",
    "\n",
    "cnt = 0\n",
    "\n",
    "for _ in range(n):\n",
    "    S.add(input())\n",
    "    \n",
    "for _ in range(m):\n",
    "    _str = input()\n",
    "    \n",
    "    if _str in S:\n",
    "        cnt += 1\n",
    "        \n",
    "print(cnt)"
   ]
  }
 ],
 "metadata": {
  "kernelspec": {
   "display_name": "Python 3",
   "language": "python",
   "name": "python3"
  },
  "language_info": {
   "codemirror_mode": {
    "name": "ipython",
    "version": 3
   },
   "file_extension": ".py",
   "mimetype": "text/x-python",
   "name": "python",
   "nbconvert_exporter": "python",
   "pygments_lexer": "ipython3",
   "version": "3.8.8"
  }
 },
 "nbformat": 4,
 "nbformat_minor": 5
}
