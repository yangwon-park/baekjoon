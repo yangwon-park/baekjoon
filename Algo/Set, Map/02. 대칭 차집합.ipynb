{
 "cells": [
  {
   "cell_type": "markdown",
   "id": "a02e69ac",
   "metadata": {},
   "source": [
    "### 1269 대칭 차집합"
   ]
  },
  {
   "cell_type": "code",
   "execution_count": 11,
   "id": "ab6f3bd3",
   "metadata": {},
   "outputs": [
    {
     "name": "stdout",
     "output_type": "stream",
     "text": [
      "3 5\n",
      "1 2 4\n",
      "2 3 4 5 6\n",
      "4\n"
     ]
    }
   ],
   "source": [
    "n, m = map(int, input().split())\n",
    "\n",
    "A = set(map(int, input().split()))\n",
    "B = set(map(int, input().split()))\n",
    "\n",
    "print(len(A.difference(B)) + len(B.difference(A)))"
   ]
  }
 ],
 "metadata": {
  "kernelspec": {
   "display_name": "Python 3",
   "language": "python",
   "name": "python3"
  },
  "language_info": {
   "codemirror_mode": {
    "name": "ipython",
    "version": 3
   },
   "file_extension": ".py",
   "mimetype": "text/x-python",
   "name": "python",
   "nbconvert_exporter": "python",
   "pygments_lexer": "ipython3",
   "version": "3.8.8"
  }
 },
 "nbformat": 4,
 "nbformat_minor": 5
}
