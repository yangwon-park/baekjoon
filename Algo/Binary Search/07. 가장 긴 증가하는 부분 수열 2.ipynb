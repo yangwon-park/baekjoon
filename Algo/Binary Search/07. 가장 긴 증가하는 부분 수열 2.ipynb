{
 "cells": [
  {
   "cell_type": "markdown",
   "id": "09e8af46",
   "metadata": {},
   "source": [
    "### 12015 가장 긴 증가하는 부분 수열 2"
   ]
  },
  {
   "cell_type": "code",
   "execution_count": 27,
   "id": "9443766d",
   "metadata": {},
   "outputs": [
    {
     "name": "stdout",
     "output_type": "stream",
     "text": [
      "6\n",
      "10 20 10 30 40 50\n",
      "5\n"
     ]
    }
   ],
   "source": [
    "# DP를 이용한 LIS\n",
    "n = int(input())\n",
    "arr = list(map(int, input().split()))\n",
    "\n",
    "def solution(n, arr):\n",
    "    d = [1 for _ in range(n)]\n",
    "    \n",
    "    for i in range(1, n):\n",
    "        for j in range(i): # 자기 자신을 제외한 앞의 모든 요소들의 크기를 비교\n",
    "            if arr[j] < arr[i]:\n",
    "                d[i] = max(d[i], d[j] + 1)\n",
    "    \n",
    "    return d            \n",
    "result = solution(n, arr)\n",
    "\n",
    "print(max(result))"
   ]
  },
  {
   "cell_type": "code",
   "execution_count": 50,
   "id": "ce102cf9",
   "metadata": {},
   "outputs": [
    {
     "name": "stdout",
     "output_type": "stream",
     "text": [
      "6\n",
      "4 6 9 2 3 4\n",
      "[0, 4]\n",
      "[0, 4, 6]\n",
      "[0, 4, 6, 9]\n",
      "3\n"
     ]
    }
   ],
   "source": [
    "# 이분 탐색을 이용한 LIS (정확하게 수열을 뽑아낼 순 없고 길이만 일치함)\n",
    "n = int(input())\n",
    "arr = list(map(int, input().split()))\n",
    "\n",
    "# DP 테이블에 0을 미리 저장\n",
    "d = [0]\n",
    "\n",
    "# target : arr의 원소 중 d[-1]보다 작은 값\n",
    "def binary_search(target):\n",
    "    \n",
    "    start = 0\n",
    "    end = len(d)\n",
    "    \n",
    "    # target이 이미 DP 테이블에 존재하는가 확인\n",
    "    # 존재 한다면 존재하는 그 위치를 return\n",
    "    # 존재하지 않는다면 start값을 return\n",
    "    while start <= end:\n",
    "        \n",
    "        mid = (start + end) // 2\n",
    "        \n",
    "        if d[mid] == target:\n",
    "            return mid\n",
    "        elif d[mid] < target:\n",
    "            start = mid + 1\n",
    "        else:\n",
    "            end =  mid - 1\n",
    "    return start\n",
    "        \n",
    "# 배열의 요소를 하나씩\n",
    "for n in arr:\n",
    "    \n",
    "    # DP 테이블에 저장된 맨 마지막 요소보다\n",
    "    # 배열의 마지막 요소가 더 크다면 DP 테이블에 추가해줌\n",
    "    if d[-1] < n:\n",
    "        d.append(n)\n",
    "        print(d)\n",
    "        \n",
    "    else:\n",
    "        idx = binary_search(n)\n",
    "        d[idx] = n # 덮어씌여짐\n",
    "        \n",
    "print(len(d)-1)"
   ]
  },
  {
   "cell_type": "code",
   "execution_count": 62,
   "id": "9cb3349d",
   "metadata": {},
   "outputs": [
    {
     "name": "stdout",
     "output_type": "stream",
     "text": [
      "6\n",
      "10 20 10 30 15 50\n",
      "10 0 3\n",
      "1\n",
      "15 0 4\n",
      "15 0 1\n",
      "15 1 1\n",
      "2\n",
      "4\n"
     ]
    }
   ],
   "source": [
    "n = int(input())\n",
    "arr = list(map(int, input().split()))\n",
    "\n",
    "# 처음에 0을 미리 넣어둠\n",
    "d = [0]\n",
    "\n",
    "for n in arr:\n",
    "    \n",
    "    # n이 DP 테이블의 맨 마지막 요소보다 크다면 DP에 추가\n",
    "    # 증가하는 부분 수열을 구하므로 n은 오름차순으로 DP 테이블에 들어감\n",
    "    if d[-1] < n:\n",
    "        d.append(n)\n",
    "        \n",
    "    # n이 작거나 같다 => 증가하지 않는 것\n",
    "    # 이진 탐색을 수행\n",
    "    else:\n",
    "        idx = binary_search(n)\n",
    "        print(idx)\n",
    "        d[idx] = n # 덮어씌여짐\n",
    "        \n",
    "# target이 DP 테이블의 마지막 요소보다 작거나 같은 경우에 동작\n",
    "# DP 테이블 내에서 target의 인덱스를 반환해줌\n",
    "# 만약 target이 DP 테이블에 존재하지 않으면 start를 반환해줌\n",
    "def binary_search(target):\n",
    "    start = 0\n",
    "    end = len(d)\n",
    "    \n",
    "    while start <= end:\n",
    "        mid = (start + end) // 2\n",
    "        \n",
    "        print(target, start, end)\n",
    "        \n",
    "        if d[mid] == target:\n",
    "            return mid\n",
    "        elif d[mid] < target:\n",
    "            start = mid + 1\n",
    "        else:\n",
    "            end = mid - 1\n",
    "    return start\n",
    "        \n",
    "# 처음 넣은 0이 있으므로 -1\n",
    "print(len(d)-1)"
   ]
  }
 ],
 "metadata": {
  "kernelspec": {
   "display_name": "Python 3 (ipykernel)",
   "language": "python",
   "name": "python3"
  },
  "language_info": {
   "codemirror_mode": {
    "name": "ipython",
    "version": 3
   },
   "file_extension": ".py",
   "mimetype": "text/x-python",
   "name": "python",
   "nbconvert_exporter": "python",
   "pygments_lexer": "ipython3",
   "version": "3.7.11"
  }
 },
 "nbformat": 4,
 "nbformat_minor": 5
}
