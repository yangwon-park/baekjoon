{
 "cells": [
  {
   "cell_type": "markdown",
   "id": "7b03f3f0",
   "metadata": {},
   "source": [
    "### 16401 과자 나눠주기"
   ]
  },
  {
   "cell_type": "code",
   "execution_count": 1,
   "id": "2263070a",
   "metadata": {},
   "outputs": [
    {
     "name": "stdout",
     "output_type": "stream",
     "text": [
      "3 10\n",
      "1 2 3 4 5 6 7 8 9 10\n",
      "8\n"
     ]
    }
   ],
   "source": [
    "m, n = map(int, input().split())\n",
    "arr = list(map(int, input().split()))\n",
    "\n",
    "start = 0\n",
    "end = max(arr)\n",
    "\n",
    "def binary_search(start, end):\n",
    "    \n",
    "    # 최종 정답\n",
    "    result = 0\n",
    "    \n",
    "    while start <= end:\n",
    "        mid = (start + end) // 2\n",
    "\n",
    "        # 나눠준 조카의 인원수\n",
    "        tot = 0\n",
    "\n",
    "        # mid가 최종적으로 0까지 내려가면\n",
    "        # 같은 길이로 나눠줄 수 없으므로\n",
    "        # tot를 0으로 설정\n",
    "        if mid == 0:\n",
    "            tot = 0\n",
    "            break\n",
    "\n",
    "        # 주어진 사탕들별로\n",
    "        # 목표 길이(mid)보다 사탕의 길이(x)가 크다면\n",
    "        # x // mid 를 tot에 저장 => x를 mid만큼 나눈 몫이\n",
    "        # 곧 mid만큼 나눠줄 수 있는 조카의 인원수가 됨 (tot에 누적합)\n",
    "        for x in arr:\n",
    "            if x >= mid:\n",
    "                tot += (x // mid)\n",
    "\n",
    "        # 나눠준 인원수가 조카보다 많거나 같으면\n",
    "        # 나눠줄 사탕의 목표 길이 1 증가\n",
    "        # 최종 정답 값으로 mid 저장\n",
    "        if tot >= m:\n",
    "            start = mid + 1\n",
    "            result = mid\n",
    "            \n",
    "        # 나눠준 인원수가 더 적으면\n",
    "        # 나눠줄 사탕의 목표 길이 1 감소\n",
    "        else:\n",
    "            end = mid -1\n",
    "\n",
    "    print(result)\n",
    "    \n",
    "binary_search(start, end)"
   ]
  }
 ],
 "metadata": {
  "kernelspec": {
   "display_name": "Python 3",
   "language": "python",
   "name": "python3"
  },
  "language_info": {
   "codemirror_mode": {
    "name": "ipython",
    "version": 3
   },
   "file_extension": ".py",
   "mimetype": "text/x-python",
   "name": "python",
   "nbconvert_exporter": "python",
   "pygments_lexer": "ipython3",
   "version": "3.8.8"
  }
 },
 "nbformat": 4,
 "nbformat_minor": 5
}
