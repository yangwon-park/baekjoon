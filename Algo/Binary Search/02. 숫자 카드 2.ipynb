{
 "cells": [
  {
   "cell_type": "markdown",
   "id": "ea68662c",
   "metadata": {},
   "source": [
    "### 10816 숫자 카드 2"
   ]
  },
  {
   "cell_type": "code",
   "execution_count": 42,
   "id": "513a6911",
   "metadata": {},
   "outputs": [
    {
     "name": "stdout",
     "output_type": "stream",
     "text": [
      "10\n",
      "6 3 2 10 10 10 -10 -10 7 3\n",
      "8\n",
      "10 9 -5 2 3 4 5 -10\n",
      "3 0 0 1 2 0 0 2 "
     ]
    }
   ],
   "source": [
    "from collections import Counter\n",
    "n = int(input())\n",
    "arr1 = list(map(int, input().split()))\n",
    "m = int(input())\n",
    "arr2 = list(map(int, input().split()))\n",
    "card = Counter(arr1)\n",
    "for x in arr2:\n",
    "    if x in card:\n",
    "        print(card[x], end = ' ')\n",
    "    else:\n",
    "        print(0, end = ' ')"
   ]
  }
 ],
 "metadata": {
  "kernelspec": {
   "display_name": "Python3_7",
   "language": "python",
   "name": "3_7"
  },
  "language_info": {
   "codemirror_mode": {
    "name": "ipython",
    "version": 3
   },
   "file_extension": ".py",
   "mimetype": "text/x-python",
   "name": "python",
   "nbconvert_exporter": "python",
   "pygments_lexer": "ipython3",
   "version": "3.7.11"
  }
 },
 "nbformat": 4,
 "nbformat_minor": 5
}
