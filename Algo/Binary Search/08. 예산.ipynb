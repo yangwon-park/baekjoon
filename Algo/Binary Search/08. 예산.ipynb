{
 "cells": [
  {
   "cell_type": "markdown",
   "id": "b2db0e60",
   "metadata": {},
   "source": [
    "### 2512 예산"
   ]
  },
  {
   "cell_type": "code",
   "execution_count": 12,
   "id": "b4c6d960",
   "metadata": {},
   "outputs": [
    {
     "name": "stdout",
     "output_type": "stream",
     "text": [
      "4\n",
      "120 110 140 150\n",
      "485\n",
      "127\n"
     ]
    }
   ],
   "source": [
    "n = int(input())\n",
    "arr = list(map(int, input().split()))\n",
    "m = int(input())\n",
    "\n",
    "start = 0\n",
    "end = max(arr)\n",
    "      \n",
    "# 최종 정답\n",
    "answer = 0\n",
    "\n",
    "def solution(arr, start, end):\n",
    "    while start <= end:\n",
    "        \n",
    "        # 최대 배정 예산과 최소 배정 예산\n",
    "        # 두 사이의 어디쯤을 찾으면 됨\n",
    "        # 가능한 한 최대의 예산 : mid\n",
    "        mid = (start + end) // 2\n",
    "        \n",
    "        # 토탈 예산 합계\n",
    "        tot = 0\n",
    "        \n",
    "        # 요청 금액 리스트를 탐색\n",
    "        for x in arr:\n",
    "            \n",
    "            # mid와 x중 더 작은 값을 예산에 더함\n",
    "            # 작은 값은 어차피 무조건 배정 가능\n",
    "            tot += min(mid, x)\n",
    "            \n",
    "        # 모두 더한 예산의 합이\n",
    "        # 총 예산 m보다 작거나 같으면\n",
    "        # 일단 배정에 성공했으므로 answer = mid\n",
    "        # start의 값을 수정하면서 더 큰 값을 찾아봄\n",
    "        if tot <= m:\n",
    "            answer = mid\n",
    "            start = mid + 1\n",
    "        \n",
    "        # 총 예산 m보다 크면\n",
    "        # end의 값을 수정하면서 더 작은 값으로 찾음\n",
    "        else:\n",
    "            end = mid - 1\n",
    "            \n",
    "    return answer\n",
    "        \n",
    "print(solution(arr, start, end))        "
   ]
  }
 ],
 "metadata": {
  "kernelspec": {
   "display_name": "Python3_7",
   "language": "python",
   "name": "3_7"
  },
  "language_info": {
   "codemirror_mode": {
    "name": "ipython",
    "version": 3
   },
   "file_extension": ".py",
   "mimetype": "text/x-python",
   "name": "python",
   "nbconvert_exporter": "python",
   "pygments_lexer": "ipython3",
   "version": "3.7.11"
  }
 },
 "nbformat": 4,
 "nbformat_minor": 5
}
