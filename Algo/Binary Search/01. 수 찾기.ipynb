{
 "cells": [
  {
   "cell_type": "markdown",
   "id": "134c6cbb",
   "metadata": {},
   "source": [
    "### 1920 수 찾기"
   ]
  },
  {
   "cell_type": "code",
   "execution_count": 5,
   "id": "4f5aa21b",
   "metadata": {},
   "outputs": [
    {
     "name": "stdout",
     "output_type": "stream",
     "text": [
      "5\n",
      "4 1 5 2 3\n",
      "5\n",
      "1 3 7 9 5\n",
      "1\n",
      "1\n",
      "0\n",
      "0\n",
      "1\n"
     ]
    }
   ],
   "source": [
    "n = int(input())\n",
    "arr1 = list(map(int, input().split()))\n",
    "m = int(input())\n",
    "arr2 = list(map(int, input().split()))\n",
    "# arr2의 요소가 arr1에 존재하는지 확인\n",
    "arr1.sort() \n",
    "    \n",
    "def binary_search(arr1, x, start, end):\n",
    "    while start <= end:\n",
    "        mid = (start + end) // 2\n",
    "        \n",
    "        if arr1[mid] == x:\n",
    "            return True\n",
    "        elif arr1[mid] > x:\n",
    "            end = mid - 1\n",
    "        else:\n",
    "            start = mid + 1\n",
    "    \n",
    "    return False\n",
    "\n",
    "for x in arr2:\n",
    "    if binary_search(arr1, x, 0, n-1):\n",
    "        print(1)\n",
    "    else:\n",
    "        print(0)"
   ]
  },
  {
   "cell_type": "code",
   "execution_count": 6,
   "id": "69cdcd86",
   "metadata": {},
   "outputs": [
    {
     "name": "stdout",
     "output_type": "stream",
     "text": [
      "5\n",
      "4 1 5 2 3\n",
      "5\n",
      "1 3 7 9 5\n",
      "1\n",
      "1\n",
      "0\n",
      "0\n",
      "1\n"
     ]
    }
   ],
   "source": [
    "n = int(input())\n",
    "pre = set(map(int, input().split()))\n",
    "\n",
    "m = int(input())\n",
    "suf = list(map(int, input().split()))\n",
    "\n",
    "result = [0] * m\n",
    "\n",
    "idx = 0\n",
    "\n",
    "for x in suf:\n",
    "    if x in pre:\n",
    "        result[idx] = 1\n",
    "    idx+=1\n",
    "    \n",
    "for r in result:\n",
    "    print(r)"
   ]
  }
 ],
 "metadata": {
  "kernelspec": {
   "display_name": "Python 3 (ipykernel)",
   "language": "python",
   "name": "python3"
  },
  "language_info": {
   "codemirror_mode": {
    "name": "ipython",
    "version": 3
   },
   "file_extension": ".py",
   "mimetype": "text/x-python",
   "name": "python",
   "nbconvert_exporter": "python",
   "pygments_lexer": "ipython3",
   "version": "3.7.11"
  }
 },
 "nbformat": 4,
 "nbformat_minor": 5
}
