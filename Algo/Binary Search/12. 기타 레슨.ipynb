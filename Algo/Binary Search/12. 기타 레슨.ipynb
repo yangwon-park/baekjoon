{
 "cells": [
  {
   "cell_type": "markdown",
   "id": "bb8094a6",
   "metadata": {},
   "source": [
    "### 2343 기타 레슨"
   ]
  },
  {
   "cell_type": "code",
   "execution_count": 5,
   "id": "98850ead",
   "metadata": {},
   "outputs": [
    {
     "name": "stdout",
     "output_type": "stream",
     "text": [
      "9 3\n",
      "1 2 3 4 5 6 7 8 9\n",
      "17\n"
     ]
    }
   ],
   "source": [
    "n, m = map(int, input().split())\n",
    "arr = list(map(int, input().split()))\n",
    "\n",
    "# 블루레이 최소 크기\n",
    "# => 강의 길이 중 가장 큰 값은 담을 수 있어야 함\n",
    "# => 따라서 가장 긴 강의 시간이 곧 블루레이 최소 크기가 됨\n",
    "start = max(arr)\n",
    "\n",
    "# 블루레이 최대 크기\n",
    "# => 모든 강의를 다 담을 수 있는 경우가 곧 최대\n",
    "end = sum(arr)\n",
    "\n",
    "# 로직 구현\n",
    "def solution(start, end):\n",
    "    \n",
    "    # 최종 정답을 담을 변수\n",
    "    # 블루레이 최소 크기를 구하므로\n",
    "    # answer는 최대로 잡음\n",
    "    answer = float('inf')\n",
    "    \n",
    "    # 이분 탐색 수행\n",
    "    while start <= end:\n",
    "        \n",
    "        # mid : 블루레이 크기\n",
    "        mid = (start + end) // 2\n",
    "        \n",
    "        # 블루레이 개수\n",
    "        cnt = 0\n",
    "        \n",
    "        # 블루레이 부분합\n",
    "        _sum = 0\n",
    "    \n",
    "        # 블루레이 개수만큼 반복 실시\n",
    "        for i in range(len(arr)):\n",
    "            \n",
    "            # 부분합과 다음 강의의 합이 목표값보다 커지면\n",
    "            # 목표한 블루레이 크기를 맞췄음\n",
    "            # cnt의 개수 1 증가\n",
    "            # 부분합 초기화\n",
    "            if _sum + arr[i] > mid:\n",
    "                cnt += 1\n",
    "                _sum = 0\n",
    "                \n",
    "            # 부분합에 각 강의를 더함\n",
    "            _sum += arr[i]\n",
    "        \n",
    "        # 반복문을 다 돌고도 부분합이 남이 있다면\n",
    "        # 블루레이를 하나 더 써야함\n",
    "        # 따라서 cnt값 1 증가\n",
    "        if _sum:\n",
    "            cnt += 1\n",
    "            \n",
    "        # m보다 cnt가 크면\n",
    "        # cnt의 개수를 줄여야 하므로\n",
    "        # start + 1\n",
    "        if cnt > m:\n",
    "            start = mid + 1\n",
    "            \n",
    "        # m보다 크지 않으면\n",
    "        # answer와 mid 중 더 작은 값을 answer에 대입\n",
    "        # end = mid - 1\n",
    "        else:\n",
    "            answer = min(answer, mid)\n",
    "            end = mid - 1\n",
    "            \n",
    "    return answer\n",
    "answer = solution(start, end)\n",
    "\n",
    "print(answer)"
   ]
  }
 ],
 "metadata": {
  "kernelspec": {
   "display_name": "Python3_7",
   "language": "python",
   "name": "3_7"
  },
  "language_info": {
   "codemirror_mode": {
    "name": "ipython",
    "version": 3
   },
   "file_extension": ".py",
   "mimetype": "text/x-python",
   "name": "python",
   "nbconvert_exporter": "python",
   "pygments_lexer": "ipython3",
   "version": "3.7.11"
  }
 },
 "nbformat": 4,
 "nbformat_minor": 5
}
