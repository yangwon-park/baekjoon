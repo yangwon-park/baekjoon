{
 "cells": [
  {
   "cell_type": "markdown",
   "id": "c4c8a02f",
   "metadata": {},
   "source": [
    "### 1939 중량 제한"
   ]
  },
  {
   "cell_type": "code",
   "execution_count": 2,
   "id": "1bdffc65",
   "metadata": {},
   "outputs": [
    {
     "name": "stdout",
     "output_type": "stream",
     "text": [
      "3 3\n",
      "1 2 2\n",
      "3 1 3\n",
      "2 3 2\n",
      "1 3\n"
     ]
    },
    {
     "ename": "NameError",
     "evalue": "name 'visited' is not defined",
     "output_type": "error",
     "traceback": [
      "\u001b[1;31m---------------------------------------------------------------------------\u001b[0m",
      "\u001b[1;31mNameError\u001b[0m                                 Traceback (most recent call last)",
      "\u001b[1;32m~\\AppData\\Local\\Temp/ipykernel_1072/3430602047.py\u001b[0m in \u001b[0;36m<module>\u001b[1;34m\u001b[0m\n\u001b[0;32m     78\u001b[0m \u001b[1;33m\u001b[0m\u001b[0m\n\u001b[0;32m     79\u001b[0m     \u001b[1;32mreturn\u001b[0m \u001b[0mresult\u001b[0m\u001b[1;33m\u001b[0m\u001b[1;33m\u001b[0m\u001b[0m\n\u001b[1;32m---> 80\u001b[1;33m \u001b[0mprint\u001b[0m\u001b[1;33m(\u001b[0m\u001b[0mbinary_search\u001b[0m\u001b[1;33m(\u001b[0m\u001b[1;33m)\u001b[0m\u001b[1;33m)\u001b[0m\u001b[1;33m\u001b[0m\u001b[1;33m\u001b[0m\u001b[0m\n\u001b[0m",
      "\u001b[1;32m~\\AppData\\Local\\Temp/ipykernel_1072/3430602047.py\u001b[0m in \u001b[0;36mbinary_search\u001b[1;34m()\u001b[0m\n\u001b[0;32m     71\u001b[0m \u001b[1;33m\u001b[0m\u001b[0m\n\u001b[0;32m     72\u001b[0m         \u001b[1;31m# mid에 대한 bfs의 결과가 참이면\u001b[0m\u001b[1;33m\u001b[0m\u001b[1;33m\u001b[0m\u001b[1;33m\u001b[0m\u001b[0m\n\u001b[1;32m---> 73\u001b[1;33m         \u001b[1;32mif\u001b[0m \u001b[0mbfs\u001b[0m\u001b[1;33m(\u001b[0m\u001b[0mmid\u001b[0m\u001b[1;33m)\u001b[0m\u001b[1;33m:\u001b[0m\u001b[1;33m\u001b[0m\u001b[1;33m\u001b[0m\u001b[0m\n\u001b[0m\u001b[0;32m     74\u001b[0m             \u001b[0mresult\u001b[0m \u001b[1;33m=\u001b[0m \u001b[0mmid\u001b[0m\u001b[1;33m\u001b[0m\u001b[1;33m\u001b[0m\u001b[0m\n\u001b[0;32m     75\u001b[0m             \u001b[0m_min\u001b[0m \u001b[1;33m=\u001b[0m \u001b[0mmid\u001b[0m \u001b[1;33m+\u001b[0m \u001b[1;36m1\u001b[0m\u001b[1;33m\u001b[0m\u001b[1;33m\u001b[0m\u001b[0m\n",
      "\u001b[1;32m~\\AppData\\Local\\Temp/ipykernel_1072/3430602047.py\u001b[0m in \u001b[0;36mbfs\u001b[1;34m(target)\u001b[0m\n\u001b[0;32m     27\u001b[0m \u001b[1;33m\u001b[0m\u001b[0m\n\u001b[0;32m     28\u001b[0m     \u001b[1;31m# start점 방문\u001b[0m\u001b[1;33m\u001b[0m\u001b[1;33m\u001b[0m\u001b[1;33m\u001b[0m\u001b[0m\n\u001b[1;32m---> 29\u001b[1;33m     \u001b[0mvisited\u001b[0m\u001b[1;33m[\u001b[0m\u001b[0mstart\u001b[0m\u001b[1;33m]\u001b[0m \u001b[1;33m=\u001b[0m \u001b[1;32mTrue\u001b[0m\u001b[1;33m\u001b[0m\u001b[1;33m\u001b[0m\u001b[0m\n\u001b[0m\u001b[0;32m     30\u001b[0m     \u001b[0mq\u001b[0m \u001b[1;33m=\u001b[0m \u001b[0mdeque\u001b[0m\u001b[1;33m(\u001b[0m\u001b[1;33m)\u001b[0m\u001b[1;33m\u001b[0m\u001b[1;33m\u001b[0m\u001b[0m\n\u001b[0;32m     31\u001b[0m     \u001b[0mq\u001b[0m\u001b[1;33m.\u001b[0m\u001b[0mappend\u001b[0m\u001b[1;33m(\u001b[0m\u001b[0mstart\u001b[0m\u001b[1;33m)\u001b[0m\u001b[1;33m\u001b[0m\u001b[1;33m\u001b[0m\u001b[0m\n",
      "\u001b[1;31mNameError\u001b[0m: name 'visited' is not defined"
     ]
    }
   ],
   "source": [
    "from collections import deque\n",
    "n, m = map(int, input().split())\n",
    "\n",
    "graph = [[] for _ in range(n+1)]\n",
    "\n",
    "for _ in range(m):\n",
    "    a, b, c = map(int, input().split())\n",
    "    graph[a].append((b, c))\n",
    "    graph[b].append((a, c))\n",
    "    \n",
    "for i in range(1, n+1):\n",
    "    graph[i].sort(reverse=True)\n",
    "\n",
    "# 섬 2개 주어짐\n",
    "# 편의상 start, end로 명명\n",
    "start, end = map(int, input().split())\n",
    "\n",
    "\n",
    "# bfs 구현\n",
    "# bfs는 항상 start에서 시작한다\n",
    "# 어차피 출발은 start에서만 하므로\n",
    "# 굳이 따로 처리해줄 필요가 없다\n",
    "# ==> 즉, 우리가 찾고자 하는 바는 중량 제한을 통과하는 경우\n",
    "# ==> c에 대하여 이진 탐색을 수행할 뿐\n",
    "# ==> bfs로는 목표한 중량으로 start => end까지 갈 수 있는지만 확인\n",
    "def bfs(target):\n",
    "    \n",
    "    \n",
    "    # 해당 섬에 방문하였는지 체크할 리스트\n",
    "    visited = [False for _ in range(n+1)]\n",
    "    \n",
    "    # start점 방문\n",
    "    visited[start] = True\n",
    "    q = deque()\n",
    "    q.append(start)\n",
    "    \n",
    "    while q:\n",
    "        now = q.popleft()\n",
    "        \n",
    "        # 시작점이 끝점과 동일하면 True 반환\n",
    "        # 즉, start -> end까지 배송에 성공함\n",
    "        if now == end:\n",
    "            return True\n",
    "        \n",
    "        # 현재 섬과 연결돼있는 섬에 대한 정보를 탐색\n",
    "        for nx, nc in graph[now]:\n",
    "            \n",
    "            # 방문한 적 없는 섬이고\n",
    "            # 목표한 하중(target == mid)보다 크거나 같다\n",
    "            # => 방문할 수 있다는 의미\n",
    "            if visited[nx] == False and target <= nc:\n",
    "                \n",
    "                # 큐에 넣어줌\n",
    "                q.append(nx)\n",
    "                # 방문할 것이므로 True로 변경\n",
    "                visited[nx] = True\n",
    "    # now == end가 못 됐으니 False 반환           \n",
    "    return False\n",
    "\n",
    "def binary_search():\n",
    "    result = 0 \n",
    "\n",
    "    # 문제에 중량 제한(c)의 최솟값, 최댓값이 명시돼있음\n",
    "    _min, _max = 1, 1000000000\n",
    "    \n",
    "    # 중량 제한을 이진 탐색으로 찾음\n",
    "    while _min <= _max:\n",
    "\n",
    "        # mid (target) 설정\n",
    "        mid = (_min + _max) // 2\n",
    "\n",
    "        # mid에 대한 bfs의 결과가 참\n",
    "        # result에 mid를 담음\n",
    "        if bfs(mid):\n",
    "            result = mid\n",
    "            _min = mid + 1\n",
    "        else:\n",
    "            _max = mid - 1\n",
    "            \n",
    "    return result\n",
    "print(binary_search())"
   ]
  },
  {
   "cell_type": "code",
   "execution_count": null,
   "id": "bc279620",
   "metadata": {},
   "outputs": [],
   "source": []
  }
 ],
 "metadata": {
  "kernelspec": {
   "display_name": "Python3_7",
   "language": "python",
   "name": "3_7"
  },
  "language_info": {
   "codemirror_mode": {
    "name": "ipython",
    "version": 3
   },
   "file_extension": ".py",
   "mimetype": "text/x-python",
   "name": "python",
   "nbconvert_exporter": "python",
   "pygments_lexer": "ipython3",
   "version": "3.7.11"
  }
 },
 "nbformat": 4,
 "nbformat_minor": 5
}
