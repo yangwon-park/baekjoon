{
 "cells": [
  {
   "cell_type": "markdown",
   "id": "cc9f6626",
   "metadata": {},
   "source": [
    "### 1300 K번째 수"
   ]
  },
  {
   "cell_type": "code",
   "execution_count": 44,
   "id": "1e7fbd4b",
   "metadata": {},
   "outputs": [
    {
     "name": "stdout",
     "output_type": "stream",
     "text": [
      "3\n",
      "8\n",
      "6\n"
     ]
    }
   ],
   "source": [
    "n = int(input())\n",
    "k = int(input())\n",
    "\n",
    "# 문제의 배열은 A[i][j] = i x j 를 1차원화 시킨 후, 오름차순 정렬한 값\n",
    "# 사실상 규칙이 존재하므로 배열을 따로 생성할 필요가 없음!!!! => 별도 생성시 메모리 초과 발생...\n",
    "\n",
    "# 1차원 배열에서 k번째 숫자를 구하라!!!\n",
    "\n",
    "start = 1  # 시작\n",
    "end = k    # 찾고자 하는 숫자는 k보다 클 수가 없으므로 이보다 뒤의 수는 필요없음\n",
    "target = 0 # 최종 정답\n",
    "\n",
    "def binary_search(target, start, end):\n",
    "    while (start <= end):\n",
    "        idx = 0\n",
    "        mid = (start + end) // 2\n",
    "        \n",
    "        # 인덱스가 1부터 시작\n",
    "        for i in range(1, n+1):\n",
    "            idx += min(mid // i, n) # 각 행 별로 mid보다 작은 값은 n개를 넘을 수 없다\n",
    "            \n",
    "        # 매개변수 탐색과 이분 탐색의 차이\n",
    "        # 이분 탐색은 같은 값을 찾으면 종료하지만\n",
    "        # 매개변수 탐색은 값을 찾더라도 while문이 종료되기 전까지 최댓값(여기선 최솟값)을 계속 탐색함\n",
    "        if idx >= k:\n",
    "            target = mid\n",
    "            end = mid - 1\n",
    "        else:\n",
    "            start = mid + 1\n",
    "    return target\n",
    "\n",
    "print(binary_search(target, start, end))"
   ]
  }
 ],
 "metadata": {
  "kernelspec": {
   "display_name": "Python 3",
   "language": "python",
   "name": "python3"
  },
  "language_info": {
   "codemirror_mode": {
    "name": "ipython",
    "version": 3
   },
   "file_extension": ".py",
   "mimetype": "text/x-python",
   "name": "python",
   "nbconvert_exporter": "python",
   "pygments_lexer": "ipython3",
   "version": "3.8.8"
  }
 },
 "nbformat": 4,
 "nbformat_minor": 5
}
