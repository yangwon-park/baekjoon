{
 "cells": [
  {
   "cell_type": "markdown",
   "id": "ce289601",
   "metadata": {},
   "source": [
    "### 2467 용액"
   ]
  },
  {
   "cell_type": "code",
   "execution_count": 9,
   "id": "5cbfee19",
   "metadata": {},
   "outputs": [
    {
     "name": "stdout",
     "output_type": "stream",
     "text": [
      "4\n",
      "-100 -2 -1 103\n",
      "-100 103\n"
     ]
    }
   ],
   "source": [
    "n = int(input())\n",
    "arr = list(map(int, input().split()))\n",
    "\n",
    "# 최댓값 생성\n",
    "INF = int(100e9)\n",
    "\n",
    "# 두 용액을 담을 리스트\n",
    "target = []\n",
    "\n",
    "def solution(arr, target):\n",
    "    \n",
    "    # 두 용액의 합을 담을 변수\n",
    "    tot = INF\n",
    "    \n",
    "    # 반복문을 이용하여\n",
    "    # i번째 용액부터 n-1번째 용액까지\n",
    "    # 각각 용액 둘의 합을 구해서\n",
    "    # 0에 가장 가까운 값을 이진 탐색으로 찾음\n",
    "    for i in range(n-1):\n",
    "        \n",
    "        # 시작 용액은 반복시 마다 바뀜\n",
    "        start = i+1\n",
    "        end = n-1\n",
    "        \n",
    "        # 현재 용액\n",
    "        now = arr[i]\n",
    "        \n",
    "        while start <= end:\n",
    "            mid = (start + end) // 2\n",
    "            \n",
    "            # 현재 용액 + 이진 탐색으로 찾은 용액\n",
    "            # 두 용액의 합을 담을 임시 변수\n",
    "            # arr[mid] : 이진 탐색으로 찾은 용액\n",
    "            tmp = now + arr[mid]\n",
    "            \n",
    "            # 합이 0이면 값을 찾았으므로\n",
    "            # 함수를 종료하고 target을 반환함\n",
    "            if tmp == 0:\n",
    "                target = [arr[i], arr[mid]]\n",
    "                return target   \n",
    "            \n",
    "            # tot가 값이 abs(tmp)보다 크다면\n",
    "            # abs(tmp)로 업데이트\n",
    "            # target에 두 값을 넣고 반환\n",
    "            # 0에 가장 가까울 것이므로 절댓값을 취해줌\n",
    "            if tot > abs(tmp):\n",
    "                tot = abs(tmp)\n",
    "                \n",
    "                target = [arr[i], arr[mid]]\n",
    "            \n",
    "            if tmp < 0:\n",
    "                start = mid + 1\n",
    "            else:\n",
    "                end = mid - 1\n",
    "    return target\n",
    "    \n",
    "print(*solution(arr, target))"
   ]
  }
 ],
 "metadata": {
  "kernelspec": {
   "display_name": "Python3_7",
   "language": "python",
   "name": "3_7"
  },
  "language_info": {
   "codemirror_mode": {
    "name": "ipython",
    "version": 3
   },
   "file_extension": ".py",
   "mimetype": "text/x-python",
   "name": "python",
   "nbconvert_exporter": "python",
   "pygments_lexer": "ipython3",
   "version": "3.7.11"
  }
 },
 "nbformat": 4,
 "nbformat_minor": 5
}
