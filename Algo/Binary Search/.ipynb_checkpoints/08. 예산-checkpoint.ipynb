{
 "cells": [
  {
   "cell_type": "markdown",
   "id": "7a25f7aa",
   "metadata": {},
   "source": [
    "### 2512 예산"
   ]
  },
  {
   "cell_type": "code",
   "execution_count": 22,
   "id": "a9211aca",
   "metadata": {},
   "outputs": [
    {
     "name": "stdout",
     "output_type": "stream",
     "text": [
      "4\n",
      "120 110 140 150\n",
      "485\n",
      "127\n"
     ]
    }
   ],
   "source": [
    "n = int(input())\n",
    "arr = list(map(int, input().split()))\n",
    "m = int(input())\n",
    "\n",
    "start = 0\n",
    "end = max(arr)\n",
    "\n",
    "def solution(arr, start, end):\n",
    "    while start <= end:\n",
    "        mid = (start + end) // 2\n",
    "        \n",
    "        total = 0\n",
    "        target = 0\n",
    "        for c in arr:\n",
    "            total += min(mid, c)\n",
    "            \n",
    "        if total >= m:\n",
    "            end = mid - 1\n",
    "        else:\n",
    "            start = mid + 1\n",
    "            \n",
    "    return end\n",
    "\n",
    "answer = solution(arr, start, end)\n",
    "\n",
    "print(answer)"
   ]
  }
 ],
 "metadata": {
  "kernelspec": {
   "display_name": "Python 3",
   "language": "python",
   "name": "python3"
  },
  "language_info": {
   "codemirror_mode": {
    "name": "ipython",
    "version": 3
   },
   "file_extension": ".py",
   "mimetype": "text/x-python",
   "name": "python",
   "nbconvert_exporter": "python",
   "pygments_lexer": "ipython3",
   "version": "3.8.8"
  }
 },
 "nbformat": 4,
 "nbformat_minor": 5
}
