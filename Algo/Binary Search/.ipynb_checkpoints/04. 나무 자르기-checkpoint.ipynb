{
 "cells": [
  {
   "cell_type": "markdown",
   "id": "38bd47d1",
   "metadata": {},
   "source": [
    "### 2805 나무 자르기"
   ]
  },
  {
   "cell_type": "code",
   "execution_count": 10,
   "id": "7767aa13",
   "metadata": {},
   "outputs": [
    {
     "name": "stdout",
     "output_type": "stream",
     "text": [
      "5 20\n",
      "4 42 40 26 46\n",
      "36\n"
     ]
    }
   ],
   "source": [
    "n, m = map(int, input().split())\n",
    "log = list(map(int, input().split()))\n",
    "\n",
    "start = 1\n",
    "end = max(log)\n",
    "\n",
    "target = 0\n",
    "\n",
    "def binary_search(arr, target, start, end):\n",
    "    while start <= end:\n",
    "        mid = (start + end) // 2\n",
    "        \n",
    "        tot = 0\n",
    "        \n",
    "        for l in log:\n",
    "            if l > mid:\n",
    "                tot += l - mid\n",
    "            \n",
    "        if tot >= m:\n",
    "            target = mid\n",
    "            start = mid + 1\n",
    "        else:\n",
    "            end = mid - 1\n",
    "            \n",
    "    return target\n",
    "\n",
    "print(binary_search(log, target, start, end))"
   ]
  }
 ],
 "metadata": {
  "kernelspec": {
   "display_name": "Python 3",
   "language": "python",
   "name": "python3"
  },
  "language_info": {
   "codemirror_mode": {
    "name": "ipython",
    "version": 3
   },
   "file_extension": ".py",
   "mimetype": "text/x-python",
   "name": "python",
   "nbconvert_exporter": "python",
   "pygments_lexer": "ipython3",
   "version": "3.8.8"
  }
 },
 "nbformat": 4,
 "nbformat_minor": 5
}
