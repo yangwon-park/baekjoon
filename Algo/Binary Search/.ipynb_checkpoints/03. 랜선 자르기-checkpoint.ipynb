{
 "cells": [
  {
   "cell_type": "markdown",
   "id": "494a2d5f",
   "metadata": {},
   "source": [
    "### 1654 랜선 자르기\n",
    "- 기본 이분 탐색이 아닌 매개 변수 탐색 문제\n",
    "- 찾고자 하는 값의 최댓값을 찾아주는 방식"
   ]
  },
  {
   "cell_type": "code",
   "execution_count": 7,
   "id": "e6b0e7af",
   "metadata": {},
   "outputs": [
    {
     "name": "stdout",
     "output_type": "stream",
     "text": [
      "4 11\n",
      "802\n",
      "743\n",
      "457\n",
      "539\n"
     ]
    },
    {
     "data": {
      "text/plain": [
       "200"
      ]
     },
     "execution_count": 7,
     "metadata": {},
     "output_type": "execute_result"
    }
   ],
   "source": [
    "k, n = map(int, input().split())\n",
    "\n",
    "lan = []\n",
    "\n",
    "for _ in range(k):\n",
    "    lan.append(int(input()))\n",
    "    \n",
    "# 최소 길이 1\n",
    "# 최장 길이 => 가지고 있는 랜선 중 최장 길이\n",
    "# start = 1 end = max(lan)\n",
    "start = 1\n",
    "end = max(lan)  \n",
    "\n",
    "# 최대 랜선 길이\n",
    "target = 0\n",
    "\n",
    "# 이진 탐색 구현\n",
    "def binary_search(arr, target, start, end):\n",
    "    while start <= end:\n",
    "        \n",
    "        # 만들 수 있는 랜선의 개수\n",
    "        line = 0\n",
    "        \n",
    "        # 이진탐색을 할 것이므로 mid를 설정\n",
    "        # 단 이때, mid의 길이가 사실상\n",
    "        # 우리가 찾고자 하는 target의 값이라고 생각하면 됨\n",
    "        mid = (start + end) // 2\n",
    "        \n",
    "        # 가지고 있는 랜선들을 mid로 나누어서\n",
    "        # n과 같아지는 지 확인\n",
    "        # 어차피 1 ~ 최장 길이 까지 확인할 것이므로\n",
    "        # 굳이 정렬할 필요없음\n",
    "        for l in lan:\n",
    "            line += l // mid\n",
    "            \n",
    "        # 원하는 랜선의 개수 n보다 크거나 같은 경우\n",
    "        # 최단 길이를 1씩 증가 시킴\n",
    "        if line >= n:\n",
    "            target = mid\n",
    "            start = mid + 1\n",
    "        else:\n",
    "            end = mid - 1\n",
    "            \n",
    "    return target\n",
    "\n",
    "binary_search(lan, target, start, end)    "
   ]
  }
 ],
 "metadata": {
  "kernelspec": {
   "display_name": "Python 3",
   "language": "python",
   "name": "python3"
  },
  "language_info": {
   "codemirror_mode": {
    "name": "ipython",
    "version": 3
   },
   "file_extension": ".py",
   "mimetype": "text/x-python",
   "name": "python",
   "nbconvert_exporter": "python",
   "pygments_lexer": "ipython3",
   "version": "3.8.8"
  }
 },
 "nbformat": 4,
 "nbformat_minor": 5
}
