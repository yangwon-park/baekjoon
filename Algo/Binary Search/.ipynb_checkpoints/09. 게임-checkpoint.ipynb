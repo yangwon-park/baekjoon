{
 "cells": [
  {
   "cell_type": "markdown",
   "id": "10ddeb1c",
   "metadata": {},
   "source": [
    "### 1072 게임"
   ]
  },
  {
   "cell_type": "code",
   "execution_count": 16,
   "id": "20c3a7d5",
   "metadata": {},
   "outputs": [
    {
     "name": "stdout",
     "output_type": "stream",
     "text": [
      "10 8\n",
      "1\n"
     ]
    }
   ],
   "source": [
    "from math import floor\n",
    "\n",
    "x, y = map(int, input().split())\n",
    "\n",
    "\n",
    "\n",
    "start = 1\n",
    "end = x\n",
    "\n",
    "def solution(start, end):\n",
    "    z = floor((100 * y) / x)\n",
    "    \n",
    "    if z >= 99:\n",
    "            return -1\n",
    "        \n",
    "    while start <= end:\n",
    "\n",
    "        mid = (start + end) // 2\n",
    "        \n",
    "        nx = x + mid\n",
    "        ny = y + mid\n",
    "        \n",
    "        if floor((100 * ny) / nx) <= z:\n",
    "            start = mid + 1\n",
    "        else:\n",
    "            end = mid - 1\n",
    "    return start\n",
    "            \n",
    "answer = solution(start, end)\n",
    "print(answer)"
   ]
  }
 ],
 "metadata": {
  "kernelspec": {
   "display_name": "Python3_7",
   "language": "python",
   "name": "3_7"
  },
  "language_info": {
   "codemirror_mode": {
    "name": "ipython",
    "version": 3
   },
   "file_extension": ".py",
   "mimetype": "text/x-python",
   "name": "python",
   "nbconvert_exporter": "python",
   "pygments_lexer": "ipython3",
   "version": "3.7.11"
  }
 },
 "nbformat": 4,
 "nbformat_minor": 5
}
