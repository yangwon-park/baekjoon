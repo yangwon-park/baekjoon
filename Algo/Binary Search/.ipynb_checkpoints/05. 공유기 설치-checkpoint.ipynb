{
 "cells": [
  {
   "cell_type": "markdown",
   "id": "0b95a6db",
   "metadata": {},
   "source": [
    "### 2110 공유기 설치"
   ]
  },
  {
   "cell_type": "code",
   "execution_count": 12,
   "id": "c45720fb",
   "metadata": {},
   "outputs": [
    {
     "name": "stdout",
     "output_type": "stream",
     "text": [
      "5 3\n",
      "1\n",
      "2\n",
      "8\n",
      "4\n",
      "9\n"
     ]
    },
    {
     "data": {
      "text/plain": [
       "3"
      ]
     },
     "execution_count": 12,
     "metadata": {},
     "output_type": "execute_result"
    }
   ],
   "source": [
    "n, c = map(int, input().split())\n",
    "\n",
    "router = []\n",
    "\n",
    "for _ in range(n):\n",
    "    router.append(int(input()))\n",
    "    \n",
    "# 정렬 수행\n",
    "router.sort()\n",
    "\n",
    "# 가장 좁은 간격, 가장 큰 간격 (첫 집과 끝 집의 거리가 최대 거리가 됨)\n",
    "start = 1\n",
    "end = router[-1] - router[0]\n",
    "\n",
    "# 최종적으로 구한 값을 담을 변수\n",
    "target = 0\n",
    "\n",
    "def binary_search(arr, target, start, end):\n",
    "    while(start <= end):\n",
    "        \n",
    "        # 공유기 설치 간격으로 사용\n",
    "        mid = (start + end) // 2\n",
    "        \n",
    "        # 공유기 개수\n",
    "        cnt = 1\n",
    "        \n",
    "        # 공유기를 설치할 집 (처음엔 맨 첫 집)\n",
    "        house = router[0]\n",
    "        \n",
    "        # 첫 집은 설치했으므로 1부터 반복 시작\n",
    "        for i in range(1, n):\n",
    "            \n",
    "            # 다음 집과 현재 집 간의 간격이 설치 하고자 하는 간격보다 크거나 같다면\n",
    "            if router[i] - house >= mid:\n",
    "                cnt += 1 # 공유기를 설치할 수 있으므로 설치함\n",
    "                house = router[i] # 다른 집으로 움직임 => 이전 집이 현재 집이 될 것이므로 업데이트 시킴\n",
    "        \n",
    "        # 공유기의 개수를 알맞게 설치했거나 더 많이 설치할 수 있는 경우\n",
    "        # 간격을 늘려가면서 최대의 값을 구함\n",
    "        if cnt >= c:\n",
    "            target = mid\n",
    "            start = mid +1\n",
    "        \n",
    "        # cnt < c =>\n",
    "        # 원하는 수만큼 공유기를 설치 못함\n",
    "        # 설정한 간격을 줄여서 공유기를 다시 설치\n",
    "        else:\n",
    "            end = mid -1\n",
    "\n",
    "    return target\n",
    "\n",
    "binary_search(router, target, start, end)"
   ]
  }
 ],
 "metadata": {
  "kernelspec": {
   "display_name": "Python 3",
   "language": "python",
   "name": "python3"
  },
  "language_info": {
   "codemirror_mode": {
    "name": "ipython",
    "version": 3
   },
   "file_extension": ".py",
   "mimetype": "text/x-python",
   "name": "python",
   "nbconvert_exporter": "python",
   "pygments_lexer": "ipython3",
   "version": "3.8.8"
  }
 },
 "nbformat": 4,
 "nbformat_minor": 5
}
