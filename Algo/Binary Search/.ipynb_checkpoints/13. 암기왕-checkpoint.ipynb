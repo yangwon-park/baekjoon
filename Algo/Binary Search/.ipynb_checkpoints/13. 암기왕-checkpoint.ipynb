{
 "cells": [
  {
   "cell_type": "markdown",
   "id": "2c1ba793",
   "metadata": {},
   "source": [
    "### 2776 암기왕"
   ]
  },
  {
   "cell_type": "code",
   "execution_count": 30,
   "id": "ab559904",
   "metadata": {},
   "outputs": [
    {
     "name": "stdout",
     "output_type": "stream",
     "text": [
      "1\n",
      "5\n",
      "1 2 3 4 5\n",
      "5\n",
      "1 2 3 4 5\n",
      "1\n",
      "1\n",
      "1\n",
      "1\n",
      "1\n"
     ]
    }
   ],
   "source": [
    "for _ in range(int(input())):\n",
    "    n = int(input())\n",
    "    list1 = list(map(int, input().split()))\n",
    "    m = int(input())\n",
    "    list2 = list(map(int, input().split()))\n",
    "\n",
    "    list1.sort()\n",
    "    def solution(arr1, x):\n",
    "        start = 0\n",
    "        end = len(arr1)-1\n",
    "\n",
    "        while start <= end:\n",
    "            mid = (start + end) // 2\n",
    "            if arr1[mid] == x:\n",
    "                return 1\n",
    "            elif arr1[mid] < x:\n",
    "                start = mid + 1\n",
    "            else:\n",
    "                end = mid - 1\n",
    "        return 0\n",
    "\n",
    "    for x in list2:\n",
    "        print(solution(list1, x))"
   ]
  }
 ],
 "metadata": {
  "kernelspec": {
   "display_name": "Python3_7",
   "language": "python",
   "name": "3_7"
  },
  "language_info": {
   "codemirror_mode": {
    "name": "ipython",
    "version": 3
   },
   "file_extension": ".py",
   "mimetype": "text/x-python",
   "name": "python",
   "nbconvert_exporter": "python",
   "pygments_lexer": "ipython3",
   "version": "3.7.11"
  }
 },
 "nbformat": 4,
 "nbformat_minor": 5
}
