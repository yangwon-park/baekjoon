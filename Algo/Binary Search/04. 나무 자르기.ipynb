{
 "cells": [
  {
   "cell_type": "markdown",
   "id": "b89635b5",
   "metadata": {},
   "source": [
    "### 2805 나무 자르기"
   ]
  },
  {
   "cell_type": "code",
   "execution_count": 10,
   "id": "c24d68e0",
   "metadata": {},
   "outputs": [
    {
     "name": "stdout",
     "output_type": "stream",
     "text": [
      "5 20\n",
      "4 42 40 26 46\n",
      "36\n"
     ]
    }
   ],
   "source": [
    "n, m = map(int, input().split())\n",
    "log = list(map(int, input().split()))\n",
    "\n",
    "# 절단기 최소와 최대 높이 설정 (1보단 길 것이고 가장 긴 나무 보다는 작을 것임)\n",
    "start = 1\n",
    "end = max(log)\n",
    "\n",
    "# 최종 결괏값을 담을 변수\n",
    "target = 0\n",
    "\n",
    "def binary_search(arr, target, start, end):\n",
    "    while start <= end:\n",
    "        mid = (start + end) // 2\n",
    "        \n",
    "        # 자르고 남은 통나무들의 길이를 누적합 => m보다 크거나 같아야함\n",
    "        tot = 0\n",
    "        \n",
    "        for l in log:\n",
    "            # 절단기가 통나무 길이보다 긴 경우 => 나무 길이가 음수?? => 말이 안 되므로\n",
    "            # \n",
    "            if l > mid:\n",
    "                tot += l - mid\n",
    "            \n",
    "        if tot >= m:\n",
    "            target = mid\n",
    "            start = mid + 1\n",
    "        else:\n",
    "            end = mid - 1\n",
    "            \n",
    "    return target\n",
    "\n",
    "print(binary_search(log, target, start, end))"
   ]
  }
 ],
 "metadata": {
  "kernelspec": {
   "display_name": "Python 3",
   "language": "python",
   "name": "python3"
  },
  "language_info": {
   "codemirror_mode": {
    "name": "ipython",
    "version": 3
   },
   "file_extension": ".py",
   "mimetype": "text/x-python",
   "name": "python",
   "nbconvert_exporter": "python",
   "pygments_lexer": "ipython3",
   "version": "3.8.8"
  }
 },
 "nbformat": 4,
 "nbformat_minor": 5
}
