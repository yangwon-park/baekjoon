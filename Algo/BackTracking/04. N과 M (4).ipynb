{
 "cells": [
  {
   "cell_type": "markdown",
   "id": "b9e6a200",
   "metadata": {},
   "source": [
    "### 15652 N과 M (4)"
   ]
  },
  {
   "cell_type": "markdown",
   "id": "8952b14b",
   "metadata": {},
   "source": [
    "- 15651 + 비내림차순"
   ]
  },
  {
   "cell_type": "code",
   "execution_count": 3,
   "id": "70dcc3a9",
   "metadata": {},
   "outputs": [
    {
     "name": "stdout",
     "output_type": "stream",
     "text": [
      "3 3\n",
      "1 1 1\n",
      "1 1 2\n",
      "1 1 3\n",
      "1 2 2\n",
      "1 2 3\n",
      "1 3 3\n",
      "2 2 2\n",
      "2 2 3\n",
      "2 3 3\n",
      "3 3 3\n"
     ]
    }
   ],
   "source": [
    "n, m = map(int, input().split())\n",
    "\n",
    "answer = []\n",
    "\n",
    "# 비내림차순을 처리하기 위하여\n",
    "# 이전 dfs에서의 i값을 파라미터로 넘겨받음\n",
    "def dfs(m, idx):\n",
    "    if m == 0:\n",
    "        print(' '.join(map(str, answer)))\n",
    "        return\n",
    "        \n",
    "    # idx보다 값이 작은 경우는 처리하지 않음\n",
    "    for i in range(idx, n+1):\n",
    "        answer.append(i)\n",
    "        \n",
    "        dfs(m-1, i)\n",
    "        \n",
    "        answer.pop()\n",
    "dfs(m, 1)"
   ]
  },
  {
   "cell_type": "code",
   "execution_count": null,
   "id": "bf524767",
   "metadata": {},
   "outputs": [],
   "source": []
  }
 ],
 "metadata": {
  "kernelspec": {
   "display_name": "Python 3 (ipykernel)",
   "language": "python",
   "name": "python3"
  },
  "language_info": {
   "codemirror_mode": {
    "name": "ipython",
    "version": 3
   },
   "file_extension": ".py",
   "mimetype": "text/x-python",
   "name": "python",
   "nbconvert_exporter": "python",
   "pygments_lexer": "ipython3",
   "version": "3.9.7"
  }
 },
 "nbformat": 4,
 "nbformat_minor": 5
}
