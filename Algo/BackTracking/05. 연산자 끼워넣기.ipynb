{
 "cells": [
  {
   "cell_type": "markdown",
   "id": "4ea74686",
   "metadata": {},
   "source": [
    "### 14888 연산자 끼워넣기"
   ]
  },
  {
   "cell_type": "code",
   "execution_count": 40,
   "id": "122f59e6",
   "metadata": {},
   "outputs": [
    {
     "name": "stdout",
     "output_type": "stream",
     "text": [
      "6\n",
      "1 2 3 4 5 6\n",
      "2 1 1 1\n",
      "54\n",
      "-24\n"
     ]
    }
   ],
   "source": [
    "n = int(input())\n",
    "arr = list(map(int, input().split()))\n",
    "\n",
    "# 덧셈 뺄셈 곱셈 나눗셈\n",
    "p, m, t, d = map(int, input().split())\n",
    "\n",
    "# 계산 결과는 결국 주어진 숫자 중 맨 처음 숫자부터 연산이 시작되므로\n",
    "# 해당 숫자를 기준으로 삼는다\n",
    "num = arr[0]\n",
    "\n",
    "# 최댓값, 최솟값\n",
    "_max = -10e9\n",
    "_min = 10e9\n",
    "\n",
    "def dfs(i, num, p, m, t, d):\n",
    "    global _max, _min\n",
    "    \n",
    "    if i == n:\n",
    "        _max = max(_max, num)\n",
    "        _min = min(_min, num)\n",
    "        return\n",
    "    \n",
    "    # 연산의 횟수가 0이 아닌 경우에 대하여 모두 계산을 해줌 (브루트포스)\n",
    "    # 두 번째 argument에서 arr[i]를 연산해주는 이유\n",
    "    # 기준이 된 num에 선택된 연산의 결과를 누적해서 처리해줘야 함\n",
    "    # 모든 경우에 대하여 누적 연산된 결과들을 max, min으로 최종적으로 추려냄\n",
    "    if p:\n",
    "        dfs(i + 1, num + arr[i], p-1, m, t, d)\n",
    "    if m:\n",
    "        dfs(i + 1, num - arr[i], p, m-1, t, d)\n",
    "    if t:\n",
    "        dfs(i + 1, num * arr[i], p, m, t-1, d)\n",
    "    if d:\n",
    "        # //연산을 사용하면 음수의 경우 원하는 결과가 나오지 않는다\n",
    "        # 따라서 int() 함수를 사용해서 몫만 얻는 결과를 얻어야 함 (C++14의 기준을 따른다고 명시)\n",
    "        dfs(i + 1, int(num / arr[i]), p, m, t, d-1)\n",
    "\n",
    "dfs(1, num, p, m, t, d)\n",
    "print(_max)\n",
    "print(_min)"
   ]
  }
 ],
 "metadata": {
  "kernelspec": {
   "display_name": "Python 3 (ipykernel)",
   "language": "python",
   "name": "python3"
  },
  "language_info": {
   "codemirror_mode": {
    "name": "ipython",
    "version": 3
   },
   "file_extension": ".py",
   "mimetype": "text/x-python",
   "name": "python",
   "nbconvert_exporter": "python",
   "pygments_lexer": "ipython3",
   "version": "3.7.11"
  }
 },
 "nbformat": 4,
 "nbformat_minor": 5
}
