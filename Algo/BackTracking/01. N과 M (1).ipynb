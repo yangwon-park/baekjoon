{
 "cells": [
  {
   "cell_type": "markdown",
   "id": "0d664fc5",
   "metadata": {},
   "source": [
    "### 15649 N과 M (1)"
   ]
  },
  {
   "cell_type": "markdown",
   "id": "03d8c2f3",
   "metadata": {},
   "source": [
    "- 1 ~ n 까지 자연수 중에서 중복없이 m개를 고른 수열"
   ]
  },
  {
   "cell_type": "code",
   "execution_count": 16,
   "id": "8cc44eec",
   "metadata": {},
   "outputs": [
    {
     "name": "stdout",
     "output_type": "stream",
     "text": [
      "4 2\n",
      "1 2\n",
      "1 3\n",
      "1 4\n",
      "2 1\n",
      "2 3\n",
      "2 4\n",
      "3 1\n",
      "3 2\n",
      "3 4\n",
      "4 1\n",
      "4 2\n",
      "4 3\n"
     ]
    }
   ],
   "source": [
    "n, m = map(int, input().split())\n",
    "\n",
    "visited = [False] * (n+1)\n",
    "answer = []\n",
    "\n",
    "# 백트래킹은 dfs의 일종\n",
    "def dfs(depth):\n",
    "    \n",
    "    # 1부터 n까지의 수열만 구하므로\n",
    "    # depth가 0이 될 때 탈출시키면 됨 \n",
    "    # 이 과정은 매번 재귀마다 실행됨\n",
    "    if depth == 0:\n",
    "#         print(answer)\n",
    "\n",
    "        # join은 list의 요소가 문자열인 경우에만 사용 가능\n",
    "        # 따라서 map과 str 메소드를 이용하여 answer list의 요소를 모두 문자열로 바꿔주고\n",
    "        # join 연산을 활용하여 결과를 출력\n",
    "        print(\" \".join(map(str, answer)))\n",
    "        return\n",
    "    \n",
    "    # 1부터 n까지 반복 실행\n",
    "    for i in range(1, n+1):\n",
    "        \n",
    "        # i가 방문하지 않은 요소라면\n",
    "        # 즉, i로 시작하는 수열을 구하지 않은 상태라면\n",
    "        if not visited[i]:\n",
    "            \n",
    "            # answer 리스트에 i값을 더함\n",
    "            # i부터 시작하는 m만큼 길이의 수열을 구할 것이므로\n",
    "            # 일단 i를 넣어준다\n",
    "            answer.append(i)\n",
    "            \n",
    "            # i를 방문처리 함\n",
    "            visited[i] = True\n",
    "            \n",
    "            # depth를 1 줄이고 dfs를 재귀적으로 호출\n",
    "            # 이 경우, 재귀적으로 호출된 dfs의 경우에\n",
    "            # 이번에 처리한 i는 방문처리가 완료됐으므로 (True)\n",
    "            # i는 i+1로 넘어감 => 재귀적 호출인 경우에도 i는 어차피 방문처리가 완료돼있으므로\n",
    "            # 조건문이 실행되지 않음\n",
    "            # 문제에서 m의 길이인 수열을 구하는 것이므로\n",
    "            # depth는 사실상 m이고\n",
    "            # m이 0이 되는 경우 answer의 요소들을 출력하므로\n",
    "            # 결국 길이가 m인 수열이 완성되어 출력하게 된다\n",
    "            dfs(depth-1)\n",
    "            \n",
    "            # 여기까지 내려왔다는 것은\n",
    "            # dfs의 재귀적 호출이 일단 종료됐다는 의미\n",
    "            # 이 경우, answer에 있는 맨 마지막 요소를 삭제하고\n",
    "            # i의 방문처리를 false로 바꿔준다\n",
    "            # => 바로 전 재귀적 호출을 한 dfs에서 i를 방문처리 한 채로 동작하면 원하는 결과가 나오지 않음\n",
    "            answer.pop()\n",
    "            visited[i] = False\n",
    "\n",
    "dfs(m)"
   ]
  }
 ],
 "metadata": {
  "kernelspec": {
   "display_name": "Python 3",
   "language": "python",
   "name": "python3"
  },
  "language_info": {
   "codemirror_mode": {
    "name": "ipython",
    "version": 3
   },
   "file_extension": ".py",
   "mimetype": "text/x-python",
   "name": "python",
   "nbconvert_exporter": "python",
   "pygments_lexer": "ipython3",
   "version": "3.8.8"
  }
 },
 "nbformat": 4,
 "nbformat_minor": 5
}
