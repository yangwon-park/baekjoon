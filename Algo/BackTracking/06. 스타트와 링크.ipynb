{
 "cells": [
  {
   "cell_type": "markdown",
   "id": "40e284b5",
   "metadata": {},
   "source": [
    "### 14889 스타트와 링크"
   ]
  },
  {
   "cell_type": "markdown",
   "id": "ae97c81a",
   "metadata": {},
   "source": [
    "#### 시간 초과 (Pypy3 통과)"
   ]
  },
  {
   "cell_type": "code",
   "execution_count": 14,
   "id": "bc7f974f",
   "metadata": {},
   "outputs": [
    {
     "name": "stdout",
     "output_type": "stream",
     "text": [
      "4\n",
      "0 1 2 3\n",
      "4 0 5 6\n",
      "7 1 0 2\n",
      "3 4 5 0\n",
      "0\n"
     ]
    }
   ],
   "source": [
    "n = int(input())\n",
    "graph = []\n",
    "\n",
    "for _ in range(n):\n",
    "    graph.append(list(map(int, input().split())))\n",
    "    \n",
    "visited = [False for _ in range(n)]\n",
    "\n",
    "# 두 팀 능력치의 최솟값을 담을 변수\n",
    "diff = int(10e9)\n",
    "\n",
    "def dfs(depth, idx):\n",
    "    global diff\n",
    "\n",
    "    # 팀이 2개 => 전체 사람의 절반만큼만 dfs를 수행해도 모든 선수에게 능력치를 부여할 수 있음\n",
    "    if depth == (n//2):\n",
    "        \n",
    "        # [0] : 스타트 팀 능력치 누적 합\n",
    "        # [1] : 링크 팀 능력치 누적 합\n",
    "        stat = [0, 0]\n",
    "        \n",
    "        for i in range(n):\n",
    "            for j in range(n):\n",
    "                \n",
    "                # i와 j가 같다 => 대각선 좌표 값 0\n",
    "                # 굳이 연산할 필요 없음 (시간 절약)\n",
    "                if i == j:\n",
    "                    continue\n",
    "                \n",
    "                # 둘 다 방문한 곳은 스타트 팀 능력치\n",
    "                if visited[i] and visited[j]:\n",
    "                    stat[0] += graph[i][j]\n",
    "                    \n",
    "                # 둘 다 방문하지 않은 곳은 링크 팀 능력치\n",
    "                elif not visited[i] and not visited[j]:\n",
    "                    stat[1] += graph[i][j]\n",
    "                    \n",
    "        # 두 팀 능력치 최솟값 구하여 diff에 저장\n",
    "        diff = min(diff, abs(stat[0] - stat[1]))\n",
    "        return\n",
    "    \n",
    "    \n",
    "    # 백트래킹 수행\n",
    "    for i in range(idx, n):\n",
    "        if not visited[i]:\n",
    "            visited[i] = True\n",
    "            dfs(depth+1, i+1)\n",
    "            visited[i] = False\n",
    "            \n",
    "dfs(0, 0)\n",
    "print(diff)"
   ]
  },
  {
   "cell_type": "markdown",
   "id": "e9fb54c3",
   "metadata": {},
   "source": [
    "#### 구글링 참고 (Python3 통과)"
   ]
  },
  {
   "cell_type": "code",
   "execution_count": 42,
   "id": "778a8fe0",
   "metadata": {},
   "outputs": [
    {
     "name": "stdout",
     "output_type": "stream",
     "text": [
      "4\n",
      "0 1 2 3\n",
      "4 0 5 6\n",
      "7 1 0 2\n",
      "3 4 5 0\n",
      "0\n"
     ]
    }
   ],
   "source": [
    "from itertools import combinations\n",
    "\n",
    "n = int(input())\n",
    "graph = [list(map(int, input().split())) for _ in range(n)]\n",
    "\n",
    "# 0~n-1까지 숫자가 들어간 set 생성\n",
    "# graph의 좌표로 사용됨\n",
    "all_team = set(i for i in range(n))\n",
    "\n",
    "# 두팀 능력치의 차이\n",
    "diff = int(10e9)\n",
    "\n",
    "def dfs(start_team, idx):\n",
    "    global diff\n",
    "    \n",
    "    # 입력받은 팀의 길이가 전체 인원의 절반이 되면 연산을 수행\n",
    "    # => 팀은 2개고 n은 짝수이므로 인원이 절반이 되면\n",
    "    # 최솟값을 구하고 재귀를 종료하면 된다\n",
    "    if len(start_team) == (n//2):\n",
    "        \n",
    "        # set 끼리 - 연산을 사용하면 차집합이 나옴\n",
    "        # 즉, 입력받은 팀에 소속되지 않은 팀은 다른 팀의 인원이 됨\n",
    "        link_team = all_team - start_team\n",
    "        \n",
    "        # 차이의 최솟값을 구하는 연산\n",
    "        diff = min(diff, abs(sum_stat(start_team) - sum_stat(link_team)))\n",
    "        return\n",
    "    \n",
    "    # start_team에 add => i번째 사람이 등록됨\n",
    "    # remove => i번째 사람을 뺌\n",
    "    # ==> 백트래킹 수행\n",
    "    for i in range(idx, n):\n",
    "        start_team.add(i)\n",
    "        dfs(start_team, i+1)\n",
    "        start_team.remove(i)\n",
    "        \n",
    "# 능력치 계산 메소드\n",
    "def sum_stat(team):\n",
    "    stat = 0\n",
    "    \n",
    "    # 주어진 set을 combinations 메소드로 요소가 2개인 조합을 생성\n",
    "    # 중복이 없이 생성되므로 이 값 자체가 graph의 좌표로 활용됨\n",
    "    # 대각선을 기준으로 교차하는 좌표의 합이 해당 팀의 스탯이 되므로\n",
    "    # 이 메소드에서 파라미터로 전달받은 team을 잘 나눠주면 각각 팀의 스탯을 구할 수 있음\n",
    "    for a, b in combinations(team, 2):\n",
    "        stat += graph[a][b] + graph[b][a]\n",
    "\n",
    "    return stat\n",
    "\n",
    "dfs(set(), 0)\n",
    "print(diff)"
   ]
  }
 ],
 "metadata": {
  "kernelspec": {
   "display_name": "Python 3 (ipykernel)",
   "language": "python",
   "name": "python3"
  },
  "language_info": {
   "codemirror_mode": {
    "name": "ipython",
    "version": 3
   },
   "file_extension": ".py",
   "mimetype": "text/x-python",
   "name": "python",
   "nbconvert_exporter": "python",
   "pygments_lexer": "ipython3",
   "version": "3.7.11"
  }
 },
 "nbformat": 4,
 "nbformat_minor": 5
}
