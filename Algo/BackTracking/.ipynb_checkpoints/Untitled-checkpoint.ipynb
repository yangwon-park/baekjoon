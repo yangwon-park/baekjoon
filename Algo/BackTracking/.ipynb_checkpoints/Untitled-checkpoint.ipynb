{
 "cells": [
  {
   "cell_type": "code",
   "execution_count": 24,
   "id": "8259ea3d",
   "metadata": {},
   "outputs": [
    {
     "name": "stdout",
     "output_type": "stream",
     "text": [
      "4 2\n",
      "depth =  2\n",
      "inner depth =  2\n",
      "depth =  1\n",
      "inner depth =  1\n",
      "depth =  0\n",
      "1 2\n",
      "inner depth =  1\n",
      "depth =  0\n",
      "1 3\n",
      "inner depth =  1\n",
      "depth =  0\n",
      "1 4\n",
      "inner depth =  2\n",
      "depth =  1\n",
      "inner depth =  1\n",
      "depth =  0\n",
      "2 1\n",
      "inner depth =  1\n",
      "depth =  0\n",
      "2 3\n",
      "inner depth =  1\n",
      "depth =  0\n",
      "2 4\n",
      "inner depth =  2\n",
      "depth =  1\n",
      "inner depth =  1\n",
      "depth =  0\n",
      "3 1\n",
      "inner depth =  1\n",
      "depth =  0\n",
      "3 2\n",
      "inner depth =  1\n",
      "depth =  0\n",
      "3 4\n",
      "inner depth =  2\n",
      "depth =  1\n",
      "inner depth =  1\n",
      "depth =  0\n",
      "4 1\n",
      "inner depth =  1\n",
      "depth =  0\n",
      "4 2\n",
      "inner depth =  1\n",
      "depth =  0\n",
      "4 3\n"
     ]
    }
   ],
   "source": [
    "n, m = map(int, input().split())\n",
    "\n",
    "visited = [False] * (n+1)\n",
    "answer = []\n",
    "\n",
    "def dfs(depth):\n",
    "    print(\"depth = \", depth)\n",
    "    if depth == 0:\n",
    "        print(\" \".join(map(str, answer)))\n",
    "        return\n",
    "        \n",
    "    for i in range(1, n+1):\n",
    "        if not visited[i]:\n",
    "            print(\"inner depth = \", depth)\n",
    "            answer.append(i)\n",
    "            visited[i] = True\n",
    "            dfs(depth-1)\n",
    "            answer.pop()\n",
    "            visited[i] = False\n",
    "    \n",
    "dfs(m)"
   ]
  },
  {
   "cell_type": "code",
   "execution_count": 23,
   "id": "9850a0d0",
   "metadata": {},
   "outputs": [
    {
     "name": "stdout",
     "output_type": "stream",
     "text": [
      "4 2\n",
      "depth =  2\n",
      "depth =  1\n",
      "depth =  0\n",
      "1 2\n",
      "depth =  0\n",
      "1 3\n",
      "depth =  0\n",
      "1 4\n",
      "depth =  1\n",
      "depth =  0\n",
      "2 3\n",
      "depth =  0\n",
      "2 4\n",
      "depth =  1\n",
      "depth =  0\n",
      "3 4\n",
      "depth =  1\n"
     ]
    }
   ],
   "source": [
    "n, m = map(int, input().split())\n",
    "\n",
    "visited = [False] * (n+1)\n",
    "answer = []\n",
    "\n",
    "def dfs(depth, idx):\n",
    "    print(\"depth = \", depth)\n",
    "    if depth == 0:\n",
    "        print(\" \".join(map(str, answer)))\n",
    "        return\n",
    "        \n",
    "    for i in range(idx, n+1):\n",
    "        if not visited[i]:\n",
    "            answer.append(i)\n",
    "            visited[i] = True\n",
    "            dfs(depth-1, i)\n",
    "            answer.pop()\n",
    "            visited[i] = False\n",
    "    \n",
    "dfs(m, 1)"
   ]
  },
  {
   "cell_type": "code",
   "execution_count": 28,
   "id": "9b67d9ca",
   "metadata": {},
   "outputs": [
    {
     "name": "stdout",
     "output_type": "stream",
     "text": [
      "3 1\n",
      "1\n",
      "2\n",
      "3\n"
     ]
    }
   ],
   "source": [
    "n, m = map(int, input().split())\n",
    "\n",
    "answer = []\n",
    "\n",
    "def dfs(depth):\n",
    "    \n",
    "    if depth == 0:\n",
    "        print(\" \".join(map(str, answer)))\n",
    "        return\n",
    "        \n",
    "    for i in range(1, n+1):\n",
    "        answer.append(i)\n",
    "        dfs(depth-1)\n",
    "        answer.pop()\n",
    "dfs(m)"
   ]
  },
  {
   "cell_type": "code",
   "execution_count": 32,
   "id": "d2152372",
   "metadata": {},
   "outputs": [
    {
     "name": "stdout",
     "output_type": "stream",
     "text": [
      "4 2\n",
      "1 1\n",
      "1 2\n",
      "1 3\n",
      "1 4\n",
      "2 2\n",
      "2 3\n",
      "2 4\n",
      "3 3\n",
      "3 4\n",
      "4 4\n"
     ]
    }
   ],
   "source": [
    "n, m = map(int, input().split())\n",
    "\n",
    "visited = [False] * (n+1)\n",
    "answer = []\n",
    "\n",
    "def dfs(depth, idx):\n",
    "    if depth == 0:\n",
    "        print(\" \".join(map(str, answer)))\n",
    "        return \n",
    "        \n",
    "    for i in range(idx, n+1):\n",
    "        answer.append(i)\n",
    "        dfs(depth-1, i)\n",
    "        answer.pop()\n",
    "dfs(m, 1)"
   ]
  },
  {
   "cell_type": "code",
   "execution_count": 34,
   "id": "5db70998",
   "metadata": {},
   "outputs": [
    {
     "name": "stdout",
     "output_type": "stream",
     "text": [
      "2\n",
      "5 6\n",
      "0 0 1 0\n"
     ]
    }
   ],
   "source": []
  },
  {
   "cell_type": "code",
   "execution_count": null,
   "id": "58ad7dca",
   "metadata": {},
   "outputs": [],
   "source": [
    "n = int(input())\n",
    "arr = list(map(int, input().split()))\n",
    "oper = list(map(int, input().split()))\n",
    "\n",
    "_max = -10e9\n",
    "_min = 10e9\n",
    "\n",
    "def dfs(depth, num, oper[0], oper[1], oper[2], oper[3]):\n",
    "    if depth == n:\n",
    "        _max = max(_max, num)\n",
    "        _min = min(_min, num)\n",
    "        return\n",
    "    \n",
    "    if oper[0]:\n",
    "        dfs(depth+1, num + arr[depth], oper[0]-1, oper[1], oper[2], oper[3])\n",
    "    if oper[1]:\n",
    "        dfs(depth+1, num - arr[depth], oper[0], oper[1]-1, oper[2], oper[3])\n",
    "    if oper[2]:\n",
    "        dfs(depth+1, num * arr[depth], oper[0], oper[1], oper[2]-1, oper[3])\n",
    "    if oper[3]:\n",
    "        dfs(depth+1, int(num / arr[depth]), oper[0], oper[1], oper[2], oper[3]-1)"
   ]
  },
  {
   "cell_type": "code",
   "execution_count": 41,
   "id": "c0ee3251",
   "metadata": {},
   "outputs": [
    {
     "ename": "TypeError",
     "evalue": "dfs() takes 3 positional arguments but 6 were given",
     "output_type": "error",
     "traceback": [
      "\u001b[0;31m---------------------------------------------------------------------------\u001b[0m",
      "\u001b[0;31mTypeError\u001b[0m                                 Traceback (most recent call last)",
      "\u001b[0;32m<ipython-input-41-aaa43a13ab13>\u001b[0m in \u001b[0;36m<module>\u001b[0;34m\u001b[0m\n\u001b[0;32m----> 1\u001b[0;31m \u001b[0mdfs\u001b[0m\u001b[0;34m(\u001b[0m\u001b[0;36m1\u001b[0m\u001b[0;34m,\u001b[0m \u001b[0marr\u001b[0m\u001b[0;34m[\u001b[0m\u001b[0;36m0\u001b[0m\u001b[0;34m]\u001b[0m\u001b[0;34m,\u001b[0m \u001b[0moper\u001b[0m\u001b[0;34m[\u001b[0m\u001b[0;36m0\u001b[0m\u001b[0;34m]\u001b[0m\u001b[0;34m,\u001b[0m \u001b[0moper\u001b[0m\u001b[0;34m[\u001b[0m\u001b[0;36m1\u001b[0m\u001b[0;34m]\u001b[0m\u001b[0;34m,\u001b[0m \u001b[0moper\u001b[0m\u001b[0;34m[\u001b[0m\u001b[0;36m2\u001b[0m\u001b[0;34m]\u001b[0m\u001b[0;34m,\u001b[0m \u001b[0moper\u001b[0m\u001b[0;34m[\u001b[0m\u001b[0;36m3\u001b[0m\u001b[0;34m]\u001b[0m\u001b[0;34m)\u001b[0m\u001b[0;34m\u001b[0m\u001b[0;34m\u001b[0m\u001b[0m\n\u001b[0m",
      "\u001b[0;31mTypeError\u001b[0m: dfs() takes 3 positional arguments but 6 were given"
     ]
    }
   ],
   "source": [
    "dfs(1, arr[0], oper[0], oper[1], oper[2], oper[3])"
   ]
  },
  {
   "cell_type": "code",
   "execution_count": null,
   "id": "a73e3738",
   "metadata": {},
   "outputs": [],
   "source": []
  }
 ],
 "metadata": {
  "kernelspec": {
   "display_name": "Python 3",
   "language": "python",
   "name": "python3"
  },
  "language_info": {
   "codemirror_mode": {
    "name": "ipython",
    "version": 3
   },
   "file_extension": ".py",
   "mimetype": "text/x-python",
   "name": "python",
   "nbconvert_exporter": "python",
   "pygments_lexer": "ipython3",
   "version": "3.8.8"
  }
 },
 "nbformat": 4,
 "nbformat_minor": 5
}
