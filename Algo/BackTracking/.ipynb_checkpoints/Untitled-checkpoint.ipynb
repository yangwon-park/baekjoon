{
 "cells": [
  {
   "cell_type": "code",
   "execution_count": 2,
   "id": "5681b48f",
   "metadata": {},
   "outputs": [
    {
     "name": "stdout",
     "output_type": "stream",
     "text": [
      "4 2\n",
      "1 2\n",
      "1 3\n",
      "1 4\n",
      "2 1\n",
      "2 3\n",
      "2 4\n",
      "3 1\n",
      "3 2\n",
      "3 4\n",
      "4 1\n",
      "4 2\n",
      "4 3\n"
     ]
    }
   ],
   "source": [
    "n, m = map(int, input().split())\n",
    "\n",
    "visited = [False] * (n+1)\n",
    "\n",
    "answer = []\n",
    "\n",
    "def dfs(m):\n",
    "    \n",
    "    if m == 0:\n",
    "        print(' '.join(map(str, answer)))\n",
    "        \n",
    "    for i in range(1, n+1):\n",
    "        if not visited[i]:\n",
    "            visited[i] = True\n",
    "            answer.append(i)\n",
    "            \n",
    "            dfs(m-1)\n",
    "            visited[i] = False\n",
    "            answer.pop()\n",
    "            \n",
    "dfs(m)            \n",
    "        "
   ]
  },
  {
   "cell_type": "code",
   "execution_count": null,
   "id": "63ae2746",
   "metadata": {},
   "outputs": [],
   "source": []
  }
 ],
 "metadata": {
  "kernelspec": {
   "display_name": "Python3_7",
   "language": "python",
   "name": "3_7"
  },
  "language_info": {
   "codemirror_mode": {
    "name": "ipython",
    "version": 3
   },
   "file_extension": ".py",
   "mimetype": "text/x-python",
   "name": "python",
   "nbconvert_exporter": "python",
   "pygments_lexer": "ipython3",
   "version": "3.7.11"
  }
 },
 "nbformat": 4,
 "nbformat_minor": 5
}
