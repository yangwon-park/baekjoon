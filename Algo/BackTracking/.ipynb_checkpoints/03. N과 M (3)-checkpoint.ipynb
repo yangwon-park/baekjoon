{
 "cells": [
  {
   "cell_type": "markdown",
   "id": "f30881a8",
   "metadata": {},
   "source": [
    "### 15651 N과 M (3)"
   ]
  },
  {
   "cell_type": "markdown",
   "id": "91f2e9d7",
   "metadata": {},
   "source": [
    "- 15649 + 같은 수 중복 가능"
   ]
  },
  {
   "cell_type": "code",
   "execution_count": 3,
   "id": "fcbbca95",
   "metadata": {},
   "outputs": [
    {
     "name": "stdout",
     "output_type": "stream",
     "text": [
      "3 3\n",
      "1 1 1\n",
      "1 1 2\n",
      "1 1 3\n",
      "1 2 1\n",
      "1 2 2\n",
      "1 2 3\n",
      "1 3 1\n",
      "1 3 2\n",
      "1 3 3\n",
      "2 1 1\n",
      "2 1 2\n",
      "2 1 3\n",
      "2 2 1\n",
      "2 2 2\n",
      "2 2 3\n",
      "2 3 1\n",
      "2 3 2\n",
      "2 3 3\n",
      "3 1 1\n",
      "3 1 2\n",
      "3 1 3\n",
      "3 2 1\n",
      "3 2 2\n",
      "3 2 3\n",
      "3 3 1\n",
      "3 3 2\n",
      "3 3 3\n"
     ]
    }
   ],
   "source": [
    "n, m = map(int, input().split())\n",
    "\n",
    "# 중복을 허용할 것이므로\n",
    "# 해당 번호의 방문 여부를 굳이 체크해줄 필요 없음\n",
    "# visited = [False] * (n+1)\n",
    "answer=  []\n",
    "\n",
    "def dfs(m):\n",
    "    # 아래 조건문으로 m의 길이를 가지는 수열을 만들 수 있음\n",
    "    if m == 0:\n",
    "        print(' '.join(map(str, answer)))\n",
    "        return\n",
    "        \n",
    "    for i in range(1, n+1):\n",
    "        answer.append(i)\n",
    "            \n",
    "        dfs(m-1)\n",
    "            \n",
    "        answer.pop()\n",
    "            \n",
    "dfs(m)"
   ]
  }
 ],
 "metadata": {
  "kernelspec": {
   "display_name": "Python 3 (ipykernel)",
   "language": "python",
   "name": "python3"
  },
  "language_info": {
   "codemirror_mode": {
    "name": "ipython",
    "version": 3
   },
   "file_extension": ".py",
   "mimetype": "text/x-python",
   "name": "python",
   "nbconvert_exporter": "python",
   "pygments_lexer": "ipython3",
   "version": "3.9.7"
  }
 },
 "nbformat": 4,
 "nbformat_minor": 5
}
