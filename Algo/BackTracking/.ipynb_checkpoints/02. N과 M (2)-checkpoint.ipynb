{
 "cells": [
  {
   "cell_type": "markdown",
   "id": "78418bf3",
   "metadata": {},
   "source": [
    "### 15650 N과 M (2)"
   ]
  },
  {
   "cell_type": "markdown",
   "id": "231445d5",
   "metadata": {},
   "source": [
    "- 15649 백트래킹 문제 + 고른 수열이 오름 차순인 경우만 출력"
   ]
  },
  {
   "cell_type": "code",
   "execution_count": 29,
   "id": "52f2b982",
   "metadata": {},
   "outputs": [
    {
     "name": "stdout",
     "output_type": "stream",
     "text": [
      "4 2\n",
      "1 2\n",
      "1 3\n",
      "1 4\n",
      "2 3\n",
      "2 4\n",
      "3 4\n"
     ]
    }
   ],
   "source": [
    "n, m = map(int, input().split())\n",
    "\n",
    "visited = [False] * (n+1)\n",
    "answer = []\n",
    "\n",
    "# dfs 자체적으로 이전 idx를 파라미터로 전달 받음\n",
    "# idx보다 값이 큰 경우에만 반복을 실행하게 만듬\n",
    "def dfs(m, idx):\n",
    "    if m == 0:\n",
    "        print(' '.join(map(str, answer)))\n",
    "        return\n",
    "        \n",
    "    # for문의 시작을 idx로 정하면\n",
    "    # idx보다 작은 숫자들에 대해선 반복을 실행하지 않으므로\n",
    "    # 오름 차순 수열만 처리할 수 있음\n",
    "    for i in range(idx, n+1):\n",
    "        if not visited[i]:\n",
    "            answer.append(i)\n",
    "            visited[i] = True\n",
    "            \n",
    "            dfs(m-1, i)\n",
    "            answer.pop()\n",
    "            visited[i] = False\n",
    "dfs(m, 1)"
   ]
  }
 ],
 "metadata": {
  "kernelspec": {
   "display_name": "Python 3 (ipykernel)",
   "language": "python",
   "name": "python3"
  },
  "language_info": {
   "codemirror_mode": {
    "name": "ipython",
    "version": 3
   },
   "file_extension": ".py",
   "mimetype": "text/x-python",
   "name": "python",
   "nbconvert_exporter": "python",
   "pygments_lexer": "ipython3",
   "version": "3.9.7"
  }
 },
 "nbformat": 4,
 "nbformat_minor": 5
}
