{
 "cells": [
  {
   "cell_type": "markdown",
   "id": "7127014e",
   "metadata": {},
   "source": [
    "### 1655 가운데를 말해요"
   ]
  },
  {
   "cell_type": "code",
   "execution_count": 19,
   "id": "e8c25937",
   "metadata": {},
   "outputs": [
    {
     "name": "stdout",
     "output_type": "stream",
     "text": [
      "7\n",
      "1\n",
      "5\n",
      "2\n",
      "10\n",
      "-99\n",
      "7\n",
      "5\n",
      "1\n",
      "1\n",
      "2\n",
      "2\n",
      "2\n",
      "2\n",
      "5\n"
     ]
    }
   ],
   "source": [
    "import heapq\n",
    "n = int(input())\n",
    "\n",
    "# 중간 값 기준 더 작은 값 (최대힙)\n",
    "# max_heap의 첫 번째 요소는 최대 힙에서 가장 큰값\n",
    "max_heap = []\n",
    "\n",
    "# 중간 값 기준 더 큰 값 (최소힙)\n",
    "min_heap = []\n",
    "\n",
    "# 최종 정답을 담을 리스트\n",
    "answer = []\n",
    "\n",
    "for _ in range(n):\n",
    "    num = int(input())\n",
    "    \n",
    "    # 두 힙의 길이가 같다면 => 백준이가 외친 수의 개수가 0이거나 짝수\n",
    "    if len(max_heap) == len(min_heap):\n",
    "        \n",
    "        # max_heap(첫 번째 힙, 최대힙)에 넣어줌\n",
    "        # Python은 기본적으로 최소힙이 구현\n",
    "        # 최대힙으로 맞추기 위해 num을 음수로 넣어줌\n",
    "        heapq.heappush(max_heap, (-num))\n",
    "    else:\n",
    "        heapq.heappush(min_heap, (num))\n",
    "        \n",
    "    # 조건1. min-heap이 null이 아님\n",
    "    # => max_heap부터 채우므로 max_heap도 당연히 null이 아님\n",
    "    # => 따라서 min_heap의 null 여부만 체크해줘도 됨\n",
    "    \n",
    "    # 조건2. 최대힙에 들어가는 원소의 크기가 더 크면 원소를 바꿔줌\n",
    "    # => 중간 값보다 큰 원소가 min_heap에 들어감\n",
    "    # => 항상 중간 값이 max_haep에 있게 만들지 못 함\n",
    "    if min_heap and -max_heap[0] > min_heap[0]:\n",
    "        \n",
    "        # 이를 보완하기 위해\n",
    "        # 두 힙의 첫 원소를 교체하여 원하는 로직으로 다시 맞춰줌\n",
    "        _max = heapq.heappop(max_heap)\n",
    "        _min = heapq.heappop(min_heap)\n",
    "        \n",
    "        heapq.heappush(max_heap, (-_min))\n",
    "        heapq.heappush(min_heap, (-_max))\n",
    "    \n",
    "    # 아래와 같이 넣어주면 짝수 개인 경우 작은 수가 들어감\n",
    "    answer.append(-max_heap[0])\n",
    "    \n",
    "for i in answer:\n",
    "    print(i)"
   ]
  }
 ],
 "metadata": {
  "kernelspec": {
   "display_name": "Python3_7",
   "language": "python",
   "name": "3_7"
  },
  "language_info": {
   "codemirror_mode": {
    "name": "ipython",
    "version": 3
   },
   "file_extension": ".py",
   "mimetype": "text/x-python",
   "name": "python",
   "nbconvert_exporter": "python",
   "pygments_lexer": "ipython3",
   "version": "3.7.11"
  }
 },
 "nbformat": 4,
 "nbformat_minor": 5
}
