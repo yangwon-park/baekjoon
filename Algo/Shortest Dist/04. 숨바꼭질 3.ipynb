{
 "cells": [
  {
   "cell_type": "markdown",
   "id": "8eea8569",
   "metadata": {},
   "source": [
    "### 13549 숨바꼭질 3"
   ]
  },
  {
   "cell_type": "markdown",
   "id": "b7f37d7f",
   "metadata": {},
   "source": [
    "#### BFS 활용"
   ]
  },
  {
   "cell_type": "code",
   "execution_count": 4,
   "id": "04169a2f",
   "metadata": {},
   "outputs": [
    {
     "name": "stdout",
     "output_type": "stream",
     "text": [
      "5 17\n",
      "2\n"
     ]
    }
   ],
   "source": [
    "from collections import deque\n",
    "\n",
    "n, k = map(int, input().split())\n",
    "max_range = 100001\n",
    "visited = [0 for _ in range(max_range)]\n",
    "\n",
    "def bfs(n):\n",
    "    q = deque()\n",
    "    q.append(n)\n",
    "    \n",
    "    while q:\n",
    "        x = q.popleft()\n",
    "        \n",
    "        if x == k:\n",
    "            return\n",
    "        \n",
    "        for nx in (x-1, x+1, x*2):\n",
    "            if nx < 0 or nx >= max_range:\n",
    "                continue\n",
    "\n",
    "            if visited[nx] == 0:\n",
    "\n",
    "                if nx == x*2:\n",
    "                    visited[nx] = visited[x]\n",
    "                    q.appendleft(nx)\n",
    "                else:\n",
    "                    visited[nx] = visited[x] + 1\n",
    "                    q.append(nx)\n",
    "                    \n",
    "bfs(n)\n",
    "\n",
    "print(visited[k])"
   ]
  },
  {
   "cell_type": "markdown",
   "id": "4108a51f",
   "metadata": {},
   "source": [
    "#### 다익스트라 활용"
   ]
  },
  {
   "cell_type": "code",
   "execution_count": 10,
   "id": "70e4b5dd",
   "metadata": {},
   "outputs": [
    {
     "name": "stdout",
     "output_type": "stream",
     "text": [
      "5 17\n",
      "2\n"
     ]
    }
   ],
   "source": [
    "import heapq\n",
    "\n",
    "n, k = map(int, input().split())\n",
    "\n",
    "INF = int(1e9)\n",
    "max_range = 100001\n",
    "\n",
    "dist_table = [INF for _ in range(max_range)]\n",
    "\n",
    "def dijkstra(start):\n",
    "    q = []\n",
    "    \n",
    "    if k <= n:\n",
    "        print(n-k)\n",
    "        return\n",
    "    \n",
    "    heapq.heappush(q, (0, start))\n",
    "    dist_table[start] = 0\n",
    "    \n",
    "    while q:\n",
    "        dist, now = heapq.heappop(q)\n",
    "            \n",
    "        for nx in (now-1, now+1, now*2):\n",
    "            if nx < 0 or nx >= max_range:\n",
    "                continue\n",
    "            \n",
    "            if nx == now*2 and dist_table[nx] == INF:\n",
    "                dist_table[nx] = dist\n",
    "                heapq.heappush(q, (dist, nx))\n",
    "            elif dist_table[nx] == INF:\n",
    "                dist_table[nx] = dist + 1\n",
    "                heapq.heappush(q, (dist+1, nx))\n",
    "    \n",
    "    print(dist_table[k])\n",
    "                \n",
    "dijkstra(n)"
   ]
  },
  {
   "cell_type": "markdown",
   "id": "9d3f7bf7",
   "metadata": {},
   "source": [
    "#### 다익스트라 활용 - Generator 사용"
   ]
  },
  {
   "cell_type": "code",
   "execution_count": 9,
   "id": "d42de87f",
   "metadata": {},
   "outputs": [
    {
     "name": "stdout",
     "output_type": "stream",
     "text": [
      "5 17\n",
      "2\n"
     ]
    }
   ],
   "source": [
    "import heapq\n",
    "INF = int(1e9)\n",
    "\n",
    "n, k = map(int, input().split())\n",
    "max_range = 100001\n",
    "dist_table = [INF for _ in range(max_range)]\n",
    "    \n",
    "# 인접 노드들을 iterable한 값으로 리턴하기 위한 Generator 함수\n",
    "# 코드가 간단해짐\n",
    "def move(x):\n",
    "    yield (x-1, 1)\n",
    "    yield (x+1, 1)\n",
    "    yield (2*x, 0)\n",
    "    \n",
    "# 다익스트라 알고리즘\n",
    "def dijkstra(start):\n",
    "    q = []\n",
    "    heapq.heappush(q, (0, start))\n",
    "    dist_table[start] = 0\n",
    "    \n",
    "    while q:\n",
    "        dist, now = heapq.heappop(q)\n",
    "        \n",
    "        if dist > dist_table[now]:\n",
    "            continue\n",
    "        \n",
    "        # 0부터 100000까지의 모든 노드들은, 조건 범위 안에서\n",
    "        # 자신의 -1, +1, *2의 인접 노드를 가짐\n",
    "        # 그래서 제너레이터를 통해 직접 인접 노드를 구하여 순회하면 됨\n",
    "        for v, w in move(now):\n",
    "            cost = dist + w\n",
    "            \n",
    "            # 인접 노드로 구한 값이 조건 범위 안에 있어야 함\n",
    "            if 0 <= v <= 100000 and cost < dist_table[v]:\n",
    "                dist_table[v] = cost\n",
    "                heapq.heappush(q, (cost, v))\n",
    "    \n",
    "    return dist_table[k]\n",
    "\n",
    "print(dijkstra(n))"
   ]
  }
 ],
 "metadata": {
  "kernelspec": {
   "display_name": "Python 3",
   "language": "python",
   "name": "python3"
  },
  "language_info": {
   "codemirror_mode": {
    "name": "ipython",
    "version": 3
   },
   "file_extension": ".py",
   "mimetype": "text/x-python",
   "name": "python",
   "nbconvert_exporter": "python",
   "pygments_lexer": "ipython3",
   "version": "3.8.8"
  }
 },
 "nbformat": 4,
 "nbformat_minor": 5
}
