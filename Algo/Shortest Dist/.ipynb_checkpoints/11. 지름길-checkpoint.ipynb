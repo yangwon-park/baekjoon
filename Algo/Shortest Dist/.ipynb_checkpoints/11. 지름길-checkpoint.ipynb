{
 "cells": [
  {
   "cell_type": "markdown",
   "id": "a046d51b",
   "metadata": {},
   "source": [
    "### 1446 지름길"
   ]
  },
  {
   "cell_type": "code",
   "execution_count": 15,
   "id": "49967293",
   "metadata": {},
   "outputs": [
    {
     "name": "stdout",
     "output_type": "stream",
     "text": [
      "5 150\n",
      "0 50 10\n",
      "0 50 20\n",
      "50 100 10\n",
      "100 151 10\n",
      "110 140 90\n",
      "70\n"
     ]
    }
   ],
   "source": [
    "import heapq\n",
    "INF = float('inf')\n",
    "\n",
    "n, d = map(int, input().split())\n",
    "\n",
    "graph = [[] for _ in range(d+1)]\n",
    "\n",
    "dist_table = [INF for _ in range(d+1)]\n",
    "\n",
    "# 지름길 없이 가는 경우\n",
    "# i => i+1로 가는 경우\n",
    "# 가중치 1 발생\n",
    "for i in range(d):\n",
    "    graph[i].append((i+1, 1))\n",
    "\n",
    "# 지름길인 경우\n",
    "# 별도로 입력받음\n",
    "for _ in range(n):\n",
    "    a, b, c = map(int, input().split())\n",
    "    \n",
    "    # 가만 보면 도착 지점이 전체 길이보다 긴 경우가 있음\n",
    "    # 얜 그냥 입력 제외\n",
    "    if b > d:\n",
    "        continue\n",
    "    \n",
    "    graph[a].append((b, c))\n",
    "    \n",
    "def dijkstra(start):\n",
    "    q = []\n",
    "    \n",
    "    heapq.heappush(q, (0, start))\n",
    "    \n",
    "    dist_table[start] = 0\n",
    "    \n",
    "    while q:\n",
    "        w, v = heapq.heappop(q)\n",
    "        \n",
    "        if w > dist_table[v]:\n",
    "            continue\n",
    "            \n",
    "        for i in graph[v]:\n",
    "            cost = w + i[1]\n",
    "            \n",
    "            if cost < dist_table[i[0]]:\n",
    "                dist_table[i[0]] = cost\n",
    "                heapq.heappush(q, (cost, i[0]))\n",
    "                \n",
    "    return dist_table\n",
    "                \n",
    "dijkstra(0)\n",
    "            \n",
    "print(dist_table[d])    "
   ]
  }
 ],
 "metadata": {
  "kernelspec": {
   "display_name": "Python3_7",
   "language": "python",
   "name": "3_7"
  },
  "language_info": {
   "codemirror_mode": {
    "name": "ipython",
    "version": 3
   },
   "file_extension": ".py",
   "mimetype": "text/x-python",
   "name": "python",
   "nbconvert_exporter": "python",
   "pygments_lexer": "ipython3",
   "version": "3.7.11"
  }
 },
 "nbformat": 4,
 "nbformat_minor": 5
}
