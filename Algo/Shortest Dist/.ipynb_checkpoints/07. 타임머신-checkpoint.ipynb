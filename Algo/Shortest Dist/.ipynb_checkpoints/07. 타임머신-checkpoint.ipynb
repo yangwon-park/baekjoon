{
 "cells": [
  {
   "cell_type": "markdown",
   "id": "87ff4aed",
   "metadata": {},
   "source": [
    "### 11657 타임머신"
   ]
  },
  {
   "cell_type": "code",
   "execution_count": 12,
   "id": "497cd1a6",
   "metadata": {},
   "outputs": [
    {
     "name": "stdout",
     "output_type": "stream",
     "text": [
      "3 4\n",
      "1 2 4\n",
      "1 3 3\n",
      "2 3 -1\n",
      "3 1 -2\n",
      "0\n",
      "1\n",
      "2\n",
      "4\n",
      "3\n"
     ]
    }
   ],
   "source": [
    "v, e = map(int, input().split())\n",
    "INF = int(1e9)\n",
    "edges = []\n",
    "    \n",
    "# 최단 거리 테이블을 무한으로 초기화\n",
    "dist_table = [INF for _ in range(v+1)]\n",
    "\n",
    "for _ in range(e):\n",
    "    \n",
    "    # c가 음수인 경우가 존재 => 벨만 포드 알고리즘 사용해야 함\n",
    "    # a : 출발, b : 도착, c : 소요 시간\n",
    "    a, b, c, = map(int, input().split())\n",
    "    edges.append((a, b, c))\n",
    "    \n",
    "def bellman_ford(start):\n",
    "\n",
    "    # 시작 지점 최단 거리 테이블만 0으로 설정\n",
    "    dist_table[start] = 0\n",
    "    \n",
    "    for i in range(v):\n",
    "        print(i)\n",
    "        # 간선에 대한 정보를 s, d, w로 사용\n",
    "        # start, destination, weight\n",
    "        for s, d, w in edges:\n",
    "            \n",
    "            # s가 INF가 아니고\n",
    "            # s를 거쳐서 d로 이동하는 거리(dist_table[s] + w)가\n",
    "            # dist_table[d] 보다 더 짧은경우\n",
    "            if dist_table[s] != INF and dist_table[d] > dist_table[s] + w:\n",
    "                \n",
    "                # 더 짧으니까\n",
    "                # 최단 거리 테이블을 업데이트 시켜줌\n",
    "                dist_table[d] = dist_table[s] + w\n",
    "                \n",
    "                # i가 v-1과 같아짐 (반복 횟수 == 노드의 개수)\n",
    "                # 한바퀴를 돌았는데 또 돈다\n",
    "                # => 싸이클이 존재한다는 의미\n",
    "                if i == v-1:\n",
    "                    return False\n",
    "    return True\n",
    "\n",
    "# 싸이클이 존재하면 -1\n",
    "if not bellman_ford(1):\n",
    "    print(-1)\n",
    "else:\n",
    "    \n",
    "    # 1번 도시 => 다른 모든 노드로 가기 위한 최단 거리 출력\n",
    "    # 따라서 2부터 시작\n",
    "    for i in range(2, v+1):\n",
    "        \n",
    "        # 경로가 없어도 -1\n",
    "        if dist_table[i] == INF:\n",
    "            print(-1)\n",
    "        else:\n",
    "            print(dist_table[i])"
   ]
  }
 ],
 "metadata": {
  "kernelspec": {
   "display_name": "Python3_7",
   "language": "python",
   "name": "3_7"
  },
  "language_info": {
   "codemirror_mode": {
    "name": "ipython",
    "version": 3
   },
   "file_extension": ".py",
   "mimetype": "text/x-python",
   "name": "python",
   "nbconvert_exporter": "python",
   "pygments_lexer": "ipython3",
   "version": "3.7.11"
  }
 },
 "nbformat": 4,
 "nbformat_minor": 5
}
