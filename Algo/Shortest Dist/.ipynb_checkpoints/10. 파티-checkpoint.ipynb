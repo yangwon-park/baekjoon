{
 "cells": [
  {
   "cell_type": "markdown",
   "id": "53288631",
   "metadata": {},
   "source": [
    "### 1238 파티"
   ]
  },
  {
   "cell_type": "code",
   "execution_count": 1,
   "id": "c0d6fda2",
   "metadata": {},
   "outputs": [
    {
     "name": "stdout",
     "output_type": "stream",
     "text": [
      "4 8 2\n",
      "1 2 4\n",
      "1 3 2\n",
      "1 4 7\n",
      "2 1 1\n",
      "2 3 5\n",
      "3 1 2\n",
      "3 4 4\n",
      "4 2 3\n"
     ]
    }
   ],
   "source": [
    "import heapq\n",
    "n, m, x = map(int, input().split())\n",
    "INF = float('inf')\n",
    "\n",
    "graph = [[] for _ in range(n+1)]\n",
    "\n",
    "# 단방향이므로 graph에 값을 한 번만 넣어줌\n",
    "for _ in range(m):\n",
    "    a, b, c = map(int, input().split())\n",
    "    graph[a].append((b, c))\n",
    "    \n",
    "# 다익스트라 구현\n",
    "def dijkstra(start):\n",
    "    \n",
    "    q = []\n",
    "    \n",
    "    # 각 학생들마다 소요 시간을 체크할 것이므로\n",
    "    # 학생들마다의 dist_table이 필요함\n",
    "    # 함수의 반환값으로 dist_table을 사용하기 위해\n",
    "    # 함수 안에서 선언해줌\n",
    "    dist_table = [INF for _ in range(n+1)]\n",
    "    \n",
    "    heapq.heappush(q, (0, start))\n",
    "    dist_table[start] = 0\n",
    "    \n",
    "    while q:\n",
    "        w, v = heapq.heappop(q)\n",
    "        \n",
    "        if w > dist_table[v]:\n",
    "            continue\n",
    "            \n",
    "        for i in graph[v]:\n",
    "            cost = w + i[1]\n",
    "            \n",
    "            if cost < dist_table[i[0]]:\n",
    "                dist_table[i[0]] = cost\n",
    "                heapq.heappush(q, (cost, i[0]))\n",
    "                \n",
    "    return dist_table\n",
    "\n",
    "# 최종 정답\n",
    "result = -INF\n",
    "\n",
    "for i in range(1, n+1):\n",
    "    \n",
    "    # x -> x는 의미 없으므로 반복 제외\n",
    "    if i == x:\n",
    "        continue\n",
    "        \n",
    "    # 왕복 거리를 구하므로 (i -> x) + (x -> i)인 경우를 계산하여\n",
    "    # result와 비교한 후, 가장 큰 값을 result로 최종 선택\n",
    "    result = max(result, (dijkstra(i)[x] + dijkstra(x)[i]))\n",
    "    \n",
    "print(result)    "
   ]
  },
  {
   "cell_type": "code",
   "execution_count": 3,
   "id": "f1758437",
   "metadata": {},
   "outputs": [],
   "source": [
    "def dijkstra(start):\n",
    "    dist_table = [INF for _ in range(n+1)]\n",
    "\n",
    "    q = []\n",
    "    \n",
    "    heapq.heappush(q, (0, start))\n",
    "    dist_table[start] = 0\n",
    "    \n",
    "    while q:\n",
    "        w, v = heapq.heappop(q)\n",
    "        \n",
    "        if w > dist_table[v]:\n",
    "            continue\n",
    "            \n",
    "        for i in graph[v]:\n",
    "            cost = w + i[1]\n",
    "            \n",
    "            if cost < dist_table[i[0]]:\n",
    "                dist_table[i[0]] = cost\n",
    "                heapq.heappush(q, (cost, i[0]))\n",
    "                \n",
    "    return dist_table\n",
    "\n",
    "result = -INF\n",
    "for i in range(1, n+1):\n",
    "    if i == x:\n",
    "        continue\n",
    "    result = max(result, (dijkstra(i)[x] + dijkstra(x)[i]))\n",
    "    \n",
    "print(result)"
   ]
  },
  {
   "cell_type": "code",
   "execution_count": 37,
   "id": "96e6f694",
   "metadata": {},
   "outputs": [],
   "source": []
  },
  {
   "cell_type": "code",
   "execution_count": 38,
   "id": "526233a1",
   "metadata": {},
   "outputs": [
    {
     "data": {
      "text/plain": [
       "10"
      ]
     },
     "execution_count": 38,
     "metadata": {},
     "output_type": "execute_result"
    }
   ],
   "source": [
    "result"
   ]
  }
 ],
 "metadata": {
  "kernelspec": {
   "display_name": "Python3_7",
   "language": "python",
   "name": "3_7"
  },
  "language_info": {
   "codemirror_mode": {
    "name": "ipython",
    "version": 3
   },
   "file_extension": ".py",
   "mimetype": "text/x-python",
   "name": "python",
   "nbconvert_exporter": "python",
   "pygments_lexer": "ipython3",
   "version": "3.7.11"
  }
 },
 "nbformat": 4,
 "nbformat_minor": 5
}
