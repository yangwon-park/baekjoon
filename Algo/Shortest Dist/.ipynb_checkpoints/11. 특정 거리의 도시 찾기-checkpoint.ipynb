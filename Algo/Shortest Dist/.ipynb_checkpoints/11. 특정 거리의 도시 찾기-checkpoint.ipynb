{
 "cells": [
  {
   "cell_type": "markdown",
   "id": "3d4abf30",
   "metadata": {},
   "source": [
    "### 18352 특정 거리의 도시 찾기"
   ]
  },
  {
   "cell_type": "code",
   "execution_count": 21,
   "id": "fdb6f652",
   "metadata": {},
   "outputs": [
    {
     "name": "stdout",
     "output_type": "stream",
     "text": [
      "4 3 2 1\n",
      "1 2\n",
      "1 3\n",
      "1 4\n",
      "-1\n"
     ]
    }
   ],
   "source": [
    "import heapq\n",
    "\n",
    "n, m, k, x = map(int, input().split())\n",
    "    \n",
    "INF = float('inf')\n",
    "\n",
    "dist_table = [INF for _ in range(n+1)]\n",
    "\n",
    "graph = [[] for _ in range(n+1)]\n",
    "\n",
    "for _ in range(m):\n",
    "    a, b = map(int, input().split())\n",
    "    graph[a].append((b, 1))\n",
    "\n",
    "def dijkstra(start):\n",
    "    q = []\n",
    "    \n",
    "    heapq.heappush(q, (0, start))\n",
    "    dist_table[start] = 0\n",
    "    \n",
    "    while q:\n",
    "        w, v = heapq.heappop(q)\n",
    "        \n",
    "        if dist_table[v] < w:\n",
    "            continue\n",
    "            \n",
    "        for i in graph[v]:\n",
    "            cost = w + i[1]\n",
    "            \n",
    "            if cost < dist_table[i[0]]:\n",
    "                dist_table[i[0]] = cost\n",
    "                heapq.heappush(q, (cost, i[0]))\n",
    "dijkstra(x)        \n",
    "        \n",
    "result = []\n",
    "\n",
    "for i in range (0, len(dist_table)):\n",
    "    if k == dist_table[i]:\n",
    "        result.append(i)\n",
    "\n",
    "result.sort()\n",
    "        \n",
    "if len(result) == 0:\n",
    "    print(-1)\n",
    "else:\n",
    "    print(*result)\n",
    "        "
   ]
  }
 ],
 "metadata": {
  "kernelspec": {
   "display_name": "Python 3",
   "language": "python",
   "name": "python3"
  },
  "language_info": {
   "codemirror_mode": {
    "name": "ipython",
    "version": 3
   },
   "file_extension": ".py",
   "mimetype": "text/x-python",
   "name": "python",
   "nbconvert_exporter": "python",
   "pygments_lexer": "ipython3",
   "version": "3.8.8"
  }
 },
 "nbformat": 4,
 "nbformat_minor": 5
}
