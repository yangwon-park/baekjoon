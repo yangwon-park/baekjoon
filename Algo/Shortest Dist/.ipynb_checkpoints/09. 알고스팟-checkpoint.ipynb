{
 "cells": [
  {
   "cell_type": "markdown",
   "id": "ec55f8ff",
   "metadata": {},
   "source": [
    "### 1261 알고스팟"
   ]
  },
  {
   "cell_type": "code",
   "execution_count": 11,
   "id": "23fc858f",
   "metadata": {},
   "outputs": [
    {
     "name": "stdout",
     "output_type": "stream",
     "text": [
      "3 3\n",
      "011\n",
      "111\n",
      "110\n",
      "3\n"
     ]
    }
   ],
   "source": [
    "import heapq\n",
    "\n",
    "m, n = map(int, input().split())\n",
    "\n",
    "graph =[]\n",
    "    \n",
    "for _ in range(n):\n",
    "    graph.append(list(map(int, input())))\n",
    "\n",
    "# 좌표별 방문 여부를 체크할 리스트\n",
    "visited = [[False for _ in range(m)] for _ in range(n)]\n",
    "\n",
    "# 로직 구현\n",
    "def solution():\n",
    "    q = []\n",
    "    \n",
    "    dx = [-1, 1, 0, 0]\n",
    "    dy = [0, 0, -1, 1]\n",
    "    \n",
    "    # (벽을 부순 개수, x, y)\n",
    "    # 일반적인 다익스트라와는 다르게 \n",
    "    # 벽을 부순 개수로 가중치를 계산함\n",
    "    heapq.heappush(q, (0, 0, 0))\n",
    "    \n",
    "    visited[0][0] = True\n",
    "    \n",
    "    while heapq:\n",
    "        cnt, x, y = heapq.heappop(q)\n",
    "        \n",
    "        for i in range(4):\n",
    "            nx = x + dx[i]\n",
    "            ny = y + dy[i]\n",
    "        \n",
    "            # (n,m)에 도착\n",
    "            if x == n-1 and y == m-1:\n",
    "                print(cnt)\n",
    "                return\n",
    "\n",
    "            if nx < 0 or nx >= n or ny < 0 or ny >= m:\n",
    "                continue\n",
    "\n",
    "            if not visited[nx][ny]:\n",
    "                visited[nx][ny] = True\n",
    "\n",
    "                # 벽인 경우\n",
    "                if graph[nx][ny] == 1 :\n",
    "                    heapq.heappush(q, (cnt+1, nx, ny))\n",
    "                else:\n",
    "                    heapq.heappush(q, (cnt, nx, ny))\n",
    "                \n",
    "            \n",
    "solution()            "
   ]
  }
 ],
 "metadata": {
  "kernelspec": {
   "display_name": "Python3_7",
   "language": "python",
   "name": "3_7"
  },
  "language_info": {
   "codemirror_mode": {
    "name": "ipython",
    "version": 3
   },
   "file_extension": ".py",
   "mimetype": "text/x-python",
   "name": "python",
   "nbconvert_exporter": "python",
   "pygments_lexer": "ipython3",
   "version": "3.7.11"
  }
 },
 "nbformat": 4,
 "nbformat_minor": 5
}
