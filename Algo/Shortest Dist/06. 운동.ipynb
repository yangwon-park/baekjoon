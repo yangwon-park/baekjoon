{
 "cells": [
  {
   "cell_type": "markdown",
   "id": "a504a4e9",
   "metadata": {},
   "source": [
    "### 1956 운동"
   ]
  },
  {
   "cell_type": "code",
   "execution_count": 41,
   "id": "a2452816",
   "metadata": {},
   "outputs": [
    {
     "name": "stdout",
     "output_type": "stream",
     "text": [
      "3 4\n",
      "1 2 1\n",
      "3 2 1\n",
      "1 3 5\n",
      "2 3 2\n",
      "3\n"
     ]
    }
   ],
   "source": [
    "# v : 마을 개수\n",
    "# e : 도로 개수\n",
    "v, e = map(int, input().split())\n",
    "\n",
    "INF = int(1e9)\n",
    "\n",
    "# 플로이드 워셜 사용 => 입력 받을 그래프 자체를 INF로 초기화\n",
    "graph = [[INF for _ in range(v+1)] for _ in range(v+1)]\n",
    "\n",
    "# 도로의 정보 입력\n",
    "# 사이클이 존재하는 경우이므로\n",
    "# graph[a][a]를 0으로 초기화할 필요없음\n",
    "for _ in range(e):\n",
    "    a, b, c = map(int, input().split())\n",
    "    \n",
    "    # 같은 도로가 주어지는 경우는 없으므로\n",
    "    # 그냥 입력\n",
    "    graph[a][b] = c\n",
    "\n",
    "# 플로이드 워셜 구현\n",
    "def floyd():\n",
    "    for k in range(1, v+1):\n",
    "        for a in range(1, v+1):\n",
    "            for b in range(1, v+1):\n",
    "\n",
    "                graph[a][b] = min(graph[a][b], graph[a][k] + graph[k][b])\n",
    "                \n",
    "floyd()   \n",
    "\n",
    "# 최단 사이클의 길이를 담을 변수\n",
    "result = INF\n",
    "\n",
    "# i -> i로 가는 도로 길이 (싸이클)의 최솟값을 result에 담음\n",
    "for i in range(1, v+1):\n",
    "    result = min(result, graph[i][i])\n",
    "    \n",
    "# result == INF => 사이클이 불가능한 경우 -1 출력\n",
    "if result == INF:\n",
    "    print(-1)\n",
    "else:\n",
    "    print(result)"
   ]
  },
  {
   "cell_type": "code",
   "execution_count": 43,
   "id": "767d4da4",
   "metadata": {},
   "outputs": [
    {
     "data": {
      "text/plain": [
       "[[1000000000, 1000000000, 1000000000, 1000000000],\n",
       " [1000000000, 8, 1, 5],\n",
       " [1000000000, 3, 3, 2],\n",
       " [1000000000, 3, 1, 3]]"
      ]
     },
     "execution_count": 43,
     "metadata": {},
     "output_type": "execute_result"
    }
   ],
   "source": [
    "graph"
   ]
  },
  {
   "cell_type": "code",
   "execution_count": null,
   "id": "2a6512ac",
   "metadata": {},
   "outputs": [],
   "source": []
  }
 ],
 "metadata": {
  "kernelspec": {
   "display_name": "Python3_7",
   "language": "python",
   "name": "3_7"
  },
  "language_info": {
   "codemirror_mode": {
    "name": "ipython",
    "version": 3
   },
   "file_extension": ".py",
   "mimetype": "text/x-python",
   "name": "python",
   "nbconvert_exporter": "python",
   "pygments_lexer": "ipython3",
   "version": "3.7.11"
  }
 },
 "nbformat": 4,
 "nbformat_minor": 5
}
