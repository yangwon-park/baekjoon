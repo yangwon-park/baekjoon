{
 "cells": [
  {
   "cell_type": "markdown",
   "id": "e65eafed",
   "metadata": {},
   "source": [
    "### 1504 특정한 최단 경로"
   ]
  },
  {
   "cell_type": "code",
   "execution_count": 24,
   "id": "aaec3f6d",
   "metadata": {},
   "outputs": [
    {
     "name": "stdout",
     "output_type": "stream",
     "text": [
      "4 6\n",
      "1 2 3\n",
      "2 3 3\n",
      "3 4 1\n",
      "1 3 5\n",
      "2 4 5\n",
      "1 4 4\n",
      "2 3\n",
      "7\n"
     ]
    }
   ],
   "source": [
    "import heapq\n",
    "INF = int(1e9)\n",
    "\n",
    "# v : 노드의 개수, e : 간선의 개수\n",
    "v, e = map(int, input().split())\n",
    "\n",
    "# graph는 무방향 그래프\n",
    "graph = [[] for _ in range(v+1)]\n",
    "\n",
    "# 그래프 정보 입력\n",
    "for _ in range(e):\n",
    "    a, b, c = map(int, input().split())\n",
    "    \n",
    "    # 무방향 그래프이므로 양쪽으로 다 넣어줘야 함\n",
    "    graph[a].append((b, c))\n",
    "    graph[b].append((a, c))\n",
    "    \n",
    "# 반드시 거쳐야 하는 두 개의 정점\n",
    "nodes = list(map(int, input().split()))\n",
    "\n",
    "# 시작은 1부터\n",
    "start = 1\n",
    "\n",
    "# 다익스트라 알고리즘\n",
    "def dijstra(start):\n",
    "    \n",
    "    # 각각의 시작점에 따라 최단 거리 테이블이 달라지므로\n",
    "    # 최단 거리 테이블을 메소드 안에서 선언하여 반환해줌\n",
    "    dist_table = [INF for _ in range(v+1)]\n",
    "    q = []\n",
    "    heapq.heappush(q, (0, start))\n",
    "    dist_table[start] = 0\n",
    "    \n",
    "    while q:\n",
    "        dist, now = heapq.heappop(q)\n",
    "        \n",
    "        if dist < dist_table[now]:\n",
    "            dist_table[now] = dist\n",
    "            \n",
    "        for i in graph[now]:\n",
    "            cost = i[1] + dist\n",
    "            \n",
    "            if cost < dist_table[i[0]]:\n",
    "                dist_table[i[0]] = cost\n",
    "                heapq.heappush(q, (cost, i[0]))\n",
    "    \n",
    "    # 최단 거리 테이블이 필요하므로 반환해줌\n",
    "    return dist_table\n",
    "\n",
    "# 다익스트라 수행 후 업데이트된 최단 거리 테이블은\n",
    "# 파라미터로 받은 노드 번호에서 출발하여\n",
    "# 각 테이블의 인덱스에 해당하는 번호를 가진 노드에 도착하기까지\n",
    "# 필요한 최단 거리를 의미함!!!!\n",
    "total = dijstra(start)       # 시작점(1)에서 다익스트라 수행\n",
    "part1 = dijstra(nodes[0])    # 반드시 거쳐야 하는 노드 중 처음 노드에서 다익스트라 수행\n",
    "part2 = dijstra(nodes[1])    # 반드시 거쳐야 하는 노드 중 두 번째 노드에서 다익스트라 수행\n",
    "\n",
    "# start에서 시작하여 nodes[0]까지 가는 거리 \n",
    "# +\n",
    "# nodes[0]에서 시작하여 nodes[1]까지 가는 거리\n",
    "# +\n",
    "# nodes[1]에서 시작하여 v번(마지막)노드까지 가는 거리\n",
    "pref_result = total[nodes[0]] + part1[nodes[1]] + part2[v]\n",
    "\n",
    "# start에서 시작하여 nodes[1]까지 가는 거리 \n",
    "# +\n",
    "# nodes[1]에서 시작하여 nodes[0]까지 가는 거리\n",
    "# +\n",
    "# nodes[0]에서 시작하여 v번(마지막)노드까지 가는 거리\n",
    "suf_result = total[nodes[1]] + part2[nodes[0]] + part1[v]\n",
    "\n",
    "# 위의 두 경로 중 더 작은 값을 result로 선택한다!! => 이것이 곧 정답\n",
    "result = min(pref_result, suf_result)\n",
    "\n",
    "# result가 INF보다 작은 경우 result 출력\n",
    "# 처음 result == INF로 조건을 분기했는데 99%에서 오답 발생\n",
    "# 조건을 수정하니 정답으로 인정\n",
    "if result < INF:\n",
    "    print(result)\n",
    "else:\n",
    "    print(-1)"
   ]
  }
 ],
 "metadata": {
  "kernelspec": {
   "display_name": "Python3_7",
   "language": "python",
   "name": "3_7"
  },
  "language_info": {
   "codemirror_mode": {
    "name": "ipython",
    "version": 3
   },
   "file_extension": ".py",
   "mimetype": "text/x-python",
   "name": "python",
   "nbconvert_exporter": "python",
   "pygments_lexer": "ipython3",
   "version": "3.7.11"
  }
 },
 "nbformat": 4,
 "nbformat_minor": 5
}
