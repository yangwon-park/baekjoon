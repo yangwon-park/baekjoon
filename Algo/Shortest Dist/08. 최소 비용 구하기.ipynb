{
 "cells": [
  {
   "cell_type": "markdown",
   "id": "36582e17",
   "metadata": {},
   "source": [
    "### 1916 최소 비용 구하기"
   ]
  },
  {
   "cell_type": "code",
   "execution_count": 10,
   "id": "c1a6a286",
   "metadata": {},
   "outputs": [
    {
     "name": "stdout",
     "output_type": "stream",
     "text": [
      "5\n",
      "8\n",
      "1 2 2\n",
      "1 3 3\n",
      "1 4 1\n",
      "1 5 10\n",
      "2 4 2\n",
      "3 4 1\n",
      "3 5 1\n",
      "4 5 3\n",
      "1 5\n",
      "4\n"
     ]
    }
   ],
   "source": [
    "import heapq\n",
    "n = int(input())\n",
    "m = int(input())\n",
    "\n",
    "graph = [[] for _ in range(n+1)]\n",
    "INF = float('inf')\n",
    "dist_table = [INF for _ in range(n+1)]\n",
    "              \n",
    "for _ in range(m):\n",
    "    a, b, c = map(int, input().split())\n",
    "    graph[a].append((b, c))\n",
    "              \n",
    "\n",
    "start, end = map(int, input().split())\n",
    "              \n",
    "\n",
    "def dijkstra(start):\n",
    "    q = []\n",
    "    heapq.heappush(q, (0, start))\n",
    "    dist_table[start] = 0\n",
    "    \n",
    "    while q:\n",
    "        w, v = heapq.heappop(q)\n",
    "    \n",
    "        if dist_table[v] < w:\n",
    "            continue\n",
    "            \n",
    "        for i in graph[v]:\n",
    "            cost = w + i[1]\n",
    "            \n",
    "            if dist_table[i[0]] > cost:\n",
    "                dist_table[i[0]] = cost\n",
    "                heapq.heappush(q, (cost, i[0]))\n",
    "    return dist_table\n",
    "\n",
    "dijkstra(start)\n",
    "\n",
    "print(dist_table[end])              "
   ]
  },
  {
   "cell_type": "code",
   "execution_count": null,
   "id": "34791b2b",
   "metadata": {},
   "outputs": [],
   "source": []
  },
  {
   "cell_type": "code",
   "execution_count": null,
   "id": "699ae482",
   "metadata": {},
   "outputs": [],
   "source": []
  },
  {
   "cell_type": "code",
   "execution_count": null,
   "id": "838272d1",
   "metadata": {},
   "outputs": [],
   "source": []
  },
  {
   "cell_type": "code",
   "execution_count": null,
   "id": "81ff41dd",
   "metadata": {},
   "outputs": [],
   "source": []
  },
  {
   "cell_type": "code",
   "execution_count": null,
   "id": "f63afd56",
   "metadata": {},
   "outputs": [],
   "source": []
  },
  {
   "cell_type": "code",
   "execution_count": null,
   "id": "6a53bc4a",
   "metadata": {},
   "outputs": [],
   "source": []
  }
 ],
 "metadata": {
  "kernelspec": {
   "display_name": "Python3_7",
   "language": "python",
   "name": "3_7"
  },
  "language_info": {
   "codemirror_mode": {
    "name": "ipython",
    "version": 3
   },
   "file_extension": ".py",
   "mimetype": "text/x-python",
   "name": "python",
   "nbconvert_exporter": "python",
   "pygments_lexer": "ipython3",
   "version": "3.7.11"
  }
 },
 "nbformat": 4,
 "nbformat_minor": 5
}
