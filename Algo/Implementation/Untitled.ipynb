{
 "cells": [
  {
   "cell_type": "code",
   "execution_count": 8,
   "id": "7ee7dd53",
   "metadata": {},
   "outputs": [
    {
     "name": "stdout",
     "output_type": "stream",
     "text": [
      "5\n",
      "*****\n",
      " ****\n",
      "  ***\n",
      "   **\n",
      "    *\n"
     ]
    }
   ],
   "source": [
    "n = int(input())\n",
    "\n",
    "for i in range(n, 0, -1):\n",
    "    for j in range(n-i):\n",
    "        print(' ', end='')\n",
    "    for j in range(i):\n",
    "        print('*', end='')\n",
    "    print()"
   ]
  },
  {
   "cell_type": "code",
   "execution_count": 10,
   "id": "563b076d",
   "metadata": {},
   "outputs": [
    {
     "name": "stdout",
     "output_type": "stream",
     "text": [
      "BaekjoonOnlineJudge\n",
      "BaekjoonOn\n",
      "lineJudge\n"
     ]
    }
   ],
   "source": [
    "input_ = input()\n",
    "\n",
    "div = 0\n",
    "\n",
    "while div < len(input_):\n",
    "    print(input_[div:div+10])\n",
    "    \n",
    "    div += 10"
   ]
  },
  {
   "cell_type": "code",
   "execution_count": 87,
   "id": "c41cf799",
   "metadata": {},
   "outputs": [
    {
     "name": "stdout",
     "output_type": "stream",
     "text": [
      "5\n",
      "*********\n",
      " *******\n",
      "  *****\n",
      "   ***\n",
      "    *\n",
      "   ***\n",
      "  *****\n",
      " *******\n",
      "*********\n"
     ]
    }
   ],
   "source": [
    "n = int(input())\n",
    "\n",
    "for i in range(n):\n",
    "    print(' ' * (i) + '*' * (2 * (n-i-1) + 1))\n",
    "for i in range(n-1):\n",
    "    print(' ' * (n-i-2) + '*' * (2 *(i+2)-1))"
   ]
  },
  {
   "cell_type": "code",
   "execution_count": null,
   "id": "3bcbccaa",
   "metadata": {},
   "outputs": [],
   "source": []
  }
 ],
 "metadata": {
  "kernelspec": {
   "display_name": "Python 3 (ipykernel)",
   "language": "python",
   "name": "python3"
  },
  "language_info": {
   "codemirror_mode": {
    "name": "ipython",
    "version": 3
   },
   "file_extension": ".py",
   "mimetype": "text/x-python",
   "name": "python",
   "nbconvert_exporter": "python",
   "pygments_lexer": "ipython3",
   "version": "3.9.7"
  }
 },
 "nbformat": 4,
 "nbformat_minor": 5
}
