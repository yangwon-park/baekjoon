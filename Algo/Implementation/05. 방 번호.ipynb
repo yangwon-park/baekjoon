{
 "cells": [
  {
   "cell_type": "markdown",
   "id": "cd527031",
   "metadata": {},
   "source": [
    "### 1475 방 번호"
   ]
  },
  {
   "cell_type": "code",
   "execution_count": 86,
   "id": "253acf44",
   "metadata": {},
   "outputs": [
    {
     "name": "stdout",
     "output_type": "stream",
     "text": [
      "12696935\n",
      "2\n"
     ]
    }
   ],
   "source": [
    "import math\n",
    "# Counter 메소드 사용\n",
    "from collections import Counter\n",
    "n = int(input())\n",
    "\n",
    "# 입력받은 문자에 존재하는 숫자들의 개수를 담음\n",
    "a = Counter(str(n))\n",
    "\n",
    "# 숫자 개수를 저장할 리스트\n",
    "cnt = [0] * 10\n",
    "\n",
    "\n",
    "for i in range(10):\n",
    "    # Counter에 None이 아닌경우에만\n",
    "    if a.get(str(i)) != None:\n",
    "        \n",
    "        # 만약 9라면 6에 개수를 합쳐서 더함\n",
    "        if int(i) == 9:\n",
    "            cnt[6] += a.get(str(i))\n",
    "            \n",
    "        # 아닌 경우 자기 자리에 더함\n",
    "        else:\n",
    "            cnt[i] += a.get(str(i))\n",
    "\n",
    "# 6에 9도 더했으므로 반으로 나누어줌\n",
    "# 이 때, 더한 값이 홀수라면 나눈 값을 올림으로 처리\n",
    "# 6, 6, 9 인 경우 총 개수는 3이지만 결국 6이 2개 필요하므로\n",
    "cnt[6] = math.ceil(cnt[6] / 2)\n",
    "\n",
    "# cnt의 최댓값이 정답\n",
    "print(max(cnt))            "
   ]
  }
 ],
 "metadata": {
  "kernelspec": {
   "display_name": "Python3_7",
   "language": "python",
   "name": "3_7"
  },
  "language_info": {
   "codemirror_mode": {
    "name": "ipython",
    "version": 3
   },
   "file_extension": ".py",
   "mimetype": "text/x-python",
   "name": "python",
   "nbconvert_exporter": "python",
   "pygments_lexer": "ipython3",
   "version": "3.7.11"
  }
 },
 "nbformat": 4,
 "nbformat_minor": 5
}
