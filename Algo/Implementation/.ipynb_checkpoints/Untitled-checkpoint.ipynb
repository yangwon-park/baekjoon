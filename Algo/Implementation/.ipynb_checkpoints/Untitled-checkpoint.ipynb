{
 "cells": [
  {
   "cell_type": "code",
   "execution_count": 8,
   "id": "7ee7dd53",
   "metadata": {},
   "outputs": [
    {
     "name": "stdout",
     "output_type": "stream",
     "text": [
      "5\n",
      "*****\n",
      " ****\n",
      "  ***\n",
      "   **\n",
      "    *\n"
     ]
    }
   ],
   "source": [
    "n = int(input())\n",
    "\n",
    "for i in range(n, 0, -1):\n",
    "    for j in range(n-i):\n",
    "        print(' ', end='')\n",
    "    for j in range(i):\n",
    "        print('*', end='')\n",
    "    print()"
   ]
  },
  {
   "cell_type": "code",
   "execution_count": 10,
   "id": "563b076d",
   "metadata": {},
   "outputs": [
    {
     "name": "stdout",
     "output_type": "stream",
     "text": [
      "BaekjoonOnlineJudge\n",
      "BaekjoonOn\n",
      "lineJudge\n"
     ]
    }
   ],
   "source": [
    "input_ = input()\n",
    "\n",
    "div = 0\n",
    "\n",
    "while div < len(input_):\n",
    "    print(input_[div:div+10])\n",
    "    \n",
    "    div += 10"
   ]
  },
  {
   "cell_type": "code",
   "execution_count": 87,
   "id": "c41cf799",
   "metadata": {},
   "outputs": [
    {
     "name": "stdout",
     "output_type": "stream",
     "text": [
      "5\n",
      "*********\n",
      " *******\n",
      "  *****\n",
      "   ***\n",
      "    *\n",
      "   ***\n",
      "  *****\n",
      " *******\n",
      "*********\n"
     ]
    }
   ],
   "source": [
    "n = int(input())\n",
    "\n",
    "for i in range(n):\n",
    "    print(' ' * (i) + '*' * (2 * (n-i-1) + 1))\n",
    "for i in range(n-1):\n",
    "    print(' ' * (n-i-2) + '*' * (2 *(i+2)-1))"
   ]
  },
  {
   "cell_type": "code",
   "execution_count": 7,
   "id": "3bcbccaa",
   "metadata": {},
   "outputs": [
    {
     "name": "stdout",
     "output_type": "stream",
     "text": [
      "5 3\n",
      "1\n"
     ]
    }
   ],
   "source": [
    "r1, s = map(int, input().split())\n",
    "r2 = s * 2 - r1\n",
    "\n",
    "print(r2)"
   ]
  },
  {
   "cell_type": "code",
   "execution_count": 38,
   "id": "bbe26d91",
   "metadata": {},
   "outputs": [
    {
     "name": "stdout",
     "output_type": "stream",
     "text": [
      "baekjoon\n",
      "1 1 0 0 1 0 0 0 0 1 1 0 0 1 2 0 0 0 0 0 0 0 0 0 0 0 "
     ]
    }
   ],
   "source": [
    "from collections import Counter\n",
    "\n",
    "S = input()\n",
    "cnt = [0] * 26\n",
    "count = Counter(S)\n",
    "\n",
    "for i in range(26):\n",
    "    if count.get(chr(i+97)) != None:\n",
    "        cnt[i] = count.get(chr(i+97))\n",
    "        \n",
    "for c in cnt:\n",
    "    print(c, end=' ')"
   ]
  },
  {
   "cell_type": "code",
   "execution_count": 40,
   "id": "e03f5c65",
   "metadata": {},
   "outputs": [
    {
     "name": "stdout",
     "output_type": "stream",
     "text": [
      "0 1 0 1\n",
      "B\n",
      "1 1 1 0\n",
      "A\n",
      "0 0 1 1\n",
      "B\n"
     ]
    }
   ],
   "source": [
    "for _ in range(3):\n",
    "    a, b, c, d = map(int, input().split())\n",
    "    \n",
    "    result = a+b+c+d\n",
    "    \n",
    "    if result == 0:\n",
    "        print('D')\n",
    "    elif result == 1:\n",
    "        print('C')\n",
    "    elif result == 2:\n",
    "        print('B')\n",
    "    elif result == 3:\n",
    "        print('A')\n",
    "    else:\n",
    "        print('E')"
   ]
  },
  {
   "cell_type": "code",
   "execution_count": 41,
   "id": "23ea90f1",
   "metadata": {},
   "outputs": [
    {
     "name": "stdout",
     "output_type": "stream",
     "text": [
      "pulljima\n",
      "8\n"
     ]
    }
   ],
   "source": [
    "print(len(input()))"
   ]
  },
  {
   "cell_type": "code",
   "execution_count": 54,
   "id": "e9e8668a",
   "metadata": {},
   "outputs": [
    {
     "name": "stdout",
     "output_type": "stream",
     "text": [
      "0 32\n",
      "3 13\n",
      "28 25\n",
      "39 0\n",
      "42\n"
     ]
    }
   ],
   "source": [
    "max_ = 0\n",
    "result = 0\n",
    "for i in range(4):\n",
    "    a, b = map(int, input().split())\n",
    "    \n",
    "    result -= a\n",
    "    result += b\n",
    "    \n",
    "    max_ = max(max_, result)\n",
    "print(max_)"
   ]
  },
  {
   "cell_type": "code",
   "execution_count": 55,
   "id": "307c1f3a",
   "metadata": {},
   "outputs": [
    {
     "name": "stdout",
     "output_type": "stream",
     "text": [
      ".F.F...F\n",
      "F...F.F.\n",
      "...F.F.F\n",
      "F.F...F.\n",
      ".F...F..\n",
      "F...F.F.\n",
      ".F.F.F.F\n",
      "..FF..F.\n"
     ]
    }
   ],
   "source": [
    "board = []\n",
    "\n",
    "for i in range(8):\n",
    "    board.append(input())\n",
    "    \n",
    "cnt = 0\n",
    "for i in range(8):\n",
    "    for j in range(8):\n",
    "        if i % 2 == 0:\n",
    "            if j % 2 == 0:\n",
    "                if board[i][j] == 'F':\n",
    "                    cnt += 1\n",
    "        else:\n",
    "            if j % 2 == 1:\n",
    "                if board[i][j] == 'F':\n",
    "                    cnt += 1\n",
    "print(cnt)"
   ]
  },
  {
   "cell_type": "code",
   "execution_count": 58,
   "id": "54d4d7cc",
   "metadata": {},
   "outputs": [
    {
     "data": {
      "text/plain": [
       "8"
      ]
     },
     "execution_count": 58,
     "metadata": {},
     "output_type": "execute_result"
    }
   ],
   "source": [
    "len(board[0])"
   ]
  },
  {
   "cell_type": "code",
   "execution_count": 61,
   "id": "70d3d5ba",
   "metadata": {},
   "outputs": [],
   "source": [
    "cnt = 0\n",
    "for i in range(8):\n",
    "    for j in range(8):\n",
    "        if i % 2 == 0:\n",
    "            if j % 2 == 0:a\n",
    "                if board[i][j] == 'F':\n",
    "                    cnt += 1\n",
    "        else:\n",
    "            if j % 2 == 1:\n",
    "                if board[i][j] == 'F':\n",
    "                    cnt += 1\n",
    "                "
   ]
  },
  {
   "cell_type": "code",
   "execution_count": 62,
   "id": "d423e2bb",
   "metadata": {},
   "outputs": [
    {
     "data": {
      "text/plain": [
       "1"
      ]
     },
     "execution_count": 62,
     "metadata": {},
     "output_type": "execute_result"
    }
   ],
   "source": [
    "cnt"
   ]
  },
  {
   "cell_type": "code",
   "execution_count": 5,
   "id": "7be5e399",
   "metadata": {},
   "outputs": [
    {
     "name": "stdout",
     "output_type": "stream",
     "text": [
      "3\n",
      "config.sys\n",
      "configures\n",
      "config.skd\n",
      "config????\n"
     ]
    }
   ],
   "source": [
    "n = int(input())\n",
    "\n",
    "first = list(input())\n",
    "first_len = len(first)\n",
    "\n",
    "for i in range(n-1):\n",
    "    other = list(input())\n",
    "    \n",
    "    for j in range(first_len):\n",
    "        if first[j] != other[j]:\n",
    "            first[j] = '?'\n",
    "            \n",
    "print(''.join(first))\n"
   ]
  }
 ],
 "metadata": {
  "kernelspec": {
   "display_name": "Python 3 (ipykernel)",
   "language": "python",
   "name": "python3"
  },
  "language_info": {
   "codemirror_mode": {
    "name": "ipython",
    "version": 3
   },
   "file_extension": ".py",
   "mimetype": "text/x-python",
   "name": "python",
   "nbconvert_exporter": "python",
   "pygments_lexer": "ipython3",
   "version": "3.7.11"
  }
 },
 "nbformat": 4,
 "nbformat_minor": 5
}
