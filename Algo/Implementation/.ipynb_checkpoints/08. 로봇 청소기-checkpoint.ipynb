{
 "cells": [
  {
   "cell_type": "markdown",
   "id": "30a99524",
   "metadata": {},
   "source": [
    "### 14503 로봇 청소기"
   ]
  },
  {
   "cell_type": "code",
   "execution_count": 13,
   "id": "ddd8e469",
   "metadata": {},
   "outputs": [
    {
     "name": "stdout",
     "output_type": "stream",
     "text": [
      "3 3\n",
      "1 1 0\n",
      "1 1 1\n",
      "1 0 1\n",
      "1 1 1\n"
     ]
    },
    {
     "data": {
      "text/plain": [
       "1"
      ]
     },
     "execution_count": 13,
     "metadata": {},
     "output_type": "execute_result"
    }
   ],
   "source": [
    "n, m = map(int, input().split())\n",
    "\n",
    "r, c, d = map(int, input().split())\n",
    "\n",
    "graph = [list(map(int, input().split())) for _ in range(n)]\n",
    "\n",
    "def solution(r, c, d):   \n",
    "    \n",
    "    # 방문 여부를 담을 리스트\n",
    "    # 이 문제는 방문을 하면 무조건 청소를 함\n",
    "    # 따라서 이 리스트가 없으면\n",
    "    # 중복해서 청소하는 구역이 발생함\n",
    "    visited = [[False for _ in range(m)] for _ in range(n)]\n",
    "\n",
    "    # 북 동 남 서 좌표 방향\n",
    "    # 아래의 nd와 함께 조합하여\n",
    "    # 다음 좌표 nr, nc를 구함\n",
    "    dr = [-1, 0, 1, 0]\n",
    "    dc = [0, 1, 0, -1]    \n",
    "\n",
    "    # 시작점 청소 완료\n",
    "    visited[r][c] = True\n",
    "\n",
    "    # 청소 구역 담을 변수(시작점에 따라 +1)\n",
    "    cnt = 1\n",
    "    \n",
    "    # 무한 반복 수행\n",
    "    while True:\n",
    "\n",
    "        # 청소 여부를 담을 불린 변수\n",
    "        # 4방향을 돌았는데도 청소를 못한 경우를 체크하기 위함\n",
    "        # 위의 경우가 곧 탈출 조건\n",
    "        check = False\n",
    "\n",
    "        # 4방향 탐색\n",
    "        for _ in range(4):\n",
    "\n",
    "            # 왼쪽으로 돌렸을 때 바라보는 방향\n",
    "            # ex) 북 (0) => 서 (3)\n",
    "            #     (0 + 3) % 4 => 3 ==> 서\n",
    "            d = (d + 3) % 4\n",
    "            \n",
    "            # 왼쪽 방향으로 전진\n",
    "            nr = r + dr[d]\n",
    "            nc = c + dc[d]\n",
    "\n",
    "            # 범위를 벗어나면 생략\n",
    "            if nr < 0 or nr >= n or nc < 0 or nc >= m:\n",
    "                continue\n",
    "\n",
    "            # 값이 0 => 빈 칸 (이동 가능)\n",
    "            if graph[nr][nc] == 0:\n",
    "                \n",
    "                # 방문한 적이 없으면\n",
    "                if visited[nr][nc] == False:\n",
    "                    \n",
    "                    # 방문 처리\n",
    "                    visited[nr][nc] = True\n",
    "                    \n",
    "                    # 개수 1 증가\n",
    "                    cnt += 1\n",
    "\n",
    "                    # 다음 좌표로 이동했음\n",
    "                    # r, c를 초기화\n",
    "                    r = nr\n",
    "                    c = nc\n",
    "\n",
    "                    # 청소 완료\n",
    "                    check = True\n",
    "                    break\n",
    "\n",
    "        # 4방향 모두 돌았는데, 청소할 수 없는 경우\n",
    "        if check == False:\n",
    "            # 후진했는데 벽인 경우 (작동 멈추는 조건)\n",
    "            if graph[r-dr[d]][c-dc[d]] == 1:\n",
    "                return cnt\n",
    "            # 후진했는데 벽이 아니므로 후진 가능\n",
    "            else:\n",
    "                r -= dr[d]\n",
    "                c -= dc[d]\n",
    "                \n",
    "print(solution(r, c, d))"
   ]
  }
 ],
 "metadata": {
  "kernelspec": {
   "display_name": "Python3_7",
   "language": "python",
   "name": "3_7"
  },
  "language_info": {
   "codemirror_mode": {
    "name": "ipython",
    "version": 3
   },
   "file_extension": ".py",
   "mimetype": "text/x-python",
   "name": "python",
   "nbconvert_exporter": "python",
   "pygments_lexer": "ipython3",
   "version": "3.7.11"
  }
 },
 "nbformat": 4,
 "nbformat_minor": 5
}
