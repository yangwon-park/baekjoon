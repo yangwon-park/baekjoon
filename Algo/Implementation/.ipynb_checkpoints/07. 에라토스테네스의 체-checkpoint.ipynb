{
 "cells": [
  {
   "cell_type": "markdown",
   "id": "c2778e5c",
   "metadata": {},
   "source": [
    "### 2960 에라토스테네스의 체"
   ]
  },
  {
   "cell_type": "code",
   "execution_count": 11,
   "id": "76153713",
   "metadata": {},
   "outputs": [
    {
     "name": "stdout",
     "output_type": "stream",
     "text": [
      "7 3\n",
      "6\n"
     ]
    }
   ],
   "source": [
    "n, k = map(int, input().split())\n",
    "\n",
    "def solution(n):\n",
    "    checked = [False for _ in range(n+1)]\n",
    "    \n",
    "    prime = []\n",
    "    \n",
    "    for i in range(2, n+1):\n",
    "        for i in range(i, n+1, i):\n",
    "            if checked[i] == False:\n",
    "                checked[i] = True\n",
    "                prime.append(i)\n",
    "            \n",
    "    return prime\n",
    "\n",
    "answer = solution(n)\n",
    "\n",
    "print(answer[k-1])"
   ]
  },
  {
   "cell_type": "code",
   "execution_count": 22,
   "id": "fbfa4f72",
   "metadata": {},
   "outputs": [
    {
     "name": "stdout",
     "output_type": "stream",
     "text": [
      "53\n",
      "2\n"
     ]
    }
   ],
   "source": [
    "n = int(input())\n",
    "\n",
    "def solution(n):\n",
    "    checked = [False for _ in range(n+1)]\n",
    "    \n",
    "    prime = []\n",
    "    \n",
    "    for i in range(2, n+1):\n",
    "        if checked[i] == False:\n",
    "            prime.append(i)\n",
    "            \n",
    "            for i in range(i, n+1, i):\n",
    "                checked[i] = True\n",
    "                      \n",
    "    return prime\n",
    "\n",
    "prime = solution(n)\n",
    "\n",
    "def two_pointer(arr):\n",
    "    cnt = 0\n",
    "    start = 0\n",
    "    end = 1\n",
    "    \n",
    "    while end <= len(arr):\n",
    "        tmp = sum(arr[start:end])\n",
    "        \n",
    "        if tmp == n:\n",
    "            cnt += 1\n",
    "            start += 1\n",
    "            end += 1\n",
    "            \n",
    "        elif tmp < n:\n",
    "            end += 1\n",
    "        else:\n",
    "            start += 1\n",
    "            \n",
    "    return cnt\n",
    "\n",
    "print(two_pointer(prime))"
   ]
  }
 ],
 "metadata": {
  "kernelspec": {
   "display_name": "Python3_7",
   "language": "python",
   "name": "3_7"
  },
  "language_info": {
   "codemirror_mode": {
    "name": "ipython",
    "version": 3
   },
   "file_extension": ".py",
   "mimetype": "text/x-python",
   "name": "python",
   "nbconvert_exporter": "python",
   "pygments_lexer": "ipython3",
   "version": "3.7.11"
  }
 },
 "nbformat": 4,
 "nbformat_minor": 5
}
