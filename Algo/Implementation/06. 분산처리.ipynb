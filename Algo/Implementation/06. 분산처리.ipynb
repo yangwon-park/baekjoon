{
 "cells": [
  {
   "cell_type": "markdown",
   "id": "8c58cd49",
   "metadata": {},
   "source": [
    "### 1009 분산처리"
   ]
  },
  {
   "cell_type": "code",
   "execution_count": 3,
   "id": "449f0741",
   "metadata": {},
   "outputs": [
    {
     "name": "stdout",
     "output_type": "stream",
     "text": [
      "1\n",
      "10 10\n",
      "10\n"
     ]
    }
   ],
   "source": [
    "# 테스트 횟수 \n",
    "T = int(input())\n",
    "\n",
    "# 테스트 반복\n",
    "for _ in range(T):\n",
    "    a, b = map(int, input().split())\n",
    "\n",
    "    # a ** i\n",
    "    i = 1\n",
    "    \n",
    "    # a ** i를 수행하여 나오는\n",
    "    # 1의 자리 숫자들을 담을 리스트\n",
    "    lst = []  \n",
    "    \n",
    "    while True:\n",
    "        # a ** i 수행 결과의 1의 자리 숫자를 담을 변수\n",
    "        k = a**i % 10\n",
    "\n",
    "        # 벌써 lst에 담겨있는 경우라면 break\n",
    "        # 기존에 담겨있다는 것은 곧 앞으로 나오는 값들 또한\n",
    "        # 이미 담겨있는 숫자라는 의미\n",
    "        if k in lst:\n",
    "            break\n",
    "\n",
    "        # 위의 조건문으로 걸러지지 않는 경우에만 lst에 추가\n",
    "        lst.append(k)\n",
    "        \n",
    "        # i를 1씩 증가\n",
    "        i += 1\n",
    "        \n",
    "    # b를 전체 리스트 길이 - 1로 모듈러 연산을 수행하면\n",
    "    # a**b의 1의 자리 숫자를 구할 수 있음\n",
    "    # 이때 1의 자리 숫자가 0이라면 10을 출력\n",
    "    if lst[b % len(lst) - 1] == 0:\n",
    "        print(10)\n",
    "    else:\n",
    "        print(lst[b % len(lst) - 1])"
   ]
  }
 ],
 "metadata": {
  "kernelspec": {
   "display_name": "Python3_7",
   "language": "python",
   "name": "3_7"
  },
  "language_info": {
   "codemirror_mode": {
    "name": "ipython",
    "version": 3
   },
   "file_extension": ".py",
   "mimetype": "text/x-python",
   "name": "python",
   "nbconvert_exporter": "python",
   "pygments_lexer": "ipython3",
   "version": "3.7.11"
  }
 },
 "nbformat": 4,
 "nbformat_minor": 5
}
