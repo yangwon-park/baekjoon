{
 "cells": [
  {
   "cell_type": "markdown",
   "id": "bb3527cb",
   "metadata": {},
   "source": [
    "### 1924 2007년"
   ]
  },
  {
   "cell_type": "code",
   "execution_count": 9,
   "id": "4bd35655",
   "metadata": {},
   "outputs": [
    {
     "name": "stdout",
     "output_type": "stream",
     "text": [
      "3 14\n",
      "WED\n"
     ]
    }
   ],
   "source": [
    "x, y = map(int, input().split())\n",
    "\n",
    "days = ['MON', 'TUE', 'WED', 'THU', 'FRI', 'SAT', 'SUN']\n",
    "a = [1, 3, 5, 7, 8, 10, 12]\n",
    "b = [4, 6, 9, 11]\n",
    "\n",
    "day = 0\n",
    "\n",
    "month = 1\n",
    "\n",
    "while month < x:\n",
    "    if month in a:\n",
    "        day += 31\n",
    "    elif month in b:\n",
    "        day += 30\n",
    "    else:\n",
    "        day += 28\n",
    "        \n",
    "    month += 1\n",
    "    \n",
    "day += y\n",
    "\n",
    "print(days[day % 7 - 1])"
   ]
  }
 ],
 "metadata": {
  "kernelspec": {
   "display_name": "Python 3 (ipykernel)",
   "language": "python",
   "name": "python3"
  },
  "language_info": {
   "codemirror_mode": {
    "name": "ipython",
    "version": 3
   },
   "file_extension": ".py",
   "mimetype": "text/x-python",
   "name": "python",
   "nbconvert_exporter": "python",
   "pygments_lexer": "ipython3",
   "version": "3.9.7"
  }
 },
 "nbformat": 4,
 "nbformat_minor": 5
}
