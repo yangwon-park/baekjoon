{
 "cells": [
  {
   "cell_type": "markdown",
   "id": "7e37c426",
   "metadata": {},
   "source": [
    "### 2747 피보나치 수"
   ]
  },
  {
   "cell_type": "code",
   "execution_count": 3,
   "id": "1648da83",
   "metadata": {},
   "outputs": [
    {
     "name": "stdout",
     "output_type": "stream",
     "text": [
      "10\n",
      "55\n"
     ]
    }
   ],
   "source": [
    "n = int(input())\n",
    "\n",
    "d = [0] * 100\n",
    "\n",
    "d[1] = 1\n",
    "d[2] = 1\n",
    "\n",
    "for i in range(3, n+1):\n",
    "    d[i] = d[i-2] + d[i-1]\n",
    "\n",
    "print(d[10])"
   ]
  },
  {
   "cell_type": "code",
   "execution_count": null,
   "id": "cd89c454",
   "metadata": {},
   "outputs": [],
   "source": []
  }
 ],
 "metadata": {
  "kernelspec": {
   "display_name": "Python 3 (ipykernel)",
   "language": "python",
   "name": "python3"
  },
  "language_info": {
   "codemirror_mode": {
    "name": "ipython",
    "version": 3
   },
   "file_extension": ".py",
   "mimetype": "text/x-python",
   "name": "python",
   "nbconvert_exporter": "python",
   "pygments_lexer": "ipython3",
   "version": "3.9.7"
  }
 },
 "nbformat": 4,
 "nbformat_minor": 5
}
