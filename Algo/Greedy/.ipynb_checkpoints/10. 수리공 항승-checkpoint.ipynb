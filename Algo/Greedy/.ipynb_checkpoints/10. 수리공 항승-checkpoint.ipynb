{
 "cells": [
  {
   "cell_type": "markdown",
   "id": "ec581673",
   "metadata": {},
   "source": [
    "### 1449 수리공 항승"
   ]
  },
  {
   "cell_type": "code",
   "execution_count": 10,
   "id": "e7dd4cf9",
   "metadata": {},
   "outputs": [
    {
     "name": "stdout",
     "output_type": "stream",
     "text": [
      "4 3\n",
      "1 2 3 4\n",
      "2\n"
     ]
    }
   ],
   "source": [
    "n, l = map(int, input().split())\n",
    "arr = list(map(int , input().split()))\n",
    "\n",
    "arr.sort()\n",
    "\n",
    "def solution(n, l, arr):\n",
    "\n",
    "    # 붙일 테이프 개수 (최종 정답 변수)\n",
    "    cnt = 1\n",
    "\n",
    "    # 두 파이프 사이 간격\n",
    "    dist = 0\n",
    "\n",
    "    # 반복\n",
    "    for i in range(1, n):\n",
    "        \n",
    "        # 사이 간격의 누적합을 구함\n",
    "        dist += arr[i]-arr[i-1]\n",
    "\n",
    "        # 같다(==) 조건이 없는 이유\n",
    "        # 파이프 양쪽에 0.5의 간격이 필요하다고 했음\n",
    "        # => l이 dist보다 커야만 확실하게 막을 수 있는 경우가 됨\n",
    "        # 두 파이프 사이의 간격보다 테이프의 길이가 긴 경우만 해당 됨 (같으면 안 됨)\n",
    "        \n",
    "        # 테이프의 길이가 사이 간격의 누적합보다 크다?\n",
    "        # 이전까지 테이프 개수로 만든 길이만으로 충분히 커버 가능\n",
    "        # 반복 넘김\n",
    "        if l > dist:\n",
    "            continue\n",
    "            \n",
    "        # 누적합보다 같거나 작다?\n",
    "        # 테이프를 하나 추가하고\n",
    "        # 누적합을 0으로 초기화함 (거기서부터 또 최소 테이프 길이부터 연산 시작)\n",
    "        else:\n",
    "            cnt += 1\n",
    "            dist = 0\n",
    "            \n",
    "    return cnt\n",
    "\n",
    "print(solution(n, l, arr))"
   ]
  }
 ],
 "metadata": {
  "kernelspec": {
   "display_name": "Python3_7",
   "language": "python",
   "name": "3_7"
  },
  "language_info": {
   "codemirror_mode": {
    "name": "ipython",
    "version": 3
   },
   "file_extension": ".py",
   "mimetype": "text/x-python",
   "name": "python",
   "nbconvert_exporter": "python",
   "pygments_lexer": "ipython3",
   "version": "3.7.11"
  }
 },
 "nbformat": 4,
 "nbformat_minor": 5
}
