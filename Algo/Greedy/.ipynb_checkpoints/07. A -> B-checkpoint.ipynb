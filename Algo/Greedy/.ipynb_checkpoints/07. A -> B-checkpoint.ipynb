{
 "cells": [
  {
   "cell_type": "markdown",
   "id": "3740185e",
   "metadata": {},
   "source": [
    "### 16953 A -> B"
   ]
  },
  {
   "cell_type": "code",
   "execution_count": 14,
   "id": "f3b92141",
   "metadata": {},
   "outputs": [
    {
     "name": "stdout",
     "output_type": "stream",
     "text": [
      "2 162\n",
      "5\n"
     ]
    }
   ],
   "source": [
    "a, b = map(int, input().split())\n",
    "\n",
    "# top-down 방식으로 문제 접근\n",
    "# a => b가 아닌 b => a\n",
    "def solution(a, b):\n",
    "    \n",
    "    # 연산의 횟수를 담을 변수\n",
    "    cnt = 1\n",
    "    \n",
    "    # a와 b가 다를 때까지 반복 실시\n",
    "    while (b != a):\n",
    "        cnt += 1\n",
    "        \n",
    "        # 기존 b의 값을 담을 변수\n",
    "        org = b\n",
    "\n",
    "        # b를 10으로 나눴을 때 남은 나머지가 1\n",
    "        # => 문제에서 요구하는 마지막 자리에 1을 붙이는 과정\n",
    "        if b % 10 == 1:\n",
    "            b //= 10\n",
    "            \n",
    "        # 2로 나누어 떨어지는지도 확인\n",
    "        elif b % 2 == 0:\n",
    "            b //= 2\n",
    "\n",
    "        # 위의 연산이 일어났는데 b의 값이 변화가 없다?\n",
    "        # => 만들 수 없는 경우 -1 반환\n",
    "        if (org == b):\n",
    "            return -1\n",
    "    \n",
    "    # 여기까지 내려오면 연산의 횟수를 반환\n",
    "    return cnt\n",
    "\n",
    "print(solution(a, b))"
   ]
  }
 ],
 "metadata": {
  "kernelspec": {
   "display_name": "Python 3",
   "language": "python",
   "name": "python3"
  },
  "language_info": {
   "codemirror_mode": {
    "name": "ipython",
    "version": 3
   },
   "file_extension": ".py",
   "mimetype": "text/x-python",
   "name": "python",
   "nbconvert_exporter": "python",
   "pygments_lexer": "ipython3",
   "version": "3.8.8"
  }
 },
 "nbformat": 4,
 "nbformat_minor": 5
}
