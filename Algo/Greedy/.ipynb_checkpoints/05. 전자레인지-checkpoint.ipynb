{
 "cells": [
  {
   "cell_type": "markdown",
   "id": "9420675d",
   "metadata": {},
   "source": [
    "### 10162 전자레인지"
   ]
  },
  {
   "cell_type": "code",
   "execution_count": 9,
   "id": "00befc59",
   "metadata": {},
   "outputs": [
    {
     "name": "stdout",
     "output_type": "stream",
     "text": [
      "189\n",
      "-1\n"
     ]
    }
   ],
   "source": [
    "T = int(input())\n",
    "\n",
    "sec = [300, 60, 10]\n",
    "\n",
    "cnt_list = []\n",
    "for s in sec:   \n",
    "    \n",
    "    cnt = 0\n",
    "    while T >= s:\n",
    "        T -= s\n",
    "        cnt +=1\n",
    "        \n",
    "    cnt_list.append(cnt)\n",
    "    \n",
    "if T != 0:\n",
    "    print(-1)\n",
    "else:\n",
    "    for c in cnt_list:\n",
    "        print(c, end = ' ')"
   ]
  }
 ],
 "metadata": {
  "kernelspec": {
   "display_name": "Python3_7",
   "language": "python",
   "name": "3_7"
  },
  "language_info": {
   "codemirror_mode": {
    "name": "ipython",
    "version": 3
   },
   "file_extension": ".py",
   "mimetype": "text/x-python",
   "name": "python",
   "nbconvert_exporter": "python",
   "pygments_lexer": "ipython3",
   "version": "3.7.11"
  }
 },
 "nbformat": 4,
 "nbformat_minor": 5
}
