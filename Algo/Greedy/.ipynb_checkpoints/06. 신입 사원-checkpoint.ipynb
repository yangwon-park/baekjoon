{
 "cells": [
  {
   "cell_type": "code",
   "execution_count": 1,
   "id": "bc5f558f",
   "metadata": {},
   "outputs": [
    {
     "name": "stdout",
     "output_type": "stream",
     "text": [
      "2\n",
      "5\n",
      "3 2\n",
      "1 4\n",
      "4 1\n",
      "2 3\n",
      "5 5\n",
      "4\n",
      "7\n",
      "3 6\n",
      "7 3\n",
      "4 2\n",
      "1 4\n",
      "5 7\n",
      "2 5\n",
      "6 1\n",
      "3\n"
     ]
    }
   ],
   "source": [
    "T = int(input())\n",
    "\n",
    "for _ in range(T):\n",
    "\n",
    "    n = int(input())\n",
    "    \n",
    "    # 지원자들의 순위를 입력받을 리스트\n",
    "    score = []\n",
    "    for _ in range(n):\n",
    "        score.append(list(map(int, input().split()))) \n",
    "\n",
    "    # 첫번째 요소(서류 심사 성적)을 기준으로 오름차순 정렬\n",
    "    # 한 요소로 오름차순 정렬을 실시하면\n",
    "    # 남은 하나의 요소만 비교하여 조건에 부합하는가 따져보면 됨\n",
    "    score.sort()\n",
    "\n",
    "    # 신입 사원의 최대 인원수를 담을 변수\n",
    "    # 오름 차순 정렬을 하면\n",
    "    # 서류 심사 성적이 1등인 사람은 무조건 뽑힐 것이므로\n",
    "    # 처음 값을 1로 설정\n",
    "    cnt = 1\n",
    "    \n",
    "    # 서류 심사 1등인 사람의 면접 심사 점수를 기준으로 비교\n",
    "    check = score[0][1]\n",
    "\n",
    "    for i in range(1, n):\n",
    "        # 만약 i번 지원자의 순위가 더 높다면\n",
    "        # cnt에 1을 더해주고\n",
    "        # 해당 지원자의 순위로 기준을 업데이트\n",
    "        if score[i][1] < check:\n",
    "            cnt += 1\n",
    "            check = score[i][1]  \n",
    "            \n",
    "    print(cnt)"
   ]
  }
 ],
 "metadata": {
  "kernelspec": {
   "display_name": "Python 3 (ipykernel)",
   "language": "python",
   "name": "python3"
  },
  "language_info": {
   "codemirror_mode": {
    "name": "ipython",
    "version": 3
   },
   "file_extension": ".py",
   "mimetype": "text/x-python",
   "name": "python",
   "nbconvert_exporter": "python",
   "pygments_lexer": "ipython3",
   "version": "3.7.11"
  }
 },
 "nbformat": 4,
 "nbformat_minor": 5
}
