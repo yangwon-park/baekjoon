{
 "cells": [
  {
   "cell_type": "markdown",
   "id": "37aa2db5",
   "metadata": {},
   "source": [
    "### 2864 5와 6의 차이"
   ]
  },
  {
   "cell_type": "code",
   "execution_count": 13,
   "id": "8f05c0da",
   "metadata": {},
   "outputs": [
    {
     "name": "stdout",
     "output_type": "stream",
     "text": [
      "11 25\n",
      "36 37\n"
     ]
    }
   ],
   "source": [
    "a, b = input().split()\n",
    "_min = int(a.replace('6', '5')) + int(b.replace('6', '5'))\n",
    "_max = int(a.replace('5', '6')) + int(b.replace('5', '6'))\n",
    "\n",
    "print(_min, _max)"
   ]
  }
 ],
 "metadata": {
  "kernelspec": {
   "display_name": "Python3_7",
   "language": "python",
   "name": "3_7"
  },
  "language_info": {
   "codemirror_mode": {
    "name": "ipython",
    "version": 3
   },
   "file_extension": ".py",
   "mimetype": "text/x-python",
   "name": "python",
   "nbconvert_exporter": "python",
   "pygments_lexer": "ipython3",
   "version": "3.7.11"
  }
 },
 "nbformat": 4,
 "nbformat_minor": 5
}
