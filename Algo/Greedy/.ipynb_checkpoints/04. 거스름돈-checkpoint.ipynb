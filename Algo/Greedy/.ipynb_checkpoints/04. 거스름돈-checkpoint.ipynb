{
 "cells": [
  {
   "cell_type": "markdown",
   "id": "7cea4f35",
   "metadata": {},
   "source": [
    "### 5585 거스름돈"
   ]
  },
  {
   "cell_type": "code",
   "execution_count": 24,
   "id": "77180a0e",
   "metadata": {},
   "outputs": [
    {
     "name": "stdout",
     "output_type": "stream",
     "text": [
      "1\n",
      "15\n"
     ]
    }
   ],
   "source": [
    "n = int(input())\n",
    "\n",
    "# 동전 종류\n",
    "coin = [500, 100, 50, 10, 5, 1]\n",
    "\n",
    "# 구현 기능\n",
    "def solution(n, coin):\n",
    "    # 받을 거스름돈\n",
    "    change = 1000 - n\n",
    "\n",
    "    # 거스름돈으로 받은 잔돈의 개수\n",
    "    cnt = 0\n",
    "    \n",
    "    for i in range(len(coin)):\n",
    "\n",
    "        while change >= coin[i]:\n",
    "            change -= coin[i]\n",
    "            cnt += 1\n",
    "        \n",
    "    print(cnt)        \n",
    "    \n",
    "solution(n, coin)    "
   ]
  }
 ],
 "metadata": {
  "kernelspec": {
   "display_name": "Python3_7",
   "language": "python",
   "name": "3_7"
  },
  "language_info": {
   "codemirror_mode": {
    "name": "ipython",
    "version": 3
   },
   "file_extension": ".py",
   "mimetype": "text/x-python",
   "name": "python",
   "nbconvert_exporter": "python",
   "pygments_lexer": "ipython3",
   "version": "3.7.11"
  }
 },
 "nbformat": 4,
 "nbformat_minor": 5
}
