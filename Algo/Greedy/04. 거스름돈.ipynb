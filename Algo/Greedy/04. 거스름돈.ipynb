{
 "cells": [
  {
   "cell_type": "markdown",
   "id": "f9f19ca7",
   "metadata": {},
   "source": [
    "### 5585 거스름돈"
   ]
  },
  {
   "cell_type": "code",
   "execution_count": 25,
   "id": "61c1e04b",
   "metadata": {},
   "outputs": [
    {
     "name": "stdout",
     "output_type": "stream",
     "text": [
      "380\n",
      "4\n"
     ]
    }
   ],
   "source": [
    "n = int(input())\n",
    "\n",
    "# 동전 종류\n",
    "coin = [500, 100, 50, 10, 5, 1]\n",
    "\n",
    "# 구현 기능\n",
    "def solution(n, coin):\n",
    "    # 받을 거스름돈\n",
    "    change = 1000 - n\n",
    "\n",
    "    # 거스름돈으로 받은 잔돈의 개수\n",
    "    cnt = 0\n",
    "    \n",
    "    # 잔돈 종류별로 반복\n",
    "    for c in coin:\n",
    "\n",
    "        # 남은 돈이 현재 잔돈보다 작아질 때까지 반복\n",
    "        while change >= c:\n",
    "            \n",
    "            # 거스름돈에 현재 잔돈 금액만큼 빼줌\n",
    "            change -= c\n",
    "            \n",
    "            # 잔돈을 한 번 계산했으므로 cnt + 1\n",
    "            cnt += 1\n",
    "        \n",
    "    print(cnt)        \n",
    "    \n",
    "solution(n, coin)    "
   ]
  }
 ],
 "metadata": {
  "kernelspec": {
   "display_name": "Python3_7",
   "language": "python",
   "name": "3_7"
  },
  "language_info": {
   "codemirror_mode": {
    "name": "ipython",
    "version": 3
   },
   "file_extension": ".py",
   "mimetype": "text/x-python",
   "name": "python",
   "nbconvert_exporter": "python",
   "pygments_lexer": "ipython3",
   "version": "3.7.11"
  }
 },
 "nbformat": 4,
 "nbformat_minor": 5
}
