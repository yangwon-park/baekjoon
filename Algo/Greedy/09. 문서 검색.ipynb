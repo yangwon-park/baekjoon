{
 "cells": [
  {
   "cell_type": "markdown",
   "id": "39079aed",
   "metadata": {},
   "source": [
    "### 1543 문서 검색"
   ]
  },
  {
   "cell_type": "code",
   "execution_count": 19,
   "id": "2f6d20a7",
   "metadata": {},
   "outputs": [
    {
     "name": "stdout",
     "output_type": "stream",
     "text": [
      "aaaaaaa\n",
      "aa\n",
      "3\n"
     ]
    }
   ],
   "source": [
    "doc = input()\n",
    "k = input()\n",
    "\n",
    "def solution(doc, k):\n",
    "    cnt = 0 # 정답 변수\n",
    "    i = 0   # 인덱스\n",
    "    \n",
    "    # len(doc) - len(k)\n",
    "    # 주어지는 두 값의 차이보다 작거나 같은 경우만 수행\n",
    "    # i값이 더 더 커지면, i + len(k)가 len(doc)보다 커짐\n",
    "    # 더 이상 k가 doc의 부분일 수가 없음\n",
    "    while i <= len(doc) - len(k):\n",
    "        \n",
    "        # doc[i ~ k까지의 문자열]이 k와 같다\n",
    "        if doc[i:(i + len(k))] == k:\n",
    "            \n",
    "            # 개수 1 증가\n",
    "            cnt += 1\n",
    "            \n",
    "            # len(k)까지 같았으므로\n",
    "            # i는 그 이후의 값부터 봐야함\n",
    "            # 따라서 len(k)만큼 더해줌\n",
    "            i += len(k)\n",
    "        # 같지 않다\n",
    "        # 1만 증가시켜서 다음은 k와 같은지 비교\n",
    "        else:\n",
    "            i += 1\n",
    "    \n",
    "    return cnt\n",
    "print(solution(doc, k))"
   ]
  }
 ],
 "metadata": {
  "kernelspec": {
   "display_name": "Python3_7",
   "language": "python",
   "name": "3_7"
  },
  "language_info": {
   "codemirror_mode": {
    "name": "ipython",
    "version": 3
   },
   "file_extension": ".py",
   "mimetype": "text/x-python",
   "name": "python",
   "nbconvert_exporter": "python",
   "pygments_lexer": "ipython3",
   "version": "3.7.11"
  }
 },
 "nbformat": 4,
 "nbformat_minor": 5
}
