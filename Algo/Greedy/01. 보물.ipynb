{
 "cells": [
  {
   "cell_type": "markdown",
   "id": "8cb4c655",
   "metadata": {},
   "source": [
    "### 1026 보물"
   ]
  },
  {
   "cell_type": "markdown",
   "id": "d6d2e18b",
   "metadata": {},
   "source": [
    "#### B 건드리기"
   ]
  },
  {
   "cell_type": "code",
   "execution_count": 15,
   "id": "4a3c69ca",
   "metadata": {},
   "outputs": [
    {
     "name": "stdout",
     "output_type": "stream",
     "text": [
      "3\n",
      "1 1 3\n",
      "10 30 20\n",
      "80\n"
     ]
    }
   ],
   "source": [
    "n = int(input())\n",
    "\n",
    "# 배열 A\n",
    "a = list(map(int, input().split()))\n",
    "\n",
    "# 배열 B\n",
    "b = list(map(int, input().split()))\n",
    "\n",
    "# 함수 S를 적용할 배열\n",
    "answer = []\n",
    "\n",
    "# 함수 S 구현\n",
    "def _S(a, b, answer):\n",
    "    a.sort()\n",
    "    b.sort(reverse=True)\n",
    "    for i in range(n):\n",
    "        answer.append(a[i] * b[i])\n",
    "\n",
    "    print(sum(answer))\n",
    "\n",
    "_S(a, b, answer)    "
   ]
  },
  {
   "cell_type": "markdown",
   "id": "ccff16fe",
   "metadata": {},
   "source": [
    "#### B 안 건드리기"
   ]
  },
  {
   "cell_type": "code",
   "execution_count": 42,
   "id": "2179c9ae",
   "metadata": {},
   "outputs": [
    {
     "name": "stdout",
     "output_type": "stream",
     "text": [
      "3\n",
      "1 1 3\n",
      "10 30 20\n",
      "80\n"
     ]
    }
   ],
   "source": [
    "n = int(input())\n",
    "\n",
    "# 배열 A\n",
    "a = list(map(int, input().split()))\n",
    "\n",
    "# 배열 B\n",
    "b = list(map(int, input().split()))\n",
    "\n",
    "# 함수 S를 적용할 배열\n",
    "answer = [] \n",
    "\n",
    "# 함수 S 구현\n",
    "def _S(a, b, answer):\n",
    "    # 배열 A 오름차순 정렬\n",
    "    a.sort()\n",
    "    \n",
    "    for i in range(n):\n",
    "        # B에 곱해줄 A의 원소\n",
    "        _a = a[i]\n",
    "        \n",
    "        # B에서 가장 큰 값의 인덱스 번호\n",
    "        max_idx = b.index(max(b))\n",
    "        \n",
    "        # 가장 큰 값을 pop하여 _b에 담아줌\n",
    "        _b = b.pop(max_idx) \n",
    "    \n",
    "        # 오름차순으로 정렬된 A의 원소 * B의 가장 큰 값을\n",
    "        # 각각 곱하고 answer에 저장\n",
    "        answer.append(_a * _b)\n",
    "    \n",
    "    # 그 합을 출력\n",
    "    print(sum(answer))    \n",
    "    \n",
    "_S(a, b, answer)"
   ]
  }
 ],
 "metadata": {
  "kernelspec": {
   "display_name": "Python3_7",
   "language": "python",
   "name": "3_7"
  },
  "language_info": {
   "codemirror_mode": {
    "name": "ipython",
    "version": 3
   },
   "file_extension": ".py",
   "mimetype": "text/x-python",
   "name": "python",
   "nbconvert_exporter": "python",
   "pygments_lexer": "ipython3",
   "version": "3.7.11"
  }
 },
 "nbformat": 4,
 "nbformat_minor": 5
}
