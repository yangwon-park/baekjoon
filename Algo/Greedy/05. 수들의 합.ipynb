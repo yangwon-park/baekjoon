{
 "cells": [
  {
   "cell_type": "markdown",
   "id": "f98d1ce4",
   "metadata": {},
   "source": [
    "### 1789 수들의 합"
   ]
  },
  {
   "cell_type": "code",
   "execution_count": 23,
   "id": "430a1899",
   "metadata": {},
   "outputs": [
    {
     "name": "stdout",
     "output_type": "stream",
     "text": [
      "12\n",
      "4\n"
     ]
    }
   ],
   "source": [
    "s = int(input())\n",
    "\n",
    "i = 0\n",
    "tot = 0\n",
    "while tot <= s:\n",
    "    i += 1\n",
    "    tot += i\n",
    "    \n",
    "    \n",
    "print(i-1)"
   ]
  }
 ],
 "metadata": {
  "kernelspec": {
   "display_name": "Python 3 (ipykernel)",
   "language": "python",
   "name": "python3"
  },
  "language_info": {
   "codemirror_mode": {
    "name": "ipython",
    "version": 3
   },
   "file_extension": ".py",
   "mimetype": "text/x-python",
   "name": "python",
   "nbconvert_exporter": "python",
   "pygments_lexer": "ipython3",
   "version": "3.9.7"
  }
 },
 "nbformat": 4,
 "nbformat_minor": 5
}
