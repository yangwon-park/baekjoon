{
 "cells": [
  {
   "cell_type": "markdown",
   "id": "9cfcbdca",
   "metadata": {},
   "source": [
    "### 4796 캠핑"
   ]
  },
  {
   "cell_type": "code",
   "execution_count": 9,
   "id": "7814ad9d",
   "metadata": {},
   "outputs": [
    {
     "name": "stdout",
     "output_type": "stream",
     "text": [
      "5 8 20\n",
      "Case 1: 14\n",
      "5 8 21\n",
      "Case 2: 15\n",
      "5 8 22\n",
      "Case 3: 15\n",
      "5 8 23\n",
      "Case 4: 15\n",
      "5 8 24\n",
      "Case 5: 15\n",
      "5 8 25\n",
      "Case 6: 16\n",
      "0 0 0\n"
     ]
    }
   ],
   "source": [
    "cnt = 0\n",
    "while True:\n",
    "    cnt += 1\n",
    "    l, p, v = map(int, input().split())\n",
    "    \n",
    "    if l == p == v == 0:\n",
    "        break\n",
    "        \n",
    "    answer = (v // p) * l\n",
    "    \n",
    "    # 나머지와 l의 값 중 더 작은 값을 선택\n",
    "    answer += min((v % p), l)\n",
    "    \n",
    "    \n",
    "    print(\"Case %d: %d\" %(cnt, answer))"
   ]
  }
 ],
 "metadata": {
  "kernelspec": {
   "display_name": "Python 3",
   "language": "python",
   "name": "python3"
  },
  "language_info": {
   "codemirror_mode": {
    "name": "ipython",
    "version": 3
   },
   "file_extension": ".py",
   "mimetype": "text/x-python",
   "name": "python",
   "nbconvert_exporter": "python",
   "pygments_lexer": "ipython3",
   "version": "3.8.8"
  }
 },
 "nbformat": 4,
 "nbformat_minor": 5
}
