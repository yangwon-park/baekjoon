{
 "cells": [
  {
   "cell_type": "code",
   "execution_count": 25,
   "id": "70611205",
   "metadata": {},
   "outputs": [
    {
     "name": "stdout",
     "output_type": "stream",
     "text": [
      "4\n",
      "2 3 1\n",
      "5 2 4 1\n",
      "18\n"
     ]
    }
   ],
   "source": [
    "n = int(input())\n",
    "dist = list(map(int, input().split()))\n",
    "price = list(map(int, input().split()))\n",
    "\n",
    "# 최종 주유한 비용을 담을 변수\n",
    "answer = 0\n",
    "\n",
    "# 가장 싼 주유소 기름값\n",
    "# 최초 주유소는 무조건 주유를 해야하므로\n",
    "# 처음 최솟값은 해당 값으로 지정\n",
    "min_price = price[0]\n",
    "\n",
    "# 마지막 주유소의 기름값은 고려하지 않으므로\n",
    "# n-1번까지 반복을 시행한다\n",
    "for i in range(n-1):\n",
    "    \n",
    "    # 이전까지의 최솟값보다\n",
    "    # 현재 도착한 주유소의 가격이 더 작다면\n",
    "    # 최솟값을 현재 주유소의 가격으로 바꿔줌\n",
    "    if price[i] < min_price:\n",
    "        min_price = price[i]\n",
    "\n",
    "    # 최솟값 * 이동 거리를 곱해줌 => 주유 비용\n",
    "    # 이를 answer에 누적합해줌\n",
    "    answer += min_price * dist[i]\n",
    "    \n",
    "print(answer)    "
   ]
  }
 ],
 "metadata": {
  "kernelspec": {
   "display_name": "Python3_7",
   "language": "python",
   "name": "3_7"
  },
  "language_info": {
   "codemirror_mode": {
    "name": "ipython",
    "version": 3
   },
   "file_extension": ".py",
   "mimetype": "text/x-python",
   "name": "python",
   "nbconvert_exporter": "python",
   "pygments_lexer": "ipython3",
   "version": "3.7.11"
  }
 },
 "nbformat": 4,
 "nbformat_minor": 5
}
