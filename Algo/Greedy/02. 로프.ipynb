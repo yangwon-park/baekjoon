{
 "cells": [
  {
   "cell_type": "markdown",
   "id": "139948c1",
   "metadata": {},
   "source": [
    "### 2217 로프"
   ]
  },
  {
   "cell_type": "code",
   "execution_count": 9,
   "id": "193005f0",
   "metadata": {},
   "outputs": [
    {
     "name": "stdout",
     "output_type": "stream",
     "text": [
      "2\n",
      "10\n",
      "15\n",
      "20\n"
     ]
    }
   ],
   "source": [
    "n = int(input())\n",
    "\n",
    "# 밧줄\n",
    "rope = [int(input()) for _ in range(n)]\n",
    "\n",
    "# 각 로프들로 만들 수 있는 최대 중량을 담을 리스트\n",
    "answer = []\n",
    "\n",
    "# 기능 구현\n",
    "def solution(n, rope, answer):\n",
    "    \n",
    "    # 편의를 위해 rope 내림차순 정렬\n",
    "    rope.sort(reverse=True)\n",
    "\n",
    "    for i in range(n):\n",
    "        # 내림차순된 rope의 각 요소와 인덱스+1의 값을 곱하고\n",
    "        # answer 리스트에 저장\n",
    "        answer.append(rope[i] * (i+1))\n",
    "\n",
    "    print(max(answer))\n",
    "    \n",
    "solution(n, rope, answer)"
   ]
  }
 ],
 "metadata": {
  "kernelspec": {
   "display_name": "Python3_7",
   "language": "python",
   "name": "3_7"
  },
  "language_info": {
   "codemirror_mode": {
    "name": "ipython",
    "version": 3
   },
   "file_extension": ".py",
   "mimetype": "text/x-python",
   "name": "python",
   "nbconvert_exporter": "python",
   "pygments_lexer": "ipython3",
   "version": "3.7.11"
  }
 },
 "nbformat": 4,
 "nbformat_minor": 5
}
