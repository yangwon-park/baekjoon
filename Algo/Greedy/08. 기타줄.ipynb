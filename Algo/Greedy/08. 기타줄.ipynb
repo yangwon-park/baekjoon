{
 "cells": [
  {
   "cell_type": "markdown",
   "id": "d50ed3af",
   "metadata": {},
   "source": [
    "### 1049 기타줄"
   ]
  },
  {
   "cell_type": "code",
   "execution_count": 34,
   "id": "0aa92e6f",
   "metadata": {},
   "outputs": [
    {
     "name": "stdout",
     "output_type": "stream",
     "text": [
      "10 3\n",
      "10 20\n",
      "13 3\n",
      "15 4\n",
      "20\n"
     ]
    }
   ],
   "source": [
    "n, m = map(int, input().split())\n",
    "\n",
    "brand = []\n",
    "\n",
    "# 6개 패키지 가격, 개당 가격\n",
    "for _ in range(m):\n",
    "    brand.append(list(map(int, input().split())))\n",
    "    \n",
    "def solution(brand):\n",
    "    \n",
    "    # 6개 패키지의 최솟값\n",
    "    min_six = 1001\n",
    "    \n",
    "    # 패키지 구매와 개당을 6개 산 것 중 가장 싼 값을 저장\n",
    "    for i in range(m):\n",
    "        min_six = min(min_six, brand[i][0], brand[i][1] * 6)\n",
    "        \n",
    "    # 1개의 최솟값\n",
    "    min_one = 1001\n",
    "    \n",
    "    # 개당 가격이 가장 싼 값을 저장\n",
    "    for i in range(m):\n",
    "        min_one = min(min_one, brand[i][1])\n",
    "        \n",
    "    # a : 패키지 구매 개수\n",
    "    # b : 개당 구매 개수\n",
    "    a = n // 6\n",
    "    b = n % 6\n",
    "    \n",
    "    # 아래 조건식의 뜻\n",
    "    # 개당 구매 개수의 총 가격이\n",
    "    # 패키지로 사는 것보다 비싼 경우\n",
    "    # 그냥 패키지를 하나 더 사고 만다\n",
    "    if b * min_one > min_six:\n",
    "        print((a+1) * min_six)\n",
    "\n",
    "    # 그렇지 않다면\n",
    "    # 패키지 개수만큼 사고, 개당 남은 개수를 구매\n",
    "    else:\n",
    "        print(a * min_six + b * min_one)\n",
    "    \n",
    "solution(brand)        "
   ]
  }
 ],
 "metadata": {
  "kernelspec": {
   "display_name": "Python3_7",
   "language": "python",
   "name": "3_7"
  },
  "language_info": {
   "codemirror_mode": {
    "name": "ipython",
    "version": 3
   },
   "file_extension": ".py",
   "mimetype": "text/x-python",
   "name": "python",
   "nbconvert_exporter": "python",
   "pygments_lexer": "ipython3",
   "version": "3.7.11"
  }
 },
 "nbformat": 4,
 "nbformat_minor": 5
}
