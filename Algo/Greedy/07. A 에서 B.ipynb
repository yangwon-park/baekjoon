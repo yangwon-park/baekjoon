{
 "cells": [
  {
   "cell_type": "markdown",
   "id": "8d8ef362",
   "metadata": {},
   "source": [
    "### 16953A -> B"
   ]
  },
  {
   "cell_type": "code",
   "execution_count": 1,
   "id": "fe82b301",
   "metadata": {},
   "outputs": [
    {
     "name": "stdout",
     "output_type": "stream",
     "text": [
      "10 100\n",
      "-1\n"
     ]
    }
   ],
   "source": [
    "a, b = map(int, input().split())\n",
    "\n",
    "def solution(a, b):\n",
    "    cnt = 1\n",
    "    while (b != a):\n",
    "        cnt += 1\n",
    "        org = b\n",
    "\n",
    "        if b % 10 == 1:\n",
    "            b //= 10\n",
    "        elif b % 2 == 0:\n",
    "            b //= 2\n",
    "\n",
    "        if (org == b):\n",
    "            return -1\n",
    "\n",
    "    return cnt\n",
    "\n",
    "print(solution(a, b))"
   ]
  }
 ],
 "metadata": {
  "kernelspec": {
   "display_name": "Python3_7",
   "language": "python",
   "name": "3_7"
  },
  "language_info": {
   "codemirror_mode": {
    "name": "ipython",
    "version": 3
   },
   "file_extension": ".py",
   "mimetype": "text/x-python",
   "name": "python",
   "nbconvert_exporter": "python",
   "pygments_lexer": "ipython3",
   "version": "3.7.11"
  }
 },
 "nbformat": 4,
 "nbformat_minor": 5
}
