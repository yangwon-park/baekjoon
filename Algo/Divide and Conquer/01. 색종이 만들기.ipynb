{
 "cells": [
  {
   "cell_type": "markdown",
   "id": "4cbf4aa4",
   "metadata": {},
   "source": [
    "### 2630 색종이 만들기"
   ]
  },
  {
   "cell_type": "code",
   "execution_count": 8,
   "id": "b48b17ee",
   "metadata": {},
   "outputs": [
    {
     "name": "stdout",
     "output_type": "stream",
     "text": [
      "8\n",
      "1 1 0 0 0 0 1 1\n",
      "1 1 0 0 0 0 1 1\n",
      "0 0 0 0 1 1 0 0\n",
      "0 0 0 0 1 1 0 0\n",
      "1 0 0 0 1 1 1 1\n",
      "0 1 0 0 1 1 1 1\n",
      "0 0 1 1 1 1 1 1\n",
      "0 0 1 1 1 1 1 1\n",
      "9\n",
      "7\n"
     ]
    }
   ],
   "source": [
    "n = int(input())\n",
    "graph = []\n",
    "for _ in range(n):\n",
    "    graph.append(list(map(int, input().split())))\n",
    "    \n",
    "color_list = []\n",
    "\n",
    "# 쿼드 트리 (좌표 기준 4방향으로 탐색)\n",
    "# n : 찾는 종이의 길이가 됨\n",
    "def quad_tree(x, y, n):\n",
    "    \n",
    "    # x, y 좌표의 현재 색을 담을 변수 (0 or 1)\n",
    "    color = graph[x][y]\n",
    "    \n",
    "    # 모든 좌표를 탐색\n",
    "    for i in range(x, x+n):\n",
    "        for j in range(y, y+n):\n",
    "            \n",
    "            # 탐색이 시작된 좌표의 색 != 탐색 중인 좌표의 색\n",
    "            # 쿼드 트리를 수행\n",
    "            if color != graph[i][j]:\n",
    "                quad_tree(x, y, n//2)\n",
    "                quad_tree(x, y+n//2, n//2)\n",
    "                quad_tree(x+n//2, y, n//2)\n",
    "                quad_tree(x+n//2, y+n//2, n//2)\n",
    "                return\n",
    "    if color == 0:\n",
    "        color_list.append(0)\n",
    "    else:\n",
    "        color_list.append(1)\n",
    "        \n",
    "        \n",
    "# (0,0)부터 시작\n",
    "quad_tree(0, 0, n)\n",
    "\n",
    "print(color_list.count(0))\n",
    "print(color_list.count(1))    "
   ]
  }
 ],
 "metadata": {
  "kernelspec": {
   "display_name": "Python3_7",
   "language": "python",
   "name": "3_7"
  },
  "language_info": {
   "codemirror_mode": {
    "name": "ipython",
    "version": 3
   },
   "file_extension": ".py",
   "mimetype": "text/x-python",
   "name": "python",
   "nbconvert_exporter": "python",
   "pygments_lexer": "ipython3",
   "version": "3.7.11"
  }
 },
 "nbformat": 4,
 "nbformat_minor": 5
}
