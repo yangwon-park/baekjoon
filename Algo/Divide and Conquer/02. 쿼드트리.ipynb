{
 "cells": [
  {
   "cell_type": "markdown",
   "id": "291aa83e",
   "metadata": {},
   "source": [
    "### 1992 쿼드 트리"
   ]
  },
  {
   "cell_type": "code",
   "execution_count": 3,
   "id": "6d441293",
   "metadata": {},
   "outputs": [
    {
     "name": "stdout",
     "output_type": "stream",
     "text": [
      "8\n",
      "11110000\n",
      "11110000\n",
      "00011100\n",
      "00011100\n",
      "11110000\n",
      "11110000\n",
      "11110011\n",
      "11110011\n"
     ]
    }
   ],
   "source": [
    "n = int(input())\n",
    "\n",
    "graph = []\n",
    "\n",
    "for _ in range(n):\n",
    "    graph.append(list(input()))\n",
    "    \n",
    "def quad_tree(x, y, n):\n",
    "    color = graph[x][y]\n",
    "    \n",
    "    for i in range(x, x+n):\n",
    "        for j in range(y, y+n):\n",
    "            if color != graph[i][j]:\n",
    "                # 분할의 시작과 끝에 괄호 설정\n",
    "                print('(', end='')\n",
    "                quad_tree(x, y, n//2)\n",
    "                quad_tree(x, y+n//2, n//2)\n",
    "                quad_tree(x+n//2, y, n//2)\n",
    "                quad_tree(x+n//2, y+n//2, n//2)\n",
    "                print(')', end='')\n",
    "                return\n",
    "    \n",
    "    # 함수가 종료되지 않고 아래의 조건문이 실행되면\n",
    "    # 분할 정복이 완료됨 => 마지막에 남은 색을 일단 출력하고\n",
    "    # 다음 분할로 넘어감\n",
    "    if color=='0':\n",
    "        print('0', end='')\n",
    "    else:\n",
    "        print('1', end='')\n",
    "quad_tree(0, 0, n)                "
   ]
  }
 ],
 "metadata": {
  "kernelspec": {
   "display_name": "Python3_7",
   "language": "python",
   "name": "3_7"
  },
  "language_info": {
   "codemirror_mode": {
    "name": "ipython",
    "version": 3
   },
   "file_extension": ".py",
   "mimetype": "text/x-python",
   "name": "python",
   "nbconvert_exporter": "python",
   "pygments_lexer": "ipython3",
   "version": "3.7.11"
  }
 },
 "nbformat": 4,
 "nbformat_minor": 5
}
