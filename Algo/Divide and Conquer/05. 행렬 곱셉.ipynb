{
 "cells": [
  {
   "cell_type": "markdown",
   "id": "1c028791",
   "metadata": {},
   "source": [
    "### 2740 행렬 곱셈"
   ]
  },
  {
   "cell_type": "code",
   "execution_count": 16,
   "id": "13082160",
   "metadata": {},
   "outputs": [
    {
     "name": "stdout",
     "output_type": "stream",
     "text": [
      "3 2\n",
      "1 2\n",
      "3 4\n",
      "5 6\n",
      "2 3\n",
      "-1 -2 0\n",
      "0 0 3\n",
      "-1 -2 6 \n",
      "-3 -6 12 \n",
      "-5 -10 18 \n"
     ]
    }
   ],
   "source": [
    "n, m = map(int, input().split())\n",
    "\n",
    "A = []\n",
    "B = []\n",
    "\n",
    "for _ in range(n):\n",
    "    A.append(list(map(int, input().split())))\n",
    "    \n",
    "m, k = map(int, input().split())\n",
    "\n",
    "for _ in range(m):\n",
    "    B.append(list(map(int, input().split())))\n",
    "    \n",
    "# 최종 출력할 행렬을 미리 만들어둠 (0으로 초기화)\n",
    "result = [[0 for _ in range(k)] for _ in range(n)]\n",
    "\n",
    "for i in range(n):\n",
    "    for j in range(k):\n",
    "        for x in range(m):\n",
    "            # 곱을 result[i][j]에 더해줌\n",
    "            result[i][j] += A[i][x] * B[x][j]\n",
    "            \n",
    "for row in result:\n",
    "    for m in row:\n",
    "        print(m, end= ' ')\n",
    "    print()                "
   ]
  }
 ],
 "metadata": {
  "kernelspec": {
   "display_name": "Python 3",
   "language": "python",
   "name": "python3"
  },
  "language_info": {
   "codemirror_mode": {
    "name": "ipython",
    "version": 3
   },
   "file_extension": ".py",
   "mimetype": "text/x-python",
   "name": "python",
   "nbconvert_exporter": "python",
   "pygments_lexer": "ipython3",
   "version": "3.8.8"
  }
 },
 "nbformat": 4,
 "nbformat_minor": 5
}
