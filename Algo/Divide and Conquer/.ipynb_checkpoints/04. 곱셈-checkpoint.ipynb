{
 "cells": [
  {
   "cell_type": "markdown",
   "id": "b6d4088e",
   "metadata": {},
   "source": [
    "### 1629 곱셈"
   ]
  },
  {
   "cell_type": "code",
   "execution_count": 35,
   "id": "1512e3ab",
   "metadata": {},
   "outputs": [
    {
     "name": "stdout",
     "output_type": "stream",
     "text": [
      "10 11 12\n",
      "11\n",
      "5\n",
      "2\n",
      "1\n",
      "2\n",
      "5\n",
      "11\n",
      "4\n"
     ]
    }
   ],
   "source": [
    "a, b, c = map(int, input().split())\n",
    "\n",
    "depth=0\n",
    "\n",
    "def solution(a, b, c):\n",
    "    # b가 1이 될 때까지 분할 정복 수행\n",
    "    # b가 1이면 a % c가 정답\n",
    "    if b == 1:\n",
    "        return a % c\n",
    "    \n",
    "    # 분할 정복(재귀) 실시\n",
    "    tmp = solution(a, b//2, c)\n",
    "    \n",
    "    # a^b가 주어질 때 (a는 밑, b는 지수)\n",
    "    # b가 짝수이면\n",
    "    # a^b == a^b//2 * a^b//2\n",
    "    if b % 2 == 0:\n",
    "        return tmp * tmp % c\n",
    "    # b가 홀수이면\n",
    "    # a^b == a^b//2 * a&^b//2 * a\n",
    "    else:\n",
    "        return tmp * tmp * a % c\n",
    "    \n",
    "print(solution(a, b, c))    "
   ]
  }
 ],
 "metadata": {
  "kernelspec": {
   "display_name": "Python3_7",
   "language": "python",
   "name": "3_7"
  },
  "language_info": {
   "codemirror_mode": {
    "name": "ipython",
    "version": 3
   },
   "file_extension": ".py",
   "mimetype": "text/x-python",
   "name": "python",
   "nbconvert_exporter": "python",
   "pygments_lexer": "ipython3",
   "version": "3.7.11"
  }
 },
 "nbformat": 4,
 "nbformat_minor": 5
}
