{
 "cells": [
  {
   "cell_type": "markdown",
   "id": "cf7c2781",
   "metadata": {},
   "source": [
    "### 1780 종이의 개수"
   ]
  },
  {
   "cell_type": "code",
   "execution_count": 26,
   "id": "fc27ad60",
   "metadata": {},
   "outputs": [
    {
     "name": "stdout",
     "output_type": "stream",
     "text": [
      "9\n",
      "0 0 0 1 1 1 -1 -1 -1\n",
      "0 0 0 1 1 1 -1 -1 -1\n",
      "0 0 0 1 1 1 -1 -1 -1\n",
      "1 1 1 0 0 0 0 0 0\n",
      "1 1 1 0 0 0 0 0 0\n",
      "1 1 1 0 0 0 0 0 0\n",
      "0 1 -1 0 1 -1 0 1 -1\n",
      "0 -1 1 0 1 -1 0 1 -1\n",
      "0 1 -1 1 0 -1 0 1 -1\n",
      "10\n",
      "12\n",
      "11\n"
     ]
    }
   ],
   "source": [
    "n = int(input())\n",
    "graph = []\n",
    "\n",
    "for _ in range(n):\n",
    "    graph.append(list(map(int, input().split())))\n",
    "    \n",
    "# -1, 0, 1로만 채워진 종이의 개수를 담을 리스트\n",
    "cnt_list = [0, 0, 0]\n",
    "\n",
    "# 메소드 구현\n",
    "def solution(x, y, n):\n",
    "    color = graph[x][y]\n",
    "    \n",
    "    # N의 범위가 3의 7승(2187)이므로\n",
    "    # 그리 크지 않음 => 4중 포문으로 시간내 구현 가능\n",
    "    for i in range(x, x+n):\n",
    "        for j in range(y, y+n):\n",
    "            if color != graph[i][j]:\n",
    "                \n",
    "                # 9개의 종이로 자름 => 3*3이므로\n",
    "                # 쿼드 트리와 다르게 2가 아닌 3으로 나눠줌\n",
    "                # 이 때, 3으로 딸랑 한 번 나눠 주는게 아님\n",
    "                # 0, 3, 6 이렇게 총 3 번 나눠줘야 하므로\n",
    "                # x, y에 각각 반복문을 사용하여 분할을 구현해준다\n",
    "                for k in range(3):\n",
    "                    for l in range(3):\n",
    "                        solution(x + k*n//3, y + l * n // 3, n//3)\n",
    "\n",
    "                return\n",
    "            \n",
    "    # 위의 회귀로 실행된 반복문이 종료 된 후\n",
    "    # color변수에 남은 값에 따라서 개수를 증가시켜줌\n",
    "    if color == -1:\n",
    "        cnt_list[0] += 1\n",
    "    elif color == 0:\n",
    "        cnt_list[1] += 1\n",
    "    else:\n",
    "        cnt_list[2] += 1\n",
    "    \n",
    "    return cnt_list\n",
    "            \n",
    "                \n",
    "solution(0, 0, n)\n",
    "\n",
    "for c in cnt_list:\n",
    "    print(c)"
   ]
  }
 ],
 "metadata": {
  "kernelspec": {
   "display_name": "Python3_7",
   "language": "python",
   "name": "3_7"
  },
  "language_info": {
   "codemirror_mode": {
    "name": "ipython",
    "version": 3
   },
   "file_extension": ".py",
   "mimetype": "text/x-python",
   "name": "python",
   "nbconvert_exporter": "python",
   "pygments_lexer": "ipython3",
   "version": "3.7.11"
  }
 },
 "nbformat": 4,
 "nbformat_minor": 5
}
