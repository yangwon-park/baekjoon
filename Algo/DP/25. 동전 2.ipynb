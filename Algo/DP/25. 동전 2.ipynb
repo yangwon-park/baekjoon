{
 "cells": [
  {
   "cell_type": "markdown",
   "id": "7e39463c",
   "metadata": {},
   "source": [
    "### 2294 동전 2"
   ]
  },
  {
   "cell_type": "code",
   "execution_count": 13,
   "id": "d86364dc",
   "metadata": {},
   "outputs": [
    {
     "name": "stdout",
     "output_type": "stream",
     "text": [
      "3 15\n",
      "1\n",
      "5\n",
      "12\n",
      "3\n"
     ]
    }
   ],
   "source": [
    "n, k = map(int, input().split())\n",
    "coins = [int(input()) for _ in range(n)]\n",
    "\n",
    "def solution():\n",
    "\n",
    "    dp = [0 for _ in range(k+1)]\n",
    "\n",
    "    # 1 ~ k(목푯값)까지 반복 돌림\n",
    "    for i in range(1, k+1):\n",
    "        \n",
    "        # 경우의 수를 담을 리스트\n",
    "        tmp = []\n",
    "\n",
    "        # 주어진 동전을 가지고 반복 실행\n",
    "        for c in coins:\n",
    "            \n",
    "            # i보다 보유한 동전의 값이 더 작고 \n",
    "            # dp[i-c] : 현재 목표 금액 i에 -c를 한 금액을 만들 수 있는 경우의 수\n",
    "            # 즉, i-c 금액을 만드는 최소 동전의 개수\n",
    "            # 이 값이 -1이면 i도 어차피 만들 수 없음\n",
    "            # 이렇지 않은 경우에만 a에 dp[i-c]의 값 + 1을 추가\n",
    "            # +1의 이유 => 이전 까지의 경우의 수(dp[i-c])에 이번 동전(c)를 더 하였으므로 사용한 동전 수가 1개 더 많아짐\n",
    "            if c <= i and dp[i-c] != -1:\n",
    "                tmp.append(dp[i-c]+1)\n",
    "\n",
    "        # a가 비었음 => 주어진 동전으로 목표한 값(i)을 못 만듬\n",
    "        if not tmp:\n",
    "            dp[i] = -1\n",
    "\n",
    "        # 만들 수 있는 경우\n",
    "        # 가장 작은 경우의 수가 DP 테이블의 값\n",
    "        else:\n",
    "            dp[i] = min(tmp)\n",
    "        \n",
    "    print(dp[k])\n",
    "    \n",
    "solution()"
   ]
  }
 ],
 "metadata": {
  "kernelspec": {
   "display_name": "Python3_7",
   "language": "python",
   "name": "3_7"
  },
  "language_info": {
   "codemirror_mode": {
    "name": "ipython",
    "version": 3
   },
   "file_extension": ".py",
   "mimetype": "text/x-python",
   "name": "python",
   "nbconvert_exporter": "python",
   "pygments_lexer": "ipython3",
   "version": "3.7.11"
  }
 },
 "nbformat": 4,
 "nbformat_minor": 5
}
