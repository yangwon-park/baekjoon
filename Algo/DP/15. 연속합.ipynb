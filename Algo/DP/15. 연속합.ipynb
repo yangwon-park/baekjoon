{
 "cells": [
  {
   "cell_type": "markdown",
   "id": "60f38f7e",
   "metadata": {},
   "source": [
    "### 1912 연속합"
   ]
  },
  {
   "cell_type": "code",
   "execution_count": 11,
   "id": "954b1916",
   "metadata": {},
   "outputs": [
    {
     "name": "stdout",
     "output_type": "stream",
     "text": [
      "10\n",
      "10 -4 3 1 5 6 -35 12 21 -1\n",
      "33\n"
     ]
    }
   ],
   "source": [
    "n = int(input())\n",
    "nums = list(map(int, input().split()))\n",
    "\n",
    "# 입력받은 숫자들을 그대로 DP 테이블로 사용\n",
    "d = [x for x in nums]\n",
    "\n",
    "for i in range(1, n):\n",
    "    d[i] = max(d[i], d[i-1] + nums[i])\n",
    "    \n",
    "print(max(d))"
   ]
  },
  {
   "cell_type": "code",
   "execution_count": 15,
   "id": "0b64a65d",
   "metadata": {},
   "outputs": [
    {
     "name": "stdout",
     "output_type": "stream",
     "text": [
      "10\n",
      "10 -4 3 1 5 6 -35 12 21 -1\n",
      "33\n"
     ]
    }
   ],
   "source": [
    "n = int(input())\n",
    "nums = list(map(int, input().split()))\n",
    "\n",
    "# 별도의 DP 테이블 생성\n",
    "d1 = [0 for _ in range(n)]\n",
    "\n",
    "d1[0] = nums[0]\n",
    "\n",
    "for i in range(1, n):\n",
    "    d1[i] = max(nums[i], d1[i-1] + nums[i])\n",
    "    \n",
    "print(max(d1))"
   ]
  }
 ],
 "metadata": {
  "kernelspec": {
   "display_name": "Python 3",
   "language": "python",
   "name": "python3"
  },
  "language_info": {
   "codemirror_mode": {
    "name": "ipython",
    "version": 3
   },
   "file_extension": ".py",
   "mimetype": "text/x-python",
   "name": "python",
   "nbconvert_exporter": "python",
   "pygments_lexer": "ipython3",
   "version": "3.8.8"
  }
 },
 "nbformat": 4,
 "nbformat_minor": 5
}
