{
 "cells": [
  {
   "cell_type": "markdown",
   "id": "4a72c459",
   "metadata": {},
   "source": [
    "### 2193 이친수"
   ]
  },
  {
   "cell_type": "code",
   "execution_count": 8,
   "id": "e74e68be",
   "metadata": {},
   "outputs": [
    {
     "name": "stdout",
     "output_type": "stream",
     "text": [
      "3\n",
      "2\n"
     ]
    }
   ],
   "source": [
    "n = int(input())\n",
    "\n",
    "# DP 테이블 초기화\n",
    "# d[0] = 그냥 0\n",
    "d = [0] * 91\n",
    "d[1] = 1 # 1개\n",
    "d[2] = 1 # 2개\n",
    "\n",
    "# n의 범위 1 ~ 90\n",
    "for i in range(3, 91):\n",
    "    # 점화식\n",
    "    d[i] = d[i-2] + d[i-1]\n",
    "    \n",
    "print(d[n])"
   ]
  }
 ],
 "metadata": {
  "kernelspec": {
   "display_name": "Python3_7",
   "language": "python",
   "name": "3_7"
  },
  "language_info": {
   "codemirror_mode": {
    "name": "ipython",
    "version": 3
   },
   "file_extension": ".py",
   "mimetype": "text/x-python",
   "name": "python",
   "nbconvert_exporter": "python",
   "pygments_lexer": "ipython3",
   "version": "3.7.11"
  }
 },
 "nbformat": 4,
 "nbformat_minor": 5
}
