{
 "cells": [
  {
   "cell_type": "code",
   "execution_count": 5,
   "id": "bb295ac1",
   "metadata": {},
   "outputs": [
    {
     "name": "stdout",
     "output_type": "stream",
     "text": [
      "2\n",
      "6\n",
      "3\n",
      "12\n",
      "16\n"
     ]
    }
   ],
   "source": [
    "t = int(input())\n",
    "\n",
    "for _ in range(t):\n",
    "    n = int(input())\n",
    "    \n",
    "    d = [0 for _ in range(101)]\n",
    "    \n",
    "    d[0] = 1\n",
    "    d[1] = 1\n",
    "    d[2] = 1\n",
    "    d[3] = 2\n",
    "    d[4] = 2\n",
    "    \n",
    "    for i in range(5, n+1):\n",
    "        d[i] = d[i-2] + d[i-3]\n",
    "        \n",
    "    print(d[n-1])"
   ]
  }
 ],
 "metadata": {
  "kernelspec": {
   "display_name": "Python 3",
   "language": "python",
   "name": "python3"
  },
  "language_info": {
   "codemirror_mode": {
    "name": "ipython",
    "version": 3
   },
   "file_extension": ".py",
   "mimetype": "text/x-python",
   "name": "python",
   "nbconvert_exporter": "python",
   "pygments_lexer": "ipython3",
   "version": "3.8.8"
  }
 },
 "nbformat": 4,
 "nbformat_minor": 5
}
