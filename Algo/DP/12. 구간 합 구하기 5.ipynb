{
 "cells": [
  {
   "cell_type": "markdown",
   "id": "3716f915",
   "metadata": {},
   "source": [
    "### 11660 구간 합 구하기 5"
   ]
  },
  {
   "cell_type": "code",
   "execution_count": 1,
   "id": "89b3c0ef",
   "metadata": {},
   "outputs": [
    {
     "name": "stdout",
     "output_type": "stream",
     "text": [
      "4 3\n",
      "1 2 3 4\n",
      "2 3 4 5\n",
      "3 4 5 6\n",
      "4 5 6 7\n",
      "2 2 3 4\n",
      "27\n",
      "3 4 3 4\n",
      "6\n",
      "1 1 4 4\n",
      "64\n"
     ]
    }
   ],
   "source": [
    "# 11660 구간 합 구하기 5\n",
    "n, m = map(int, input().split())\n",
    "\n",
    "# n x n 크기의 표\n",
    "arr = [list(map(int, input().split())) for _ in range(n)]\n",
    "\n",
    "# DP 테이블 초기화 (2차원)\n",
    "# 중요!!!\n",
    "# d = [[0] * (n+1)] * (n+1)\n",
    "# 위와 같이 *로 테이블을 초기화할 시\n",
    "# 메모리 참조값이 모두 동일해져\n",
    "# 값이 모두 통일된다!!!\n",
    "# 절대 저런식으로 하면 XXXXX\n",
    "d = [[0 for i in range(n + 1)] for i in range(n + 1)]\n",
    "\n",
    "# 점화식\n",
    "for i in range(n):\n",
    "    for j in range(n):\n",
    "        d[i+1][j+1] = (d[i][j+1] + d[i+1][j] - d[i][j]) + arr[i][j]\n",
    "\n",
    "\n",
    "for _ in range(m):\n",
    "    x1, y1, x2, y2 = map(int, input().split())\n",
    "    \n",
    "    # 출력결과 점화식\n",
    "    result = d[x2][y2] - (d[x1-1][y2] + d[x2][y1-1] - d[x1-1][y1-1])\n",
    "\n",
    "    print(result)    "
   ]
  },
  {
   "cell_type": "code",
   "execution_count": 2,
   "id": "6058afce",
   "metadata": {},
   "outputs": [
    {
     "data": {
      "text/plain": [
       "[[0, 0, 0, 0, 0],\n",
       " [0, 1, 3, 6, 10],\n",
       " [0, 3, 8, 15, 24],\n",
       " [0, 6, 15, 27, 42],\n",
       " [0, 10, 24, 42, 64]]"
      ]
     },
     "execution_count": 2,
     "metadata": {},
     "output_type": "execute_result"
    }
   ],
   "source": [
    "d"
   ]
  },
  {
   "cell_type": "code",
   "execution_count": null,
   "id": "27172b6c",
   "metadata": {},
   "outputs": [],
   "source": []
  }
 ],
 "metadata": {
  "kernelspec": {
   "display_name": "Python3_7",
   "language": "python",
   "name": "3_7"
  },
  "language_info": {
   "codemirror_mode": {
    "name": "ipython",
    "version": 3
   },
   "file_extension": ".py",
   "mimetype": "text/x-python",
   "name": "python",
   "nbconvert_exporter": "python",
   "pygments_lexer": "ipython3",
   "version": "3.7.11"
  }
 },
 "nbformat": 4,
 "nbformat_minor": 5
}
