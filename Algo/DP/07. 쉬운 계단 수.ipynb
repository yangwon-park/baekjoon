{
 "cells": [
  {
   "cell_type": "markdown",
   "id": "95bf77f0",
   "metadata": {},
   "source": [
    "### 10844 쉬운 계단 수"
   ]
  },
  {
   "cell_type": "code",
   "execution_count": 10,
   "id": "77daad40",
   "metadata": {},
   "outputs": [
    {
     "name": "stdout",
     "output_type": "stream",
     "text": [
      "2\n",
      "17\n"
     ]
    }
   ],
   "source": [
    "n = int(input())\n",
    "\n",
    "# d[i][j]\n",
    "# i : 자리 수 (n)\n",
    "# j : n일 때, 끝자리 수 (0~9)\n",
    "# d[[i][j] : 자리 수가 n일 때 끝자리에 j가 올 수 있는 숫자의 개수\n",
    "d = [[0 for _ in range(10)] for _ in range(101)]\n",
    "\n",
    "# n == 1일 때 쉬운 계단 수의 값 초기화 => 1\n",
    "# 한자리 수는 모두 쉬운 계단의 수 (0제외)\n",
    "for i in range(1, 10):\n",
    "    d[1][i] = 1\n",
    "    \n",
    "# i : n\n",
    "# 2부터 n까지 반복\n",
    "for i in range(2, n+1):\n",
    "    for j in range(10):\n",
    "        \n",
    "        # 0, 9일 때는 별도 처리\n",
    "        if j == 0:\n",
    "            d[i][j] = d[i-1][1]\n",
    "        elif j == 9:\n",
    "            d[i][j] = d[i-1][8]\n",
    "        # 나머진 i-1의 대각선의 합\n",
    "        else:\n",
    "            d[i][j] = d[i-1][j-1] + d[i-1][j+1]\n",
    "            \n",
    "print(sum(d[n]) % 1000000000)"
   ]
  }
 ],
 "metadata": {
  "kernelspec": {
   "display_name": "Python 3",
   "language": "python",
   "name": "python3"
  },
  "language_info": {
   "codemirror_mode": {
    "name": "ipython",
    "version": 3
   },
   "file_extension": ".py",
   "mimetype": "text/x-python",
   "name": "python",
   "nbconvert_exporter": "python",
   "pygments_lexer": "ipython3",
   "version": "3.8.8"
  }
 },
 "nbformat": 4,
 "nbformat_minor": 5
}
