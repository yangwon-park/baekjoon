{
 "cells": [
  {
   "cell_type": "markdown",
   "id": "1df1fff2",
   "metadata": {},
   "source": [
    "### 11053 가장 긴 증가하는 부분 수열"
   ]
  },
  {
   "cell_type": "code",
   "execution_count": 3,
   "id": "d41e3dd7",
   "metadata": {},
   "outputs": [
    {
     "name": "stdout",
     "output_type": "stream",
     "text": [
      "6\n",
      "10 20 10 30 20 50\n",
      "4\n"
     ]
    }
   ],
   "source": [
    "n = int(input())\n",
    "arr = list(map(int, input().split()))\n",
    "\n",
    "# 자신 + 자신보다 작은 수의 개수를 담을 배열\n",
    "# 증가하는 부분 수열이므로 자기 자신도 개수에 포함해야 하므로 1로 초기화\n",
    "d = [1] * n\n",
    "\n",
    "for i in range(1, n):\n",
    "    for j in range(i):\n",
    "        \n",
    "        # j번째의 수가 i번째의 수보다 작다면\n",
    "        if arr[j] < arr[i]:\n",
    "            # 기존의 d[i]값과 d[j]+1의 값 중 더 큰 값으로 바꿈\n",
    "            # d[j] + 1 => j까지의 수 + i 자신을 포함하여 + 1\n",
    "            d[i] = max(d[i], d[j]+1)\n",
    "            \n",
    "print(max(d))            "
   ]
  }
 ],
 "metadata": {
  "kernelspec": {
   "display_name": "Python 3 (ipykernel)",
   "language": "python",
   "name": "python3"
  },
  "language_info": {
   "codemirror_mode": {
    "name": "ipython",
    "version": 3
   },
   "file_extension": ".py",
   "mimetype": "text/x-python",
   "name": "python",
   "nbconvert_exporter": "python",
   "pygments_lexer": "ipython3",
   "version": "3.7.11"
  }
 },
 "nbformat": 4,
 "nbformat_minor": 5
}
