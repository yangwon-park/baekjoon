{
 "cells": [
  {
   "cell_type": "markdown",
   "id": "6c128c54",
   "metadata": {},
   "source": [
    "### 2293 동전 1"
   ]
  },
  {
   "cell_type": "code",
   "execution_count": 6,
   "id": "6e515c25",
   "metadata": {},
   "outputs": [
    {
     "name": "stdout",
     "output_type": "stream",
     "text": [
      "3 10\n",
      "1\n",
      "2\n",
      "5\n",
      "10\n"
     ]
    }
   ],
   "source": [
    "n, k = map(int, input().split())\n",
    "\n",
    "# 동전의 종류 리스트\n",
    "coins = [int(input()) for _ in range(n)]\n",
    "\n",
    "# dp[i] : i원을 만들 수 있는 경우의 수\n",
    "dp = [0 for _ in range(k+1)]\n",
    "\n",
    "# 자기 자신을 사용하는 경우의 수에 대해서는 0이 아니라 1이어야 한다\n",
    "# 따라서 그냥 항상 1로 처리해버림\n",
    "dp[0] = 1\n",
    "\n",
    "# 주어진 동전 종류에 따른 반복문 수행\n",
    "for c in coins:\n",
    "    \n",
    "    # 범위가 c부터인 이유\n",
    "    # 만약 c가 5라고 할 때, 5원을 가지고 5보다 작은 금액을\n",
    "    # 만들 수 있는 방법은 없음\n",
    "    for i in range(c, k+1):\n",
    "        \n",
    "        # i-c의 의미\n",
    "        # \n",
    "        dp[i] += dp[i-c]\n",
    "            \n",
    "            \n",
    "print(dp[k])            "
   ]
  }
 ],
 "metadata": {
  "kernelspec": {
   "display_name": "Python3_7",
   "language": "python",
   "name": "3_7"
  },
  "language_info": {
   "codemirror_mode": {
    "name": "ipython",
    "version": 3
   },
   "file_extension": ".py",
   "mimetype": "text/x-python",
   "name": "python",
   "nbconvert_exporter": "python",
   "pygments_lexer": "ipython3",
   "version": "3.7.11"
  }
 },
 "nbformat": 4,
 "nbformat_minor": 5
}
