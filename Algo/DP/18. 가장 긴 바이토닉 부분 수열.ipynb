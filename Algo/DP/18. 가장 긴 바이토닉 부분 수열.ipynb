{
 "cells": [
  {
   "cell_type": "markdown",
   "id": "1b182d0e",
   "metadata": {},
   "source": [
    "### 11054 가장 긴 바이토닉 부분수열"
   ]
  },
  {
   "cell_type": "markdown",
   "id": "cb1a3d82",
   "metadata": {},
   "source": [
    "#### 오답 1\n",
    "- LIS가 되는 인덱스를 구하여 문제 풀이\n",
    "- 증가하는 부분 수열이 하나가 아닌 경우에 오답 가능\n",
    "    - 가장 길게 증가하지만 가장 길게 감소하지는 않는 경우 오답이 될 수 있음\n",
    "- 예제가 정답이라 상당히 곤란했음"
   ]
  },
  {
   "cell_type": "code",
   "execution_count": 94,
   "id": "fbe1c3d1",
   "metadata": {},
   "outputs": [
    {
     "name": "stdout",
     "output_type": "stream",
     "text": [
      "10\n",
      "1 5 2 1 4 3 4 5 2 1\n",
      "7\n"
     ]
    }
   ],
   "source": [
    "n = int(input())\n",
    "arr = list(map(int, input().split()))\n",
    "\n",
    "d = [1 for _ in range(n)]\n",
    "d2 = [1 for _ in range(n)]\n",
    "\n",
    "for i in range(1, n):\n",
    "    for j in range(i):\n",
    "        if arr[j] < arr[i]:\n",
    "            d[i] = max(d[i], d[j] + 1)\n",
    "\n",
    "max_idx = d.index(max(d))\n",
    "\n",
    "for i in range(max_idx, n):\n",
    "    for j in range(i):\n",
    "        if arr[j] > arr[i]:\n",
    "            d2[i] = max(d2[i], d2[j] + 1)\n",
    "            \n",
    "print(max(d) + max(d2) - 1)"
   ]
  },
  {
   "cell_type": "markdown",
   "id": "57b074fb",
   "metadata": {},
   "source": [
    "#### 오답 2\n",
    "- DP 테이블의 각각 요소의 값들을 인덱스에 맞춰서 더 해줌\n",
    "- d1에서 구한 LIS의 값의 인덱스에 해당하는 d2의 값이 알맞게 매칭되지 않음\n",
    "    - 생각해보면 d2의 LDS 값이 d1의 LIS인 인덱스에서부터 시작됐다는 것을 보장할 수 없음"
   ]
  },
  {
   "cell_type": "code",
   "execution_count": 95,
   "id": "348fbca0",
   "metadata": {},
   "outputs": [
    {
     "name": "stdout",
     "output_type": "stream",
     "text": [
      "10\n",
      "1 5 2 1 4 3 4 5 2 1\n",
      "5\n"
     ]
    }
   ],
   "source": [
    "n = int(input())\n",
    "arr = list(map(int, input().split()))\n",
    "\n",
    "d = [1 for _ in range(n)]\n",
    "d2 = [1 for _ in range(n)]\n",
    "\n",
    "for i in range(1, n):\n",
    "    for j in range(i):\n",
    "        if arr[j] < arr[i]:\n",
    "            d[i] = max(d[i], d[j] + 1)\n",
    "        \n",
    "        if arr[j] > arr[i]:\n",
    "            d2[i] = max(d2[i], d2[j] + 1)\n",
    "            \n",
    "result = [0 for _ in range(n)]\n",
    "\n",
    "for i in range(n):\n",
    "    result[i] = d[i] + d2[i] - 1\n",
    "print(max(result))"
   ]
  },
  {
   "cell_type": "markdown",
   "id": "a8507424",
   "metadata": {},
   "source": [
    "#### 정답\n",
    "- 주어진 수열을 역정렬하여 LIS로 re_d(d2)를 구함\n",
    "    - 역정렬하고 LIS를 구하는 것과 그대로 LDS를 구하는 것은 반환되는 DP 테이블의 결괏값이 다름 (최댓값은 같음)\n",
    "    - 반환된 LIS를 다시 역정렬을 수행한 후, d와 re_d의 각 요소들을 더하고 -1을 해준 리스트 생성 (중복 요소 1개가 존재하므로 -1)\n",
    "    - 생성된 리스트의 max값이 정답"
   ]
  },
  {
   "cell_type": "code",
   "execution_count": 81,
   "id": "cd16c3d0",
   "metadata": {},
   "outputs": [
    {
     "name": "stdout",
     "output_type": "stream",
     "text": [
      "10\n",
      "1 5 2 1 4 3 4 5 2 1\n",
      "7\n"
     ]
    }
   ],
   "source": [
    "n = int(input())\n",
    "arr = list(map(int, input().split()))\n",
    "\n",
    "# 주어진 수열 역정렬\n",
    "re_arr = arr[::-1]\n",
    "\n",
    "d = [1 for _ in range(n)]\n",
    "re_d = [1 for _ in range(n)]\n",
    "\n",
    "for i in range(1, n):\n",
    "    for j in range(i):\n",
    "        if arr[j] < arr[i]:\n",
    "            d[i] = max(d[i], d[j] + 1)\n",
    "        \n",
    "        if re_arr[j] < re_arr[i]:\n",
    "            re_d[i] = max(re_d[i], re_d[j] + 1)\n",
    "            \n",
    "result = [0 for _ in range(n)]\n",
    "re_d.reverse()\n",
    "for i in range(n):\n",
    "    result[i] = d[i] + re_d[i] - 1\n",
    "print(max(result))"
   ]
  },
  {
   "cell_type": "markdown",
   "id": "fa7b34ce",
   "metadata": {},
   "source": [
    "#### 증명"
   ]
  },
  {
   "cell_type": "code",
   "execution_count": 108,
   "id": "f45922c2",
   "metadata": {},
   "outputs": [
    {
     "name": "stdout",
     "output_type": "stream",
     "text": [
      "10\n",
      "1 5 2 1 4 3 4 5 2 1\n",
      "False\n",
      "True\n"
     ]
    }
   ],
   "source": [
    "n = int(input())\n",
    "arr = list(map(int, input().split()))\n",
    "\n",
    "def solu1(arr):\n",
    "    re_arr = arr[::-1]\n",
    "\n",
    "    d = [1 for _ in range(n)]\n",
    "\n",
    "    for i in range(1, n):\n",
    "        for j in range(i):\n",
    "            if re_arr[j] < re_arr[i]:\n",
    "                d[i] = max(d[i], d[j] + 1)\n",
    "                \n",
    "    return d\n",
    "\n",
    "def solu2(arr):\n",
    "    d = [1 for _ in range(n)]\n",
    "    \n",
    "    for i in range(1, n):\n",
    "        for j in range(i):\n",
    "            if arr[j] > arr[i]:\n",
    "                d[i] = max(d[i], d[j] + 1)\n",
    "    return d\n",
    "\n",
    "print(solu1(arr) == solu2(arr))\n",
    "print(max(solu1(arr)) == max(solu2(arr)))"
   ]
  }
 ],
 "metadata": {
  "kernelspec": {
   "display_name": "Python 3",
   "language": "python",
   "name": "python3"
  },
  "language_info": {
   "codemirror_mode": {
    "name": "ipython",
    "version": 3
   },
   "file_extension": ".py",
   "mimetype": "text/x-python",
   "name": "python",
   "nbconvert_exporter": "python",
   "pygments_lexer": "ipython3",
   "version": "3.8.8"
  }
 },
 "nbformat": 4,
 "nbformat_minor": 5
}
