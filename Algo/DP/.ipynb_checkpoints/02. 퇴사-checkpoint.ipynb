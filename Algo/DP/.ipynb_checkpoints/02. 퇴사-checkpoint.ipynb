{
 "cells": [
  {
   "cell_type": "markdown",
   "id": "d015316d",
   "metadata": {},
   "source": [
    "### 14501 퇴사"
   ]
  },
  {
   "cell_type": "code",
   "execution_count": 12,
   "id": "0c3a604d",
   "metadata": {},
   "outputs": [
    {
     "name": "stdout",
     "output_type": "stream",
     "text": [
      "7\n",
      "3 10\n",
      "5 20\n",
      "1 10\n",
      "1 20\n",
      "2 15\n",
      "4 40\n",
      "2 200\n",
      "45\n"
     ]
    }
   ],
   "source": [
    "n = int(input())\n",
    "t = []\n",
    "p = []\n",
    "\n",
    "for _ in range(n):\n",
    "    x, y = map(int, input().split())\n",
    "    t.append(x)\n",
    "    p.append(y)\n",
    "    \n",
    "def max_earn(n, t, p):\n",
    "    # dp 테이블 초기화\n",
    "    # dp[i] => i일까지 얻은 최대 이익\n",
    "    dp = [0] * (n+1)\n",
    "\n",
    "    # 최대 수익\n",
    "    max_earning = 0\n",
    "\n",
    "    # 뒤집어서 문제 풀기\n",
    "    for i in range(n-1, -1, -1):\n",
    "\n",
    "        # 총 소요 일수\n",
    "        # i => 오늘의 날짜\n",
    "        # t[i] => i날 있는 상담의 소요 일수\n",
    "        tot = t[i] + i\n",
    "\n",
    "        # 총 소요 일수가 남은 근무 일  보다 작다\n",
    "        #   => 퇴사 전에 상담을 모두 완료할 수 있는 경우\n",
    "        if tot <= n:\n",
    "            \n",
    "            # tot일까지 얻은 최대 이익 + i(오늘) 얻은 최대 이익과 다른 날 기준의 최대 이익을 비교\n",
    "            # 더 큰 값을 해당 날(i)의 최대 이익으로 바꿈\n",
    "            dp[i] = max((dp[tot] + p[i]), max_earning)\n",
    "            \n",
    "            # 최대 이익도 위의 값으로 업데이트\n",
    "            max_earning = dp[i]\n",
    "            \n",
    "        # 그렇지 않은 경우\n",
    "        else:\n",
    "            # 최대 이익은 기존의 값이 더 크므로 기존 값을 dp에 업데이트\n",
    "            dp[i] = max_earning\n",
    "\n",
    "    print(max(dp))    \n",
    "\n",
    "max_earn(n, t, p)        "
   ]
  }
 ],
 "metadata": {
  "kernelspec": {
   "display_name": "Python 3",
   "language": "python",
   "name": "python3"
  },
  "language_info": {
   "codemirror_mode": {
    "name": "ipython",
    "version": 3
   },
   "file_extension": ".py",
   "mimetype": "text/x-python",
   "name": "python",
   "nbconvert_exporter": "python",
   "pygments_lexer": "ipython3",
   "version": "3.8.8"
  }
 },
 "nbformat": 4,
 "nbformat_minor": 5
}
