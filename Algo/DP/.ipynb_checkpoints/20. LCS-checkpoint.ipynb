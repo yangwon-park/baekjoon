{
 "cells": [
  {
   "cell_type": "markdown",
   "id": "d24844ce",
   "metadata": {},
   "source": [
    "### 9251 LCS"
   ]
  },
  {
   "cell_type": "code",
   "execution_count": 12,
   "id": "5c0e8b6d",
   "metadata": {},
   "outputs": [
    {
     "name": "stdout",
     "output_type": "stream",
     "text": [
      "ACAYKP\n",
      "CAPCAK\n",
      "4\n"
     ]
    }
   ],
   "source": [
    "w1 = input()\n",
    "w2 = input()\n",
    "\n",
    "# 입력받은 문자열의 길이를 변수에 따로저장\n",
    "len_w1 = len(w1)\n",
    "len_w2 = len(w2)\n",
    "\n",
    "# 문자열이 길이 +1 만큼 DP 테이블 생성\n",
    "# +1인 이유\n",
    "   #첫번째 열을 두 문자열 다 0인 경우로 초기화 => 같은 문자인 경우 +1 시킬 것이므로 기준이될 값으로 0을 설정\n",
    "# 두 문자열의 길이를 기준으로 DP를 생성했으므로 이중 for문을 돌릴 때도 길이에 맞게 반복 구간을 설정해야 index error가 발생하지 않음\n",
    "d = [[0 for _ in range(len_w2+1)] for _ in range(len_w1+1)]\n",
    "\n",
    "# 문자열 길이만큼 반복 (반복 횟수 설정 조심)\n",
    "for i in range(len_w1):\n",
    "    for j in range(len_w2):\n",
    "        \n",
    "        # 첫번째 문자열 기준으로\n",
    "        # 두번째 문자열의 문자들을 하나씩 비교\n",
    "        \n",
    "        # 같다면\n",
    "        if w1[i] == w2[j]:\n",
    "            # 왼쪽 대각선 위의 값 +1\n",
    "            d[i+1][j+1] = d[i][j] + 1\n",
    "            \n",
    "        # 다르면\n",
    "        else:\n",
    "            # 왼쪽, 위쪽 둘 중 더 큰 값으로 선택\n",
    "            d[i+1][j+1] = max(d[i][j+1], d[i+1][j])\n",
    "\n",
    "# DP 테이블 맨 마지막 값이 정답\n",
    "print(d[-1][-1])"
   ]
  }
 ],
 "metadata": {
  "kernelspec": {
   "display_name": "Python 3 (ipykernel)",
   "language": "python",
   "name": "python3"
  },
  "language_info": {
   "codemirror_mode": {
    "name": "ipython",
    "version": 3
   },
   "file_extension": ".py",
   "mimetype": "text/x-python",
   "name": "python",
   "nbconvert_exporter": "python",
   "pygments_lexer": "ipython3",
   "version": "3.7.11"
  }
 },
 "nbformat": 4,
 "nbformat_minor": 5
}
