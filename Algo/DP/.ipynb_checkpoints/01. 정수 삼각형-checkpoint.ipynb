{
 "cells": [
  {
   "cell_type": "markdown",
   "id": "f20e9b97",
   "metadata": {},
   "source": [
    "### 1932 정수 삼각형"
   ]
  },
  {
   "cell_type": "code",
   "execution_count": 5,
   "id": "57d89d49",
   "metadata": {},
   "outputs": [
    {
     "name": "stdout",
     "output_type": "stream",
     "text": [
      "5\n",
      "7\n",
      "3 8\n",
      "8 1 0\n",
      "2 7 4 4\n",
      "4 5 2 6 5\n",
      "30\n"
     ]
    }
   ],
   "source": [
    "# 값을 누적해서 가장 큰 값, 작은 값을 구하라는 문제는\n",
    "# 주어진 값 자체를 DP 테이블로 그대로 활용하여 푸는 경우가 많다\n",
    "n = int(input())\n",
    "dp = []\n",
    "\n",
    "for _ in range(n):\n",
    "    dp.append(list(map(int, input().split())))\n",
    "    \n",
    "    \n",
    "def tri_sum(n, dp):\n",
    "    for i in range(1, n):\n",
    "        for j in range(i+1):\n",
    "            \n",
    "            # 왼쪽 위\n",
    "            if j == 0:\n",
    "                left_down = 0\n",
    "            else:\n",
    "                left_down = dp[i-1][j-1]\n",
    "                \n",
    "            # 바로 위\n",
    "            if j == i:\n",
    "                down = 0\n",
    "            else:\n",
    "                down = dp[i-1][j]\n",
    "                \n",
    "            dp[i][j] = dp[i][j] + max(left_down, down)\n",
    "            \n",
    "    print(max(dp[n-1]))\n",
    "    \n",
    "tri_sum(n, dp)    "
   ]
  }
 ],
 "metadata": {
  "kernelspec": {
   "display_name": "Python 3",
   "language": "python",
   "name": "python3"
  },
  "language_info": {
   "codemirror_mode": {
    "name": "ipython",
    "version": 3
   },
   "file_extension": ".py",
   "mimetype": "text/x-python",
   "name": "python",
   "nbconvert_exporter": "python",
   "pygments_lexer": "ipython3",
   "version": "3.8.8"
  }
 },
 "nbformat": 4,
 "nbformat_minor": 5
}
