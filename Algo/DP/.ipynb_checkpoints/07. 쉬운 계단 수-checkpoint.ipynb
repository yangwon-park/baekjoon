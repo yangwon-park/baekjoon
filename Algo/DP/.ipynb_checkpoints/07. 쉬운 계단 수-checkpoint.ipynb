{
 "cells": [
  {
   "cell_type": "markdown",
   "id": "95bf77f0",
   "metadata": {},
   "source": [
    "### 10844 쉬운 계단 수"
   ]
  },
  {
   "cell_type": "code",
   "execution_count": 11,
   "id": "5f6f1913",
   "metadata": {},
   "outputs": [
    {
     "name": "stdout",
     "output_type": "stream",
     "text": [
      "2\n",
      "17\n"
     ]
    }
   ],
   "source": [
    "n = int(input())\n",
    "\n",
    "# n이 1 ~ 100까지의 자연수이므로\n",
    "# dp테이블을 미리 101만큼 생성\n",
    "d = [[0 for i in range(10)] for j in range(101)]\n",
    "\n",
    "# n = 1일 때의 DP 테이블 초기화\n",
    "for i in range(1, 10):\n",
    "    d[1][i] = 1\n",
    "    \n",
    "# i: 입력받을 n\n",
    "for i in range(2, n+1):\n",
    "    \n",
    "    # j: 숫자 0~9까지\n",
    "    for j in range(10):\n",
    "        # 0, 9 일 때는 별도 처리\n",
    "        \n",
    "        # 0일 때 : 이전 까지의 dp테이블값 중 1의 값만 가지고 옴\n",
    "        if j == 0:\n",
    "            d[i][j] = d[i-1][1]\n",
    "        # 9일 때 : 이전 까지의 dp테이블 값 중 8의 값만 가지고 옴\n",
    "        elif j == 9:\n",
    "            d[i][j] = d[i-1][8]\n",
    "        else:\n",
    "            d[i][j] = d[i-1][j-1] + d[i-1][j+1]\n",
    "print(sum(d[n]) % 1000000000)"
   ]
  }
 ],
 "metadata": {
  "kernelspec": {
   "display_name": "Python3_7",
   "language": "python",
   "name": "3_7"
  },
  "language_info": {
   "codemirror_mode": {
    "name": "ipython",
    "version": 3
   },
   "file_extension": ".py",
   "mimetype": "text/x-python",
   "name": "python",
   "nbconvert_exporter": "python",
   "pygments_lexer": "ipython3",
   "version": "3.7.11"
  }
 },
 "nbformat": 4,
 "nbformat_minor": 5
}
