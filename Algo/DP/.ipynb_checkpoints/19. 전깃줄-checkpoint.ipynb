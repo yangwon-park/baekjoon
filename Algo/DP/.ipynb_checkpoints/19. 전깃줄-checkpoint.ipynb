{
 "cells": [
  {
   "cell_type": "markdown",
   "id": "7e3b1457",
   "metadata": {},
   "source": [
    "### 2565 전깃줄"
   ]
  },
  {
   "cell_type": "code",
   "execution_count": 6,
   "id": "3e2631f2",
   "metadata": {},
   "outputs": [
    {
     "name": "stdout",
     "output_type": "stream",
     "text": [
      "8\n",
      "1 8\n",
      "3 9\n",
      "2 2\n",
      "4 1\n",
      "6 4\n",
      "10 10\n",
      "9 7\n",
      "7 6\n",
      "3\n"
     ]
    }
   ],
   "source": [
    "n = int(input())\n",
    "\n",
    "cable = []\n",
    "\n",
    "# 전깃줄 연결 상태 입력\n",
    "for _ in range(n):\n",
    "    cable.append(list(map(int, input().split())))\n",
    "\n",
    "# 첫번째 요소를 기준으로 cable 정렬\n",
    "# 이차원 배열을 sort() 시키면 첫번째 요소로 정렬됨\n",
    "cable.sort()\n",
    "\n",
    "# 두번째 전봇대에 연결된 전깃줄 위치만 따로 입력받을 리스트\n",
    "second_pole = []\n",
    "\n",
    "for i in range(n):\n",
    "    second_pole.append(cable[i][1])\n",
    "\n",
    "d = [1 for _ in range(n)]\n",
    "\n",
    "def lis(pole, d):\n",
    "    for i in range(1, n):\n",
    "        for j in range(i):\n",
    "            if pole[j] < pole[i]:\n",
    "                d[i] = max(d[i], d[j] + 1)\n",
    "    return d\n",
    "\n",
    "lis(second_pole, d)\n",
    "\n",
    "print(n - max(d))                    "
   ]
  }
 ],
 "metadata": {
  "kernelspec": {
   "display_name": "Python3_7",
   "language": "python",
   "name": "3_7"
  },
  "language_info": {
   "codemirror_mode": {
    "name": "ipython",
    "version": 3
   },
   "file_extension": ".py",
   "mimetype": "text/x-python",
   "name": "python",
   "nbconvert_exporter": "python",
   "pygments_lexer": "ipython3",
   "version": "3.7.11"
  }
 },
 "nbformat": 4,
 "nbformat_minor": 5
}
