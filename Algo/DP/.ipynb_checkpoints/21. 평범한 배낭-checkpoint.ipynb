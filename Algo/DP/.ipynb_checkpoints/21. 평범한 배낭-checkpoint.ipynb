{
 "cells": [
  {
   "cell_type": "markdown",
   "id": "9458f360",
   "metadata": {},
   "source": [
    "### 12865 평범한 배낭"
   ]
  },
  {
   "cell_type": "code",
   "execution_count": 74,
   "id": "83e091f4",
   "metadata": {},
   "outputs": [
    {
     "name": "stdout",
     "output_type": "stream",
     "text": [
      "4 7\n",
      "6 13\n",
      "4 8\n",
      "3 6\n",
      "5 12\n",
      "14\n"
     ]
    }
   ],
   "source": [
    "n, k = map(int, input().split())\n",
    "\n",
    "# 가지고갈 물건의 무게와 가치를 담을 리스트\n",
    "# 처음 0,0 값을 넣어서 인덱스를 편하게 관리할 수 있음\n",
    "ob = [[0, 0]]\n",
    "\n",
    "# DP 테이블\n",
    "# k+1만큼 0을 넣고, n+1만큼 행을 갖게 만듬\n",
    "# 마찬가지로 인덱스를 편하게 관리할 수 있음\n",
    "pack = [[0 for _ in range(k+1)] for _ in range(n+1)]\n",
    "\n",
    "for _ in range(n):\n",
    "    # w, v 입력받음\n",
    "    ob.append(list(map(int, input().split())))\n",
    "\n",
    "# 1~n, 1~k 만큼 반복\n",
    "for i in range(1, n+1):\n",
    "    # j : 배낭에 담을 수 있는 최대 무게\n",
    "    for j in range(1, k+1):\n",
    "        \n",
    "        # 무게와 가치 뽑아냄\n",
    "        w = ob[i][0]\n",
    "        v = ob[i][1]\n",
    "        \n",
    "        # i번째 물건의 무게보다 작다 => 배낭이 담을 수 있는 무게를 초과했다\n",
    "        # 당연히 못 넣으므로 그전 DP 테이블의 값을 그대로 가져옴\n",
    "        if j < w:\n",
    "            # 바로 전까지의 누적 v값을 그대로 가져옴\n",
    "            pack[i][j] = pack[i-1][j]\n",
    "        # 크거나 같다 => 배낭에 추가로 더 넣을 수 있다\n",
    "        else:\n",
    "            # pack[i-1][j-w] + v의 의미\n",
    "            # i번째 물건을 넣지 않는 경우, 배낭에 담을 수 있는 최대 무게는 \n",
    "            # i번째 물건의 무게를 뺀 나머지가 되므로 => j-w가 된다\n",
    "            # pack[i-1][j-w]는 i번째 물건을 넣기 전까지의 최대 효용 가치가 되고\n",
    "            # 여기에 v (i번째 물건의 가치)를 더해주면 원하는 값을 구할 수 있다\n",
    "            \n",
    "            # 위의 주석 과정을 넣은 경우와 넣지 않은 경우 둘 중 더 큰 값을 DP 테이블에 업데이트 해줌\n",
    "            pack[i][j] = max(pack[i-1][j], pack[i-1][j-w] + v)\n",
    "            \n",
    "print(pack[n][k])"
   ]
  }
 ],
 "metadata": {
  "kernelspec": {
   "display_name": "Python 3",
   "language": "python",
   "name": "python3"
  },
  "language_info": {
   "codemirror_mode": {
    "name": "ipython",
    "version": 3
   },
   "file_extension": ".py",
   "mimetype": "text/x-python",
   "name": "python",
   "nbconvert_exporter": "python",
   "pygments_lexer": "ipython3",
   "version": "3.8.8"
  }
 },
 "nbformat": 4,
 "nbformat_minor": 5
}
