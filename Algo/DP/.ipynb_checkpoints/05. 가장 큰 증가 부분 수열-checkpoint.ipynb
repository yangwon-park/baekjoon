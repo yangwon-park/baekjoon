{
 "cells": [
  {
   "cell_type": "markdown",
   "id": "1ec168c1",
   "metadata": {},
   "source": [
    "### 11055 가장 큰 증가 부분 수열"
   ]
  },
  {
   "cell_type": "code",
   "execution_count": 4,
   "id": "c8f1227f",
   "metadata": {},
   "outputs": [
    {
     "name": "stdout",
     "output_type": "stream",
     "text": [
      "10\n",
      "1 100 2 50 60 3 5 6 7 8\n",
      "113\n"
     ]
    }
   ],
   "source": [
    "n = int(input())\n",
    "arr = list(map(int, input().split()))\n",
    "\n",
    "# 누적 합을 계산할 것이므로\n",
    "# DP 테이블을 arr의 값을 그대로 홣용하자\n",
    "d = [x for x in arr]\n",
    "\n",
    "for i in range(1, n):\n",
    "    for j in range(i):\n",
    "        \n",
    "        # 이전 값이 더 작다면\n",
    "        if arr[j] < arr[i]:\n",
    "            # 기존 DP 테이블의 값, 이전까지의 합 + 현재 값 중 큰 값\n",
    "            d[i] = max(d[i], d[j] + arr[i])\n",
    "            \n",
    "print(max(d))            "
   ]
  }
 ],
 "metadata": {
  "kernelspec": {
   "display_name": "Python3_7",
   "language": "python",
   "name": "3_7"
  },
  "language_info": {
   "codemirror_mode": {
    "name": "ipython",
    "version": 3
   },
   "file_extension": ".py",
   "mimetype": "text/x-python",
   "name": "python",
   "nbconvert_exporter": "python",
   "pygments_lexer": "ipython3",
   "version": "3.7.11"
  }
 },
 "nbformat": 4,
 "nbformat_minor": 5
}
