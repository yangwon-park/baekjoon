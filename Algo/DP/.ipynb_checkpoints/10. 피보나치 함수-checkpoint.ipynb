{
 "cells": [
  {
   "cell_type": "markdown",
   "id": "97b53467",
   "metadata": {},
   "source": [
    "### 1003 피보나치 함수"
   ]
  },
  {
   "cell_type": "code",
   "execution_count": 15,
   "id": "ad2d9d86",
   "metadata": {},
   "outputs": [
    {
     "name": "stdout",
     "output_type": "stream",
     "text": [
      "3\n",
      "0\n",
      "1 0\n",
      "1\n",
      "0 1\n",
      "3\n",
      "1 2\n"
     ]
    }
   ],
   "source": [
    "T = int(input())\n",
    "\n",
    "for _ in range(T):\n",
    "    n = int(input())\n",
    "\n",
    "    d = [0] * (41)\n",
    "\n",
    "    \n",
    "    if n == 0:\n",
    "        print(1, 0)\n",
    "        continue\n",
    "    \n",
    "    if n == 1:\n",
    "        print(0, 1)\n",
    "        continue\n",
    "    \n",
    "    d[1] = 1\n",
    "    d[2] = 1\n",
    "    \n",
    "    for i in range(3, 41):\n",
    "        d[i] = d[i-1] + d[i-2]\n",
    "\n",
    "    \n",
    "    print(d[n-1], d[n])    "
   ]
  }
 ],
 "metadata": {
  "kernelspec": {
   "display_name": "Python3_7",
   "language": "python",
   "name": "3_7"
  },
  "language_info": {
   "codemirror_mode": {
    "name": "ipython",
    "version": 3
   },
   "file_extension": ".py",
   "mimetype": "text/x-python",
   "name": "python",
   "nbconvert_exporter": "python",
   "pygments_lexer": "ipython3",
   "version": "3.7.11"
  }
 },
 "nbformat": 4,
 "nbformat_minor": 5
}
