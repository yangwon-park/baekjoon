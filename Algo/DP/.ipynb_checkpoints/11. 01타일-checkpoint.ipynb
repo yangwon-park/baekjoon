{
 "cells": [
  {
   "cell_type": "markdown",
   "id": "ff97cc55",
   "metadata": {},
   "source": [
    "### 1904 01타일"
   ]
  },
  {
   "cell_type": "code",
   "execution_count": 1,
   "id": "5e37c5d2",
   "metadata": {},
   "outputs": [
    {
     "name": "stdout",
     "output_type": "stream",
     "text": [
      "4\n"
     ]
    }
   ],
   "source": [
    "n = int(input())\n",
    "\n",
    "d = [0 for _ in range(20000)]\n",
    "\n",
    "d[0] = 1\n",
    "d[1] = 2\n",
    "\n",
    "for i in range(2, n):\n",
    "    d[i] = d[i-1] + d[i-2]\n",
    "    \n",
    "print(d[n-1])"
   ]
  }
 ],
 "metadata": {
  "kernelspec": {
   "display_name": "Python 3",
   "language": "python",
   "name": "python3"
  },
  "language_info": {
   "codemirror_mode": {
    "name": "ipython",
    "version": 3
   },
   "file_extension": ".py",
   "mimetype": "text/x-python",
   "name": "python",
   "nbconvert_exporter": "python",
   "pygments_lexer": "ipython3",
   "version": "3.8.8"
  }
 },
 "nbformat": 4,
 "nbformat_minor": 5
}
