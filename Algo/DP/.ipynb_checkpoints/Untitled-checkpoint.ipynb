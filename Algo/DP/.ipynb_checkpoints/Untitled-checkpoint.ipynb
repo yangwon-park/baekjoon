{
 "cells": [
  {
   "cell_type": "code",
   "execution_count": 9,
   "id": "d0da37de",
   "metadata": {},
   "outputs": [
    {
     "name": "stdout",
     "output_type": "stream",
     "text": [
      "10\n",
      "55\n"
     ]
    }
   ],
   "source": [
    "n = int(input())\n",
    "\n",
    "d = [0] * (n+1)\n",
    "\n",
    "d[1] = 1\n",
    "\n",
    "for i in range(2, n+1):\n",
    "    d[i] = d[i-2] + d[i-1]\n",
    "    \n",
    "print(d[n])"
   ]
  },
  {
   "cell_type": "code",
   "execution_count": 49,
   "id": "4be4dada",
   "metadata": {},
   "outputs": [
    {
     "name": "stdout",
     "output_type": "stream",
     "text": [
      "6\n",
      "50 40 30 20 10 1\n",
      "1\n"
     ]
    }
   ],
   "source": [
    "# 가장 긴 증가하는 부분 수열\n",
    "n = int(input())\n",
    "arr = list(map(int, input().split()))\n",
    "\n",
    "d = [1] * n\n",
    "\n",
    "for i in range(1, n):\n",
    "    for j in range(0, i):\n",
    "        if arr[j] < arr[i]:\n",
    "            # d[j] + 1인 이유 => d[j]가 자기 자신 포함 자기보다 작은 숫자들의 합\n",
    "            # 거기에 +1 => d[i]의 개수까지 포함해서 계산해야 하므로 +1\n",
    "            d[i] = max(d[i], d[j] + 1)\n",
    "            \n",
    "print(max(d))"
   ]
  },
  {
   "cell_type": "code",
   "execution_count": 66,
   "id": "d4e8f169",
   "metadata": {},
   "outputs": [
    {
     "name": "stdout",
     "output_type": "stream",
     "text": [
      "10\n",
      "1 100 2 50 60 3 5 6 7 8\n",
      "113\n"
     ]
    }
   ],
   "source": [
    "# 가장 큰 증가하는 부분 수열\n",
    "n = int(input())\n",
    "arr = list(map(int, input().split()))\n",
    "\n",
    "# DP 테이블도 arr과 똑같이 초기화\n",
    "d = [x for x in arr]\n",
    "\n",
    "for i in range(n):\n",
    "    for j in range(i):\n",
    "        if arr[j] < arr[i]:\n",
    "            # [현재 숫자 + 이전까지 숫자]와 현재 숫자까지의 누적합 중 더 큰 값을 선택\n",
    "            d[i] = max(d[i], d[j] + arr[i])\n",
    "\n",
    "print(max(d))"
   ]
  },
  {
   "cell_type": "code",
   "execution_count": 73,
   "id": "97617a0c",
   "metadata": {},
   "outputs": [
    {
     "name": "stdout",
     "output_type": "stream",
     "text": [
      "6\n",
      "10 30 10 20 20 10\n",
      "3\n"
     ]
    }
   ],
   "source": [
    "# 가장 긴 감소하는 부분 수열\n",
    "n = int(input())\n",
    "arr = list(map(int, input().split()))\n",
    "\n",
    "d = [1] * n\n",
    "\n",
    "for i in range(1, n):\n",
    "    for j in range(i):\n",
    "        if arr[j] > arr[i]:\n",
    "            d[i] = max(d[i], d[j] + 1)\n",
    "            \n",
    "print(max(d))"
   ]
  },
  {
   "cell_type": "code",
   "execution_count": 78,
   "id": "2f1e6ba9",
   "metadata": {},
   "outputs": [
    {
     "name": "stdout",
     "output_type": "stream",
     "text": [
      "10\n",
      "10 -4 3 1 5 6 -35 12 21 -1\n",
      "33\n"
     ]
    }
   ],
   "source": [
    "# 연속합\n",
    "n = int(input())\n",
    "arr = list(map(int, input().split()))\n",
    "\n",
    "d = [x for x in arr]\n",
    "\n",
    "for i in range(1, n):\n",
    "    d[i] = max(d[i], d[i-1] + arr[i])\n",
    "    \n",
    "print(max(d))"
   ]
  },
  {
   "cell_type": "code",
   "execution_count": 97,
   "id": "d7f3cb76",
   "metadata": {},
   "outputs": [
    {
     "name": "stdout",
     "output_type": "stream",
     "text": [
      "6\n",
      "6\n",
      "10\n",
      "13\n",
      "9\n",
      "8\n",
      "1\n",
      "33\n"
     ]
    }
   ],
   "source": [
    "# 포도주 시식\n",
    "n = int(input())\n",
    "arr = [int(input()) for _ in range(n)]\n",
    "\n",
    "d = [0] * 10001\n",
    "\n",
    "d[0] = arr[0]\n",
    "d[1] = d[0] + arr[1]\n",
    "\n",
    "d[2] = max(arr[0] + arr[2], arr[1] + arr[2], d[1])\n",
    "\n",
    "for i in range(3, n):\n",
    "    d[i] = max(d[i-1], d[i-2] + arr[i], d[i-3] + arr[i-1] + arr[i])\n",
    "    \n",
    "print(max(d))    "
   ]
  },
  {
   "cell_type": "code",
   "execution_count": 98,
   "id": "85d65c16",
   "metadata": {},
   "outputs": [
    {
     "name": "stdout",
     "output_type": "stream",
     "text": [
      "6\n",
      "6\n",
      "10\n",
      "13\n",
      "9\n",
      "8\n",
      "1\n"
     ]
    },
    {
     "ename": "IndexError",
     "evalue": "list index out of range",
     "output_type": "error",
     "traceback": [
      "\u001b[1;31m---------------------------------------------------------------------------\u001b[0m",
      "\u001b[1;31mIndexError\u001b[0m                                Traceback (most recent call last)",
      "\u001b[1;32m~\\AppData\\Local\\Temp/ipykernel_20948/2387069625.py\u001b[0m in \u001b[0;36m<module>\u001b[1;34m\u001b[0m\n\u001b[0;32m     11\u001b[0m \u001b[1;33m\u001b[0m\u001b[0m\n\u001b[0;32m     12\u001b[0m \u001b[1;32mfor\u001b[0m \u001b[0mi\u001b[0m \u001b[1;32min\u001b[0m \u001b[0mrange\u001b[0m\u001b[1;33m(\u001b[0m\u001b[1;36m2\u001b[0m\u001b[1;33m,\u001b[0m \u001b[0mn\u001b[0m\u001b[1;33m+\u001b[0m\u001b[1;36m1\u001b[0m\u001b[1;33m)\u001b[0m\u001b[1;33m:\u001b[0m\u001b[1;33m\u001b[0m\u001b[1;33m\u001b[0m\u001b[0m\n\u001b[1;32m---> 13\u001b[1;33m     \u001b[0md\u001b[0m\u001b[1;33m[\u001b[0m\u001b[0mi\u001b[0m\u001b[1;33m]\u001b[0m \u001b[1;33m=\u001b[0m \u001b[0mmax\u001b[0m\u001b[1;33m(\u001b[0m\u001b[0md\u001b[0m\u001b[1;33m[\u001b[0m\u001b[0mi\u001b[0m\u001b[1;33m-\u001b[0m\u001b[1;36m1\u001b[0m\u001b[1;33m]\u001b[0m\u001b[1;33m,\u001b[0m \u001b[0md\u001b[0m\u001b[1;33m[\u001b[0m\u001b[0mi\u001b[0m\u001b[1;33m-\u001b[0m\u001b[1;36m2\u001b[0m\u001b[1;33m]\u001b[0m \u001b[1;33m+\u001b[0m \u001b[0marr\u001b[0m\u001b[1;33m[\u001b[0m\u001b[0mi\u001b[0m\u001b[1;33m]\u001b[0m\u001b[1;33m,\u001b[0m \u001b[0md\u001b[0m\u001b[1;33m[\u001b[0m\u001b[0mi\u001b[0m\u001b[1;33m-\u001b[0m\u001b[1;36m3\u001b[0m\u001b[1;33m]\u001b[0m \u001b[1;33m+\u001b[0m \u001b[0marr\u001b[0m\u001b[1;33m[\u001b[0m\u001b[0mi\u001b[0m\u001b[1;33m-\u001b[0m\u001b[1;36m1\u001b[0m\u001b[1;33m]\u001b[0m \u001b[1;33m+\u001b[0m \u001b[0marr\u001b[0m\u001b[1;33m[\u001b[0m\u001b[0mi\u001b[0m\u001b[1;33m]\u001b[0m\u001b[1;33m)\u001b[0m\u001b[1;33m\u001b[0m\u001b[1;33m\u001b[0m\u001b[0m\n\u001b[0m\u001b[0;32m     14\u001b[0m \u001b[1;33m\u001b[0m\u001b[0m\n\u001b[0;32m     15\u001b[0m \u001b[0mprint\u001b[0m\u001b[1;33m(\u001b[0m\u001b[0mmax\u001b[0m\u001b[1;33m(\u001b[0m\u001b[0md\u001b[0m\u001b[1;33m)\u001b[0m\u001b[1;33m)\u001b[0m\u001b[1;33m\u001b[0m\u001b[1;33m\u001b[0m\u001b[0m\n",
      "\u001b[1;31mIndexError\u001b[0m: list index out of range"
     ]
    }
   ],
   "source": [
    "# 포도주 시식\n",
    "n = int(input())\n",
    "arr = [0] + [int(input()) for _ in range(n)]\n",
    "\n",
    "d = [0] * (n+1)\n",
    "\n",
    "d[1] = arr[1]\n",
    "\n",
    "if n > 1:\n",
    "    d[2] = arr[1] + arr[2]\n",
    "\n",
    "for i in range(3, n+1):\n",
    "    d[i] = max(d[i-1], d[i-2] + arr[i], d[i-3] + arr[i-1] + arr[i])\n",
    "    \n",
    "print(max(d))    "
   ]
  },
  {
   "cell_type": "code",
   "execution_count": 21,
   "id": "40e0a3ac",
   "metadata": {},
   "outputs": [
    {
     "name": "stdout",
     "output_type": "stream",
     "text": [
      "13 29\n",
      "67863915\n"
     ]
    }
   ],
   "source": [
    "import math\n",
    "t = int(input())\n",
    "for _ in range(t):\n",
    "    n, m = map(int, input().split())\n",
    "\n",
    "    print(math.comb(m, n))"
   ]
  },
  {
   "cell_type": "code",
   "execution_count": 48,
   "id": "bfc22cfd",
   "metadata": {},
   "outputs": [
    {
     "name": "stdout",
     "output_type": "stream",
     "text": [
      "4\n",
      "1 5 6 7\n",
      "10\n"
     ]
    }
   ],
   "source": [
    "n = int(input())\n",
    "card = [0] + list(map(int, input().split()))\n",
    "\n",
    "d = [0] * (n+1)\n",
    "\n",
    "for i in range(1, n+1):\n",
    "    for j in range(1, i+1):\n",
    "        d[i] = max(d[i], card[j] + d[i-j])\n",
    "        \n",
    "print(max(d))"
   ]
  },
  {
   "cell_type": "code",
   "execution_count": 52,
   "id": "46c0ea0f",
   "metadata": {},
   "outputs": [
    {
     "name": "stdout",
     "output_type": "stream",
     "text": [
      "5\n",
      "8\n"
     ]
    }
   ],
   "source": [
    "n = int(input())\n",
    "\n",
    "d = [0] * (n+1)\n",
    "d[1] = 1\n",
    "d[2] = 2\n",
    "\n",
    "for i in range(3, n+1):\n",
    "    d[i] = (d[i-1] + d[i-2]) % 15746\n",
    "    \n",
    "print(d[n] % 15746)"
   ]
  },
  {
   "cell_type": "code",
   "execution_count": 121,
   "id": "9e9847b4",
   "metadata": {},
   "outputs": [
    {
     "name": "stdout",
     "output_type": "stream",
     "text": [
      "1\n",
      "5\n",
      "50 10 100 20 40\n",
      "30 50 70 10 60\n",
      "240\n"
     ]
    }
   ],
   "source": [
    "t = int(input())\n",
    "\n",
    "for _ in range(t):\n",
    "    n = int(input())\n",
    "\n",
    "    stickers = []\n",
    "\n",
    "\n",
    "    for _ in range(2):\n",
    "        stickers.append(list(map(int, input().split())))\n",
    "\n",
    "    d = [([0] * n) for _ in range(2)]\n",
    "\n",
    "    # 첫번째 스티커를 제거하는 경우의 DP 테이블은\n",
    "    # 첫 스티커를 제거하는 점수 그대로의 값을 넣어줌\n",
    "    d[0][0] = stickers[0][0]\n",
    "    d[1][0] = stickers[1][0]\n",
    "\n",
    "    if n > 1:\n",
    "        # 두번째 스티커를 제거하는 경우의 DP 테이블은\n",
    "        # 첫 스티커들 기준 바로 다음에 나오는 다른 열의 값일 것이므로 \n",
    "        # 아래와 같이 넣어줌\n",
    "\n",
    "        d[0][1] = d[1][0] + stickers[1][1]\n",
    "        d[1][1] = d[0][0] + stickers[0][1]\n",
    "\n",
    "        for i in range(2, n):\n",
    "            # i번째 스티커를 선택하는 경우\n",
    "            # 그 이전까지의 경우는 \n",
    "            # 다른 열의 i-1번째 스티커\n",
    "            # 다른 열의 i-2번째 스티커를 선택하는 경우 이외에는 없다\n",
    "            # 그 두 경우까지의 최대 점수에 선택할 i번째 스티커의 점수를 더해주면\n",
    "            # i번째 스티커까지 선택한 최대 점수를 구할 수 있다\n",
    "            d[0][i] = max(d[1][i-1], d[1][i-2]) + stickers[1][i]\n",
    "            d[1][i] = max(d[0][i-1], d[0][i-2]) + stickers[0][i]\n",
    "\n",
    "        # DP 테이블에 저장된 두 열의 값 중 더 큰 값이 정답\n",
    "    print(max(d[0][n-1], d[1][n-1]))"
   ]
  },
  {
   "cell_type": "code",
   "execution_count": 109,
   "id": "2eaa3f6c",
   "metadata": {},
   "outputs": [
    {
     "data": {
      "text/plain": [
       "[[50, 100, 110, 210, 260], [30, 40, 200, 130, 250]]"
      ]
     },
     "execution_count": 109,
     "metadata": {},
     "output_type": "execute_result"
    }
   ],
   "source": [
    "d"
   ]
  },
  {
   "cell_type": "code",
   "execution_count": 126,
   "id": "c82f713b",
   "metadata": {},
   "outputs": [
    {
     "name": "stdout",
     "output_type": "stream",
     "text": [
      "1\n",
      "5\n",
      "50 10 100 20 40\n",
      "30 50 70 10 60\n",
      "260\n"
     ]
    }
   ],
   "source": [
    "t = int(input())\n",
    "\n",
    "for _ in range(t):\n",
    "    n = int(input())\n",
    "    d = [list(map(int, input().split())) for _ in range(2)]\n",
    "    \n",
    "    # 1이면 인덱스 에러 발생하므로 별도로 처리\n",
    "    if n == 1:\n",
    "        print(max(d[0][n-1], d[1][n-1]))\n",
    "        continue\n",
    "    \n",
    "    d[0][1] += d[1][0]\n",
    "    d[1][1] += d[0][0]\n",
    "    \n",
    "    \n",
    "    for i in range(2, n):\n",
    "        d[0][i] += max(d[1][i-2], d[1][i-1])\n",
    "        d[1][i] += max(d[0][i-2], d[0][i-1])\n",
    "        \n",
    "    print(max(d[0][n-1], d[1][n-1]))"
   ]
  },
  {
   "cell_type": "code",
   "execution_count": 127,
   "id": "90680aa7",
   "metadata": {},
   "outputs": [
    {
     "data": {
      "text/plain": [
       "[[50, 40, 200, 140, 250], [30, 100, 120, 210, 260]]"
      ]
     },
     "execution_count": 127,
     "metadata": {},
     "output_type": "execute_result"
    }
   ],
   "source": [
    "d"
   ]
  },
  {
   "cell_type": "code",
   "execution_count": 124,
   "id": "34804bf1",
   "metadata": {},
   "outputs": [
    {
     "name": "stdout",
     "output_type": "stream",
     "text": [
      "1\n",
      "5\n",
      "50 10 100 20 40\n",
      "30 50 70 10 60\n",
      "260\n"
     ]
    }
   ],
   "source": [
    "t = int(input())\n",
    "\n",
    "for _ in range(t):\n",
    "    n = int(input())\n",
    "\n",
    "    stickers = []\n",
    "\n",
    "\n",
    "    for _ in range(2):\n",
    "        stickers.append(list(map(int, input().split())))\n",
    "\n",
    "        d = [([0] * n) for _ in range(2)]\n",
    "\n",
    "        \n",
    "    # 1이면 인덱스 에러 발생하므로 별도로 처리\n",
    "    if n == 1:\n",
    "        print(max(d[0][n-1], d[1][n-1]))\n",
    "        continue\n",
    "        \n",
    "    # 첫번째 스티커를 제거하는 경우의 DP 테이블은\n",
    "    # 첫 스티커를 제거하는 점수 그대로의 값을 넣어줌\n",
    "    d[0][0] = stickers[0][0]\n",
    "    d[1][0] = stickers[1][0]\n",
    "\n",
    "    # 두번째 스티커를 제거하는 경우의 DP 테이블은\n",
    "    # 첫 스티커들 기준 바로 다음에 나오는 다른 열의 값일 것이므로 \n",
    "    # 아래와 같이 넣어줌\n",
    "\n",
    "    d[0][1] = d[1][0] + stickers[0][1]\n",
    "\n",
    "    d[1][1] = d[0][0] + stickers[1][1]\n",
    "    \n",
    "    for i in range(2, n):\n",
    "        # i번째 스티커를 선택하는 경우\n",
    "        # 그 이전까지의 경우는 \n",
    "        # 다른 열의 i-1번째 스티커\n",
    "        # 다른 열의 i-2번째 스티커를 선택하는 경우 이외에는 없다\n",
    "        # 그 두 경우까지의 최대 점수에 선택할 i번째 스티커의 점수를 더해주면\n",
    "        # i번째 스티커까지 선택한 최대 점수를 구할 수 있다\n",
    "        d[0][i] = max(d[1][i-1], d[1][i-2]) + stickers[0][i]\n",
    "        d[1][i] = max(d[0][i-1], d[0][i-2]) + stickers[1][i]\n",
    "\n",
    "    # DP 테이블에 저장된 두 열의 값 중 더 큰 값이 정답\n",
    "    print(max(d[0][n-1], d[1][n-1]))"
   ]
  },
  {
   "cell_type": "code",
   "execution_count": 129,
   "id": "bc4e4b0e",
   "metadata": {},
   "outputs": [
    {
     "name": "stdout",
     "output_type": "stream",
     "text": [
      "1\n",
      "1\n",
      "1\n",
      "1\n",
      "1\n"
     ]
    }
   ],
   "source": [
    "t = int(input())\n",
    "\n",
    "for _ in range(t):\n",
    "    n = int(input())\n",
    "\n",
    "    stickers = []\n",
    "\n",
    "\n",
    "    for _ in range(2):\n",
    "        stickers.append(list(map(int, input().split())))\n",
    "\n",
    "        d = [([0] * n) for _ in range(2)]\n",
    "\n",
    "    \n",
    "    # 첫번째 스티커를 제거하는 경우의 DP 테이블은\n",
    "    # 첫 스티커를 제거하는 점수 그대로의 값을 넣어줌\n",
    "    d[0][0] = stickers[0][0]\n",
    "    d[1][0] = stickers[1][0]\n",
    "        \n",
    "    # 1이면 인덱스 에러 발생하므로 별도로 처리\n",
    "    if n == 1:\n",
    "        print(max(d[0][n-1], d[1][n-1]))\n",
    "        continue\n",
    "        \n",
    "\n",
    "    # 두번째 스티커를 제거하는 경우의 DP 테이블은\n",
    "    # 첫 스티커들 기준 바로 다음에 나오는 다른 열의 값일 것이므로 \n",
    "    # 아래와 같이 넣어줌\n",
    "\n",
    "    d[0][1] = d[1][0] + stickers[0][1]\n",
    "\n",
    "    d[1][1] = d[0][0] + stickers[1][1]\n",
    "    \n",
    "    for i in range(2, n):\n",
    "        # i번째 스티커를 선택하는 경우\n",
    "        # 그 이전까지의 경우는 \n",
    "        # 다른 열의 i-1번째 스티커\n",
    "        # 다른 열의 i-2번째 스티커를 선택하는 경우 이외에는 없다\n",
    "        # 그 두 경우까지의 최대 점수에 선택할 i번째 스티커의 점수를 더해주면\n",
    "        # i번째 스티커까지 선택한 최대 점수를 구할 수 있다\n",
    "        d[0][i] = max(d[1][i-1], d[1][i-2]) + stickers[0][i]\n",
    "        d[1][i] = max(d[0][i-1], d[0][i-2]) + stickers[1][i]\n",
    "\n",
    "    # DP 테이블에 저장된 두 열의 값 중 더 큰 값이 정답\n",
    "    print(max(d[0][n-1], d[1][n-1]))"
   ]
  },
  {
   "cell_type": "code",
   "execution_count": 145,
   "id": "481f2c99",
   "metadata": {},
   "outputs": [
    {
     "name": "stdout",
     "output_type": "stream",
     "text": [
      "2143\n"
     ]
    }
   ],
   "source": [
    "n = int(input())\n",
    "n = str(n)\n",
    "n = list(n)\n",
    "n.sort(reverse=True)\n",
    "for c in n:\n",
    "    print(int(c), end='')"
   ]
  },
  {
   "cell_type": "code",
   "execution_count": 179,
   "id": "f41e125c",
   "metadata": {},
   "outputs": [
    {
     "name": "stdout",
     "output_type": "stream",
     "text": [
      "20\n",
      "7\n",
      "23\n",
      "19\n",
      "10\n",
      "15\n",
      "25\n",
      "8\n",
      "13\n",
      "7\n",
      "8\n",
      "10\n",
      "13\n",
      "19\n",
      "20\n",
      "23\n"
     ]
    }
   ],
   "source": [
    "height = []\n",
    "for _ in range(9):\n",
    "    height.append(int(input()))\n",
    "    \n",
    "for i in range(9):\n",
    "    for j in range(i+1, 9):\n",
    "        if sum(height) - (height[i] + height[j]) == 100:\n",
    "            n1, n2 = height[i], height[j]\n",
    "            \n",
    "height.remove(n1)\n",
    "height.remove(n2)\n",
    "\n",
    "height.sort()\n",
    "for h in height:\n",
    "    print(h)"
   ]
  },
  {
   "cell_type": "code",
   "execution_count": 178,
   "id": "c22ecd1a",
   "metadata": {},
   "outputs": [
    {
     "name": "stdout",
     "output_type": "stream",
     "text": [
      "2\n",
      "7\n",
      "10\n",
      "13\n",
      "15\n",
      "19\n",
      "20\n",
      "23\n",
      "31\n"
     ]
    }
   ],
   "source": []
  },
  {
   "cell_type": "code",
   "execution_count": 188,
   "id": "5de72774",
   "metadata": {},
   "outputs": [
    {
     "name": "stdout",
     "output_type": "stream",
     "text": [
      "5\n",
      "6 3 2 10 -10\n",
      "8\n",
      "10 9 -5 2 3 4 5 -10\n",
      "1 0 0 1 1 0 0 1 "
     ]
    }
   ],
   "source": [
    "# 이분 탐색\n",
    "# 10815 숫자 카드\n",
    "n = int(input())\n",
    "mine = list(map(int, input().split()))\n",
    "m = int(input())\n",
    "check = list(map(int, input().split()))\n",
    "\n",
    "for c in check:\n",
    "    if c in mine:\n",
    "        print(1, end=' ')\n",
    "    else:\n",
    "        print(0, end=' ')"
   ]
  },
  {
   "cell_type": "code",
   "execution_count": 189,
   "id": "b7013fb5",
   "metadata": {},
   "outputs": [],
   "source": [
    "# 이분 탐색을 하려면 정렬이 필수\n",
    "mine.sort()"
   ]
  },
  {
   "cell_type": "code",
   "execution_count": 193,
   "id": "3686541d",
   "metadata": {},
   "outputs": [
    {
     "name": "stdout",
     "output_type": "stream",
     "text": [
      "1 0 0 1 1 0 0 1 "
     ]
    }
   ],
   "source": [
    "def binary_search(array, target, start, end):\n",
    "    while start <= end:\n",
    "        mid = (start + end) // 2\n",
    "        \n",
    "        if array[mid] == target:\n",
    "            return mid\n",
    "        elif array[mid] > target:\n",
    "            end = mid - 1\n",
    "        else:\n",
    "            start = mid + 1\n",
    "        \n",
    "    return None\n",
    "\n",
    "for i in range(m):\n",
    "    if binary_search(mine, check[i], 0, n-1) != None:\n",
    "        print(1, end=' ')\n",
    "    else:\n",
    "        print(0, end=' ')"
   ]
  },
  {
   "cell_type": "code",
   "execution_count": null,
   "id": "e251d27b",
   "metadata": {},
   "outputs": [],
   "source": [
    "n = list(input())\n",
    "\n",
    "# 가장 큰 수를 구해야 하므로 내림차순 정렬\n",
    "n.sort(reverse=True)\n",
    "\n",
    "# 각 자리 수의 합을 담을 변수\n",
    "tot = 0\n",
    "\n",
    "# 각 자리 수의 합을 담음\n",
    "for i in n:\n",
    "    tot += int(i)\n",
    "    \n",
    "# 30의 배수인 조건\n",
    "# 3의 배수인 조건 + 10의 배수인 조건\n",
    "# 각 자리 수의 합이 3의 배수이고\n",
    "# 일의 자리 수가 0이어야함\n",
    "\n",
    "# 문제에서 가장 큰 30의 배수를 구하라 하였는데\n",
    "# 어차피 주어진 숫자를 가지고 섞어서 새로운 숫자를 만드는 것이므로\n",
    "# 처음 주어진 값이 30의 배수가 아니면 섞어서 만들어지는 숫자도 30의 배수가 될 수 없다\n",
    "# 즉, 처음 내림차순 정렬하고 해당 수가 30의 배수인게 확실하다면 그 숫자가 정답이다\n",
    "if tot % 3 != 0 or \"0\" not in n:\n",
    "    print(-1)\n",
    "else:\n",
    "    print(''.join(n))"
   ]
  },
  {
   "cell_type": "code",
   "execution_count": 210,
   "id": "5906e150",
   "metadata": {},
   "outputs": [
    {
     "name": "stdout",
     "output_type": "stream",
     "text": [
      "baekjoon\n"
     ]
    }
   ],
   "source": [
    "word = input()\n",
    "\n",
    "word_list = []\n",
    "\n",
    "for i in range(len(word)):\n",
    "    word_list.append(word[i:])\n",
    "\n",
    "word_list.sort()\n",
    "print('\\n'.join(word_list))"
   ]
  },
  {
   "cell_type": "code",
   "execution_count": 217,
   "id": "09032d11",
   "metadata": {},
   "outputs": [
    {
     "name": "stdout",
     "output_type": "stream",
     "text": [
      "5 2\n",
      "4 1 2 3 5\n"
     ]
    }
   ],
   "source": [
    "n, k = map(int, input().split())\n",
    "lst = list(map(int, input().split()))\n",
    "\n",
    "lst.sort()\n",
    "print(lst[k-1])"
   ]
  },
  {
   "cell_type": "code",
   "execution_count": 260,
   "id": "c1ae6ceb",
   "metadata": {},
   "outputs": [
    {
     "name": "stdout",
     "output_type": "stream",
     "text": [
      "2\n",
      "5\n",
      "3 2\n",
      "1 4\n",
      "4 1\n",
      "2 3\n",
      "5 5\n",
      "3\n",
      "7\n",
      "3 6\n",
      "7 3\n",
      "4 2\n",
      "1 4\n",
      "5 7\n",
      "2 5\n",
      "6 1\n",
      "2\n"
     ]
    }
   ],
   "source": [
    "# 그리디\n",
    "# 1946 신압 사원\n",
    "\n",
    "t = int(input())\n",
    "\n",
    "for _ in range(t):\n",
    "\n",
    "    n = int(input())\n",
    "    \n",
    "    # 지원자들의 순위를 입력받을 리스트\n",
    "    score = []\n",
    "    for _ in range(n):\n",
    "        score.append(list(map(int, input().split()))) \n",
    "\n",
    "    # 첫번째 요소(서류 심사 성적)을 기준으로 오름차순 정렬\n",
    "    # 한 요소로 오름차순 정렬을 실시하면\n",
    "    # 남은 하나의 요소만 비교하여 조건에 부합하는가 따져보면 됨\n",
    "    score.sort()\n",
    "\n",
    "    # 신입 사원의 최대 인원수를 담을 변수\n",
    "    # 오름 차순 정렬을 하면\n",
    "    # 서류 심사 성적이 1등인 사람은 무조건 뽑힐 것이므로\n",
    "    # 처음 값을 1로 설정\n",
    "    cnt = 1\n",
    "    \n",
    "    # 서류 심사 1등인 사람의 면접 심사 점수를 기준으로 비교\n",
    "    check = score[0][1]\n",
    "\n",
    "    for i in range(1, n):\n",
    "        # 만약 i번 지원자의 순위가 더 높다면\n",
    "        # cnt에 1을 더해주고\n",
    "        # 해당 지원자의 순위로 기준을 업데이트\n",
    "        if score[i][1] < check:\n",
    "            cnt += 1\n",
    "            check = score[i][1]  \n",
    "            \n",
    "    print(cnt)"
   ]
  },
  {
   "cell_type": "code",
   "execution_count": 262,
   "id": "3b2e5ab0",
   "metadata": {},
   "outputs": [
    {
     "name": "stdout",
     "output_type": "stream",
     "text": [
      "2 2\n",
      "3 5\n",
      "2 9\n"
     ]
    }
   ],
   "source": [
    "n, m = map(int, input().split())\n",
    "a = list(map(int, input().split()))\n",
    "b = list(map(int, input().split()))\n",
    "\n",
    "answer = []\n",
    "\n",
    "for i in a:\n",
    "    answer.append(i)\n",
    "for i in b:\n",
    "    answer.append(i)\n",
    "    \n",
    "answer.sort()\n",
    "\n",
    "for n in answer:\n",
    "    print(n, end=' ')"
   ]
  },
  {
   "cell_type": "code",
   "execution_count": 263,
   "id": "c667446f",
   "metadata": {},
   "outputs": [
    {
     "data": {
      "text/plain": [
       "[2, 3, 5, 9]"
      ]
     },
     "execution_count": 263,
     "metadata": {},
     "output_type": "execute_result"
    }
   ],
   "source": [
    "answer"
   ]
  },
  {
   "cell_type": "code",
   "execution_count": 1,
   "id": "a91a7cd4",
   "metadata": {},
   "outputs": [
    {
     "name": "stdout",
     "output_type": "stream",
     "text": [
      "10\n",
      "1 4 2 3 1 4 2 3 1 2\n"
     ]
    }
   ],
   "source": [
    "n = int(input())\n",
    "arr = list(map(int, input().split()))\n",
    "\n",
    "arr = set(arr)\n",
    "arr = list(arr)\n",
    "\n",
    "arr.sort()\n",
    "\n",
    "for n in arr:\n",
    "    print(n, end=' ')"
   ]
  },
  {
   "cell_type": "code",
   "execution_count": 26,
   "id": "74248714",
   "metadata": {},
   "outputs": [
    {
     "name": "stdout",
     "output_type": "stream",
     "text": [
      "5\n",
      "1\n",
      "2\n",
      "1\n",
      "2\n",
      "1\n"
     ]
    }
   ],
   "source": [
    "from collections import Counter\n",
    "\n",
    "n = int(input())\n",
    "arr = []\n",
    "for _ in range(n):\n",
    "    arr.append(int(input()))"
   ]
  },
  {
   "cell_type": "code",
   "execution_count": 25,
   "id": "72d66adc",
   "metadata": {},
   "outputs": [
    {
     "data": {
      "text/plain": [
       "[1, 2, 1, 2, 1]"
      ]
     },
     "execution_count": 25,
     "metadata": {},
     "output_type": "execute_result"
    }
   ],
   "source": [
    "arr"
   ]
  },
  {
   "cell_type": "code",
   "execution_count": 14,
   "id": "d65cba06",
   "metadata": {},
   "outputs": [],
   "source": [
    "c = Counter(arr)"
   ]
  },
  {
   "cell_type": "code",
   "execution_count": 22,
   "id": "4d5a6bcb",
   "metadata": {},
   "outputs": [],
   "source": [
    "s = list(set(arr))"
   ]
  },
  {
   "cell_type": "code",
   "execution_count": 24,
   "id": "68826dc6",
   "metadata": {},
   "outputs": [
    {
     "data": {
      "text/plain": [
       "Counter({1: 3, 2: 2})"
      ]
     },
     "execution_count": 24,
     "metadata": {},
     "output_type": "execute_result"
    }
   ],
   "source": [
    "c"
   ]
  },
  {
   "cell_type": "code",
   "execution_count": 23,
   "id": "557236dc",
   "metadata": {},
   "outputs": [
    {
     "data": {
      "text/plain": [
       "[1, 2]"
      ]
     },
     "execution_count": 23,
     "metadata": {},
     "output_type": "execute_result"
    }
   ],
   "source": [
    "s"
   ]
  },
  {
   "cell_type": "code",
   "execution_count": null,
   "id": "d2a77637",
   "metadata": {},
   "outputs": [],
   "source": [
    "result = []\n",
    "\n",
    "for i in s:\n",
    "    result.append(c[i])"
   ]
  }
 ],
 "metadata": {
  "kernelspec": {
   "display_name": "Python 3 (ipykernel)",
   "language": "python",
   "name": "python3"
  },
  "language_info": {
   "codemirror_mode": {
    "name": "ipython",
    "version": 3
   },
   "file_extension": ".py",
   "mimetype": "text/x-python",
   "name": "python",
   "nbconvert_exporter": "python",
   "pygments_lexer": "ipython3",
   "version": "3.9.7"
  }
 },
 "nbformat": 4,
 "nbformat_minor": 5
}
