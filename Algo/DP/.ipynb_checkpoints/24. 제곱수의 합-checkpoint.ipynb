{
 "cells": [
  {
   "cell_type": "markdown",
   "id": "b115cd12",
   "metadata": {},
   "source": [
    "### 1699 제곱수의 합"
   ]
  },
  {
   "cell_type": "code",
   "execution_count": 9,
   "id": "f170dace",
   "metadata": {},
   "outputs": [
    {
     "name": "stdout",
     "output_type": "stream",
     "text": [
      "11\n",
      "3\n"
     ]
    }
   ],
   "source": [
    "n = int(input())\n",
    "\n",
    "def solution(n):\n",
    "    # 모든 수는 1의 제곱수로 표현 가능\n",
    "    # 따라서 DP 테이블을 해당 수로 초기화 시킴\n",
    "    # 3 => 1 + 1 + 1 총 3개 => DP[3] = 3\n",
    "    dp = [x for x in range(n+1)]\n",
    "\n",
    "    for i in range(1, n+1):\n",
    "        for j in range(1, i):\n",
    "\n",
    "#             if j*j <= i:\n",
    "#                 if dp[i] > dp[i - (j*j)] + 1:\n",
    "#                     dp[i] = dp[i-(j*j)] + 1\n",
    "            \n",
    "            # 위가 아닌 아래처럼 하면\n",
    "            # j*j가 i보다 큰 경우에 대해선\n",
    "            # 반복 자체를 수행하지 않으므로\n",
    "            # 시간을 더 절약할 수 있음\n",
    "            if j*j > i:\n",
    "                break\n",
    "                \n",
    "            if dp[i] > dp[i - (j*j)] + 1:\n",
    "                dp[i] = dp[i-(j*j)] + 1\n",
    "    print(dp[n])                    \n",
    "    \n",
    "solution(n)"
   ]
  }
 ],
 "metadata": {
  "kernelspec": {
   "display_name": "Python3_7",
   "language": "python",
   "name": "3_7"
  },
  "language_info": {
   "codemirror_mode": {
    "name": "ipython",
    "version": 3
   },
   "file_extension": ".py",
   "mimetype": "text/x-python",
   "name": "python",
   "nbconvert_exporter": "python",
   "pygments_lexer": "ipython3",
   "version": "3.7.11"
  }
 },
 "nbformat": 4,
 "nbformat_minor": 5
}
