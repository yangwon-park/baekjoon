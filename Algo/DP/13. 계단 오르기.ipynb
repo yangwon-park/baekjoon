{
 "cells": [
  {
   "cell_type": "markdown",
   "id": "46c397b8",
   "metadata": {},
   "source": [
    "### 2579 계단 오르기"
   ]
  },
  {
   "cell_type": "code",
   "execution_count": 14,
   "id": "1c494259",
   "metadata": {},
   "outputs": [
    {
     "name": "stdout",
     "output_type": "stream",
     "text": [
      "6\n",
      "10\n",
      "20\n",
      "15\n",
      "25\n",
      "10\n",
      "20\n",
      "75\n"
     ]
    }
   ],
   "source": [
    "n = int(input())\n",
    "\n",
    "stairs = []\n",
    "\n",
    "for _ in range(n):\n",
    "    stairs.append(int(input()))\n",
    "    \n",
    "d = [0 for _ in range(n)]\n",
    "\n",
    "d[0] = stairs[0]\n",
    "d[1] = stairs[0] + stairs[1]\n",
    "d[2] = max(stairs[0] + stairs[2], stairs[1] + stairs[2])\n",
    "for i in range(3, n):\n",
    "    d[i] = max(d[i-3] + stairs[i-1] + stairs[i], d[i-2] + stairs[i])\n",
    "    \n",
    "print(d[n-1])"
   ]
  }
 ],
 "metadata": {
  "kernelspec": {
   "display_name": "Python 3",
   "language": "python",
   "name": "python3"
  },
  "language_info": {
   "codemirror_mode": {
    "name": "ipython",
    "version": 3
   },
   "file_extension": ".py",
   "mimetype": "text/x-python",
   "name": "python",
   "nbconvert_exporter": "python",
   "pygments_lexer": "ipython3",
   "version": "3.8.8"
  }
 },
 "nbformat": 4,
 "nbformat_minor": 5
}
