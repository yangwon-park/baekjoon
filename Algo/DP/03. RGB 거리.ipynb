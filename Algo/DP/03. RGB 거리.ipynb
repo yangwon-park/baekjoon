{
 "cells": [
  {
   "cell_type": "markdown",
   "id": "b7b66ddc",
   "metadata": {},
   "source": [
    "### 1149 RGB 거리"
   ]
  },
  {
   "cell_type": "code",
   "execution_count": 9,
   "id": "ed739356",
   "metadata": {},
   "outputs": [
    {
     "name": "stdout",
     "output_type": "stream",
     "text": [
      "3\n",
      "26 49 83\n",
      "49 60 57\n",
      "13 89 99\n",
      "96\n"
     ]
    }
   ],
   "source": [
    "n = int(input())\n",
    "\n",
    "rgb = []\n",
    "\n",
    "for i in range(n):\n",
    "    rgb.append(list(map(int, input().split())))\n",
    "    \n",
    "for i in range(1, n):\n",
    "    rgb[i][0] = min(rgb[i-1][1], rgb[i-1][2]) + rgb[i][0]\n",
    "    rgb[i][1] = min(rgb[i-1][0], rgb[i-1][2]) + rgb[i][1]\n",
    "    rgb[i][2] = min(rgb[i-1][0], rgb[i-1][1]) + rgb[i][2]\n",
    "    \n",
    "print(min(rgb[n-1]))        "
   ]
  }
 ],
 "metadata": {
  "kernelspec": {
   "display_name": "Python 3",
   "language": "python",
   "name": "python3"
  },
  "language_info": {
   "codemirror_mode": {
    "name": "ipython",
    "version": 3
   },
   "file_extension": ".py",
   "mimetype": "text/x-python",
   "name": "python",
   "nbconvert_exporter": "python",
   "pygments_lexer": "ipython3",
   "version": "3.8.8"
  }
 },
 "nbformat": 4,
 "nbformat_minor": 5
}
