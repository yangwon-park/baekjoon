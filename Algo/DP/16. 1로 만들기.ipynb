{
 "cells": [
  {
   "cell_type": "markdown",
   "id": "e27cf6e7",
   "metadata": {},
   "source": [
    "### 1463 1로 만들기"
   ]
  },
  {
   "cell_type": "code",
   "execution_count": 3,
   "id": "420becd4",
   "metadata": {},
   "outputs": [
    {
     "name": "stdout",
     "output_type": "stream",
     "text": [
      "10\n",
      "3\n"
     ]
    }
   ],
   "source": [
    "n = int(input())\n",
    "\n",
    "d = [0] * (n+1)\n",
    "\n",
    "for i in range(2, n+1):\n",
    "    d[i] = d[i-1] + 1\n",
    "    \n",
    "    if i % 2 == 0:\n",
    "        d[i] = min(d[i], d[i // 2] + 1)\n",
    "        \n",
    "    if i % 3 == 0:\n",
    "        d[i] = min(d[i], d[i // 3] + 1)\n",
    "        \n",
    "print(d[n])"
   ]
  },
  {
   "cell_type": "code",
   "execution_count": 4,
   "id": "d757d548",
   "metadata": {},
   "outputs": [
    {
     "name": "stdout",
     "output_type": "stream",
     "text": [
      "10\n",
      "3\n"
     ]
    }
   ],
   "source": [
    "n = int(input())\n",
    "\n",
    "d = [0 for _ in range(n+1)]\n",
    "\n",
    "for i in range(2, n+1):\n",
    "    \n",
    "    # 1을 빼는 연산\n",
    "    d[i] = d[i-1] + 1\n",
    "    \n",
    "    if i % 2 == 0:\n",
    "        d[i] = min(d[i], d[i//2] + 1)\n",
    "        \n",
    "    if i % 3 == 0:\n",
    "        d[i] = min(d[i], d[i//3] + 1)\n",
    "        \n",
    "print(d[n])"
   ]
  },
  {
   "cell_type": "code",
   "execution_count": 5,
   "id": "b88bb098",
   "metadata": {},
   "outputs": [
    {
     "data": {
      "text/plain": [
       "[0, 0, 1, 1, 2, 3, 2, 3, 3, 2, 3]"
      ]
     },
     "execution_count": 5,
     "metadata": {},
     "output_type": "execute_result"
    }
   ],
   "source": [
    "d"
   ]
  },
  {
   "cell_type": "code",
   "execution_count": null,
   "id": "e19feb65",
   "metadata": {},
   "outputs": [],
   "source": []
  }
 ],
 "metadata": {
  "kernelspec": {
   "display_name": "Python 3",
   "language": "python",
   "name": "python3"
  },
  "language_info": {
   "codemirror_mode": {
    "name": "ipython",
    "version": 3
   },
   "file_extension": ".py",
   "mimetype": "text/x-python",
   "name": "python",
   "nbconvert_exporter": "python",
   "pygments_lexer": "ipython3",
   "version": "3.8.8"
  }
 },
 "nbformat": 4,
 "nbformat_minor": 5
}
