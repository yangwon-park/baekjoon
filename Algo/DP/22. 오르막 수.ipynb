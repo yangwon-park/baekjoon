{
 "cells": [
  {
   "cell_type": "markdown",
   "id": "0f4d318c",
   "metadata": {},
   "source": [
    "### 11057 오르막 수"
   ]
  },
  {
   "cell_type": "code",
   "execution_count": 33,
   "id": "150c5b17",
   "metadata": {},
   "outputs": [
    {
     "name": "stdout",
     "output_type": "stream",
     "text": [
      "2\n",
      "55\n"
     ]
    }
   ],
   "source": [
    "n = int(input())\n",
    "\n",
    "# d[1~9까지 끝자리에 오는 수][n : 자리 수]\n",
    "# 1001 : n의 최대 범위\n",
    "d = [[1 for _ in range(10)] for _ in range(1001)]\n",
    "\n",
    "# 로직 구현\n",
    "def solution(n):\n",
    "    \n",
    "    # 1인 경우 무조건 10개\n",
    "    if n == 1:\n",
    "        return 10\n",
    "    \n",
    "    for i in range(2, n+1):\n",
    "        for j in range(10):\n",
    "            \n",
    "            # j가 0 : 끝이 0으로 끝나는 경우는 무조건 1개\n",
    "            # ex : n == 2 => 00, n == 3 => 000\n",
    "            if j == 0:\n",
    "                d[i][j] = 1\n",
    "                \n",
    "            # 0이 아닌 경우\n",
    "            # 같은 길이 n에 끝자리 수가 -1인 경우\n",
    "            # +\n",
    "            # n-1의 길이에 끝자리 수가 같은 경우\n",
    "            else:\n",
    "                d[i][j] = d[i-1][j] + d[i][j-1]\n",
    "\n",
    "    # n 전체 합을 % 10007로 나누면 정답\n",
    "    return (sum(d[n]) % 10007)\n",
    "     \n",
    "print(solution(n))"
   ]
  }
 ],
 "metadata": {
  "kernelspec": {
   "display_name": "Python3_7",
   "language": "python",
   "name": "3_7"
  },
  "language_info": {
   "codemirror_mode": {
    "name": "ipython",
    "version": 3
   },
   "file_extension": ".py",
   "mimetype": "text/x-python",
   "name": "python",
   "nbconvert_exporter": "python",
   "pygments_lexer": "ipython3",
   "version": "3.7.11"
  }
 },
 "nbformat": 4,
 "nbformat_minor": 5
}
