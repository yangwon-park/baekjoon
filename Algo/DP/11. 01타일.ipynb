{
 "cells": [
  {
   "cell_type": "markdown",
   "id": "ff97cc55",
   "metadata": {},
   "source": [
    "### 1904 01타일"
   ]
  },
  {
   "cell_type": "code",
   "execution_count": null,
   "id": "5e37c5d2",
   "metadata": {},
   "outputs": [],
   "source": []
  }
 ],
 "metadata": {
  "kernelspec": {
   "display_name": "Python3_7",
   "language": "python",
   "name": "3_7"
  },
  "language_info": {
   "codemirror_mode": {
    "name": "ipython",
    "version": 3
   },
   "file_extension": ".py",
   "mimetype": "text/x-python",
   "name": "python",
   "nbconvert_exporter": "python",
   "pygments_lexer": "ipython3",
   "version": "3.7.11"
  }
 },
 "nbformat": 4,
 "nbformat_minor": 5
}
