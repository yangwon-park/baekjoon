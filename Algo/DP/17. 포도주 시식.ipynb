{
 "cells": [
  {
   "cell_type": "markdown",
   "id": "8099bbee",
   "metadata": {},
   "source": [
    "### 2156 포도주 시식"
   ]
  },
  {
   "cell_type": "code",
   "execution_count": 25,
   "id": "d31c5b58",
   "metadata": {},
   "outputs": [
    {
     "name": "stdout",
     "output_type": "stream",
     "text": [
      "6\n",
      "6\n",
      "18\n",
      "19\n",
      "20\n",
      "30\n",
      "45\n",
      "112\n"
     ]
    }
   ],
   "source": [
    "n = int(input())\n",
    "\n",
    "wine = [0] + [int(input()) for _ in range(n)]\n",
    "\n",
    "d = [0 for _ in range(10001)]\n",
    "\n",
    "d[1] = wine[1]\n",
    "if n > 1:\n",
    "    d[2] = wine[2] + d[1]\n",
    "\n",
    "for i in range(3, n+1):\n",
    "    d[i] = max(d[i-1], d[i-2] + wine[i], d[i-3] + wine[i-1] + wine[i])\n",
    "\n",
    "print(max(d))"
   ]
  }
 ],
 "metadata": {
  "kernelspec": {
   "display_name": "Python 3",
   "language": "python",
   "name": "python3"
  },
  "language_info": {
   "codemirror_mode": {
    "name": "ipython",
    "version": 3
   },
   "file_extension": ".py",
   "mimetype": "text/x-python",
   "name": "python",
   "nbconvert_exporter": "python",
   "pygments_lexer": "ipython3",
   "version": "3.8.8"
  }
 },
 "nbformat": 4,
 "nbformat_minor": 5
}
