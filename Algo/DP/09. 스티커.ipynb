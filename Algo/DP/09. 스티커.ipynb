{
 "cells": [
  {
   "cell_type": "markdown",
   "id": "c2cbb4ae",
   "metadata": {},
   "source": [
    "### 9465 스티커"
   ]
  },
  {
   "cell_type": "code",
   "execution_count": null,
   "id": "1dcbf2eb",
   "metadata": {},
   "outputs": [],
   "source": [
    "t = int(input())\n",
    "\n",
    "for _ in range(t):\n",
    "    n = int(input())\n",
    "\n",
    "    stickers = []\n",
    "\n",
    "\n",
    "    for _ in range(2):\n",
    "        stickers.append(list(map(int, input().split())))\n",
    "\n",
    "        d = [([0] * n) for _ in range(2)]\n",
    "\n",
    "    \n",
    "    # 첫번째 스티커를 제거하는 경우의 DP 테이블은\n",
    "    # 첫 스티커를 제거하는 점수 그대로의 값을 넣어줌\n",
    "    d[0][0] = stickers[0][0]\n",
    "    d[1][0] = stickers[1][0]\n",
    "        \n",
    "    # 1이면 인덱스 에러 발생하므로 별도로 처리\n",
    "    if n == 1:\n",
    "        print(max(d[0][n-1], d[1][n-1]))\n",
    "        continue\n",
    "        \n",
    "\n",
    "    # 두번째 스티커를 제거하는 경우의 DP 테이블은\n",
    "    # 첫 스티커들 기준 바로 다음에 나오는 다른 열의 값일 것이므로 \n",
    "    # 아래와 같이 넣어줌\n",
    "\n",
    "    d[0][1] = d[1][0] + stickers[0][1]\n",
    "\n",
    "    d[1][1] = d[0][0] + stickers[1][1]\n",
    "    \n",
    "    for i in range(2, n):\n",
    "        # i번째 스티커를 선택하는 경우\n",
    "        # 그 이전까지의 경우는 \n",
    "        # 다른 열의 i-1번째 스티커\n",
    "        # 다른 열의 i-2번째 스티커를 선택하는 경우 이외에는 없다\n",
    "        # 그 두 경우까지의 최대 점수에 선택할 i번째 스티커의 점수를 더해주면\n",
    "        # i번째 스티커까지 선택한 최대 점수를 구할 수 있다\n",
    "        d[0][i] = max(d[1][i-1], d[1][i-2]) + stickers[0][i]\n",
    "        d[1][i] = max(d[0][i-1], d[0][i-2]) + stickers[1][i]\n",
    "\n",
    "    # DP 테이블에 저장된 두 열의 값 중 더 큰 값이 정답\n",
    "    print(max(d[0][n-1], d[1][n-1]))"
   ]
  },
  {
   "cell_type": "code",
   "execution_count": 7,
   "id": "2793584e",
   "metadata": {},
   "outputs": [
    {
     "name": "stdout",
     "output_type": "stream",
     "text": [
      "5\n",
      "50 10 100 20 40\n",
      "30 50 70 10 60\n"
     ]
    }
   ],
   "source": [
    "t = int(input())\n",
    "for _ in range(t):\n",
    "    n = int(input())\n",
    "    d = [list(map(int, input().split())) for _ in range(2)]\n",
    "\n",
    "    if n == 1:\n",
    "        print(max(d[0][0], d[1][0]))\n",
    "        continue\n",
    "        \n",
    "    d[0][1] += d[1][0]\n",
    "    d[1][1] += d[0][0]\n",
    "\n",
    "\n",
    "    for i in range(2, n):\n",
    "        d[0][i] += max(d[1][i-1], d[1][i-2])\n",
    "        d[1][i] += max(d[0][i-1], d[0][i-2])\n",
    "    \n",
    "    print(max(d[0][n-1], d[1][n-1]))    "
   ]
  }
 ],
 "metadata": {
  "kernelspec": {
   "display_name": "Python 3 (ipykernel)",
   "language": "python",
   "name": "python3"
  },
  "language_info": {
   "codemirror_mode": {
    "name": "ipython",
    "version": 3
   },
   "file_extension": ".py",
   "mimetype": "text/x-python",
   "name": "python",
   "nbconvert_exporter": "python",
   "pygments_lexer": "ipython3",
   "version": "3.7.11"
  }
 },
 "nbformat": 4,
 "nbformat_minor": 5
}
